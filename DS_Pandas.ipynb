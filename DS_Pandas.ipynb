{
  "nbformat": 4,
  "nbformat_minor": 0,
  "metadata": {
    "colab": {
      "name": "DS_Pandas.ipynb",
      "provenance": [],
      "collapsed_sections": [],
      "toc_visible": true
    },
    "kernelspec": {
      "name": "python3",
      "display_name": "Python 3"
    }
  },
  "cells": [
    {
      "cell_type": "markdown",
      "metadata": {
        "id": "TUgMekxyegsK",
        "colab_type": "text"
      },
      "source": [
        "# Introducing Pandas Objects\n",
        "\n",
        "At the very basic level, Pandas objects can be thought of as enhanced versions of\n",
        "NumPy structured arrays in which the rows and columns are identified with labels\n",
        "rather than simple integer indices. "
      ]
    },
    {
      "cell_type": "code",
      "metadata": {
        "id": "DH6x0jMWeWiQ",
        "colab_type": "code",
        "colab": {}
      },
      "source": [
        "import numpy as np\n",
        "import pandas as pd"
      ],
      "execution_count": 1,
      "outputs": []
    },
    {
      "cell_type": "markdown",
      "metadata": {
        "id": "GGIlDezhfH4Y",
        "colab_type": "text"
      },
      "source": [
        "## The Pandas Series Object\n"
      ]
    },
    {
      "cell_type": "code",
      "metadata": {
        "id": "aKzs-Uj8fG-y",
        "colab_type": "code",
        "colab": {
          "base_uri": "https://localhost:8080/",
          "height": 108
        },
        "outputId": "1a532203-d3a5-4ee3-e545-83265afc10fd"
      },
      "source": [
        "data = pd.Series([0.25, 0.5, 0.75, 1.0])\n",
        "data"
      ],
      "execution_count": 2,
      "outputs": [
        {
          "output_type": "execute_result",
          "data": {
            "text/plain": [
              "0    0.25\n",
              "1    0.50\n",
              "2    0.75\n",
              "3    1.00\n",
              "dtype: float64"
            ]
          },
          "metadata": {
            "tags": []
          },
          "execution_count": 2
        }
      ]
    },
    {
      "cell_type": "code",
      "metadata": {
        "id": "cTnz3xmXe3Rr",
        "colab_type": "code",
        "colab": {
          "base_uri": "https://localhost:8080/",
          "height": 35
        },
        "outputId": "2b498ce3-0b15-47bd-d067-230962a90554"
      },
      "source": [
        "# values\n",
        "data.values\n"
      ],
      "execution_count": 3,
      "outputs": [
        {
          "output_type": "execute_result",
          "data": {
            "text/plain": [
              "array([0.25, 0.5 , 0.75, 1.  ])"
            ]
          },
          "metadata": {
            "tags": []
          },
          "execution_count": 3
        }
      ]
    },
    {
      "cell_type": "code",
      "metadata": {
        "id": "0FDQQNk1gfXz",
        "colab_type": "code",
        "colab": {
          "base_uri": "https://localhost:8080/",
          "height": 35
        },
        "outputId": "2d9787c6-eeea-4e7a-b17c-66c9fa3a9602"
      },
      "source": [
        "# indexes\n",
        "data.index"
      ],
      "execution_count": 4,
      "outputs": [
        {
          "output_type": "execute_result",
          "data": {
            "text/plain": [
              "RangeIndex(start=0, stop=4, step=1)"
            ]
          },
          "metadata": {
            "tags": []
          },
          "execution_count": 4
        }
      ]
    },
    {
      "cell_type": "code",
      "metadata": {
        "id": "KVYOLr_MgiHL",
        "colab_type": "code",
        "colab": {
          "base_uri": "https://localhost:8080/",
          "height": 108
        },
        "outputId": "d5efa947-f2e1-4e43-8310-3790a1995539"
      },
      "source": [
        "# creating series using python List\n",
        "\n",
        "data = pd.Series([1, 2, 3, 4],index=['a', 'b', 'c', 'd'])\n",
        "data\n"
      ],
      "execution_count": 5,
      "outputs": [
        {
          "output_type": "execute_result",
          "data": {
            "text/plain": [
              "a    1\n",
              "b    2\n",
              "c    3\n",
              "d    4\n",
              "dtype: int64"
            ]
          },
          "metadata": {
            "tags": []
          },
          "execution_count": 5
        }
      ]
    },
    {
      "cell_type": "code",
      "metadata": {
        "id": "pvnAh4MUpOQK",
        "colab_type": "code",
        "colab": {
          "base_uri": "https://localhost:8080/",
          "height": 35
        },
        "outputId": "5715c2ab-4ad0-4253-b090-68198ec4b738"
      },
      "source": [
        "data['a']"
      ],
      "execution_count": 6,
      "outputs": [
        {
          "output_type": "execute_result",
          "data": {
            "text/plain": [
              "1"
            ]
          },
          "metadata": {
            "tags": []
          },
          "execution_count": 6
        }
      ]
    },
    {
      "cell_type": "markdown",
      "metadata": {
        "id": "_hyJju95ee7U",
        "colab_type": "text"
      },
      "source": [
        "### Series as specialized dictionary\n"
      ]
    },
    {
      "cell_type": "code",
      "metadata": {
        "id": "tzBRgaSTpTwb",
        "colab_type": "code",
        "colab": {
          "base_uri": "https://localhost:8080/",
          "height": 126
        },
        "outputId": "94bec874-0377-4c31-e648-a4b950024c59"
      },
      "source": [
        "population_dict = { 'California': 38332521,\n",
        "                    'Texas': 26448193,\n",
        "                    'New York': 19651127,\n",
        "                    'Florida': 19552860,\n",
        "                    'Illinois': 12882135\n",
        "                  }\n",
        "population = pd.Series(population_dict)\n",
        "population\n"
      ],
      "execution_count": 7,
      "outputs": [
        {
          "output_type": "execute_result",
          "data": {
            "text/plain": [
              "California    38332521\n",
              "Texas         26448193\n",
              "New York      19651127\n",
              "Florida       19552860\n",
              "Illinois      12882135\n",
              "dtype: int64"
            ]
          },
          "metadata": {
            "tags": []
          },
          "execution_count": 7
        }
      ]
    },
    {
      "cell_type": "code",
      "metadata": {
        "id": "HanxeyPler6L",
        "colab_type": "code",
        "colab": {
          "base_uri": "https://localhost:8080/",
          "height": 35
        },
        "outputId": "74f442bd-76c8-45f3-f585-fe76cce1a3c5"
      },
      "source": [
        "population['California']\n"
      ],
      "execution_count": 8,
      "outputs": [
        {
          "output_type": "execute_result",
          "data": {
            "text/plain": [
              "38332521"
            ]
          },
          "metadata": {
            "tags": []
          },
          "execution_count": 8
        }
      ]
    },
    {
      "cell_type": "code",
      "metadata": {
        "id": "MFz9A4emey5t",
        "colab_type": "code",
        "colab": {
          "base_uri": "https://localhost:8080/",
          "height": 126
        },
        "outputId": "04bb762c-0973-42b5-e0ee-71601b8318c6"
      },
      "source": [
        "population['California':'Illinois']"
      ],
      "execution_count": 9,
      "outputs": [
        {
          "output_type": "execute_result",
          "data": {
            "text/plain": [
              "California    38332521\n",
              "Texas         26448193\n",
              "New York      19651127\n",
              "Florida       19552860\n",
              "Illinois      12882135\n",
              "dtype: int64"
            ]
          },
          "metadata": {
            "tags": []
          },
          "execution_count": 9
        }
      ]
    },
    {
      "cell_type": "markdown",
      "metadata": {
        "id": "hSaJNZTye9kX",
        "colab_type": "text"
      },
      "source": [
        "### Constructing Series objects"
      ]
    },
    {
      "cell_type": "code",
      "metadata": {
        "id": "vfizzX_MezfW",
        "colab_type": "code",
        "colab": {
          "base_uri": "https://localhost:8080/",
          "height": 90
        },
        "outputId": "a0303c47-ac12-4e13-c7e7-7607d2074415"
      },
      "source": [
        "pd.Series([2, 4, 6])"
      ],
      "execution_count": 10,
      "outputs": [
        {
          "output_type": "execute_result",
          "data": {
            "text/plain": [
              "0    2\n",
              "1    4\n",
              "2    6\n",
              "dtype: int64"
            ]
          },
          "metadata": {
            "tags": []
          },
          "execution_count": 10
        }
      ]
    },
    {
      "cell_type": "code",
      "metadata": {
        "id": "QVTVurLqe_lz",
        "colab_type": "code",
        "colab": {
          "base_uri": "https://localhost:8080/",
          "height": 90
        },
        "outputId": "a4baa267-99dc-4b91-9cb3-7dc7f80d64a1"
      },
      "source": [
        "# Data can be a scalar, which is repeated to fill the specified index\n",
        "pd.Series(5, index=[100, 200, 300])\n"
      ],
      "execution_count": 11,
      "outputs": [
        {
          "output_type": "execute_result",
          "data": {
            "text/plain": [
              "100    5\n",
              "200    5\n",
              "300    5\n",
              "dtype: int64"
            ]
          },
          "metadata": {
            "tags": []
          },
          "execution_count": 11
        }
      ]
    },
    {
      "cell_type": "code",
      "metadata": {
        "id": "Yu3rILXDfG-n",
        "colab_type": "code",
        "colab": {
          "base_uri": "https://localhost:8080/",
          "height": 90
        },
        "outputId": "beb5ab05-e2d0-4977-eacf-62a5edaebbc9"
      },
      "source": [
        "# Data can be a dictionary, in which index defaults to the sorted dictionary keys\n",
        "pd.Series({2:'a', 1:'b', 3:'c'})"
      ],
      "execution_count": 12,
      "outputs": [
        {
          "output_type": "execute_result",
          "data": {
            "text/plain": [
              "2    a\n",
              "1    b\n",
              "3    c\n",
              "dtype: object"
            ]
          },
          "metadata": {
            "tags": []
          },
          "execution_count": 12
        }
      ]
    },
    {
      "cell_type": "markdown",
      "metadata": {
        "id": "SN9O2HfzfWHf",
        "colab_type": "text"
      },
      "source": [
        "## The Pandas DataFrame Object\n"
      ]
    },
    {
      "cell_type": "markdown",
      "metadata": {
        "id": "aWY9R1YDfmAO",
        "colab_type": "text"
      },
      "source": [
        "### DataFrame as a generalized NumPy array\n",
        "\n"
      ]
    },
    {
      "cell_type": "code",
      "metadata": {
        "id": "6ZnMOi3GfP5i",
        "colab_type": "code",
        "colab": {
          "base_uri": "https://localhost:8080/",
          "height": 206
        },
        "outputId": "0cae9170-dc67-4f62-c9e2-bc87ea7eeb2f"
      },
      "source": [
        "population_dict = { 'California': 38332521,\n",
        "                    'Texas': 26448193,\n",
        "                    'New York': 19651127,\n",
        "                    'Florida': 19552860,\n",
        "                    'Illinois': 12882135\n",
        "                  }\n",
        "\n",
        "\n",
        "area_dict = {\n",
        "              'California': 423967,\n",
        "              'Texas': 695662,\n",
        "              'New York': 141297,\n",
        "              'Florida': 170312,\n",
        "              'Illinois': 149995\n",
        "            }\n",
        "# Creating DF with Series object\n",
        "\n",
        "populationSeries = pd.Series(population_dict)\n",
        "areaSeries = pd.Series(area_dict)\n",
        "\n",
        "statesDF = pd.DataFrame( {'population': populationSeries, 'area': areaSeries} )\n",
        "statesDF"
      ],
      "execution_count": 13,
      "outputs": [
        {
          "output_type": "execute_result",
          "data": {
            "text/html": [
              "<div>\n",
              "<style scoped>\n",
              "    .dataframe tbody tr th:only-of-type {\n",
              "        vertical-align: middle;\n",
              "    }\n",
              "\n",
              "    .dataframe tbody tr th {\n",
              "        vertical-align: top;\n",
              "    }\n",
              "\n",
              "    .dataframe thead th {\n",
              "        text-align: right;\n",
              "    }\n",
              "</style>\n",
              "<table border=\"1\" class=\"dataframe\">\n",
              "  <thead>\n",
              "    <tr style=\"text-align: right;\">\n",
              "      <th></th>\n",
              "      <th>population</th>\n",
              "      <th>area</th>\n",
              "    </tr>\n",
              "  </thead>\n",
              "  <tbody>\n",
              "    <tr>\n",
              "      <th>California</th>\n",
              "      <td>38332521</td>\n",
              "      <td>423967</td>\n",
              "    </tr>\n",
              "    <tr>\n",
              "      <th>Texas</th>\n",
              "      <td>26448193</td>\n",
              "      <td>695662</td>\n",
              "    </tr>\n",
              "    <tr>\n",
              "      <th>New York</th>\n",
              "      <td>19651127</td>\n",
              "      <td>141297</td>\n",
              "    </tr>\n",
              "    <tr>\n",
              "      <th>Florida</th>\n",
              "      <td>19552860</td>\n",
              "      <td>170312</td>\n",
              "    </tr>\n",
              "    <tr>\n",
              "      <th>Illinois</th>\n",
              "      <td>12882135</td>\n",
              "      <td>149995</td>\n",
              "    </tr>\n",
              "  </tbody>\n",
              "</table>\n",
              "</div>"
            ],
            "text/plain": [
              "            population    area\n",
              "California    38332521  423967\n",
              "Texas         26448193  695662\n",
              "New York      19651127  141297\n",
              "Florida       19552860  170312\n",
              "Illinois      12882135  149995"
            ]
          },
          "metadata": {
            "tags": []
          },
          "execution_count": 13
        }
      ]
    },
    {
      "cell_type": "code",
      "metadata": {
        "id": "40SsV1gHgBKH",
        "colab_type": "code",
        "colab": {
          "base_uri": "https://localhost:8080/",
          "height": 35
        },
        "outputId": "c45dc132-3531-44f5-b16c-ebabe43a03c7"
      },
      "source": [
        "# Indexes \n",
        "\n",
        "statesDF.index"
      ],
      "execution_count": 14,
      "outputs": [
        {
          "output_type": "execute_result",
          "data": {
            "text/plain": [
              "Index(['California', 'Texas', 'New York', 'Florida', 'Illinois'], dtype='object')"
            ]
          },
          "metadata": {
            "tags": []
          },
          "execution_count": 14
        }
      ]
    },
    {
      "cell_type": "code",
      "metadata": {
        "id": "iOTW0CM_gr5q",
        "colab_type": "code",
        "colab": {
          "base_uri": "https://localhost:8080/",
          "height": 35
        },
        "outputId": "8f432158-2623-4dc1-8636-07f0ef156ef9"
      },
      "source": [
        "# Columns (column Indexes)\n",
        "\n",
        "statesDF.columns"
      ],
      "execution_count": 15,
      "outputs": [
        {
          "output_type": "execute_result",
          "data": {
            "text/plain": [
              "Index(['population', 'area'], dtype='object')"
            ]
          },
          "metadata": {
            "tags": []
          },
          "execution_count": 15
        }
      ]
    },
    {
      "cell_type": "code",
      "metadata": {
        "id": "45pjqh69gwQU",
        "colab_type": "code",
        "colab": {
          "base_uri": "https://localhost:8080/",
          "height": 53
        },
        "outputId": "ccaa537a-d1e7-4164-9c36-9cf8e73cdd01"
      },
      "source": [
        "# all Axes \n",
        "\n",
        "statesDF.axes"
      ],
      "execution_count": 16,
      "outputs": [
        {
          "output_type": "execute_result",
          "data": {
            "text/plain": [
              "[Index(['California', 'Texas', 'New York', 'Florida', 'Illinois'], dtype='object'),\n",
              " Index(['population', 'area'], dtype='object')]"
            ]
          },
          "metadata": {
            "tags": []
          },
          "execution_count": 16
        }
      ]
    },
    {
      "cell_type": "markdown",
      "metadata": {
        "id": "uUWR-fbDhDbv",
        "colab_type": "text"
      },
      "source": [
        "### DataFrame as specialized dictionary\n"
      ]
    },
    {
      "cell_type": "code",
      "metadata": {
        "id": "U7jkXu76g0sd",
        "colab_type": "code",
        "colab": {
          "base_uri": "https://localhost:8080/",
          "height": 126
        },
        "outputId": "5674da8e-2897-47e4-c660-dd267bf7be8f"
      },
      "source": [
        "areaSeries : pd.core.series.Series = statesDF['area']\n",
        "areaSeries\n"
      ],
      "execution_count": 17,
      "outputs": [
        {
          "output_type": "execute_result",
          "data": {
            "text/plain": [
              "California    423967\n",
              "Texas         695662\n",
              "New York      141297\n",
              "Florida       170312\n",
              "Illinois      149995\n",
              "Name: area, dtype: int64"
            ]
          },
          "metadata": {
            "tags": []
          },
          "execution_count": 17
        }
      ]
    },
    {
      "cell_type": "markdown",
      "metadata": {
        "id": "rWGsQjQFhZ34",
        "colab_type": "text"
      },
      "source": [
        "### Constructing DataFrame objects\n",
        "\n",
        "A Pandas DataFrame can be constructed in a variety of ways. Here we’ll give several\n",
        "examples."
      ]
    },
    {
      "cell_type": "code",
      "metadata": {
        "id": "_f_QNzi5hCsJ",
        "colab_type": "code",
        "colab": {
          "base_uri": "https://localhost:8080/",
          "height": 206
        },
        "outputId": "ea79bb99-d902-40bd-e8c9-e62b23ec4d19"
      },
      "source": [
        "pd.DataFrame(populationSeries, columns=['population'])"
      ],
      "execution_count": 18,
      "outputs": [
        {
          "output_type": "execute_result",
          "data": {
            "text/html": [
              "<div>\n",
              "<style scoped>\n",
              "    .dataframe tbody tr th:only-of-type {\n",
              "        vertical-align: middle;\n",
              "    }\n",
              "\n",
              "    .dataframe tbody tr th {\n",
              "        vertical-align: top;\n",
              "    }\n",
              "\n",
              "    .dataframe thead th {\n",
              "        text-align: right;\n",
              "    }\n",
              "</style>\n",
              "<table border=\"1\" class=\"dataframe\">\n",
              "  <thead>\n",
              "    <tr style=\"text-align: right;\">\n",
              "      <th></th>\n",
              "      <th>population</th>\n",
              "    </tr>\n",
              "  </thead>\n",
              "  <tbody>\n",
              "    <tr>\n",
              "      <th>California</th>\n",
              "      <td>38332521</td>\n",
              "    </tr>\n",
              "    <tr>\n",
              "      <th>Texas</th>\n",
              "      <td>26448193</td>\n",
              "    </tr>\n",
              "    <tr>\n",
              "      <th>New York</th>\n",
              "      <td>19651127</td>\n",
              "    </tr>\n",
              "    <tr>\n",
              "      <th>Florida</th>\n",
              "      <td>19552860</td>\n",
              "    </tr>\n",
              "    <tr>\n",
              "      <th>Illinois</th>\n",
              "      <td>12882135</td>\n",
              "    </tr>\n",
              "  </tbody>\n",
              "</table>\n",
              "</div>"
            ],
            "text/plain": [
              "            population\n",
              "California    38332521\n",
              "Texas         26448193\n",
              "New York      19651127\n",
              "Florida       19552860\n",
              "Illinois      12882135"
            ]
          },
          "metadata": {
            "tags": []
          },
          "execution_count": 18
        }
      ]
    },
    {
      "cell_type": "code",
      "metadata": {
        "id": "T-r6MrN2hmnT",
        "colab_type": "code",
        "colab": {
          "base_uri": "https://localhost:8080/",
          "height": 206
        },
        "outputId": "c5345f55-db4c-487d-963e-83e2d13077c2"
      },
      "source": [
        "pd.DataFrame({'population': populationSeries,'area': areaSeries})\n"
      ],
      "execution_count": 19,
      "outputs": [
        {
          "output_type": "execute_result",
          "data": {
            "text/html": [
              "<div>\n",
              "<style scoped>\n",
              "    .dataframe tbody tr th:only-of-type {\n",
              "        vertical-align: middle;\n",
              "    }\n",
              "\n",
              "    .dataframe tbody tr th {\n",
              "        vertical-align: top;\n",
              "    }\n",
              "\n",
              "    .dataframe thead th {\n",
              "        text-align: right;\n",
              "    }\n",
              "</style>\n",
              "<table border=\"1\" class=\"dataframe\">\n",
              "  <thead>\n",
              "    <tr style=\"text-align: right;\">\n",
              "      <th></th>\n",
              "      <th>population</th>\n",
              "      <th>area</th>\n",
              "    </tr>\n",
              "  </thead>\n",
              "  <tbody>\n",
              "    <tr>\n",
              "      <th>California</th>\n",
              "      <td>38332521</td>\n",
              "      <td>423967</td>\n",
              "    </tr>\n",
              "    <tr>\n",
              "      <th>Texas</th>\n",
              "      <td>26448193</td>\n",
              "      <td>695662</td>\n",
              "    </tr>\n",
              "    <tr>\n",
              "      <th>New York</th>\n",
              "      <td>19651127</td>\n",
              "      <td>141297</td>\n",
              "    </tr>\n",
              "    <tr>\n",
              "      <th>Florida</th>\n",
              "      <td>19552860</td>\n",
              "      <td>170312</td>\n",
              "    </tr>\n",
              "    <tr>\n",
              "      <th>Illinois</th>\n",
              "      <td>12882135</td>\n",
              "      <td>149995</td>\n",
              "    </tr>\n",
              "  </tbody>\n",
              "</table>\n",
              "</div>"
            ],
            "text/plain": [
              "            population    area\n",
              "California    38332521  423967\n",
              "Texas         26448193  695662\n",
              "New York      19651127  141297\n",
              "Florida       19552860  170312\n",
              "Illinois      12882135  149995"
            ]
          },
          "metadata": {
            "tags": []
          },
          "execution_count": 19
        }
      ]
    },
    {
      "cell_type": "code",
      "metadata": {
        "id": "-7rJYyMih7fV",
        "colab_type": "code",
        "colab": {
          "base_uri": "https://localhost:8080/",
          "height": 143
        },
        "outputId": "c6738536-c27d-4091-9c74-52ef85d406bb"
      },
      "source": [
        "pd.DataFrame(\n",
        "data = np.random.rand(3, 2),\n",
        "columns = ['col 1', 'col 2'],\n",
        "index = ['a', 'b', 'c'])\n"
      ],
      "execution_count": 20,
      "outputs": [
        {
          "output_type": "execute_result",
          "data": {
            "text/html": [
              "<div>\n",
              "<style scoped>\n",
              "    .dataframe tbody tr th:only-of-type {\n",
              "        vertical-align: middle;\n",
              "    }\n",
              "\n",
              "    .dataframe tbody tr th {\n",
              "        vertical-align: top;\n",
              "    }\n",
              "\n",
              "    .dataframe thead th {\n",
              "        text-align: right;\n",
              "    }\n",
              "</style>\n",
              "<table border=\"1\" class=\"dataframe\">\n",
              "  <thead>\n",
              "    <tr style=\"text-align: right;\">\n",
              "      <th></th>\n",
              "      <th>col 1</th>\n",
              "      <th>col 2</th>\n",
              "    </tr>\n",
              "  </thead>\n",
              "  <tbody>\n",
              "    <tr>\n",
              "      <th>a</th>\n",
              "      <td>0.049183</td>\n",
              "      <td>0.027712</td>\n",
              "    </tr>\n",
              "    <tr>\n",
              "      <th>b</th>\n",
              "      <td>0.253164</td>\n",
              "      <td>0.993458</td>\n",
              "    </tr>\n",
              "    <tr>\n",
              "      <th>c</th>\n",
              "      <td>0.509259</td>\n",
              "      <td>0.071275</td>\n",
              "    </tr>\n",
              "  </tbody>\n",
              "</table>\n",
              "</div>"
            ],
            "text/plain": [
              "      col 1     col 2\n",
              "a  0.049183  0.027712\n",
              "b  0.253164  0.993458\n",
              "c  0.509259  0.071275"
            ]
          },
          "metadata": {
            "tags": []
          },
          "execution_count": 20
        }
      ]
    },
    {
      "cell_type": "markdown",
      "metadata": {
        "id": "li-m521oiVCR",
        "colab_type": "text"
      },
      "source": [
        "## The Pandas Index Object\n",
        "We have seen here that both the Series and DataFrame objects contain an explicit\n",
        "index that lets you reference and modify data. This Index object is an interesting\n",
        "structure in itself, and it can be thought of either as an immutable array or as an\n",
        "ordered set (technically a multiset, as Index objects may contain repeated values).\n",
        "Those views have some interesting consequences in the operations available on Index\n",
        "objects. As a simple example, let’s construct an Index from a list of integers"
      ]
    },
    {
      "cell_type": "code",
      "metadata": {
        "id": "XBNH_PFLiJY6",
        "colab_type": "code",
        "colab": {
          "base_uri": "https://localhost:8080/",
          "height": 35
        },
        "outputId": "da71102d-d2f6-444a-f91b-16fbb820d42c"
      },
      "source": [
        "ind = pd.Index([2, 3, 5, 7, 11])\n",
        "ind # One difference between Index objects and NumPy arrays is that indices are immutable\n"
      ],
      "execution_count": 21,
      "outputs": [
        {
          "output_type": "execute_result",
          "data": {
            "text/plain": [
              "Int64Index([2, 3, 5, 7, 11], dtype='int64')"
            ]
          },
          "metadata": {
            "tags": []
          },
          "execution_count": 21
        }
      ]
    },
    {
      "cell_type": "code",
      "metadata": {
        "id": "pE2K8YGgjHZs",
        "colab_type": "code",
        "colab": {}
      },
      "source": [
        "## Index as ordered set\n"
      ],
      "execution_count": 22,
      "outputs": []
    },
    {
      "cell_type": "code",
      "metadata": {
        "id": "03aQjBGqir6X",
        "colab_type": "code",
        "colab": {}
      },
      "source": [
        "indA = pd.Index([1, 3, 5, 7, 9])\n",
        "indB = pd.Index([2, 3, 5, 7, 11])\n"
      ],
      "execution_count": 23,
      "outputs": []
    },
    {
      "cell_type": "code",
      "metadata": {
        "id": "VOnapKbpjKIK",
        "colab_type": "code",
        "colab": {
          "base_uri": "https://localhost:8080/",
          "height": 35
        },
        "outputId": "9da2ba20-239d-4287-fad3-2dc385bdad69"
      },
      "source": [
        "indA & indB # intersection"
      ],
      "execution_count": 24,
      "outputs": [
        {
          "output_type": "execute_result",
          "data": {
            "text/plain": [
              "Int64Index([3, 5, 7], dtype='int64')"
            ]
          },
          "metadata": {
            "tags": []
          },
          "execution_count": 24
        }
      ]
    },
    {
      "cell_type": "code",
      "metadata": {
        "id": "Rr-XfUzgjL24",
        "colab_type": "code",
        "colab": {
          "base_uri": "https://localhost:8080/",
          "height": 35
        },
        "outputId": "39f2242b-f6e5-4732-e82d-7afe391a0e67"
      },
      "source": [
        "indA | indB # union"
      ],
      "execution_count": 25,
      "outputs": [
        {
          "output_type": "execute_result",
          "data": {
            "text/plain": [
              "Int64Index([1, 2, 3, 5, 7, 9, 11], dtype='int64')"
            ]
          },
          "metadata": {
            "tags": []
          },
          "execution_count": 25
        }
      ]
    },
    {
      "cell_type": "code",
      "metadata": {
        "id": "7drgtB3vjNb8",
        "colab_type": "code",
        "colab": {
          "base_uri": "https://localhost:8080/",
          "height": 35
        },
        "outputId": "6015e3f0-863b-4358-bb58-e6a3acb234e6"
      },
      "source": [
        "indA ^ indB # symmetric difference"
      ],
      "execution_count": 26,
      "outputs": [
        {
          "output_type": "execute_result",
          "data": {
            "text/plain": [
              "Int64Index([1, 2, 9, 11], dtype='int64')"
            ]
          },
          "metadata": {
            "tags": []
          },
          "execution_count": 26
        }
      ]
    },
    {
      "cell_type": "markdown",
      "metadata": {
        "id": "PSze8VOojnnc",
        "colab_type": "text"
      },
      "source": [
        "## Data Indexing and Selection\n"
      ]
    },
    {
      "cell_type": "code",
      "metadata": {
        "id": "YVDD__P-jXP2",
        "colab_type": "code",
        "colab": {
          "base_uri": "https://localhost:8080/",
          "height": 206
        },
        "outputId": "532f63d7-9bac-4895-f1a7-7c521428c5ee"
      },
      "source": [
        "area = pd.Series({'California': 423967, 'Texas': 695662,\n",
        "                  'New York': 141297, 'Florida': 170312,\n",
        "                  'Illinois': 149995\n",
        "                 }\n",
        "                )\n",
        "\n",
        "pop = pd.Series({'California': 38332521, 'Texas': 26448193,\n",
        "                 'New York': 19651127, 'Florida': 19552860,\n",
        "                 'Illinois': 12882135\n",
        "                })\n",
        "\n",
        "data = pd.DataFrame({'area':area, 'pop':pop})\n",
        "data\n"
      ],
      "execution_count": 27,
      "outputs": [
        {
          "output_type": "execute_result",
          "data": {
            "text/html": [
              "<div>\n",
              "<style scoped>\n",
              "    .dataframe tbody tr th:only-of-type {\n",
              "        vertical-align: middle;\n",
              "    }\n",
              "\n",
              "    .dataframe tbody tr th {\n",
              "        vertical-align: top;\n",
              "    }\n",
              "\n",
              "    .dataframe thead th {\n",
              "        text-align: right;\n",
              "    }\n",
              "</style>\n",
              "<table border=\"1\" class=\"dataframe\">\n",
              "  <thead>\n",
              "    <tr style=\"text-align: right;\">\n",
              "      <th></th>\n",
              "      <th>area</th>\n",
              "      <th>pop</th>\n",
              "    </tr>\n",
              "  </thead>\n",
              "  <tbody>\n",
              "    <tr>\n",
              "      <th>California</th>\n",
              "      <td>423967</td>\n",
              "      <td>38332521</td>\n",
              "    </tr>\n",
              "    <tr>\n",
              "      <th>Texas</th>\n",
              "      <td>695662</td>\n",
              "      <td>26448193</td>\n",
              "    </tr>\n",
              "    <tr>\n",
              "      <th>New York</th>\n",
              "      <td>141297</td>\n",
              "      <td>19651127</td>\n",
              "    </tr>\n",
              "    <tr>\n",
              "      <th>Florida</th>\n",
              "      <td>170312</td>\n",
              "      <td>19552860</td>\n",
              "    </tr>\n",
              "    <tr>\n",
              "      <th>Illinois</th>\n",
              "      <td>149995</td>\n",
              "      <td>12882135</td>\n",
              "    </tr>\n",
              "  </tbody>\n",
              "</table>\n",
              "</div>"
            ],
            "text/plain": [
              "              area       pop\n",
              "California  423967  38332521\n",
              "Texas       695662  26448193\n",
              "New York    141297  19651127\n",
              "Florida     170312  19552860\n",
              "Illinois    149995  12882135"
            ]
          },
          "metadata": {
            "tags": []
          },
          "execution_count": 27
        }
      ]
    },
    {
      "cell_type": "code",
      "metadata": {
        "id": "LdhdiZ8-kG8E",
        "colab_type": "code",
        "colab": {
          "base_uri": "https://localhost:8080/",
          "height": 126
        },
        "outputId": "3988e98e-ddc1-4ac0-a971-c7e19fecd154"
      },
      "source": [
        "# The individual Series that make up the columns of the DataFrame can be accessed\n",
        "# via dictionary-style indexing of the column name\n",
        "\n",
        "data['area']\n"
      ],
      "execution_count": 28,
      "outputs": [
        {
          "output_type": "execute_result",
          "data": {
            "text/plain": [
              "California    423967\n",
              "Texas         695662\n",
              "New York      141297\n",
              "Florida       170312\n",
              "Illinois      149995\n",
              "Name: area, dtype: int64"
            ]
          },
          "metadata": {
            "tags": []
          },
          "execution_count": 28
        }
      ]
    },
    {
      "cell_type": "code",
      "metadata": {
        "id": "1etF7pLtkOyn",
        "colab_type": "code",
        "colab": {
          "base_uri": "https://localhost:8080/",
          "height": 126
        },
        "outputId": "1ca833a6-a4bc-4c96-fbb8-ee643de7fc69"
      },
      "source": [
        "data.area # doesnt work for column names contining space also attributes name conflicts\n"
      ],
      "execution_count": 29,
      "outputs": [
        {
          "output_type": "execute_result",
          "data": {
            "text/plain": [
              "California    423967\n",
              "Texas         695662\n",
              "New York      141297\n",
              "Florida       170312\n",
              "Illinois      149995\n",
              "Name: area, dtype: int64"
            ]
          },
          "metadata": {
            "tags": []
          },
          "execution_count": 29
        }
      ]
    },
    {
      "cell_type": "code",
      "metadata": {
        "id": "tW_TlOKnkSiP",
        "colab_type": "code",
        "colab": {
          "base_uri": "https://localhost:8080/",
          "height": 35
        },
        "outputId": "d2ab57cd-632c-4190-d8ad-2d5ba1700dee"
      },
      "source": [
        "data.area is data['area']"
      ],
      "execution_count": 30,
      "outputs": [
        {
          "output_type": "execute_result",
          "data": {
            "text/plain": [
              "True"
            ]
          },
          "metadata": {
            "tags": []
          },
          "execution_count": 30
        }
      ]
    },
    {
      "cell_type": "code",
      "metadata": {
        "id": "d3UxdxIEkc2E",
        "colab_type": "code",
        "colab": {
          "base_uri": "https://localhost:8080/",
          "height": 35
        },
        "outputId": "8e704b2f-f165-40d0-f271-c9580b84f7be"
      },
      "source": [
        "# DataFrame has a pop() method\n",
        "data.pop is data['pop']\n"
      ],
      "execution_count": 31,
      "outputs": [
        {
          "output_type": "execute_result",
          "data": {
            "text/plain": [
              "False"
            ]
          },
          "metadata": {
            "tags": []
          },
          "execution_count": 31
        }
      ]
    },
    {
      "cell_type": "code",
      "metadata": {
        "id": "2gYlVYdLkjzp",
        "colab_type": "code",
        "colab": {
          "base_uri": "https://localhost:8080/",
          "height": 206
        },
        "outputId": "5f9399fe-d316-46f0-e71c-2129e816b3c2"
      },
      "source": [
        "# adding new column \n",
        "\n",
        "data['density'] = data['pop'] / data['area']\n",
        "data\n",
        "\n"
      ],
      "execution_count": 32,
      "outputs": [
        {
          "output_type": "execute_result",
          "data": {
            "text/html": [
              "<div>\n",
              "<style scoped>\n",
              "    .dataframe tbody tr th:only-of-type {\n",
              "        vertical-align: middle;\n",
              "    }\n",
              "\n",
              "    .dataframe tbody tr th {\n",
              "        vertical-align: top;\n",
              "    }\n",
              "\n",
              "    .dataframe thead th {\n",
              "        text-align: right;\n",
              "    }\n",
              "</style>\n",
              "<table border=\"1\" class=\"dataframe\">\n",
              "  <thead>\n",
              "    <tr style=\"text-align: right;\">\n",
              "      <th></th>\n",
              "      <th>area</th>\n",
              "      <th>pop</th>\n",
              "      <th>density</th>\n",
              "    </tr>\n",
              "  </thead>\n",
              "  <tbody>\n",
              "    <tr>\n",
              "      <th>California</th>\n",
              "      <td>423967</td>\n",
              "      <td>38332521</td>\n",
              "      <td>90.413926</td>\n",
              "    </tr>\n",
              "    <tr>\n",
              "      <th>Texas</th>\n",
              "      <td>695662</td>\n",
              "      <td>26448193</td>\n",
              "      <td>38.018740</td>\n",
              "    </tr>\n",
              "    <tr>\n",
              "      <th>New York</th>\n",
              "      <td>141297</td>\n",
              "      <td>19651127</td>\n",
              "      <td>139.076746</td>\n",
              "    </tr>\n",
              "    <tr>\n",
              "      <th>Florida</th>\n",
              "      <td>170312</td>\n",
              "      <td>19552860</td>\n",
              "      <td>114.806121</td>\n",
              "    </tr>\n",
              "    <tr>\n",
              "      <th>Illinois</th>\n",
              "      <td>149995</td>\n",
              "      <td>12882135</td>\n",
              "      <td>85.883763</td>\n",
              "    </tr>\n",
              "  </tbody>\n",
              "</table>\n",
              "</div>"
            ],
            "text/plain": [
              "              area       pop     density\n",
              "California  423967  38332521   90.413926\n",
              "Texas       695662  26448193   38.018740\n",
              "New York    141297  19651127  139.076746\n",
              "Florida     170312  19552860  114.806121\n",
              "Illinois    149995  12882135   85.883763"
            ]
          },
          "metadata": {
            "tags": []
          },
          "execution_count": 32
        }
      ]
    },
    {
      "cell_type": "code",
      "metadata": {
        "id": "Ms3XV_rIkq-U",
        "colab_type": "code",
        "colab": {
          "base_uri": "https://localhost:8080/",
          "height": 206
        },
        "outputId": "b83c9e7f-3868-4e51-ee83-a8718b1755f9"
      },
      "source": [
        "#another option using .insert()\n",
        "data.insert(2,'density_insert' , value = data['pop'] / data['area'])\n",
        "data"
      ],
      "execution_count": 33,
      "outputs": [
        {
          "output_type": "execute_result",
          "data": {
            "text/html": [
              "<div>\n",
              "<style scoped>\n",
              "    .dataframe tbody tr th:only-of-type {\n",
              "        vertical-align: middle;\n",
              "    }\n",
              "\n",
              "    .dataframe tbody tr th {\n",
              "        vertical-align: top;\n",
              "    }\n",
              "\n",
              "    .dataframe thead th {\n",
              "        text-align: right;\n",
              "    }\n",
              "</style>\n",
              "<table border=\"1\" class=\"dataframe\">\n",
              "  <thead>\n",
              "    <tr style=\"text-align: right;\">\n",
              "      <th></th>\n",
              "      <th>area</th>\n",
              "      <th>pop</th>\n",
              "      <th>density_insert</th>\n",
              "      <th>density</th>\n",
              "    </tr>\n",
              "  </thead>\n",
              "  <tbody>\n",
              "    <tr>\n",
              "      <th>California</th>\n",
              "      <td>423967</td>\n",
              "      <td>38332521</td>\n",
              "      <td>90.413926</td>\n",
              "      <td>90.413926</td>\n",
              "    </tr>\n",
              "    <tr>\n",
              "      <th>Texas</th>\n",
              "      <td>695662</td>\n",
              "      <td>26448193</td>\n",
              "      <td>38.018740</td>\n",
              "      <td>38.018740</td>\n",
              "    </tr>\n",
              "    <tr>\n",
              "      <th>New York</th>\n",
              "      <td>141297</td>\n",
              "      <td>19651127</td>\n",
              "      <td>139.076746</td>\n",
              "      <td>139.076746</td>\n",
              "    </tr>\n",
              "    <tr>\n",
              "      <th>Florida</th>\n",
              "      <td>170312</td>\n",
              "      <td>19552860</td>\n",
              "      <td>114.806121</td>\n",
              "      <td>114.806121</td>\n",
              "    </tr>\n",
              "    <tr>\n",
              "      <th>Illinois</th>\n",
              "      <td>149995</td>\n",
              "      <td>12882135</td>\n",
              "      <td>85.883763</td>\n",
              "      <td>85.883763</td>\n",
              "    </tr>\n",
              "  </tbody>\n",
              "</table>\n",
              "</div>"
            ],
            "text/plain": [
              "              area       pop  density_insert     density\n",
              "California  423967  38332521       90.413926   90.413926\n",
              "Texas       695662  26448193       38.018740   38.018740\n",
              "New York    141297  19651127      139.076746  139.076746\n",
              "Florida     170312  19552860      114.806121  114.806121\n",
              "Illinois    149995  12882135       85.883763   85.883763"
            ]
          },
          "metadata": {
            "tags": []
          },
          "execution_count": 33
        }
      ]
    },
    {
      "cell_type": "markdown",
      "metadata": {
        "id": "_Uksh2FOlTCC",
        "colab_type": "text"
      },
      "source": [
        "### DataFrame as two-dimensional array\n"
      ]
    },
    {
      "cell_type": "code",
      "metadata": {
        "id": "cb2Yxl6Ck2io",
        "colab_type": "code",
        "colab": {
          "base_uri": "https://localhost:8080/",
          "height": 108
        },
        "outputId": "b0698f7c-b4ed-4806-f7df-23f57df29dfa"
      },
      "source": [
        "data.values"
      ],
      "execution_count": 34,
      "outputs": [
        {
          "output_type": "execute_result",
          "data": {
            "text/plain": [
              "array([[4.23967000e+05, 3.83325210e+07, 9.04139261e+01, 9.04139261e+01],\n",
              "       [6.95662000e+05, 2.64481930e+07, 3.80187404e+01, 3.80187404e+01],\n",
              "       [1.41297000e+05, 1.96511270e+07, 1.39076746e+02, 1.39076746e+02],\n",
              "       [1.70312000e+05, 1.95528600e+07, 1.14806121e+02, 1.14806121e+02],\n",
              "       [1.49995000e+05, 1.28821350e+07, 8.58837628e+01, 8.58837628e+01]])"
            ]
          },
          "metadata": {
            "tags": []
          },
          "execution_count": 34
        }
      ]
    },
    {
      "cell_type": "code",
      "metadata": {
        "id": "7_SdvlQblV1T",
        "colab_type": "code",
        "colab": {
          "base_uri": "https://localhost:8080/",
          "height": 175
        },
        "outputId": "adb53215-3374-4f22-bb3e-2e5ca81be2fa"
      },
      "source": [
        "# Transpose \n",
        "data.T"
      ],
      "execution_count": 35,
      "outputs": [
        {
          "output_type": "execute_result",
          "data": {
            "text/html": [
              "<div>\n",
              "<style scoped>\n",
              "    .dataframe tbody tr th:only-of-type {\n",
              "        vertical-align: middle;\n",
              "    }\n",
              "\n",
              "    .dataframe tbody tr th {\n",
              "        vertical-align: top;\n",
              "    }\n",
              "\n",
              "    .dataframe thead th {\n",
              "        text-align: right;\n",
              "    }\n",
              "</style>\n",
              "<table border=\"1\" class=\"dataframe\">\n",
              "  <thead>\n",
              "    <tr style=\"text-align: right;\">\n",
              "      <th></th>\n",
              "      <th>California</th>\n",
              "      <th>Texas</th>\n",
              "      <th>New York</th>\n",
              "      <th>Florida</th>\n",
              "      <th>Illinois</th>\n",
              "    </tr>\n",
              "  </thead>\n",
              "  <tbody>\n",
              "    <tr>\n",
              "      <th>area</th>\n",
              "      <td>4.239670e+05</td>\n",
              "      <td>6.956620e+05</td>\n",
              "      <td>1.412970e+05</td>\n",
              "      <td>1.703120e+05</td>\n",
              "      <td>1.499950e+05</td>\n",
              "    </tr>\n",
              "    <tr>\n",
              "      <th>pop</th>\n",
              "      <td>3.833252e+07</td>\n",
              "      <td>2.644819e+07</td>\n",
              "      <td>1.965113e+07</td>\n",
              "      <td>1.955286e+07</td>\n",
              "      <td>1.288214e+07</td>\n",
              "    </tr>\n",
              "    <tr>\n",
              "      <th>density_insert</th>\n",
              "      <td>9.041393e+01</td>\n",
              "      <td>3.801874e+01</td>\n",
              "      <td>1.390767e+02</td>\n",
              "      <td>1.148061e+02</td>\n",
              "      <td>8.588376e+01</td>\n",
              "    </tr>\n",
              "    <tr>\n",
              "      <th>density</th>\n",
              "      <td>9.041393e+01</td>\n",
              "      <td>3.801874e+01</td>\n",
              "      <td>1.390767e+02</td>\n",
              "      <td>1.148061e+02</td>\n",
              "      <td>8.588376e+01</td>\n",
              "    </tr>\n",
              "  </tbody>\n",
              "</table>\n",
              "</div>"
            ],
            "text/plain": [
              "                  California         Texas  ...       Florida      Illinois\n",
              "area            4.239670e+05  6.956620e+05  ...  1.703120e+05  1.499950e+05\n",
              "pop             3.833252e+07  2.644819e+07  ...  1.955286e+07  1.288214e+07\n",
              "density_insert  9.041393e+01  3.801874e+01  ...  1.148061e+02  8.588376e+01\n",
              "density         9.041393e+01  3.801874e+01  ...  1.148061e+02  8.588376e+01\n",
              "\n",
              "[4 rows x 5 columns]"
            ]
          },
          "metadata": {
            "tags": []
          },
          "execution_count": 35
        }
      ]
    },
    {
      "cell_type": "code",
      "metadata": {
        "id": "hLdFEQb8lY8U",
        "colab_type": "code",
        "colab": {
          "base_uri": "https://localhost:8080/",
          "height": 35
        },
        "outputId": "3c915f42-5bd5-4e3c-f6be-ea416678e4d0"
      },
      "source": [
        "data.values[0] #0 row"
      ],
      "execution_count": 36,
      "outputs": [
        {
          "output_type": "execute_result",
          "data": {
            "text/plain": [
              "array([4.23967000e+05, 3.83325210e+07, 9.04139261e+01, 9.04139261e+01])"
            ]
          },
          "metadata": {
            "tags": []
          },
          "execution_count": 36
        }
      ]
    },
    {
      "cell_type": "code",
      "metadata": {
        "id": "dg96jmdqlc2P",
        "colab_type": "code",
        "colab": {
          "base_uri": "https://localhost:8080/",
          "height": 35
        },
        "outputId": "a028028a-002b-4616-e34e-5434db22aca4"
      },
      "source": [
        "data.values[0][1] #0 row, #1 col"
      ],
      "execution_count": 37,
      "outputs": [
        {
          "output_type": "execute_result",
          "data": {
            "text/plain": [
              "38332521.0"
            ]
          },
          "metadata": {
            "tags": []
          },
          "execution_count": 37
        }
      ]
    },
    {
      "cell_type": "code",
      "metadata": {
        "id": "qhMBml55lmeS",
        "colab_type": "code",
        "colab": {
          "base_uri": "https://localhost:8080/",
          "height": 126
        },
        "outputId": "dbf0233c-869a-44e7-9dbd-14804217c647"
      },
      "source": [
        "data['area'] # series!\n"
      ],
      "execution_count": 38,
      "outputs": [
        {
          "output_type": "execute_result",
          "data": {
            "text/plain": [
              "California    423967\n",
              "Texas         695662\n",
              "New York      141297\n",
              "Florida       170312\n",
              "Illinois      149995\n",
              "Name: area, dtype: int64"
            ]
          },
          "metadata": {
            "tags": []
          },
          "execution_count": 38
        }
      ]
    },
    {
      "cell_type": "markdown",
      "metadata": {
        "id": "hY2CZzBhlxzD",
        "colab_type": "text"
      },
      "source": [
        "### loc, iloc, and ix indexers"
      ]
    },
    {
      "cell_type": "code",
      "metadata": {
        "id": "m796HSEilq5F",
        "colab_type": "code",
        "colab": {
          "base_uri": "https://localhost:8080/",
          "height": 143
        },
        "outputId": "ef18f75e-a490-4e45-f54a-d128ea65807c"
      },
      "source": [
        "# row, col\n",
        "data.iloc[0:3, 0:2]"
      ],
      "execution_count": 39,
      "outputs": [
        {
          "output_type": "execute_result",
          "data": {
            "text/html": [
              "<div>\n",
              "<style scoped>\n",
              "    .dataframe tbody tr th:only-of-type {\n",
              "        vertical-align: middle;\n",
              "    }\n",
              "\n",
              "    .dataframe tbody tr th {\n",
              "        vertical-align: top;\n",
              "    }\n",
              "\n",
              "    .dataframe thead th {\n",
              "        text-align: right;\n",
              "    }\n",
              "</style>\n",
              "<table border=\"1\" class=\"dataframe\">\n",
              "  <thead>\n",
              "    <tr style=\"text-align: right;\">\n",
              "      <th></th>\n",
              "      <th>area</th>\n",
              "      <th>pop</th>\n",
              "    </tr>\n",
              "  </thead>\n",
              "  <tbody>\n",
              "    <tr>\n",
              "      <th>California</th>\n",
              "      <td>423967</td>\n",
              "      <td>38332521</td>\n",
              "    </tr>\n",
              "    <tr>\n",
              "      <th>Texas</th>\n",
              "      <td>695662</td>\n",
              "      <td>26448193</td>\n",
              "    </tr>\n",
              "    <tr>\n",
              "      <th>New York</th>\n",
              "      <td>141297</td>\n",
              "      <td>19651127</td>\n",
              "    </tr>\n",
              "  </tbody>\n",
              "</table>\n",
              "</div>"
            ],
            "text/plain": [
              "              area       pop\n",
              "California  423967  38332521\n",
              "Texas       695662  26448193\n",
              "New York    141297  19651127"
            ]
          },
          "metadata": {
            "tags": []
          },
          "execution_count": 39
        }
      ]
    },
    {
      "cell_type": "code",
      "metadata": {
        "id": "vpZTaN-6l0wI",
        "colab_type": "code",
        "colab": {
          "base_uri": "https://localhost:8080/",
          "height": 206
        },
        "outputId": "ae7605d8-9302-4cf7-833b-29e78cc111ad"
      },
      "source": [
        "data.loc[:'Illinois', :'pop']\n"
      ],
      "execution_count": 40,
      "outputs": [
        {
          "output_type": "execute_result",
          "data": {
            "text/html": [
              "<div>\n",
              "<style scoped>\n",
              "    .dataframe tbody tr th:only-of-type {\n",
              "        vertical-align: middle;\n",
              "    }\n",
              "\n",
              "    .dataframe tbody tr th {\n",
              "        vertical-align: top;\n",
              "    }\n",
              "\n",
              "    .dataframe thead th {\n",
              "        text-align: right;\n",
              "    }\n",
              "</style>\n",
              "<table border=\"1\" class=\"dataframe\">\n",
              "  <thead>\n",
              "    <tr style=\"text-align: right;\">\n",
              "      <th></th>\n",
              "      <th>area</th>\n",
              "      <th>pop</th>\n",
              "    </tr>\n",
              "  </thead>\n",
              "  <tbody>\n",
              "    <tr>\n",
              "      <th>California</th>\n",
              "      <td>423967</td>\n",
              "      <td>38332521</td>\n",
              "    </tr>\n",
              "    <tr>\n",
              "      <th>Texas</th>\n",
              "      <td>695662</td>\n",
              "      <td>26448193</td>\n",
              "    </tr>\n",
              "    <tr>\n",
              "      <th>New York</th>\n",
              "      <td>141297</td>\n",
              "      <td>19651127</td>\n",
              "    </tr>\n",
              "    <tr>\n",
              "      <th>Florida</th>\n",
              "      <td>170312</td>\n",
              "      <td>19552860</td>\n",
              "    </tr>\n",
              "    <tr>\n",
              "      <th>Illinois</th>\n",
              "      <td>149995</td>\n",
              "      <td>12882135</td>\n",
              "    </tr>\n",
              "  </tbody>\n",
              "</table>\n",
              "</div>"
            ],
            "text/plain": [
              "              area       pop\n",
              "California  423967  38332521\n",
              "Texas       695662  26448193\n",
              "New York    141297  19651127\n",
              "Florida     170312  19552860\n",
              "Illinois    149995  12882135"
            ]
          },
          "metadata": {
            "tags": []
          },
          "execution_count": 40
        }
      ]
    },
    {
      "cell_type": "code",
      "metadata": {
        "id": "OxCR0Ic_PZ0-",
        "colab_type": "code",
        "colab": {
          "base_uri": "https://localhost:8080/",
          "height": 112
        },
        "outputId": "6c271f08-1198-4d1a-ed5f-db327214aaf0"
      },
      "source": [
        "data.loc[data.density > 100, ['pop', 'density']]\n",
        "\n",
        "\n"
      ],
      "execution_count": 41,
      "outputs": [
        {
          "output_type": "execute_result",
          "data": {
            "text/html": [
              "<div>\n",
              "<style scoped>\n",
              "    .dataframe tbody tr th:only-of-type {\n",
              "        vertical-align: middle;\n",
              "    }\n",
              "\n",
              "    .dataframe tbody tr th {\n",
              "        vertical-align: top;\n",
              "    }\n",
              "\n",
              "    .dataframe thead th {\n",
              "        text-align: right;\n",
              "    }\n",
              "</style>\n",
              "<table border=\"1\" class=\"dataframe\">\n",
              "  <thead>\n",
              "    <tr style=\"text-align: right;\">\n",
              "      <th></th>\n",
              "      <th>pop</th>\n",
              "      <th>density</th>\n",
              "    </tr>\n",
              "  </thead>\n",
              "  <tbody>\n",
              "    <tr>\n",
              "      <th>New York</th>\n",
              "      <td>19651127</td>\n",
              "      <td>139.076746</td>\n",
              "    </tr>\n",
              "    <tr>\n",
              "      <th>Florida</th>\n",
              "      <td>19552860</td>\n",
              "      <td>114.806121</td>\n",
              "    </tr>\n",
              "  </tbody>\n",
              "</table>\n",
              "</div>"
            ],
            "text/plain": [
              "               pop     density\n",
              "New York  19651127  139.076746\n",
              "Florida   19552860  114.806121"
            ]
          },
          "metadata": {
            "tags": []
          },
          "execution_count": 41
        }
      ]
    },
    {
      "cell_type": "code",
      "metadata": {
        "id": "QQnRO1QgiTAd",
        "colab_type": "code",
        "colab": {
          "base_uri": "https://localhost:8080/",
          "height": 206
        },
        "outputId": "a1f6ddbc-225e-4815-a6d5-fddbbd800637"
      },
      "source": [
        "# Any of these indexing conventions may also be used to set or modify values\n",
        "\n",
        "data.iloc[0, 2] = 90\n",
        "data\n"
      ],
      "execution_count": 42,
      "outputs": [
        {
          "output_type": "execute_result",
          "data": {
            "text/html": [
              "<div>\n",
              "<style scoped>\n",
              "    .dataframe tbody tr th:only-of-type {\n",
              "        vertical-align: middle;\n",
              "    }\n",
              "\n",
              "    .dataframe tbody tr th {\n",
              "        vertical-align: top;\n",
              "    }\n",
              "\n",
              "    .dataframe thead th {\n",
              "        text-align: right;\n",
              "    }\n",
              "</style>\n",
              "<table border=\"1\" class=\"dataframe\">\n",
              "  <thead>\n",
              "    <tr style=\"text-align: right;\">\n",
              "      <th></th>\n",
              "      <th>area</th>\n",
              "      <th>pop</th>\n",
              "      <th>density_insert</th>\n",
              "      <th>density</th>\n",
              "    </tr>\n",
              "  </thead>\n",
              "  <tbody>\n",
              "    <tr>\n",
              "      <th>California</th>\n",
              "      <td>423967</td>\n",
              "      <td>38332521</td>\n",
              "      <td>90.000000</td>\n",
              "      <td>90.413926</td>\n",
              "    </tr>\n",
              "    <tr>\n",
              "      <th>Texas</th>\n",
              "      <td>695662</td>\n",
              "      <td>26448193</td>\n",
              "      <td>38.018740</td>\n",
              "      <td>38.018740</td>\n",
              "    </tr>\n",
              "    <tr>\n",
              "      <th>New York</th>\n",
              "      <td>141297</td>\n",
              "      <td>19651127</td>\n",
              "      <td>139.076746</td>\n",
              "      <td>139.076746</td>\n",
              "    </tr>\n",
              "    <tr>\n",
              "      <th>Florida</th>\n",
              "      <td>170312</td>\n",
              "      <td>19552860</td>\n",
              "      <td>114.806121</td>\n",
              "      <td>114.806121</td>\n",
              "    </tr>\n",
              "    <tr>\n",
              "      <th>Illinois</th>\n",
              "      <td>149995</td>\n",
              "      <td>12882135</td>\n",
              "      <td>85.883763</td>\n",
              "      <td>85.883763</td>\n",
              "    </tr>\n",
              "  </tbody>\n",
              "</table>\n",
              "</div>"
            ],
            "text/plain": [
              "              area       pop  density_insert     density\n",
              "California  423967  38332521       90.000000   90.413926\n",
              "Texas       695662  26448193       38.018740   38.018740\n",
              "New York    141297  19651127      139.076746  139.076746\n",
              "Florida     170312  19552860      114.806121  114.806121\n",
              "Illinois    149995  12882135       85.883763   85.883763"
            ]
          },
          "metadata": {
            "tags": []
          },
          "execution_count": 42
        }
      ]
    },
    {
      "cell_type": "markdown",
      "metadata": {
        "id": "6EyjB1yxi38-",
        "colab_type": "text"
      },
      "source": [
        "### Additional indexing conventions\n"
      ]
    },
    {
      "cell_type": "code",
      "metadata": {
        "id": "BWg2AGVhij67",
        "colab_type": "code",
        "colab": {
          "base_uri": "https://localhost:8080/",
          "height": 112
        },
        "outputId": "729fb566-9293-496a-9df2-46628f2682a8"
      },
      "source": [
        "data['Florida':'Illinois']\n"
      ],
      "execution_count": 43,
      "outputs": [
        {
          "output_type": "execute_result",
          "data": {
            "text/html": [
              "<div>\n",
              "<style scoped>\n",
              "    .dataframe tbody tr th:only-of-type {\n",
              "        vertical-align: middle;\n",
              "    }\n",
              "\n",
              "    .dataframe tbody tr th {\n",
              "        vertical-align: top;\n",
              "    }\n",
              "\n",
              "    .dataframe thead th {\n",
              "        text-align: right;\n",
              "    }\n",
              "</style>\n",
              "<table border=\"1\" class=\"dataframe\">\n",
              "  <thead>\n",
              "    <tr style=\"text-align: right;\">\n",
              "      <th></th>\n",
              "      <th>area</th>\n",
              "      <th>pop</th>\n",
              "      <th>density_insert</th>\n",
              "      <th>density</th>\n",
              "    </tr>\n",
              "  </thead>\n",
              "  <tbody>\n",
              "    <tr>\n",
              "      <th>Florida</th>\n",
              "      <td>170312</td>\n",
              "      <td>19552860</td>\n",
              "      <td>114.806121</td>\n",
              "      <td>114.806121</td>\n",
              "    </tr>\n",
              "    <tr>\n",
              "      <th>Illinois</th>\n",
              "      <td>149995</td>\n",
              "      <td>12882135</td>\n",
              "      <td>85.883763</td>\n",
              "      <td>85.883763</td>\n",
              "    </tr>\n",
              "  </tbody>\n",
              "</table>\n",
              "</div>"
            ],
            "text/plain": [
              "            area       pop  density_insert     density\n",
              "Florida   170312  19552860      114.806121  114.806121\n",
              "Illinois  149995  12882135       85.883763   85.883763"
            ]
          },
          "metadata": {
            "tags": []
          },
          "execution_count": 43
        }
      ]
    },
    {
      "cell_type": "code",
      "metadata": {
        "id": "3R1-A6l-i6Qn",
        "colab_type": "code",
        "colab": {
          "base_uri": "https://localhost:8080/",
          "height": 112
        },
        "outputId": "17067e7f-c31c-4255-fb34-ecfcf61fedf9"
      },
      "source": [
        "data[1:3]"
      ],
      "execution_count": 44,
      "outputs": [
        {
          "output_type": "execute_result",
          "data": {
            "text/html": [
              "<div>\n",
              "<style scoped>\n",
              "    .dataframe tbody tr th:only-of-type {\n",
              "        vertical-align: middle;\n",
              "    }\n",
              "\n",
              "    .dataframe tbody tr th {\n",
              "        vertical-align: top;\n",
              "    }\n",
              "\n",
              "    .dataframe thead th {\n",
              "        text-align: right;\n",
              "    }\n",
              "</style>\n",
              "<table border=\"1\" class=\"dataframe\">\n",
              "  <thead>\n",
              "    <tr style=\"text-align: right;\">\n",
              "      <th></th>\n",
              "      <th>area</th>\n",
              "      <th>pop</th>\n",
              "      <th>density_insert</th>\n",
              "      <th>density</th>\n",
              "    </tr>\n",
              "  </thead>\n",
              "  <tbody>\n",
              "    <tr>\n",
              "      <th>Texas</th>\n",
              "      <td>695662</td>\n",
              "      <td>26448193</td>\n",
              "      <td>38.018740</td>\n",
              "      <td>38.018740</td>\n",
              "    </tr>\n",
              "    <tr>\n",
              "      <th>New York</th>\n",
              "      <td>141297</td>\n",
              "      <td>19651127</td>\n",
              "      <td>139.076746</td>\n",
              "      <td>139.076746</td>\n",
              "    </tr>\n",
              "  </tbody>\n",
              "</table>\n",
              "</div>"
            ],
            "text/plain": [
              "            area       pop  density_insert     density\n",
              "Texas     695662  26448193       38.018740   38.018740\n",
              "New York  141297  19651127      139.076746  139.076746"
            ]
          },
          "metadata": {
            "tags": []
          },
          "execution_count": 44
        }
      ]
    },
    {
      "cell_type": "code",
      "metadata": {
        "id": "hL4DWc_ri8Cm",
        "colab_type": "code",
        "colab": {
          "base_uri": "https://localhost:8080/",
          "height": 112
        },
        "outputId": "3ac3cb6f-9aee-4d9a-f852-bd46041f4a80"
      },
      "source": [
        "data[data.density > 100]\n"
      ],
      "execution_count": 45,
      "outputs": [
        {
          "output_type": "execute_result",
          "data": {
            "text/html": [
              "<div>\n",
              "<style scoped>\n",
              "    .dataframe tbody tr th:only-of-type {\n",
              "        vertical-align: middle;\n",
              "    }\n",
              "\n",
              "    .dataframe tbody tr th {\n",
              "        vertical-align: top;\n",
              "    }\n",
              "\n",
              "    .dataframe thead th {\n",
              "        text-align: right;\n",
              "    }\n",
              "</style>\n",
              "<table border=\"1\" class=\"dataframe\">\n",
              "  <thead>\n",
              "    <tr style=\"text-align: right;\">\n",
              "      <th></th>\n",
              "      <th>area</th>\n",
              "      <th>pop</th>\n",
              "      <th>density_insert</th>\n",
              "      <th>density</th>\n",
              "    </tr>\n",
              "  </thead>\n",
              "  <tbody>\n",
              "    <tr>\n",
              "      <th>New York</th>\n",
              "      <td>141297</td>\n",
              "      <td>19651127</td>\n",
              "      <td>139.076746</td>\n",
              "      <td>139.076746</td>\n",
              "    </tr>\n",
              "    <tr>\n",
              "      <th>Florida</th>\n",
              "      <td>170312</td>\n",
              "      <td>19552860</td>\n",
              "      <td>114.806121</td>\n",
              "      <td>114.806121</td>\n",
              "    </tr>\n",
              "  </tbody>\n",
              "</table>\n",
              "</div>"
            ],
            "text/plain": [
              "            area       pop  density_insert     density\n",
              "New York  141297  19651127      139.076746  139.076746\n",
              "Florida   170312  19552860      114.806121  114.806121"
            ]
          },
          "metadata": {
            "tags": []
          },
          "execution_count": 45
        }
      ]
    },
    {
      "cell_type": "markdown",
      "metadata": {
        "id": "q4QGR1WxjBpr",
        "colab_type": "text"
      },
      "source": [
        "## Operating on Data in Pandas"
      ]
    },
    {
      "cell_type": "markdown",
      "metadata": {
        "id": "d4FoLaoSjfSa",
        "colab_type": "text"
      },
      "source": [
        "### UFuncs: Index Alignment\n",
        "\n",
        "For binary operations on two Series or DataFrame objects, Pandas will align indices\n",
        "in the process of performing the operation. This is very convenient when you are\n",
        "working with incomplete data\n"
      ]
    },
    {
      "cell_type": "code",
      "metadata": {
        "id": "OFU0NZcui-49",
        "colab_type": "code",
        "colab": {
          "base_uri": "https://localhost:8080/",
          "height": 108
        },
        "outputId": "afd211dd-282f-41c3-98cb-5d8fb3909761"
      },
      "source": [
        "area = pd.Series(\n",
        "    {'Alaska': 1723337,\n",
        "     'Texas': 695662,\n",
        "     'California': 423967\n",
        "    }, name='area')\n",
        "\n",
        "population = pd.Series(\n",
        "    {'California': 38332521,\n",
        "     'Texas': 26448193,\n",
        "     'New York': 19651127\n",
        "    }, name='population')\n",
        "\n",
        "population / area # The resulting array contains the union of indices of the two input arrays, which we\n",
        "                  # could determine using standard Python set arithmetic on these indices:\n",
        "                  #  area.index | population.index\n",
        "\n"
      ],
      "execution_count": 46,
      "outputs": [
        {
          "output_type": "execute_result",
          "data": {
            "text/plain": [
              "Alaska              NaN\n",
              "California    90.413926\n",
              "New York            NaN\n",
              "Texas         38.018740\n",
              "dtype: float64"
            ]
          },
          "metadata": {
            "tags": []
          },
          "execution_count": 46
        }
      ]
    },
    {
      "cell_type": "code",
      "metadata": {
        "id": "U-OoFkJZj4ON",
        "colab_type": "code",
        "colab": {
          "base_uri": "https://localhost:8080/",
          "height": 108
        },
        "outputId": "957797da-73a4-4708-999d-d9d7b14a0d98"
      },
      "source": [
        "A = pd.Series([2, 4, 6], index=[0, 1, 2])\n",
        "B = pd.Series([1, 3, 5], index=[1, 2, 3])\n",
        "A + B\n"
      ],
      "execution_count": 47,
      "outputs": [
        {
          "output_type": "execute_result",
          "data": {
            "text/plain": [
              "0    NaN\n",
              "1    5.0\n",
              "2    9.0\n",
              "3    NaN\n",
              "dtype: float64"
            ]
          },
          "metadata": {
            "tags": []
          },
          "execution_count": 47
        }
      ]
    },
    {
      "cell_type": "code",
      "metadata": {
        "id": "SmyFmEnDkKBl",
        "colab_type": "code",
        "colab": {
          "base_uri": "https://localhost:8080/",
          "height": 108
        },
        "outputId": "486cb36a-2180-48b9-8f92-6387cc055386"
      },
      "source": [
        "# or remove NaN like this \n",
        "A.add(B, fill_value=0)"
      ],
      "execution_count": 48,
      "outputs": [
        {
          "output_type": "execute_result",
          "data": {
            "text/plain": [
              "0    2.0\n",
              "1    5.0\n",
              "2    9.0\n",
              "3    5.0\n",
              "dtype: float64"
            ]
          },
          "metadata": {
            "tags": []
          },
          "execution_count": 48
        }
      ]
    },
    {
      "cell_type": "markdown",
      "metadata": {
        "id": "cg5ownk7kUtB",
        "colab_type": "text"
      },
      "source": [
        "### Index alignment in DataFrame\n"
      ]
    },
    {
      "cell_type": "code",
      "metadata": {
        "id": "bju8kmw1kQAN",
        "colab_type": "code",
        "colab": {
          "base_uri": "https://localhost:8080/",
          "height": 112
        },
        "outputId": "810d3940-a923-4598-9b65-fbb6f25b69c2"
      },
      "source": [
        "A = pd.DataFrame(np.random.randint(0, 20, (2, 2)),columns=list('AB'))\n",
        "A"
      ],
      "execution_count": 49,
      "outputs": [
        {
          "output_type": "execute_result",
          "data": {
            "text/html": [
              "<div>\n",
              "<style scoped>\n",
              "    .dataframe tbody tr th:only-of-type {\n",
              "        vertical-align: middle;\n",
              "    }\n",
              "\n",
              "    .dataframe tbody tr th {\n",
              "        vertical-align: top;\n",
              "    }\n",
              "\n",
              "    .dataframe thead th {\n",
              "        text-align: right;\n",
              "    }\n",
              "</style>\n",
              "<table border=\"1\" class=\"dataframe\">\n",
              "  <thead>\n",
              "    <tr style=\"text-align: right;\">\n",
              "      <th></th>\n",
              "      <th>A</th>\n",
              "      <th>B</th>\n",
              "    </tr>\n",
              "  </thead>\n",
              "  <tbody>\n",
              "    <tr>\n",
              "      <th>0</th>\n",
              "      <td>1</td>\n",
              "      <td>3</td>\n",
              "    </tr>\n",
              "    <tr>\n",
              "      <th>1</th>\n",
              "      <td>15</td>\n",
              "      <td>10</td>\n",
              "    </tr>\n",
              "  </tbody>\n",
              "</table>\n",
              "</div>"
            ],
            "text/plain": [
              "    A   B\n",
              "0   1   3\n",
              "1  15  10"
            ]
          },
          "metadata": {
            "tags": []
          },
          "execution_count": 49
        }
      ]
    },
    {
      "cell_type": "code",
      "metadata": {
        "id": "j7n3qOFZkWc8",
        "colab_type": "code",
        "colab": {
          "base_uri": "https://localhost:8080/",
          "height": 143
        },
        "outputId": "7a4cde9a-47da-4c98-e192-544428656bd7"
      },
      "source": [
        "B = pd.DataFrame(np.random.randint(0, 10, (3, 3)),columns=list('BAC'))\n",
        "B\n"
      ],
      "execution_count": 50,
      "outputs": [
        {
          "output_type": "execute_result",
          "data": {
            "text/html": [
              "<div>\n",
              "<style scoped>\n",
              "    .dataframe tbody tr th:only-of-type {\n",
              "        vertical-align: middle;\n",
              "    }\n",
              "\n",
              "    .dataframe tbody tr th {\n",
              "        vertical-align: top;\n",
              "    }\n",
              "\n",
              "    .dataframe thead th {\n",
              "        text-align: right;\n",
              "    }\n",
              "</style>\n",
              "<table border=\"1\" class=\"dataframe\">\n",
              "  <thead>\n",
              "    <tr style=\"text-align: right;\">\n",
              "      <th></th>\n",
              "      <th>B</th>\n",
              "      <th>A</th>\n",
              "      <th>C</th>\n",
              "    </tr>\n",
              "  </thead>\n",
              "  <tbody>\n",
              "    <tr>\n",
              "      <th>0</th>\n",
              "      <td>7</td>\n",
              "      <td>5</td>\n",
              "      <td>0</td>\n",
              "    </tr>\n",
              "    <tr>\n",
              "      <th>1</th>\n",
              "      <td>5</td>\n",
              "      <td>2</td>\n",
              "      <td>6</td>\n",
              "    </tr>\n",
              "    <tr>\n",
              "      <th>2</th>\n",
              "      <td>6</td>\n",
              "      <td>8</td>\n",
              "      <td>2</td>\n",
              "    </tr>\n",
              "  </tbody>\n",
              "</table>\n",
              "</div>"
            ],
            "text/plain": [
              "   B  A  C\n",
              "0  7  5  0\n",
              "1  5  2  6\n",
              "2  6  8  2"
            ]
          },
          "metadata": {
            "tags": []
          },
          "execution_count": 50
        }
      ]
    },
    {
      "cell_type": "code",
      "metadata": {
        "id": "Oh-X8z17koYN",
        "colab_type": "code",
        "colab": {
          "base_uri": "https://localhost:8080/",
          "height": 143
        },
        "outputId": "3985391d-3d00-491a-bcaa-bcaad896cbd0"
      },
      "source": [
        "A + B"
      ],
      "execution_count": 51,
      "outputs": [
        {
          "output_type": "execute_result",
          "data": {
            "text/html": [
              "<div>\n",
              "<style scoped>\n",
              "    .dataframe tbody tr th:only-of-type {\n",
              "        vertical-align: middle;\n",
              "    }\n",
              "\n",
              "    .dataframe tbody tr th {\n",
              "        vertical-align: top;\n",
              "    }\n",
              "\n",
              "    .dataframe thead th {\n",
              "        text-align: right;\n",
              "    }\n",
              "</style>\n",
              "<table border=\"1\" class=\"dataframe\">\n",
              "  <thead>\n",
              "    <tr style=\"text-align: right;\">\n",
              "      <th></th>\n",
              "      <th>A</th>\n",
              "      <th>B</th>\n",
              "      <th>C</th>\n",
              "    </tr>\n",
              "  </thead>\n",
              "  <tbody>\n",
              "    <tr>\n",
              "      <th>0</th>\n",
              "      <td>6.0</td>\n",
              "      <td>10.0</td>\n",
              "      <td>NaN</td>\n",
              "    </tr>\n",
              "    <tr>\n",
              "      <th>1</th>\n",
              "      <td>17.0</td>\n",
              "      <td>15.0</td>\n",
              "      <td>NaN</td>\n",
              "    </tr>\n",
              "    <tr>\n",
              "      <th>2</th>\n",
              "      <td>NaN</td>\n",
              "      <td>NaN</td>\n",
              "      <td>NaN</td>\n",
              "    </tr>\n",
              "  </tbody>\n",
              "</table>\n",
              "</div>"
            ],
            "text/plain": [
              "      A     B   C\n",
              "0   6.0  10.0 NaN\n",
              "1  17.0  15.0 NaN\n",
              "2   NaN   NaN NaN"
            ]
          },
          "metadata": {
            "tags": []
          },
          "execution_count": 51
        }
      ]
    },
    {
      "cell_type": "markdown",
      "metadata": {
        "id": "M2CyjfrH-gP7",
        "colab_type": "text"
      },
      "source": [
        "### Ufuncs: Operations Between DataFrame and Series\n"
      ]
    },
    {
      "cell_type": "code",
      "metadata": {
        "id": "JdknRRzI-fxz",
        "colab_type": "code",
        "colab": {
          "base_uri": "https://localhost:8080/",
          "height": 72
        },
        "outputId": "8bd3e156-7ae4-403f-cfbd-156c5536652e"
      },
      "source": [
        "A = np.random.randint(10, size=(3, 4))\n",
        "A"
      ],
      "execution_count": 52,
      "outputs": [
        {
          "output_type": "execute_result",
          "data": {
            "text/plain": [
              "array([[7, 5, 4, 6],\n",
              "       [8, 9, 5, 6],\n",
              "       [3, 6, 2, 4]])"
            ]
          },
          "metadata": {
            "tags": []
          },
          "execution_count": 52
        }
      ]
    },
    {
      "cell_type": "code",
      "metadata": {
        "id": "2fsfl3lakyV0",
        "colab_type": "code",
        "colab": {
          "base_uri": "https://localhost:8080/",
          "height": 72
        },
        "outputId": "33bacac2-b19b-4526-f9e1-48ee3aa56ea7"
      },
      "source": [
        "A - A[0]"
      ],
      "execution_count": 53,
      "outputs": [
        {
          "output_type": "execute_result",
          "data": {
            "text/plain": [
              "array([[ 0,  0,  0,  0],\n",
              "       [ 1,  4,  1,  0],\n",
              "       [-4,  1, -2, -2]])"
            ]
          },
          "metadata": {
            "tags": []
          },
          "execution_count": 53
        }
      ]
    },
    {
      "cell_type": "code",
      "metadata": {
        "id": "yS74EIe3-zbE",
        "colab_type": "code",
        "colab": {
          "base_uri": "https://localhost:8080/",
          "height": 143
        },
        "outputId": "7965003f-2159-4612-bcf6-17370aca71e8"
      },
      "source": [
        "# In Pandas, the convention similarly operates row-wise by default:\n",
        "df = pd.DataFrame(A, columns=list('QRST'))\n",
        "df"
      ],
      "execution_count": 54,
      "outputs": [
        {
          "output_type": "execute_result",
          "data": {
            "text/html": [
              "<div>\n",
              "<style scoped>\n",
              "    .dataframe tbody tr th:only-of-type {\n",
              "        vertical-align: middle;\n",
              "    }\n",
              "\n",
              "    .dataframe tbody tr th {\n",
              "        vertical-align: top;\n",
              "    }\n",
              "\n",
              "    .dataframe thead th {\n",
              "        text-align: right;\n",
              "    }\n",
              "</style>\n",
              "<table border=\"1\" class=\"dataframe\">\n",
              "  <thead>\n",
              "    <tr style=\"text-align: right;\">\n",
              "      <th></th>\n",
              "      <th>Q</th>\n",
              "      <th>R</th>\n",
              "      <th>S</th>\n",
              "      <th>T</th>\n",
              "    </tr>\n",
              "  </thead>\n",
              "  <tbody>\n",
              "    <tr>\n",
              "      <th>0</th>\n",
              "      <td>7</td>\n",
              "      <td>5</td>\n",
              "      <td>4</td>\n",
              "      <td>6</td>\n",
              "    </tr>\n",
              "    <tr>\n",
              "      <th>1</th>\n",
              "      <td>8</td>\n",
              "      <td>9</td>\n",
              "      <td>5</td>\n",
              "      <td>6</td>\n",
              "    </tr>\n",
              "    <tr>\n",
              "      <th>2</th>\n",
              "      <td>3</td>\n",
              "      <td>6</td>\n",
              "      <td>2</td>\n",
              "      <td>4</td>\n",
              "    </tr>\n",
              "  </tbody>\n",
              "</table>\n",
              "</div>"
            ],
            "text/plain": [
              "   Q  R  S  T\n",
              "0  7  5  4  6\n",
              "1  8  9  5  6\n",
              "2  3  6  2  4"
            ]
          },
          "metadata": {
            "tags": []
          },
          "execution_count": 54
        }
      ]
    },
    {
      "cell_type": "code",
      "metadata": {
        "id": "mDCbZz-W-63w",
        "colab_type": "code",
        "colab": {
          "base_uri": "https://localhost:8080/",
          "height": 253
        },
        "outputId": "dc18148a-17df-42e3-d71f-c4553ebfbe70"
      },
      "source": [
        "print(f'  df.iloc[0] -> \\n{df.iloc[0]}'  )\n",
        "df - df.iloc[0]\n"
      ],
      "execution_count": 55,
      "outputs": [
        {
          "output_type": "stream",
          "text": [
            "  df.iloc[0] -> \n",
            "Q    7\n",
            "R    5\n",
            "S    4\n",
            "T    6\n",
            "Name: 0, dtype: int64\n"
          ],
          "name": "stdout"
        },
        {
          "output_type": "execute_result",
          "data": {
            "text/html": [
              "<div>\n",
              "<style scoped>\n",
              "    .dataframe tbody tr th:only-of-type {\n",
              "        vertical-align: middle;\n",
              "    }\n",
              "\n",
              "    .dataframe tbody tr th {\n",
              "        vertical-align: top;\n",
              "    }\n",
              "\n",
              "    .dataframe thead th {\n",
              "        text-align: right;\n",
              "    }\n",
              "</style>\n",
              "<table border=\"1\" class=\"dataframe\">\n",
              "  <thead>\n",
              "    <tr style=\"text-align: right;\">\n",
              "      <th></th>\n",
              "      <th>Q</th>\n",
              "      <th>R</th>\n",
              "      <th>S</th>\n",
              "      <th>T</th>\n",
              "    </tr>\n",
              "  </thead>\n",
              "  <tbody>\n",
              "    <tr>\n",
              "      <th>0</th>\n",
              "      <td>0</td>\n",
              "      <td>0</td>\n",
              "      <td>0</td>\n",
              "      <td>0</td>\n",
              "    </tr>\n",
              "    <tr>\n",
              "      <th>1</th>\n",
              "      <td>1</td>\n",
              "      <td>4</td>\n",
              "      <td>1</td>\n",
              "      <td>0</td>\n",
              "    </tr>\n",
              "    <tr>\n",
              "      <th>2</th>\n",
              "      <td>-4</td>\n",
              "      <td>1</td>\n",
              "      <td>-2</td>\n",
              "      <td>-2</td>\n",
              "    </tr>\n",
              "  </tbody>\n",
              "</table>\n",
              "</div>"
            ],
            "text/plain": [
              "   Q  R  S  T\n",
              "0  0  0  0  0\n",
              "1  1  4  1  0\n",
              "2 -4  1 -2 -2"
            ]
          },
          "metadata": {
            "tags": []
          },
          "execution_count": 55
        }
      ]
    },
    {
      "cell_type": "markdown",
      "metadata": {
        "id": "G3NGstgemJIC",
        "colab_type": "text"
      },
      "source": [
        "## Handling Missing Data\n"
      ]
    },
    {
      "cell_type": "markdown",
      "metadata": {
        "id": "ocyZaDlfmxOm",
        "colab_type": "text"
      },
      "source": [
        "### **None**: Pythonic missing data\n",
        "The first sentinel value used by Pandas is None, a Python singleton object that is often\n",
        "used for missing data in Python code. Because None is a Python object, it cannot be\n",
        "used in any arbitrary NumPy/Pandas array, but only in arrays with data type\n",
        "'object' (i.e., arrays of Python objects):"
      ]
    },
    {
      "cell_type": "code",
      "metadata": {
        "id": "IL0hmnq9mItN",
        "colab_type": "code",
        "colab": {
          "base_uri": "https://localhost:8080/",
          "height": 35
        },
        "outputId": "b6ff03f9-8756-4715-a073-c36f14f40405"
      },
      "source": [
        "vals1 = np.array([1, None, 3, 4])\n",
        "vals1\n"
      ],
      "execution_count": 56,
      "outputs": [
        {
          "output_type": "execute_result",
          "data": {
            "text/plain": [
              "array([1, None, 3, 4], dtype=object)"
            ]
          },
          "metadata": {
            "tags": []
          },
          "execution_count": 56
        }
      ]
    },
    {
      "cell_type": "code",
      "metadata": {
        "id": "1JybeJR7_WFM",
        "colab_type": "code",
        "colab": {}
      },
      "source": [
        "# Will Cause ERROR!\n",
        "# vals1.sum()\n"
      ],
      "execution_count": 57,
      "outputs": []
    },
    {
      "cell_type": "markdown",
      "metadata": {
        "id": "KK9ztLdbnR3F",
        "colab_type": "text"
      },
      "source": [
        "### **NaN**: Missing numerical data\n",
        "The other missing data representation, NaN (acronym for Not a Number), is different;\n",
        "it is a special floating-point value recognized by all systems that use the standard\n",
        "IEEE floating-point representation"
      ]
    },
    {
      "cell_type": "code",
      "metadata": {
        "id": "fPNO4cZJnN-I",
        "colab_type": "code",
        "colab": {
          "base_uri": "https://localhost:8080/",
          "height": 35
        },
        "outputId": "2f9a79ed-ceab-46ff-d9df-c51b2db944a9"
      },
      "source": [
        "vals2 = np.array([1, np.nan, 3, 4])\n",
        "vals2.dtype"
      ],
      "execution_count": 58,
      "outputs": [
        {
          "output_type": "execute_result",
          "data": {
            "text/plain": [
              "dtype('float64')"
            ]
          },
          "metadata": {
            "tags": []
          },
          "execution_count": 58
        }
      ]
    },
    {
      "cell_type": "code",
      "metadata": {
        "id": "H9OT3fJXnZ90",
        "colab_type": "code",
        "colab": {
          "base_uri": "https://localhost:8080/",
          "height": 35
        },
        "outputId": "2d7c90c3-6a96-448d-eee2-8dda58f51b15"
      },
      "source": [
        "# Any operration with NaN will result to NaN\n",
        "vals2.sum(), vals2.min(), vals2.max()"
      ],
      "execution_count": 59,
      "outputs": [
        {
          "output_type": "execute_result",
          "data": {
            "text/plain": [
              "(nan, nan, nan)"
            ]
          },
          "metadata": {
            "tags": []
          },
          "execution_count": 59
        }
      ]
    },
    {
      "cell_type": "code",
      "metadata": {
        "id": "mSFgW7wanhV5",
        "colab_type": "code",
        "colab": {
          "base_uri": "https://localhost:8080/",
          "height": 35
        },
        "outputId": "b9614249-a0d0-42a0-b1e4-99e8805980c8"
      },
      "source": [
        "# Therefore special NaN safe functions\n",
        "np.nansum(vals2), np.nanmin(vals2), np.nanmax(vals2)"
      ],
      "execution_count": 60,
      "outputs": [
        {
          "output_type": "execute_result",
          "data": {
            "text/plain": [
              "(8.0, 1.0, 4.0)"
            ]
          },
          "metadata": {
            "tags": []
          },
          "execution_count": 60
        }
      ]
    },
    {
      "cell_type": "markdown",
      "metadata": {
        "id": "bcOZyYDBn1pv",
        "colab_type": "text"
      },
      "source": [
        "### NaN and None in Pandas\n",
        "NaN and None both have their place, and Pandas is built to handle the two of them\n",
        "nearly interchangeably, converting between them where appropriate:\n"
      ]
    },
    {
      "cell_type": "code",
      "metadata": {
        "id": "Ou0Xo5VynscF",
        "colab_type": "code",
        "colab": {
          "base_uri": "https://localhost:8080/",
          "height": 108
        },
        "outputId": "de166e82-83d6-4b89-b197-9404617cde2b"
      },
      "source": [
        "pd.Series([1, np.nan, 2, None])"
      ],
      "execution_count": 61,
      "outputs": [
        {
          "output_type": "execute_result",
          "data": {
            "text/plain": [
              "0    1.0\n",
              "1    NaN\n",
              "2    2.0\n",
              "3    NaN\n",
              "dtype: float64"
            ]
          },
          "metadata": {
            "tags": []
          },
          "execution_count": 61
        }
      ]
    },
    {
      "cell_type": "code",
      "metadata": {
        "id": "6oyinqZcn5_o",
        "colab_type": "code",
        "colab": {
          "base_uri": "https://localhost:8080/",
          "height": 72
        },
        "outputId": "a588a8c5-c5aa-4030-b794-3ec6218c17d6"
      },
      "source": [
        "x = pd.Series(range(2), dtype=int)\n",
        "x"
      ],
      "execution_count": 62,
      "outputs": [
        {
          "output_type": "execute_result",
          "data": {
            "text/plain": [
              "0    0\n",
              "1    1\n",
              "dtype: int64"
            ]
          },
          "metadata": {
            "tags": []
          },
          "execution_count": 62
        }
      ]
    },
    {
      "cell_type": "code",
      "metadata": {
        "id": "JA1Awzrsn92l",
        "colab_type": "code",
        "colab": {
          "base_uri": "https://localhost:8080/",
          "height": 72
        },
        "outputId": "558957dc-8252-4a24-df21-8e3efaeb00e5"
      },
      "source": [
        "x[0] = None\n",
        "x"
      ],
      "execution_count": 63,
      "outputs": [
        {
          "output_type": "execute_result",
          "data": {
            "text/plain": [
              "0    NaN\n",
              "1    1.0\n",
              "dtype: float64"
            ]
          },
          "metadata": {
            "tags": []
          },
          "execution_count": 63
        }
      ]
    },
    {
      "cell_type": "markdown",
      "metadata": {
        "id": "m3yuVAVYoGww",
        "colab_type": "text"
      },
      "source": [
        "## Operating on Null Values\n"
      ]
    },
    {
      "cell_type": "code",
      "metadata": {
        "id": "kcWP2JaHoAJF",
        "colab_type": "code",
        "colab": {}
      },
      "source": [
        "# isnull()\n",
        "# Generate a Boolean mask indicating missing values\n",
        "\n",
        "# notnull()\n",
        "# Opposite of isnull()\n",
        "\n",
        "# dropna()\n",
        "# Return a filtered version of the data\n",
        "\n",
        "# fillna()\n",
        "# Return a copy of the data with missing values filled or imputed"
      ],
      "execution_count": 64,
      "outputs": []
    },
    {
      "cell_type": "code",
      "metadata": {
        "id": "HWLcvBoGoOjB",
        "colab_type": "code",
        "colab": {}
      },
      "source": [
        "data = pd.Series([1, np.nan, 'hello', None])\n"
      ],
      "execution_count": 65,
      "outputs": []
    },
    {
      "cell_type": "code",
      "metadata": {
        "id": "N74I9QOgoQ5t",
        "colab_type": "code",
        "colab": {
          "base_uri": "https://localhost:8080/",
          "height": 108
        },
        "outputId": "dcec6b45-9976-4fe0-ac59-688754a7f5f9"
      },
      "source": [
        "data.isnull()"
      ],
      "execution_count": 66,
      "outputs": [
        {
          "output_type": "execute_result",
          "data": {
            "text/plain": [
              "0    False\n",
              "1     True\n",
              "2    False\n",
              "3     True\n",
              "dtype: bool"
            ]
          },
          "metadata": {
            "tags": []
          },
          "execution_count": 66
        }
      ]
    },
    {
      "cell_type": "code",
      "metadata": {
        "id": "qxVW6oVhoSXD",
        "colab_type": "code",
        "colab": {
          "base_uri": "https://localhost:8080/",
          "height": 72
        },
        "outputId": "409cf4e2-00c8-4555-9b64-c3651e8db1df"
      },
      "source": [
        "data[data.notnull()]"
      ],
      "execution_count": 67,
      "outputs": [
        {
          "output_type": "execute_result",
          "data": {
            "text/plain": [
              "0        1\n",
              "2    hello\n",
              "dtype: object"
            ]
          },
          "metadata": {
            "tags": []
          },
          "execution_count": 67
        }
      ]
    },
    {
      "cell_type": "code",
      "metadata": {
        "id": "CjWgJUaaomE6",
        "colab_type": "code",
        "colab": {
          "base_uri": "https://localhost:8080/",
          "height": 72
        },
        "outputId": "121978b7-42e9-460a-ada8-d405ff38e170"
      },
      "source": [
        "#Returns new DF with all NaN values removed\n",
        "data.dropna() \n"
      ],
      "execution_count": 68,
      "outputs": [
        {
          "output_type": "execute_result",
          "data": {
            "text/plain": [
              "0        1\n",
              "2    hello\n",
              "dtype: object"
            ]
          },
          "metadata": {
            "tags": []
          },
          "execution_count": 68
        }
      ]
    },
    {
      "cell_type": "code",
      "metadata": {
        "id": "jZwiS-sNopgv",
        "colab_type": "code",
        "colab": {
          "base_uri": "https://localhost:8080/",
          "height": 143
        },
        "outputId": "bc3cc3de-5cf2-475a-bb25-d025843116c5"
      },
      "source": [
        "df = pd.DataFrame([[1, np.nan, 2],[2, 3, 5],[np.nan, 4, 6]])\n",
        "df\n"
      ],
      "execution_count": 69,
      "outputs": [
        {
          "output_type": "execute_result",
          "data": {
            "text/html": [
              "<div>\n",
              "<style scoped>\n",
              "    .dataframe tbody tr th:only-of-type {\n",
              "        vertical-align: middle;\n",
              "    }\n",
              "\n",
              "    .dataframe tbody tr th {\n",
              "        vertical-align: top;\n",
              "    }\n",
              "\n",
              "    .dataframe thead th {\n",
              "        text-align: right;\n",
              "    }\n",
              "</style>\n",
              "<table border=\"1\" class=\"dataframe\">\n",
              "  <thead>\n",
              "    <tr style=\"text-align: right;\">\n",
              "      <th></th>\n",
              "      <th>0</th>\n",
              "      <th>1</th>\n",
              "      <th>2</th>\n",
              "    </tr>\n",
              "  </thead>\n",
              "  <tbody>\n",
              "    <tr>\n",
              "      <th>0</th>\n",
              "      <td>1.0</td>\n",
              "      <td>NaN</td>\n",
              "      <td>2</td>\n",
              "    </tr>\n",
              "    <tr>\n",
              "      <th>1</th>\n",
              "      <td>2.0</td>\n",
              "      <td>3.0</td>\n",
              "      <td>5</td>\n",
              "    </tr>\n",
              "    <tr>\n",
              "      <th>2</th>\n",
              "      <td>NaN</td>\n",
              "      <td>4.0</td>\n",
              "      <td>6</td>\n",
              "    </tr>\n",
              "  </tbody>\n",
              "</table>\n",
              "</div>"
            ],
            "text/plain": [
              "     0    1  2\n",
              "0  1.0  NaN  2\n",
              "1  2.0  3.0  5\n",
              "2  NaN  4.0  6"
            ]
          },
          "metadata": {
            "tags": []
          },
          "execution_count": 69
        }
      ]
    },
    {
      "cell_type": "code",
      "metadata": {
        "id": "DYMato3-o2-R",
        "colab_type": "code",
        "colab": {
          "base_uri": "https://localhost:8080/",
          "height": 81
        },
        "outputId": "4455ec4e-14b6-4563-bcaf-53638dc84f7a"
      },
      "source": [
        "# By default, dropna() will drop all rows in which any null value is present:\n",
        "df.dropna()"
      ],
      "execution_count": 70,
      "outputs": [
        {
          "output_type": "execute_result",
          "data": {
            "text/html": [
              "<div>\n",
              "<style scoped>\n",
              "    .dataframe tbody tr th:only-of-type {\n",
              "        vertical-align: middle;\n",
              "    }\n",
              "\n",
              "    .dataframe tbody tr th {\n",
              "        vertical-align: top;\n",
              "    }\n",
              "\n",
              "    .dataframe thead th {\n",
              "        text-align: right;\n",
              "    }\n",
              "</style>\n",
              "<table border=\"1\" class=\"dataframe\">\n",
              "  <thead>\n",
              "    <tr style=\"text-align: right;\">\n",
              "      <th></th>\n",
              "      <th>0</th>\n",
              "      <th>1</th>\n",
              "      <th>2</th>\n",
              "    </tr>\n",
              "  </thead>\n",
              "  <tbody>\n",
              "    <tr>\n",
              "      <th>1</th>\n",
              "      <td>2.0</td>\n",
              "      <td>3.0</td>\n",
              "      <td>5</td>\n",
              "    </tr>\n",
              "  </tbody>\n",
              "</table>\n",
              "</div>"
            ],
            "text/plain": [
              "     0    1  2\n",
              "1  2.0  3.0  5"
            ]
          },
          "metadata": {
            "tags": []
          },
          "execution_count": 70
        }
      ]
    },
    {
      "cell_type": "code",
      "metadata": {
        "id": "aa4T7IHKo81q",
        "colab_type": "code",
        "colab": {
          "base_uri": "https://localhost:8080/",
          "height": 143
        },
        "outputId": "350dc992-40ce-4753-c24a-5e8fe291138d"
      },
      "source": [
        "# The default is how='any', such that any row or column (depending on the axis key‐\n",
        "# word) containing a null value will be dropped. You can also specify how='all', which\n",
        "# will only drop rows/columns that are all null values:\n",
        "\n",
        "df[3] = np.nan # Creating new Row with column name 3 with NaN values\n",
        "df"
      ],
      "execution_count": 71,
      "outputs": [
        {
          "output_type": "execute_result",
          "data": {
            "text/html": [
              "<div>\n",
              "<style scoped>\n",
              "    .dataframe tbody tr th:only-of-type {\n",
              "        vertical-align: middle;\n",
              "    }\n",
              "\n",
              "    .dataframe tbody tr th {\n",
              "        vertical-align: top;\n",
              "    }\n",
              "\n",
              "    .dataframe thead th {\n",
              "        text-align: right;\n",
              "    }\n",
              "</style>\n",
              "<table border=\"1\" class=\"dataframe\">\n",
              "  <thead>\n",
              "    <tr style=\"text-align: right;\">\n",
              "      <th></th>\n",
              "      <th>0</th>\n",
              "      <th>1</th>\n",
              "      <th>2</th>\n",
              "      <th>3</th>\n",
              "    </tr>\n",
              "  </thead>\n",
              "  <tbody>\n",
              "    <tr>\n",
              "      <th>0</th>\n",
              "      <td>1.0</td>\n",
              "      <td>NaN</td>\n",
              "      <td>2</td>\n",
              "      <td>NaN</td>\n",
              "    </tr>\n",
              "    <tr>\n",
              "      <th>1</th>\n",
              "      <td>2.0</td>\n",
              "      <td>3.0</td>\n",
              "      <td>5</td>\n",
              "      <td>NaN</td>\n",
              "    </tr>\n",
              "    <tr>\n",
              "      <th>2</th>\n",
              "      <td>NaN</td>\n",
              "      <td>4.0</td>\n",
              "      <td>6</td>\n",
              "      <td>NaN</td>\n",
              "    </tr>\n",
              "  </tbody>\n",
              "</table>\n",
              "</div>"
            ],
            "text/plain": [
              "     0    1  2   3\n",
              "0  1.0  NaN  2 NaN\n",
              "1  2.0  3.0  5 NaN\n",
              "2  NaN  4.0  6 NaN"
            ]
          },
          "metadata": {
            "tags": []
          },
          "execution_count": 71
        }
      ]
    },
    {
      "cell_type": "code",
      "metadata": {
        "id": "mG5e880PpVYA",
        "colab_type": "code",
        "colab": {
          "base_uri": "https://localhost:8080/",
          "height": 143
        },
        "outputId": "77d0b6de-5a83-4c7b-9d69-4d7fcfe53516"
      },
      "source": [
        "# Drop along axis 1 or 'column', only if ALL elements are NaN\n",
        "df.dropna(axis='columns', how='all')"
      ],
      "execution_count": 72,
      "outputs": [
        {
          "output_type": "execute_result",
          "data": {
            "text/html": [
              "<div>\n",
              "<style scoped>\n",
              "    .dataframe tbody tr th:only-of-type {\n",
              "        vertical-align: middle;\n",
              "    }\n",
              "\n",
              "    .dataframe tbody tr th {\n",
              "        vertical-align: top;\n",
              "    }\n",
              "\n",
              "    .dataframe thead th {\n",
              "        text-align: right;\n",
              "    }\n",
              "</style>\n",
              "<table border=\"1\" class=\"dataframe\">\n",
              "  <thead>\n",
              "    <tr style=\"text-align: right;\">\n",
              "      <th></th>\n",
              "      <th>0</th>\n",
              "      <th>1</th>\n",
              "      <th>2</th>\n",
              "    </tr>\n",
              "  </thead>\n",
              "  <tbody>\n",
              "    <tr>\n",
              "      <th>0</th>\n",
              "      <td>1.0</td>\n",
              "      <td>NaN</td>\n",
              "      <td>2</td>\n",
              "    </tr>\n",
              "    <tr>\n",
              "      <th>1</th>\n",
              "      <td>2.0</td>\n",
              "      <td>3.0</td>\n",
              "      <td>5</td>\n",
              "    </tr>\n",
              "    <tr>\n",
              "      <th>2</th>\n",
              "      <td>NaN</td>\n",
              "      <td>4.0</td>\n",
              "      <td>6</td>\n",
              "    </tr>\n",
              "  </tbody>\n",
              "</table>\n",
              "</div>"
            ],
            "text/plain": [
              "     0    1  2\n",
              "0  1.0  NaN  2\n",
              "1  2.0  3.0  5\n",
              "2  NaN  4.0  6"
            ]
          },
          "metadata": {
            "tags": []
          },
          "execution_count": 72
        }
      ]
    },
    {
      "cell_type": "code",
      "metadata": {
        "id": "sFoZsTkSqJve",
        "colab_type": "code",
        "colab": {
          "base_uri": "https://localhost:8080/",
          "height": 143
        },
        "outputId": "0f9926ac-0190-4a09-bcde-3f4fef43fc7d"
      },
      "source": [
        "df.iloc[1,1] = np.nan\n",
        "df"
      ],
      "execution_count": 73,
      "outputs": [
        {
          "output_type": "execute_result",
          "data": {
            "text/html": [
              "<div>\n",
              "<style scoped>\n",
              "    .dataframe tbody tr th:only-of-type {\n",
              "        vertical-align: middle;\n",
              "    }\n",
              "\n",
              "    .dataframe tbody tr th {\n",
              "        vertical-align: top;\n",
              "    }\n",
              "\n",
              "    .dataframe thead th {\n",
              "        text-align: right;\n",
              "    }\n",
              "</style>\n",
              "<table border=\"1\" class=\"dataframe\">\n",
              "  <thead>\n",
              "    <tr style=\"text-align: right;\">\n",
              "      <th></th>\n",
              "      <th>0</th>\n",
              "      <th>1</th>\n",
              "      <th>2</th>\n",
              "      <th>3</th>\n",
              "    </tr>\n",
              "  </thead>\n",
              "  <tbody>\n",
              "    <tr>\n",
              "      <th>0</th>\n",
              "      <td>1.0</td>\n",
              "      <td>NaN</td>\n",
              "      <td>2</td>\n",
              "      <td>NaN</td>\n",
              "    </tr>\n",
              "    <tr>\n",
              "      <th>1</th>\n",
              "      <td>2.0</td>\n",
              "      <td>NaN</td>\n",
              "      <td>5</td>\n",
              "      <td>NaN</td>\n",
              "    </tr>\n",
              "    <tr>\n",
              "      <th>2</th>\n",
              "      <td>NaN</td>\n",
              "      <td>4.0</td>\n",
              "      <td>6</td>\n",
              "      <td>NaN</td>\n",
              "    </tr>\n",
              "  </tbody>\n",
              "</table>\n",
              "</div>"
            ],
            "text/plain": [
              "     0    1  2   3\n",
              "0  1.0  NaN  2 NaN\n",
              "1  2.0  NaN  5 NaN\n",
              "2  NaN  4.0  6 NaN"
            ]
          },
          "metadata": {
            "tags": []
          },
          "execution_count": 73
        }
      ]
    },
    {
      "cell_type": "code",
      "metadata": {
        "id": "fVnqWHTGp5Px",
        "colab_type": "code",
        "colab": {
          "base_uri": "https://localhost:8080/",
          "height": 143
        },
        "outputId": "5d246380-b012-4fd0-ab08-22a5e59bc40f"
      },
      "source": [
        "# Remove any row along rows except any rows containing atleast 2 non Null values.\n",
        "df.dropna(axis = 'rows', thresh=2)"
      ],
      "execution_count": 74,
      "outputs": [
        {
          "output_type": "execute_result",
          "data": {
            "text/html": [
              "<div>\n",
              "<style scoped>\n",
              "    .dataframe tbody tr th:only-of-type {\n",
              "        vertical-align: middle;\n",
              "    }\n",
              "\n",
              "    .dataframe tbody tr th {\n",
              "        vertical-align: top;\n",
              "    }\n",
              "\n",
              "    .dataframe thead th {\n",
              "        text-align: right;\n",
              "    }\n",
              "</style>\n",
              "<table border=\"1\" class=\"dataframe\">\n",
              "  <thead>\n",
              "    <tr style=\"text-align: right;\">\n",
              "      <th></th>\n",
              "      <th>0</th>\n",
              "      <th>1</th>\n",
              "      <th>2</th>\n",
              "      <th>3</th>\n",
              "    </tr>\n",
              "  </thead>\n",
              "  <tbody>\n",
              "    <tr>\n",
              "      <th>0</th>\n",
              "      <td>1.0</td>\n",
              "      <td>NaN</td>\n",
              "      <td>2</td>\n",
              "      <td>NaN</td>\n",
              "    </tr>\n",
              "    <tr>\n",
              "      <th>1</th>\n",
              "      <td>2.0</td>\n",
              "      <td>NaN</td>\n",
              "      <td>5</td>\n",
              "      <td>NaN</td>\n",
              "    </tr>\n",
              "    <tr>\n",
              "      <th>2</th>\n",
              "      <td>NaN</td>\n",
              "      <td>4.0</td>\n",
              "      <td>6</td>\n",
              "      <td>NaN</td>\n",
              "    </tr>\n",
              "  </tbody>\n",
              "</table>\n",
              "</div>"
            ],
            "text/plain": [
              "     0    1  2   3\n",
              "0  1.0  NaN  2 NaN\n",
              "1  2.0  NaN  5 NaN\n",
              "2  NaN  4.0  6 NaN"
            ]
          },
          "metadata": {
            "tags": []
          },
          "execution_count": 74
        }
      ]
    },
    {
      "cell_type": "code",
      "metadata": {
        "id": "t2rkm5YytSlf",
        "colab_type": "code",
        "colab": {
          "base_uri": "https://localhost:8080/",
          "height": 143
        },
        "outputId": "94d9ab71-f5c1-4194-ff93-e3dcc9311202"
      },
      "source": [
        "# Remove any column along column except any column containing atleast 2 non Null values.\n",
        "df.dropna(axis = 'columns', thresh=2)"
      ],
      "execution_count": 75,
      "outputs": [
        {
          "output_type": "execute_result",
          "data": {
            "text/html": [
              "<div>\n",
              "<style scoped>\n",
              "    .dataframe tbody tr th:only-of-type {\n",
              "        vertical-align: middle;\n",
              "    }\n",
              "\n",
              "    .dataframe tbody tr th {\n",
              "        vertical-align: top;\n",
              "    }\n",
              "\n",
              "    .dataframe thead th {\n",
              "        text-align: right;\n",
              "    }\n",
              "</style>\n",
              "<table border=\"1\" class=\"dataframe\">\n",
              "  <thead>\n",
              "    <tr style=\"text-align: right;\">\n",
              "      <th></th>\n",
              "      <th>0</th>\n",
              "      <th>2</th>\n",
              "    </tr>\n",
              "  </thead>\n",
              "  <tbody>\n",
              "    <tr>\n",
              "      <th>0</th>\n",
              "      <td>1.0</td>\n",
              "      <td>2</td>\n",
              "    </tr>\n",
              "    <tr>\n",
              "      <th>1</th>\n",
              "      <td>2.0</td>\n",
              "      <td>5</td>\n",
              "    </tr>\n",
              "    <tr>\n",
              "      <th>2</th>\n",
              "      <td>NaN</td>\n",
              "      <td>6</td>\n",
              "    </tr>\n",
              "  </tbody>\n",
              "</table>\n",
              "</div>"
            ],
            "text/plain": [
              "     0  2\n",
              "0  1.0  2\n",
              "1  2.0  5\n",
              "2  NaN  6"
            ]
          },
          "metadata": {
            "tags": []
          },
          "execution_count": 75
        }
      ]
    },
    {
      "cell_type": "code",
      "metadata": {
        "id": "VVuUh9YjqA5M",
        "colab_type": "code",
        "colab": {
          "base_uri": "https://localhost:8080/",
          "height": 126
        },
        "outputId": "82176bcc-3088-414f-9098-4885cb878d5b"
      },
      "source": [
        "# Filling null values\n",
        "data = pd.Series([1, np.nan, 2, None, 3], index=list('abcde'))\n",
        "data"
      ],
      "execution_count": 76,
      "outputs": [
        {
          "output_type": "execute_result",
          "data": {
            "text/plain": [
              "a    1.0\n",
              "b    NaN\n",
              "c    2.0\n",
              "d    NaN\n",
              "e    3.0\n",
              "dtype: float64"
            ]
          },
          "metadata": {
            "tags": []
          },
          "execution_count": 76
        }
      ]
    },
    {
      "cell_type": "code",
      "metadata": {
        "id": "WrRHclSYrLX9",
        "colab_type": "code",
        "colab": {
          "base_uri": "https://localhost:8080/",
          "height": 126
        },
        "outputId": "ef897b86-61c6-4db0-a18b-13c68ccb5127"
      },
      "source": [
        "data.fillna(0)"
      ],
      "execution_count": 77,
      "outputs": [
        {
          "output_type": "execute_result",
          "data": {
            "text/plain": [
              "a    1.0\n",
              "b    0.0\n",
              "c    2.0\n",
              "d    0.0\n",
              "e    3.0\n",
              "dtype: float64"
            ]
          },
          "metadata": {
            "tags": []
          },
          "execution_count": 77
        }
      ]
    },
    {
      "cell_type": "code",
      "metadata": {
        "id": "gBvFsTEVrNbi",
        "colab_type": "code",
        "colab": {
          "base_uri": "https://localhost:8080/",
          "height": 126
        },
        "outputId": "125d0844-f84f-4797-fcb7-8ec381b410b7"
      },
      "source": [
        "# forward-fill\n",
        "data.fillna(method='ffill')"
      ],
      "execution_count": 78,
      "outputs": [
        {
          "output_type": "execute_result",
          "data": {
            "text/plain": [
              "a    1.0\n",
              "b    1.0\n",
              "c    2.0\n",
              "d    2.0\n",
              "e    3.0\n",
              "dtype: float64"
            ]
          },
          "metadata": {
            "tags": []
          },
          "execution_count": 78
        }
      ]
    },
    {
      "cell_type": "code",
      "metadata": {
        "id": "yPJ-j_19rQIn",
        "colab_type": "code",
        "colab": {
          "base_uri": "https://localhost:8080/",
          "height": 126
        },
        "outputId": "29bbe3ba-00bb-412c-b1be-7d65afaaf047"
      },
      "source": [
        "# back-fill\n",
        "data.fillna(method='bfill')"
      ],
      "execution_count": 79,
      "outputs": [
        {
          "output_type": "execute_result",
          "data": {
            "text/plain": [
              "a    1.0\n",
              "b    2.0\n",
              "c    2.0\n",
              "d    3.0\n",
              "e    3.0\n",
              "dtype: float64"
            ]
          },
          "metadata": {
            "tags": []
          },
          "execution_count": 79
        }
      ]
    },
    {
      "cell_type": "code",
      "metadata": {
        "id": "ztvhuU1OrTBS",
        "colab_type": "code",
        "colab": {
          "base_uri": "https://localhost:8080/",
          "height": 143
        },
        "outputId": "51884dc4-7aba-4ac9-8dd9-b7f8cf191cce"
      },
      "source": [
        "df"
      ],
      "execution_count": 80,
      "outputs": [
        {
          "output_type": "execute_result",
          "data": {
            "text/html": [
              "<div>\n",
              "<style scoped>\n",
              "    .dataframe tbody tr th:only-of-type {\n",
              "        vertical-align: middle;\n",
              "    }\n",
              "\n",
              "    .dataframe tbody tr th {\n",
              "        vertical-align: top;\n",
              "    }\n",
              "\n",
              "    .dataframe thead th {\n",
              "        text-align: right;\n",
              "    }\n",
              "</style>\n",
              "<table border=\"1\" class=\"dataframe\">\n",
              "  <thead>\n",
              "    <tr style=\"text-align: right;\">\n",
              "      <th></th>\n",
              "      <th>0</th>\n",
              "      <th>1</th>\n",
              "      <th>2</th>\n",
              "      <th>3</th>\n",
              "    </tr>\n",
              "  </thead>\n",
              "  <tbody>\n",
              "    <tr>\n",
              "      <th>0</th>\n",
              "      <td>1.0</td>\n",
              "      <td>NaN</td>\n",
              "      <td>2</td>\n",
              "      <td>NaN</td>\n",
              "    </tr>\n",
              "    <tr>\n",
              "      <th>1</th>\n",
              "      <td>2.0</td>\n",
              "      <td>NaN</td>\n",
              "      <td>5</td>\n",
              "      <td>NaN</td>\n",
              "    </tr>\n",
              "    <tr>\n",
              "      <th>2</th>\n",
              "      <td>NaN</td>\n",
              "      <td>4.0</td>\n",
              "      <td>6</td>\n",
              "      <td>NaN</td>\n",
              "    </tr>\n",
              "  </tbody>\n",
              "</table>\n",
              "</div>"
            ],
            "text/plain": [
              "     0    1  2   3\n",
              "0  1.0  NaN  2 NaN\n",
              "1  2.0  NaN  5 NaN\n",
              "2  NaN  4.0  6 NaN"
            ]
          },
          "metadata": {
            "tags": []
          },
          "execution_count": 80
        }
      ]
    },
    {
      "cell_type": "code",
      "metadata": {
        "id": "f7ZoMM3MrVQn",
        "colab_type": "code",
        "colab": {
          "base_uri": "https://localhost:8080/",
          "height": 143
        },
        "outputId": "4c5d9383-335a-4f92-961c-6a23570ca0f9"
      },
      "source": [
        "df.fillna(method='ffill', axis=1)\n"
      ],
      "execution_count": 81,
      "outputs": [
        {
          "output_type": "execute_result",
          "data": {
            "text/html": [
              "<div>\n",
              "<style scoped>\n",
              "    .dataframe tbody tr th:only-of-type {\n",
              "        vertical-align: middle;\n",
              "    }\n",
              "\n",
              "    .dataframe tbody tr th {\n",
              "        vertical-align: top;\n",
              "    }\n",
              "\n",
              "    .dataframe thead th {\n",
              "        text-align: right;\n",
              "    }\n",
              "</style>\n",
              "<table border=\"1\" class=\"dataframe\">\n",
              "  <thead>\n",
              "    <tr style=\"text-align: right;\">\n",
              "      <th></th>\n",
              "      <th>0</th>\n",
              "      <th>1</th>\n",
              "      <th>2</th>\n",
              "      <th>3</th>\n",
              "    </tr>\n",
              "  </thead>\n",
              "  <tbody>\n",
              "    <tr>\n",
              "      <th>0</th>\n",
              "      <td>1.0</td>\n",
              "      <td>1.0</td>\n",
              "      <td>2.0</td>\n",
              "      <td>2.0</td>\n",
              "    </tr>\n",
              "    <tr>\n",
              "      <th>1</th>\n",
              "      <td>2.0</td>\n",
              "      <td>2.0</td>\n",
              "      <td>5.0</td>\n",
              "      <td>5.0</td>\n",
              "    </tr>\n",
              "    <tr>\n",
              "      <th>2</th>\n",
              "      <td>NaN</td>\n",
              "      <td>4.0</td>\n",
              "      <td>6.0</td>\n",
              "      <td>6.0</td>\n",
              "    </tr>\n",
              "  </tbody>\n",
              "</table>\n",
              "</div>"
            ],
            "text/plain": [
              "     0    1    2    3\n",
              "0  1.0  1.0  2.0  2.0\n",
              "1  2.0  2.0  5.0  5.0\n",
              "2  NaN  4.0  6.0  6.0"
            ]
          },
          "metadata": {
            "tags": []
          },
          "execution_count": 81
        }
      ]
    },
    {
      "cell_type": "markdown",
      "metadata": {
        "id": "WG9y-NAY4F5D",
        "colab_type": "text"
      },
      "source": [
        "## Hierarchical Indexing\n"
      ]
    },
    {
      "cell_type": "markdown",
      "metadata": {
        "id": "W6zMWnML4K8K",
        "colab_type": "text"
      },
      "source": [
        "### A Multiply Indexed Series\n",
        "\n"
      ]
    },
    {
      "cell_type": "markdown",
      "metadata": {
        "id": "mAkuyzAT4P2j",
        "colab_type": "text"
      },
      "source": [
        "#### The bad way\n"
      ]
    },
    {
      "cell_type": "code",
      "metadata": {
        "id": "Hggd6Hai4GqZ",
        "colab_type": "code",
        "colab": {
          "base_uri": "https://localhost:8080/",
          "height": 144
        },
        "outputId": "8e8b5ac4-7e44-450c-9c55-19ebaab1999b"
      },
      "source": [
        "index = [('California', 2000), ('California', 2010),\n",
        "         ('New York', 2000), ('New York', 2010),\n",
        "         ('Texas', 2000), ('Texas', 2010)\n",
        "        ]\n",
        "populations = [ 33871648, 37253956,\n",
        "                18976457, 19378102,\n",
        "                20851820, 25145561 \n",
        "              ]\n",
        "pop = pd.Series(populations, index=index)\n",
        "pop"
      ],
      "execution_count": 82,
      "outputs": [
        {
          "output_type": "execute_result",
          "data": {
            "text/plain": [
              "(California, 2000)    33871648\n",
              "(California, 2010)    37253956\n",
              "(New York, 2000)      18976457\n",
              "(New York, 2010)      19378102\n",
              "(Texas, 2000)         20851820\n",
              "(Texas, 2010)         25145561\n",
              "dtype: int64"
            ]
          },
          "metadata": {
            "tags": []
          },
          "execution_count": 82
        }
      ]
    },
    {
      "cell_type": "code",
      "metadata": {
        "id": "FW3OH3Lv4jPJ",
        "colab_type": "code",
        "colab": {
          "base_uri": "https://localhost:8080/",
          "height": 35
        },
        "outputId": "da1dde21-770d-45e7-9c37-b4b50c3227c4"
      },
      "source": [
        "# Selecting a row\n",
        "\n",
        "pop[('California',2000)]"
      ],
      "execution_count": 83,
      "outputs": [
        {
          "output_type": "execute_result",
          "data": {
            "text/plain": [
              "33871648"
            ]
          },
          "metadata": {
            "tags": []
          },
          "execution_count": 83
        }
      ]
    },
    {
      "cell_type": "code",
      "metadata": {
        "id": "dkY3WsLFkagL",
        "colab_type": "code",
        "colab": {
          "base_uri": "https://localhost:8080/",
          "height": 126
        },
        "outputId": "39647c34-70da-4d8d-ea4f-8c13199d7881"
      },
      "source": [
        "#Slice a row\n",
        "pop[('California',2000) : ('Texas',2000)]"
      ],
      "execution_count": 84,
      "outputs": [
        {
          "output_type": "execute_result",
          "data": {
            "text/plain": [
              "(California, 2000)    33871648\n",
              "(California, 2010)    37253956\n",
              "(New York, 2000)      18976457\n",
              "(New York, 2010)      19378102\n",
              "(Texas, 2000)         20851820\n",
              "dtype: int64"
            ]
          },
          "metadata": {
            "tags": []
          },
          "execution_count": 84
        }
      ]
    },
    {
      "cell_type": "code",
      "metadata": {
        "id": "0v8spDPkBQZ7",
        "colab_type": "code",
        "colab": {
          "base_uri": "https://localhost:8080/",
          "height": 90
        },
        "outputId": "b877b5af-6f75-41d1-c828-e56725ad7a1e"
      },
      "source": [
        "# Suppose we want to get all record from 2020\n",
        "\n",
        "pop[[i for i in pop.index if i[1] == 2010]]\n",
        "\n",
        "# Therefore its quite complex to do these kinds of opearations without using multiindexing properly"
      ],
      "execution_count": 85,
      "outputs": [
        {
          "output_type": "execute_result",
          "data": {
            "text/plain": [
              "(California, 2010)    37253956\n",
              "(New York, 2010)      19378102\n",
              "(Texas, 2010)         25145561\n",
              "dtype: int64"
            ]
          },
          "metadata": {
            "tags": []
          },
          "execution_count": 85
        }
      ]
    },
    {
      "cell_type": "markdown",
      "metadata": {
        "id": "llY80AozAwN0",
        "colab_type": "text"
      },
      "source": [
        "#### The better way: Pandas MultiIndex\n"
      ]
    },
    {
      "cell_type": "code",
      "metadata": {
        "id": "sDZZ9XfLkkzv",
        "colab_type": "code",
        "colab": {
          "base_uri": "https://localhost:8080/",
          "height": 144
        },
        "outputId": "dd16c7a8-c29b-403f-9fef-ec5ef9fb5463"
      },
      "source": [
        "index = pd.MultiIndex.from_tuples(index)\n",
        "index"
      ],
      "execution_count": 86,
      "outputs": [
        {
          "output_type": "execute_result",
          "data": {
            "text/plain": [
              "MultiIndex([('California', 2000),\n",
              "            ('California', 2010),\n",
              "            (  'New York', 2000),\n",
              "            (  'New York', 2010),\n",
              "            (     'Texas', 2000),\n",
              "            (     'Texas', 2010)],\n",
              "           )"
            ]
          },
          "metadata": {
            "tags": []
          },
          "execution_count": 86
        }
      ]
    },
    {
      "cell_type": "code",
      "metadata": {
        "id": "3-J7ForyA1qO",
        "colab_type": "code",
        "colab": {
          "base_uri": "https://localhost:8080/",
          "height": 144
        },
        "outputId": "310015e6-720c-4df5-be1d-4306b06fa996"
      },
      "source": [
        "pop = pop.reindex(index)\n",
        "pop"
      ],
      "execution_count": 87,
      "outputs": [
        {
          "output_type": "execute_result",
          "data": {
            "text/plain": [
              "California  2000    33871648\n",
              "            2010    37253956\n",
              "New York    2000    18976457\n",
              "            2010    19378102\n",
              "Texas       2000    20851820\n",
              "            2010    25145561\n",
              "dtype: int64"
            ]
          },
          "metadata": {
            "tags": []
          },
          "execution_count": 87
        }
      ]
    },
    {
      "cell_type": "code",
      "metadata": {
        "id": "hM4okmDGBBDJ",
        "colab_type": "code",
        "colab": {
          "base_uri": "https://localhost:8080/",
          "height": 90
        },
        "outputId": "3924214a-24ae-4187-8cd2-77191c7218d9"
      },
      "source": [
        "# same non pythonic code for getting all records of 2020\n",
        "pop[:, 2010]\n"
      ],
      "execution_count": 88,
      "outputs": [
        {
          "output_type": "execute_result",
          "data": {
            "text/plain": [
              "California    37253956\n",
              "New York      19378102\n",
              "Texas         25145561\n",
              "dtype: int64"
            ]
          },
          "metadata": {
            "tags": []
          },
          "execution_count": 88
        }
      ]
    },
    {
      "cell_type": "code",
      "metadata": {
        "id": "BP6CV-bGBqEp",
        "colab_type": "code",
        "colab": {
          "base_uri": "https://localhost:8080/",
          "height": 72
        },
        "outputId": "1a8f7b59-99e4-4447-9150-6be63824949c"
      },
      "source": [
        "pop['Texas']"
      ],
      "execution_count": 89,
      "outputs": [
        {
          "output_type": "execute_result",
          "data": {
            "text/plain": [
              "2000    20851820\n",
              "2010    25145561\n",
              "dtype: int64"
            ]
          },
          "metadata": {
            "tags": []
          },
          "execution_count": 89
        }
      ]
    },
    {
      "cell_type": "code",
      "metadata": {
        "id": "sIhBXOvsBz5s",
        "colab_type": "code",
        "colab": {}
      },
      "source": [
        "# WE can think something to do like this :\n",
        "#### pop['California' : 'Texas',:]\n",
        "# But this will generate error "
      ],
      "execution_count": 90,
      "outputs": []
    },
    {
      "cell_type": "code",
      "metadata": {
        "id": "_CEkfhiECDA3",
        "colab_type": "code",
        "colab": {
          "base_uri": "https://localhost:8080/",
          "height": 90
        },
        "outputId": "092f2285-f6c9-4c76-ca36-31d58911a64a"
      },
      "source": [
        "# To solve this ,we have IndexSlice\n",
        "\n",
        "idx = pd.IndexSlice\n",
        "pop.loc[idx['California' : 'Texas',2010]]"
      ],
      "execution_count": 91,
      "outputs": [
        {
          "output_type": "execute_result",
          "data": {
            "text/plain": [
              "California  2010    37253956\n",
              "New York    2010    19378102\n",
              "Texas       2010    25145561\n",
              "dtype: int64"
            ]
          },
          "metadata": {
            "tags": []
          },
          "execution_count": 91
        }
      ]
    },
    {
      "cell_type": "markdown",
      "metadata": {
        "id": "BbOfTEZcC4EB",
        "colab_type": "text"
      },
      "source": [
        "### MultiIndex as extra dimension\n"
      ]
    },
    {
      "cell_type": "code",
      "metadata": {
        "id": "STdiL0dLCYTk",
        "colab_type": "code",
        "colab": {
          "base_uri": "https://localhost:8080/",
          "height": 143
        },
        "outputId": "0d293581-ef5f-4be7-97d5-adc0f0585e2d"
      },
      "source": [
        "pop_df = pop.unstack()\n",
        "pop_df\n",
        "\n",
        "# What Unstack besically does is , it takes the deepest index(default) to the column index. Here, level 1 is shifted to columns, \n",
        "# making it a DF\n"
      ],
      "execution_count": 92,
      "outputs": [
        {
          "output_type": "execute_result",
          "data": {
            "text/html": [
              "<div>\n",
              "<style scoped>\n",
              "    .dataframe tbody tr th:only-of-type {\n",
              "        vertical-align: middle;\n",
              "    }\n",
              "\n",
              "    .dataframe tbody tr th {\n",
              "        vertical-align: top;\n",
              "    }\n",
              "\n",
              "    .dataframe thead th {\n",
              "        text-align: right;\n",
              "    }\n",
              "</style>\n",
              "<table border=\"1\" class=\"dataframe\">\n",
              "  <thead>\n",
              "    <tr style=\"text-align: right;\">\n",
              "      <th></th>\n",
              "      <th>2000</th>\n",
              "      <th>2010</th>\n",
              "    </tr>\n",
              "  </thead>\n",
              "  <tbody>\n",
              "    <tr>\n",
              "      <th>California</th>\n",
              "      <td>33871648</td>\n",
              "      <td>37253956</td>\n",
              "    </tr>\n",
              "    <tr>\n",
              "      <th>New York</th>\n",
              "      <td>18976457</td>\n",
              "      <td>19378102</td>\n",
              "    </tr>\n",
              "    <tr>\n",
              "      <th>Texas</th>\n",
              "      <td>20851820</td>\n",
              "      <td>25145561</td>\n",
              "    </tr>\n",
              "  </tbody>\n",
              "</table>\n",
              "</div>"
            ],
            "text/plain": [
              "                2000      2010\n",
              "California  33871648  37253956\n",
              "New York    18976457  19378102\n",
              "Texas       20851820  25145561"
            ]
          },
          "metadata": {
            "tags": []
          },
          "execution_count": 92
        }
      ]
    },
    {
      "cell_type": "code",
      "metadata": {
        "id": "Rgub_ZYrC8Sk",
        "colab_type": "code",
        "colab": {
          "base_uri": "https://localhost:8080/",
          "height": 144
        },
        "outputId": "59df6c16-4fa1-400d-ac62-a18f6516ff72"
      },
      "source": [
        "# Therefore, Stack will again bring columns to index one by one \n",
        "pop_df.stack()\n"
      ],
      "execution_count": 93,
      "outputs": [
        {
          "output_type": "execute_result",
          "data": {
            "text/plain": [
              "California  2000    33871648\n",
              "            2010    37253956\n",
              "New York    2000    18976457\n",
              "            2010    19378102\n",
              "Texas       2000    20851820\n",
              "            2010    25145561\n",
              "dtype: int64"
            ]
          },
          "metadata": {
            "tags": []
          },
          "execution_count": 93
        }
      ]
    },
    {
      "cell_type": "markdown",
      "metadata": {
        "id": "WKP9DO8mERJA",
        "colab_type": "text"
      },
      "source": [
        "### MultiIndex level names\n"
      ]
    },
    {
      "cell_type": "code",
      "metadata": {
        "id": "AVhMZM6VEQp-",
        "colab_type": "code",
        "colab": {
          "base_uri": "https://localhost:8080/",
          "height": 163
        },
        "outputId": "df29cd3c-317f-4b55-aea6-f942f50254e8"
      },
      "source": [
        "pop.index.names = ['state', 'year']\n",
        "pop"
      ],
      "execution_count": 94,
      "outputs": [
        {
          "output_type": "execute_result",
          "data": {
            "text/plain": [
              "state       year\n",
              "California  2000    33871648\n",
              "            2010    37253956\n",
              "New York    2000    18976457\n",
              "            2010    19378102\n",
              "Texas       2000    20851820\n",
              "            2010    25145561\n",
              "dtype: int64"
            ]
          },
          "metadata": {
            "tags": []
          },
          "execution_count": 94
        }
      ]
    },
    {
      "cell_type": "markdown",
      "metadata": {
        "id": "yM2A1-brw4Tu",
        "colab_type": "text"
      },
      "source": [
        "### MultiIndex for columns\n"
      ]
    },
    {
      "cell_type": "code",
      "metadata": {
        "id": "Xy5H7HeXDwDj",
        "colab_type": "code",
        "colab": {
          "base_uri": "https://localhost:8080/",
          "height": 237
        },
        "outputId": "4dc8257b-ec6b-43d0-95ec-4720f2166fa5"
      },
      "source": [
        "# hierarchical indices and columns\n",
        "index = pd.MultiIndex.from_product([[2013, 2014], [1, 2]],\n",
        "names=['year', 'visit'])\n",
        "columns = pd.MultiIndex.from_product([['Bob', 'Guido', 'Sue'], ['HR', 'Temp']],\n",
        "names=['subject', 'type'])\n",
        "\n",
        "\n",
        "# mock some data\n",
        "data = np.round(np.random.randn(4, 6), 1)\n",
        "data[:, ::2] *= 10\n",
        "data += 37\n",
        "\n",
        "\n",
        "# create the DataFrame\n",
        "health_data = pd.DataFrame(data, index=index, columns=columns)\n",
        "health_data"
      ],
      "execution_count": 95,
      "outputs": [
        {
          "output_type": "execute_result",
          "data": {
            "text/html": [
              "<div>\n",
              "<style scoped>\n",
              "    .dataframe tbody tr th:only-of-type {\n",
              "        vertical-align: middle;\n",
              "    }\n",
              "\n",
              "    .dataframe tbody tr th {\n",
              "        vertical-align: top;\n",
              "    }\n",
              "\n",
              "    .dataframe thead tr th {\n",
              "        text-align: left;\n",
              "    }\n",
              "\n",
              "    .dataframe thead tr:last-of-type th {\n",
              "        text-align: right;\n",
              "    }\n",
              "</style>\n",
              "<table border=\"1\" class=\"dataframe\">\n",
              "  <thead>\n",
              "    <tr>\n",
              "      <th></th>\n",
              "      <th>subject</th>\n",
              "      <th colspan=\"2\" halign=\"left\">Bob</th>\n",
              "      <th colspan=\"2\" halign=\"left\">Guido</th>\n",
              "      <th colspan=\"2\" halign=\"left\">Sue</th>\n",
              "    </tr>\n",
              "    <tr>\n",
              "      <th></th>\n",
              "      <th>type</th>\n",
              "      <th>HR</th>\n",
              "      <th>Temp</th>\n",
              "      <th>HR</th>\n",
              "      <th>Temp</th>\n",
              "      <th>HR</th>\n",
              "      <th>Temp</th>\n",
              "    </tr>\n",
              "    <tr>\n",
              "      <th>year</th>\n",
              "      <th>visit</th>\n",
              "      <th></th>\n",
              "      <th></th>\n",
              "      <th></th>\n",
              "      <th></th>\n",
              "      <th></th>\n",
              "      <th></th>\n",
              "    </tr>\n",
              "  </thead>\n",
              "  <tbody>\n",
              "    <tr>\n",
              "      <th rowspan=\"2\" valign=\"top\">2013</th>\n",
              "      <th>1</th>\n",
              "      <td>21.0</td>\n",
              "      <td>37.3</td>\n",
              "      <td>54.0</td>\n",
              "      <td>36.2</td>\n",
              "      <td>53.0</td>\n",
              "      <td>37.9</td>\n",
              "    </tr>\n",
              "    <tr>\n",
              "      <th>2</th>\n",
              "      <td>27.0</td>\n",
              "      <td>37.0</td>\n",
              "      <td>47.0</td>\n",
              "      <td>37.1</td>\n",
              "      <td>34.0</td>\n",
              "      <td>34.1</td>\n",
              "    </tr>\n",
              "    <tr>\n",
              "      <th rowspan=\"2\" valign=\"top\">2014</th>\n",
              "      <th>1</th>\n",
              "      <td>34.0</td>\n",
              "      <td>35.9</td>\n",
              "      <td>44.0</td>\n",
              "      <td>37.6</td>\n",
              "      <td>20.0</td>\n",
              "      <td>35.6</td>\n",
              "    </tr>\n",
              "    <tr>\n",
              "      <th>2</th>\n",
              "      <td>45.0</td>\n",
              "      <td>38.1</td>\n",
              "      <td>53.0</td>\n",
              "      <td>36.4</td>\n",
              "      <td>27.0</td>\n",
              "      <td>35.6</td>\n",
              "    </tr>\n",
              "  </tbody>\n",
              "</table>\n",
              "</div>"
            ],
            "text/plain": [
              "subject      Bob       Guido         Sue      \n",
              "type          HR  Temp    HR  Temp    HR  Temp\n",
              "year visit                                    \n",
              "2013 1      21.0  37.3  54.0  36.2  53.0  37.9\n",
              "     2      27.0  37.0  47.0  37.1  34.0  34.1\n",
              "2014 1      34.0  35.9  44.0  37.6  20.0  35.6\n",
              "     2      45.0  38.1  53.0  36.4  27.0  35.6"
            ]
          },
          "metadata": {
            "tags": []
          },
          "execution_count": 95
        }
      ]
    },
    {
      "cell_type": "code",
      "metadata": {
        "id": "4F9lRU4IxOHf",
        "colab_type": "code",
        "colab": {
          "base_uri": "https://localhost:8080/",
          "height": 332
        },
        "outputId": "953fad2c-4ccb-48df-f061-12ff8b136345"
      },
      "source": [
        "health_data.stack()"
      ],
      "execution_count": 96,
      "outputs": [
        {
          "output_type": "execute_result",
          "data": {
            "text/html": [
              "<div>\n",
              "<style scoped>\n",
              "    .dataframe tbody tr th:only-of-type {\n",
              "        vertical-align: middle;\n",
              "    }\n",
              "\n",
              "    .dataframe tbody tr th {\n",
              "        vertical-align: top;\n",
              "    }\n",
              "\n",
              "    .dataframe thead th {\n",
              "        text-align: right;\n",
              "    }\n",
              "</style>\n",
              "<table border=\"1\" class=\"dataframe\">\n",
              "  <thead>\n",
              "    <tr style=\"text-align: right;\">\n",
              "      <th></th>\n",
              "      <th></th>\n",
              "      <th>subject</th>\n",
              "      <th>Bob</th>\n",
              "      <th>Guido</th>\n",
              "      <th>Sue</th>\n",
              "    </tr>\n",
              "    <tr>\n",
              "      <th>year</th>\n",
              "      <th>visit</th>\n",
              "      <th>type</th>\n",
              "      <th></th>\n",
              "      <th></th>\n",
              "      <th></th>\n",
              "    </tr>\n",
              "  </thead>\n",
              "  <tbody>\n",
              "    <tr>\n",
              "      <th rowspan=\"4\" valign=\"top\">2013</th>\n",
              "      <th rowspan=\"2\" valign=\"top\">1</th>\n",
              "      <th>HR</th>\n",
              "      <td>21.0</td>\n",
              "      <td>54.0</td>\n",
              "      <td>53.0</td>\n",
              "    </tr>\n",
              "    <tr>\n",
              "      <th>Temp</th>\n",
              "      <td>37.3</td>\n",
              "      <td>36.2</td>\n",
              "      <td>37.9</td>\n",
              "    </tr>\n",
              "    <tr>\n",
              "      <th rowspan=\"2\" valign=\"top\">2</th>\n",
              "      <th>HR</th>\n",
              "      <td>27.0</td>\n",
              "      <td>47.0</td>\n",
              "      <td>34.0</td>\n",
              "    </tr>\n",
              "    <tr>\n",
              "      <th>Temp</th>\n",
              "      <td>37.0</td>\n",
              "      <td>37.1</td>\n",
              "      <td>34.1</td>\n",
              "    </tr>\n",
              "    <tr>\n",
              "      <th rowspan=\"4\" valign=\"top\">2014</th>\n",
              "      <th rowspan=\"2\" valign=\"top\">1</th>\n",
              "      <th>HR</th>\n",
              "      <td>34.0</td>\n",
              "      <td>44.0</td>\n",
              "      <td>20.0</td>\n",
              "    </tr>\n",
              "    <tr>\n",
              "      <th>Temp</th>\n",
              "      <td>35.9</td>\n",
              "      <td>37.6</td>\n",
              "      <td>35.6</td>\n",
              "    </tr>\n",
              "    <tr>\n",
              "      <th rowspan=\"2\" valign=\"top\">2</th>\n",
              "      <th>HR</th>\n",
              "      <td>45.0</td>\n",
              "      <td>53.0</td>\n",
              "      <td>27.0</td>\n",
              "    </tr>\n",
              "    <tr>\n",
              "      <th>Temp</th>\n",
              "      <td>38.1</td>\n",
              "      <td>36.4</td>\n",
              "      <td>35.6</td>\n",
              "    </tr>\n",
              "  </tbody>\n",
              "</table>\n",
              "</div>"
            ],
            "text/plain": [
              "subject           Bob  Guido   Sue\n",
              "year visit type                   \n",
              "2013 1     HR    21.0   54.0  53.0\n",
              "           Temp  37.3   36.2  37.9\n",
              "     2     HR    27.0   47.0  34.0\n",
              "           Temp  37.0   37.1  34.1\n",
              "2014 1     HR    34.0   44.0  20.0\n",
              "           Temp  35.9   37.6  35.6\n",
              "     2     HR    45.0   53.0  27.0\n",
              "           Temp  38.1   36.4  35.6"
            ]
          },
          "metadata": {
            "tags": []
          },
          "execution_count": 96
        }
      ]
    },
    {
      "cell_type": "code",
      "metadata": {
        "id": "BdnLiI2rxS9a",
        "colab_type": "code",
        "colab": {
          "base_uri": "https://localhost:8080/",
          "height": 490
        },
        "outputId": "2ea39920-d25b-4e28-a19b-396849f240d2"
      },
      "source": [
        "health_data.stack().stack()"
      ],
      "execution_count": 97,
      "outputs": [
        {
          "output_type": "execute_result",
          "data": {
            "text/plain": [
              "year  visit  type  subject\n",
              "2013  1      HR    Bob        21.0\n",
              "                   Guido      54.0\n",
              "                   Sue        53.0\n",
              "             Temp  Bob        37.3\n",
              "                   Guido      36.2\n",
              "                   Sue        37.9\n",
              "      2      HR    Bob        27.0\n",
              "                   Guido      47.0\n",
              "                   Sue        34.0\n",
              "             Temp  Bob        37.0\n",
              "                   Guido      37.1\n",
              "                   Sue        34.1\n",
              "2014  1      HR    Bob        34.0\n",
              "                   Guido      44.0\n",
              "                   Sue        20.0\n",
              "             Temp  Bob        35.9\n",
              "                   Guido      37.6\n",
              "                   Sue        35.6\n",
              "      2      HR    Bob        45.0\n",
              "                   Guido      53.0\n",
              "                   Sue        27.0\n",
              "             Temp  Bob        38.1\n",
              "                   Guido      36.4\n",
              "                   Sue        35.6\n",
              "dtype: float64"
            ]
          },
          "metadata": {
            "tags": []
          },
          "execution_count": 97
        }
      ]
    },
    {
      "cell_type": "code",
      "metadata": {
        "id": "TDVW_iT-HFfU",
        "colab_type": "code",
        "colab": {}
      },
      "source": [
        ""
      ],
      "execution_count": null,
      "outputs": []
    }
  ]
}