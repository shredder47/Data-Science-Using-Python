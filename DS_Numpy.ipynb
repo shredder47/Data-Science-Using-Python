{
  "nbformat": 4,
  "nbformat_minor": 0,
  "metadata": {
    "colab": {
      "name": "DS_Numpy.ipynb",
      "provenance": [],
      "toc_visible": true
    },
    "kernelspec": {
      "name": "python3",
      "display_name": "Python 3"
    }
  },
  "cells": [
    {
      "cell_type": "markdown",
      "metadata": {
        "id": "OPzzf1pIf0XG"
      },
      "source": [
        "![1280px-NumPy_logo.svg.png](data:image/png;base64,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)\n",
        "\n",
        "NumPy is a library for the Python programming language, adding support for large, multi-dimensional arrays and matrices, along with a large collection of high-level mathematical functions to operate on these arrays."
      ]
    },
    {
      "cell_type": "code",
      "metadata": {
        "id": "5aJHLmNDXEwy"
      },
      "source": [
        "import numpy as np\n",
        "import pandas as pd\n"
      ],
      "execution_count": 1,
      "outputs": []
    },
    {
      "cell_type": "markdown",
      "metadata": {
        "id": "kVFptI4NgrQY"
      },
      "source": [
        "## Creating Arrays from Python Lists\n"
      ]
    },
    {
      "cell_type": "code",
      "metadata": {
        "id": "C1fq-TXegmg9",
        "colab": {
          "base_uri": "https://localhost:8080/"
        },
        "outputId": "b79c7db1-8d9f-4eb7-fbd1-3a37f162edc2"
      },
      "source": [
        "# integer array:\n",
        "np.array([1, 4, 2, 5, 3])"
      ],
      "execution_count": 2,
      "outputs": [
        {
          "output_type": "execute_result",
          "data": {
            "text/plain": [
              "array([1, 4, 2, 5, 3])"
            ]
          },
          "metadata": {
            "tags": []
          },
          "execution_count": 2
        }
      ]
    },
    {
      "cell_type": "code",
      "metadata": {
        "id": "9Fiq61uagzQp",
        "colab": {
          "base_uri": "https://localhost:8080/"
        },
        "outputId": "f36efc1c-7c49-476b-b723-736fefc9117b"
      },
      "source": [
        "# float array\n",
        "np.array([3.14, 4, 2, 3])\n"
      ],
      "execution_count": 3,
      "outputs": [
        {
          "output_type": "execute_result",
          "data": {
            "text/plain": [
              "array([3.14, 4.  , 2.  , 3.  ])"
            ]
          },
          "metadata": {
            "tags": []
          },
          "execution_count": 3
        }
      ]
    },
    {
      "cell_type": "code",
      "metadata": {
        "id": "trNImEnsg9bm",
        "colab": {
          "base_uri": "https://localhost:8080/"
        },
        "outputId": "11cb0704-79a3-43ce-e6e5-0f9c659da067"
      },
      "source": [
        "np.array([1, 2, 3, 4], dtype='float64')"
      ],
      "execution_count": 4,
      "outputs": [
        {
          "output_type": "execute_result",
          "data": {
            "text/plain": [
              "array([1., 2., 3., 4.])"
            ]
          },
          "metadata": {
            "tags": []
          },
          "execution_count": 4
        }
      ]
    },
    {
      "cell_type": "markdown",
      "metadata": {
        "id": "QCA8MK6LhUIy"
      },
      "source": [
        "# Creating Arrays from Scratch\n",
        "Especially for larger arrays, it is more efficient to create arrays from scratch using rou‐\n",
        "tines built into NumPy. Here are several examples:\n"
      ]
    },
    {
      "cell_type": "code",
      "metadata": {
        "id": "TEVp8rYDhJ8D",
        "colab": {
          "base_uri": "https://localhost:8080/"
        },
        "outputId": "cb974423-69c2-400c-ea80-64c3e73bfb35"
      },
      "source": [
        "# Create a length-5 integer array filled with zeros\n",
        "np.zeros(5, dtype=int)"
      ],
      "execution_count": 5,
      "outputs": [
        {
          "output_type": "execute_result",
          "data": {
            "text/plain": [
              "array([0, 0, 0, 0, 0])"
            ]
          },
          "metadata": {
            "tags": []
          },
          "execution_count": 5
        }
      ]
    },
    {
      "cell_type": "code",
      "metadata": {
        "id": "eiivyMN4hf3u",
        "colab": {
          "base_uri": "https://localhost:8080/"
        },
        "outputId": "c945b1df-24cc-496b-969b-a609f4772ae7"
      },
      "source": [
        "# Create a 3x3 floating-point array filled with 1s\n",
        "np.ones((3, 3), dtype=float)\n"
      ],
      "execution_count": 6,
      "outputs": [
        {
          "output_type": "execute_result",
          "data": {
            "text/plain": [
              "array([[1., 1., 1.],\n",
              "       [1., 1., 1.],\n",
              "       [1., 1., 1.]])"
            ]
          },
          "metadata": {
            "tags": []
          },
          "execution_count": 6
        }
      ]
    },
    {
      "cell_type": "code",
      "metadata": {
        "id": "Y56fgpz7hk1n",
        "colab": {
          "base_uri": "https://localhost:8080/"
        },
        "outputId": "b9b61625-5b6f-473c-db55-31ff45fe3fb9"
      },
      "source": [
        "# Create a 3x3 int array filled with 1s\n",
        "np.ones((3, 3), dtype=int)"
      ],
      "execution_count": 7,
      "outputs": [
        {
          "output_type": "execute_result",
          "data": {
            "text/plain": [
              "array([[1, 1, 1],\n",
              "       [1, 1, 1],\n",
              "       [1, 1, 1]])"
            ]
          },
          "metadata": {
            "tags": []
          },
          "execution_count": 7
        }
      ]
    },
    {
      "cell_type": "code",
      "metadata": {
        "id": "uIxuFMmzhpVA",
        "colab": {
          "base_uri": "https://localhost:8080/"
        },
        "outputId": "9409d424-f643-464a-9cfb-3490274b38ef"
      },
      "source": [
        "# Create a 5*5 array filled with 47\n",
        "np.full((5, 5), 47)\n"
      ],
      "execution_count": 8,
      "outputs": [
        {
          "output_type": "execute_result",
          "data": {
            "text/plain": [
              "array([[47, 47, 47, 47, 47],\n",
              "       [47, 47, 47, 47, 47],\n",
              "       [47, 47, 47, 47, 47],\n",
              "       [47, 47, 47, 47, 47],\n",
              "       [47, 47, 47, 47, 47]])"
            ]
          },
          "metadata": {
            "tags": []
          },
          "execution_count": 8
        }
      ]
    },
    {
      "cell_type": "code",
      "metadata": {
        "id": "TCaSJLdfhyDs",
        "colab": {
          "base_uri": "https://localhost:8080/"
        },
        "outputId": "f9b1e386-e84d-41fe-c0ca-36c7895a96bc"
      },
      "source": [
        "# Create an array filled with a linear sequence\n",
        "# Starting at 0, ending at 30, stepping by 3\n",
        "np.arange(0, 30, 3)"
      ],
      "execution_count": 9,
      "outputs": [
        {
          "output_type": "execute_result",
          "data": {
            "text/plain": [
              "array([ 0,  3,  6,  9, 12, 15, 18, 21, 24, 27])"
            ]
          },
          "metadata": {
            "tags": []
          },
          "execution_count": 9
        }
      ]
    },
    {
      "cell_type": "code",
      "metadata": {
        "id": "FJBNNJX3h9bB",
        "colab": {
          "base_uri": "https://localhost:8080/"
        },
        "outputId": "4ec1ac39-df3d-4d2e-eda9-eb10064b3896"
      },
      "source": [
        "# Create an array of ten values evenly spaced between 0 and 1\n",
        "np.linspace(0, 1, 10)"
      ],
      "execution_count": 10,
      "outputs": [
        {
          "output_type": "execute_result",
          "data": {
            "text/plain": [
              "array([0.        , 0.11111111, 0.22222222, 0.33333333, 0.44444444,\n",
              "       0.55555556, 0.66666667, 0.77777778, 0.88888889, 1.        ])"
            ]
          },
          "metadata": {
            "tags": []
          },
          "execution_count": 10
        }
      ]
    },
    {
      "cell_type": "code",
      "metadata": {
        "id": "QkpPwLCKiDz3",
        "colab": {
          "base_uri": "https://localhost:8080/"
        },
        "outputId": "37c01ba2-d379-4546-ff73-e7e540bfb38b"
      },
      "source": [
        "# Create a 5x5 array of uniformly distributed\n",
        "# random values between 0 and 1\n",
        "np.random.random((5, 5))"
      ],
      "execution_count": 11,
      "outputs": [
        {
          "output_type": "execute_result",
          "data": {
            "text/plain": [
              "array([[0.87966103, 0.61095328, 0.68574797, 0.01961277, 0.85575923],\n",
              "       [0.8608069 , 0.07369895, 0.4010436 , 0.74026691, 0.17811656],\n",
              "       [0.29809937, 0.65280312, 0.90673207, 0.36616   , 0.00287995],\n",
              "       [0.83093112, 0.7510922 , 0.9706082 , 0.79911412, 0.95503326],\n",
              "       [0.1956044 , 0.01160918, 0.59073281, 0.16760389, 0.31170461]])"
            ]
          },
          "metadata": {
            "tags": []
          },
          "execution_count": 11
        }
      ]
    },
    {
      "cell_type": "code",
      "metadata": {
        "id": "nbn9tCHYiKp3",
        "colab": {
          "base_uri": "https://localhost:8080/"
        },
        "outputId": "7fe26f26-d15d-4d3f-bb03-ecb81518eff0"
      },
      "source": [
        "# Create a 3x3 array of normally distributed random values\n",
        "# with mean 0 and standard deviation 1 \n",
        "np.random.normal(0, 1, (3, 3))"
      ],
      "execution_count": 12,
      "outputs": [
        {
          "output_type": "execute_result",
          "data": {
            "text/plain": [
              "array([[-0.32631751,  0.3674221 ,  0.22202557],\n",
              "       [-1.60912643,  1.16731228,  0.39428076],\n",
              "       [-1.63318586, -1.18686032, -0.28929917]])"
            ]
          },
          "metadata": {
            "tags": []
          },
          "execution_count": 12
        }
      ]
    },
    {
      "cell_type": "code",
      "metadata": {
        "id": "hK7-htT_itLd",
        "colab": {
          "base_uri": "https://localhost:8080/"
        },
        "outputId": "3ac3078a-f2f6-4452-e41a-303ca461cefc"
      },
      "source": [
        "# Create a 3x4 array of random integers in the interval [0, 5 )    \n",
        "np.random.randint(0, 5, (3, 4))\n"
      ],
      "execution_count": 13,
      "outputs": [
        {
          "output_type": "execute_result",
          "data": {
            "text/plain": [
              "array([[4, 4, 0, 2],\n",
              "       [1, 0, 3, 2],\n",
              "       [3, 2, 4, 4]])"
            ]
          },
          "metadata": {
            "tags": []
          },
          "execution_count": 13
        }
      ]
    },
    {
      "cell_type": "code",
      "metadata": {
        "id": "QQ7gfbJIixYB",
        "colab": {
          "base_uri": "https://localhost:8080/"
        },
        "outputId": "58956053-32eb-4684-9d1f-35a3bdb88445"
      },
      "source": [
        "# Create a 3x3 identity matrix\n",
        "np.eye(3)\n"
      ],
      "execution_count": 14,
      "outputs": [
        {
          "output_type": "execute_result",
          "data": {
            "text/plain": [
              "array([[1., 0., 0.],\n",
              "       [0., 1., 0.],\n",
              "       [0., 0., 1.]])"
            ]
          },
          "metadata": {
            "tags": []
          },
          "execution_count": 14
        }
      ]
    },
    {
      "cell_type": "code",
      "metadata": {
        "id": "XLw4HSbPjBB_",
        "colab": {
          "base_uri": "https://localhost:8080/"
        },
        "outputId": "0c056777-bc4d-48e1-9ced-41dcb9b7de6c"
      },
      "source": [
        "# Create an uninitialized array of three integers\n",
        "# The values will be whatever happens to already exist at that\n",
        "# memory location\n",
        "np.empty(3)\n",
        "\n"
      ],
      "execution_count": 15,
      "outputs": [
        {
          "output_type": "execute_result",
          "data": {
            "text/plain": [
              "array([1., 1., 1.])"
            ]
          },
          "metadata": {
            "tags": []
          },
          "execution_count": 15
        }
      ]
    },
    {
      "cell_type": "markdown",
      "metadata": {
        "id": "M34Z3W4kjbJg"
      },
      "source": [
        "# NumPy Array Attributes\n"
      ]
    },
    {
      "cell_type": "code",
      "metadata": {
        "id": "2W50F6F7jNiT"
      },
      "source": [
        "import numpy as np\n",
        "np.random.seed(0) # seed for reproducibility\n",
        "x1 = np.random.randint(10, size=6) # One-dimensional array\n",
        "x2 = np.random.randint(10, size=(3, 4)) # Two-dimensional array\n",
        "x3 = np.random.randint(10, size=(3, 4, 5)) # Three-dimensional array"
      ],
      "execution_count": 16,
      "outputs": []
    },
    {
      "cell_type": "code",
      "metadata": {
        "id": "9EGDQ1sHkQOA",
        "colab": {
          "base_uri": "https://localhost:8080/"
        },
        "outputId": "730ecda3-3bd0-4c3b-fe40-1924458465f1"
      },
      "source": [
        "print(\"x3 ndim: \", x3.ndim)\n",
        "print(\"x3 shape:\", x3.shape)\n",
        "print(\"x3 size: \", x3.size)\n",
        "print(\"dtype:\", x3.dtype)\n",
        "print(\"itemsize:\", x3.itemsize, \"bytes\")\n",
        "print(\"nbytes:\", x3.nbytes, \"bytes\")"
      ],
      "execution_count": 17,
      "outputs": [
        {
          "output_type": "stream",
          "text": [
            "x3 ndim:  3\n",
            "x3 shape: (3, 4, 5)\n",
            "x3 size:  60\n",
            "dtype: int64\n",
            "itemsize: 8 bytes\n",
            "nbytes: 480 bytes\n"
          ],
          "name": "stdout"
        }
      ]
    },
    {
      "cell_type": "markdown",
      "metadata": {
        "id": "fBUU3NzNkoeA"
      },
      "source": [
        "# Array Indexing: Accessing Single Elements\n"
      ]
    },
    {
      "cell_type": "code",
      "metadata": {
        "id": "8mb5Nd-pkW4D",
        "colab": {
          "base_uri": "https://localhost:8080/"
        },
        "outputId": "f5690ad8-9fef-438f-897c-a92ca0199520"
      },
      "source": [
        "x1"
      ],
      "execution_count": 18,
      "outputs": [
        {
          "output_type": "execute_result",
          "data": {
            "text/plain": [
              "array([5, 0, 3, 3, 7, 9])"
            ]
          },
          "metadata": {
            "tags": []
          },
          "execution_count": 18
        }
      ]
    },
    {
      "cell_type": "code",
      "metadata": {
        "id": "YAC_j4hKkuwF",
        "colab": {
          "base_uri": "https://localhost:8080/"
        },
        "outputId": "a9fba6e0-b1de-4331-ff7d-d892e0c27478"
      },
      "source": [
        "x1[0]\n"
      ],
      "execution_count": 19,
      "outputs": [
        {
          "output_type": "execute_result",
          "data": {
            "text/plain": [
              "5"
            ]
          },
          "metadata": {
            "tags": []
          },
          "execution_count": 19
        }
      ]
    },
    {
      "cell_type": "code",
      "metadata": {
        "id": "vj2wnmFjkxpO",
        "colab": {
          "base_uri": "https://localhost:8080/"
        },
        "outputId": "5a287b03-0142-42b4-8d82-23ff7e264ee0"
      },
      "source": [
        "x1[4]"
      ],
      "execution_count": 20,
      "outputs": [
        {
          "output_type": "execute_result",
          "data": {
            "text/plain": [
              "7"
            ]
          },
          "metadata": {
            "tags": []
          },
          "execution_count": 20
        }
      ]
    },
    {
      "cell_type": "code",
      "metadata": {
        "id": "QYvtiQKQk1Gf",
        "colab": {
          "base_uri": "https://localhost:8080/"
        },
        "outputId": "7502b247-25ba-4c10-8798-ab74e871d55c"
      },
      "source": [
        "# from right to left\n",
        "x1[-1] \n"
      ],
      "execution_count": 21,
      "outputs": [
        {
          "output_type": "execute_result",
          "data": {
            "text/plain": [
              "9"
            ]
          },
          "metadata": {
            "tags": []
          },
          "execution_count": 21
        }
      ]
    },
    {
      "cell_type": "code",
      "metadata": {
        "id": "3mflgAFqk84r",
        "colab": {
          "base_uri": "https://localhost:8080/"
        },
        "outputId": "1f5878aa-7fc9-444f-cc60-7a7ae09c7d02"
      },
      "source": [
        "x1[-2]\n"
      ],
      "execution_count": 22,
      "outputs": [
        {
          "output_type": "execute_result",
          "data": {
            "text/plain": [
              "7"
            ]
          },
          "metadata": {
            "tags": []
          },
          "execution_count": 22
        }
      ]
    },
    {
      "cell_type": "code",
      "metadata": {
        "id": "tOVu3s1Jk-Qt",
        "colab": {
          "base_uri": "https://localhost:8080/"
        },
        "outputId": "b4994c18-5d11-4935-c2f7-9551c09183ea"
      },
      "source": [
        "x2"
      ],
      "execution_count": 23,
      "outputs": [
        {
          "output_type": "execute_result",
          "data": {
            "text/plain": [
              "array([[3, 5, 2, 4],\n",
              "       [7, 6, 8, 8],\n",
              "       [1, 6, 7, 7]])"
            ]
          },
          "metadata": {
            "tags": []
          },
          "execution_count": 23
        }
      ]
    },
    {
      "cell_type": "code",
      "metadata": {
        "id": "nAJHDQ0BlXEW",
        "colab": {
          "base_uri": "https://localhost:8080/"
        },
        "outputId": "3eb4fe02-74f3-413f-9467-2eeace894966"
      },
      "source": [
        "# Multidimension array access: \n",
        "# row #0, -> col #0\n",
        "x2[0,0] "
      ],
      "execution_count": 24,
      "outputs": [
        {
          "output_type": "execute_result",
          "data": {
            "text/plain": [
              "3"
            ]
          },
          "metadata": {
            "tags": []
          },
          "execution_count": 24
        }
      ]
    },
    {
      "cell_type": "code",
      "metadata": {
        "id": "j7RNTZvxlbVq",
        "colab": {
          "base_uri": "https://localhost:8080/"
        },
        "outputId": "3795c537-140e-46a9-f109-d565cccb7e44"
      },
      "source": [
        "# row #1, -> col # 2\n",
        "x2[1,2]"
      ],
      "execution_count": 25,
      "outputs": [
        {
          "output_type": "execute_result",
          "data": {
            "text/plain": [
              "8"
            ]
          },
          "metadata": {
            "tags": []
          },
          "execution_count": 25
        }
      ]
    },
    {
      "cell_type": "code",
      "metadata": {
        "id": "GqSWInQZlfCZ",
        "colab": {
          "base_uri": "https://localhost:8080/"
        },
        "outputId": "a47147df-9280-4382-ecfa-0c93be25201c"
      },
      "source": [
        "# row #2, -> col #-1 (right to)\n",
        "x2[2, -1]\n"
      ],
      "execution_count": 26,
      "outputs": [
        {
          "output_type": "execute_result",
          "data": {
            "text/plain": [
              "7"
            ]
          },
          "metadata": {
            "tags": []
          },
          "execution_count": 26
        }
      ]
    },
    {
      "cell_type": "code",
      "metadata": {
        "id": "gD-jextil6wx",
        "colab": {
          "base_uri": "https://localhost:8080/"
        },
        "outputId": "85649f6b-5776-406d-be54-f1af292c67a8"
      },
      "source": [
        "x3\n"
      ],
      "execution_count": 27,
      "outputs": [
        {
          "output_type": "execute_result",
          "data": {
            "text/plain": [
              "array([[[8, 1, 5, 9, 8],\n",
              "        [9, 4, 3, 0, 3],\n",
              "        [5, 0, 2, 3, 8],\n",
              "        [1, 3, 3, 3, 7]],\n",
              "\n",
              "       [[0, 1, 9, 9, 0],\n",
              "        [4, 7, 3, 2, 7],\n",
              "        [2, 0, 0, 4, 5],\n",
              "        [5, 6, 8, 4, 1]],\n",
              "\n",
              "       [[4, 9, 8, 1, 1],\n",
              "        [7, 9, 9, 3, 6],\n",
              "        [7, 2, 0, 3, 5],\n",
              "        [9, 4, 4, 6, 4]]])"
            ]
          },
          "metadata": {
            "tags": []
          },
          "execution_count": 27
        }
      ]
    },
    {
      "cell_type": "code",
      "metadata": {
        "id": "4cEX2YiWmKUk",
        "colab": {
          "base_uri": "https://localhost:8080/"
        },
        "outputId": "0bd5ee04-bb2a-4382-896e-7acd88d0a4b8"
      },
      "source": [
        "# stack/level/length\n",
        "# stack #0\n",
        "x3[0]"
      ],
      "execution_count": 28,
      "outputs": [
        {
          "output_type": "execute_result",
          "data": {
            "text/plain": [
              "array([[8, 1, 5, 9, 8],\n",
              "       [9, 4, 3, 0, 3],\n",
              "       [5, 0, 2, 3, 8],\n",
              "       [1, 3, 3, 3, 7]])"
            ]
          },
          "metadata": {
            "tags": []
          },
          "execution_count": 28
        }
      ]
    },
    {
      "cell_type": "code",
      "metadata": {
        "id": "eIxrfFvSmOl-",
        "colab": {
          "base_uri": "https://localhost:8080/"
        },
        "outputId": "0810d67a-9327-4eea-a8c3-c25201faa499"
      },
      "source": [
        "# stack #1\n",
        "x3[1]"
      ],
      "execution_count": 29,
      "outputs": [
        {
          "output_type": "execute_result",
          "data": {
            "text/plain": [
              "array([[0, 1, 9, 9, 0],\n",
              "       [4, 7, 3, 2, 7],\n",
              "       [2, 0, 0, 4, 5],\n",
              "       [5, 6, 8, 4, 1]])"
            ]
          },
          "metadata": {
            "tags": []
          },
          "execution_count": 29
        }
      ]
    },
    {
      "cell_type": "code",
      "metadata": {
        "id": "ZW2u5ETHmbtF",
        "colab": {
          "base_uri": "https://localhost:8080/"
        },
        "outputId": "77f027d4-b7f3-423b-8897-30b2978b2c9d"
      },
      "source": [
        "# stack #0 -> row #1\n",
        "x3[0][1]"
      ],
      "execution_count": 30,
      "outputs": [
        {
          "output_type": "execute_result",
          "data": {
            "text/plain": [
              "array([9, 4, 3, 0, 3])"
            ]
          },
          "metadata": {
            "tags": []
          },
          "execution_count": 30
        }
      ]
    },
    {
      "cell_type": "code",
      "metadata": {
        "id": "PLH4EO-_mj2O",
        "colab": {
          "base_uri": "https://localhost:8080/"
        },
        "outputId": "acd9e154-ea03-4b40-ccd4-3c2c44153b29"
      },
      "source": [
        "# stack #0 -> row #2 -> column #1\n",
        "x3[0][2][1]"
      ],
      "execution_count": 31,
      "outputs": [
        {
          "output_type": "execute_result",
          "data": {
            "text/plain": [
              "0"
            ]
          },
          "metadata": {
            "tags": []
          },
          "execution_count": 31
        }
      ]
    },
    {
      "cell_type": "markdown",
      "metadata": {
        "id": "gbK7HqYxnHEP"
      },
      "source": [
        "# Array Slicing: Accessing Subarrays\n"
      ]
    },
    {
      "cell_type": "code",
      "metadata": {
        "id": "QQivqYnwm3qX"
      },
      "source": [
        "# The NumPy slicing syntax follows that of the standard Python list; to access a slice of\n",
        "# an array x, use this:\n",
        "# x[start:stop:step]\n",
        "\n",
        "# If any of these are unspecified, they \n",
        "# default to the values \n",
        "# start=0, stop=size of dimension, step=1\n",
        "\n",
        "\n"
      ],
      "execution_count": 32,
      "outputs": []
    },
    {
      "cell_type": "markdown",
      "metadata": {
        "id": "ENpTllrmnn8I"
      },
      "source": [
        "### One-dimensional subarrays\n"
      ]
    },
    {
      "cell_type": "code",
      "metadata": {
        "id": "Bezjf6XcnqhE"
      },
      "source": [
        "x = np.arange(10)"
      ],
      "execution_count": 33,
      "outputs": []
    },
    {
      "cell_type": "code",
      "metadata": {
        "id": "zRg3u5TDnu6_",
        "colab": {
          "base_uri": "https://localhost:8080/"
        },
        "outputId": "df24d1ab-12cf-447b-eb80-dacaccea59ab"
      },
      "source": [
        "print(x)"
      ],
      "execution_count": 34,
      "outputs": [
        {
          "output_type": "stream",
          "text": [
            "[0 1 2 3 4 5 6 7 8 9]\n"
          ],
          "name": "stdout"
        }
      ]
    },
    {
      "cell_type": "code",
      "metadata": {
        "id": "40XRSRy5nw0H",
        "colab": {
          "base_uri": "https://localhost:8080/"
        },
        "outputId": "0cc0d5ac-799a-4ea4-f58a-fc68361a1294"
      },
      "source": [
        "# elements till 0th - 3rd index\n",
        "x[0:4] \n"
      ],
      "execution_count": 35,
      "outputs": [
        {
          "output_type": "execute_result",
          "data": {
            "text/plain": [
              "array([0, 1, 2, 3])"
            ]
          },
          "metadata": {
            "tags": []
          },
          "execution_count": 35
        }
      ]
    },
    {
      "cell_type": "code",
      "metadata": {
        "id": "N96d_fbon5k7",
        "colab": {
          "base_uri": "https://localhost:8080/"
        },
        "outputId": "1765627f-6e1e-47eb-ac46-35af60e98f01"
      },
      "source": [
        "# elements till 0th - 4rd index\n",
        "x[:5] \n"
      ],
      "execution_count": 36,
      "outputs": [
        {
          "output_type": "execute_result",
          "data": {
            "text/plain": [
              "array([0, 1, 2, 3, 4])"
            ]
          },
          "metadata": {
            "tags": []
          },
          "execution_count": 36
        }
      ]
    },
    {
      "cell_type": "code",
      "metadata": {
        "id": "bbRCtrNOn-cV",
        "colab": {
          "base_uri": "https://localhost:8080/"
        },
        "outputId": "42f5b72d-8470-43ac-a118-528788f34bc5"
      },
      "source": [
        "# elements after index 2 till the last\n",
        "x[2:]"
      ],
      "execution_count": 37,
      "outputs": [
        {
          "output_type": "execute_result",
          "data": {
            "text/plain": [
              "array([2, 3, 4, 5, 6, 7, 8, 9])"
            ]
          },
          "metadata": {
            "tags": []
          },
          "execution_count": 37
        }
      ]
    },
    {
      "cell_type": "code",
      "metadata": {
        "id": "GJuOe5sdoFK6",
        "colab": {
          "base_uri": "https://localhost:8080/"
        },
        "outputId": "847e84c0-e047-4078-d61a-88c9aa71855d"
      },
      "source": [
        "# elements from index 2 but till 3rd index -> [2,4)\n",
        "x[2:4]"
      ],
      "execution_count": 38,
      "outputs": [
        {
          "output_type": "execute_result",
          "data": {
            "text/plain": [
              "array([2, 3])"
            ]
          },
          "metadata": {
            "tags": []
          },
          "execution_count": 38
        }
      ]
    },
    {
      "cell_type": "code",
      "metadata": {
        "id": "WESNSqFQoKz6",
        "colab": {
          "base_uri": "https://localhost:8080/"
        },
        "outputId": "c92b2a3e-ae00-4109-a0f0-69d293d2da08"
      },
      "source": [
        "# every other element\n",
        "x[::2] "
      ],
      "execution_count": 39,
      "outputs": [
        {
          "output_type": "execute_result",
          "data": {
            "text/plain": [
              "array([0, 2, 4, 6, 8])"
            ]
          },
          "metadata": {
            "tags": []
          },
          "execution_count": 39
        }
      ]
    },
    {
      "cell_type": "code",
      "metadata": {
        "id": "kL42tstcog_8",
        "colab": {
          "base_uri": "https://localhost:8080/"
        },
        "outputId": "a4afba91-2965-47c9-e587-cb300f3c2a3c"
      },
      "source": [
        "# every other element, starting at index 1\n",
        "x[1::2] "
      ],
      "execution_count": 40,
      "outputs": [
        {
          "output_type": "execute_result",
          "data": {
            "text/plain": [
              "array([1, 3, 5, 7, 9])"
            ]
          },
          "metadata": {
            "tags": []
          },
          "execution_count": 40
        }
      ]
    },
    {
      "cell_type": "code",
      "metadata": {
        "id": "SfJUaNh3on93",
        "colab": {
          "base_uri": "https://localhost:8080/"
        },
        "outputId": "d042c0d9-f44f-43e2-8f3c-52443b3fd9f1"
      },
      "source": [
        "# every other element, starting at index 1 ending at 6th index\n",
        "x[1:7:2] \n"
      ],
      "execution_count": 41,
      "outputs": [
        {
          "output_type": "execute_result",
          "data": {
            "text/plain": [
              "array([1, 3, 5])"
            ]
          },
          "metadata": {
            "tags": []
          },
          "execution_count": 41
        }
      ]
    },
    {
      "cell_type": "code",
      "metadata": {
        "id": "q5FDh6ZHpHsS",
        "colab": {
          "base_uri": "https://localhost:8080/"
        },
        "outputId": "9a894b36-3857-4402-bb7e-91f0d6601bbd"
      },
      "source": [
        "x"
      ],
      "execution_count": 42,
      "outputs": [
        {
          "output_type": "execute_result",
          "data": {
            "text/plain": [
              "array([0, 1, 2, 3, 4, 5, 6, 7, 8, 9])"
            ]
          },
          "metadata": {
            "tags": []
          },
          "execution_count": 42
        }
      ]
    },
    {
      "cell_type": "code",
      "metadata": {
        "id": "cvg0mwwoou9B",
        "colab": {
          "base_uri": "https://localhost:8080/"
        },
        "outputId": "d2b19211-2d5e-4973-8edf-6af686dc6ae4"
      },
      "source": [
        "# every 2rd element, staring from 0 index, ending at 8th index\n",
        "x[:9:2] "
      ],
      "execution_count": 43,
      "outputs": [
        {
          "output_type": "execute_result",
          "data": {
            "text/plain": [
              "array([0, 2, 4, 6, 8])"
            ]
          },
          "metadata": {
            "tags": []
          },
          "execution_count": 43
        }
      ]
    },
    {
      "cell_type": "code",
      "metadata": {
        "id": "0t9nlNjppAOJ",
        "colab": {
          "base_uri": "https://localhost:8080/"
        },
        "outputId": "200497b8-f603-4d57-b16a-89ef1ebb8ae6"
      },
      "source": [
        "# all elements, reversed\n",
        "x[::-1] "
      ],
      "execution_count": 44,
      "outputs": [
        {
          "output_type": "execute_result",
          "data": {
            "text/plain": [
              "array([9, 8, 7, 6, 5, 4, 3, 2, 1, 0])"
            ]
          },
          "metadata": {
            "tags": []
          },
          "execution_count": 44
        }
      ]
    },
    {
      "cell_type": "code",
      "metadata": {
        "id": "GNztoZPrpp_r",
        "colab": {
          "base_uri": "https://localhost:8080/"
        },
        "outputId": "ebbb2d1a-d69f-42c0-c507-5c322ca687e4"
      },
      "source": [
        "# reversed every other from index 5\n",
        "x[5::-2] "
      ],
      "execution_count": 45,
      "outputs": [
        {
          "output_type": "execute_result",
          "data": {
            "text/plain": [
              "array([5, 3, 1])"
            ]
          },
          "metadata": {
            "tags": []
          },
          "execution_count": 45
        }
      ]
    },
    {
      "cell_type": "code",
      "metadata": {
        "id": "6SjfQz1Cpzfv",
        "colab": {
          "base_uri": "https://localhost:8080/"
        },
        "outputId": "46ca02cf-e4b9-4f7f-a945-c4cfd87ac890"
      },
      "source": [
        "x[5:2:-1] "
      ],
      "execution_count": 46,
      "outputs": [
        {
          "output_type": "execute_result",
          "data": {
            "text/plain": [
              "array([5, 4, 3])"
            ]
          },
          "metadata": {
            "tags": []
          },
          "execution_count": 46
        }
      ]
    },
    {
      "cell_type": "markdown",
      "metadata": {
        "id": "3PfC8R8droM5"
      },
      "source": [
        "### Multidimensional subarrays\n"
      ]
    },
    {
      "cell_type": "code",
      "metadata": {
        "id": "k70aLFXfqg_c",
        "colab": {
          "base_uri": "https://localhost:8080/"
        },
        "outputId": "ba1028fa-5350-4798-e0f8-0cfa4f879bd9"
      },
      "source": [
        "x2"
      ],
      "execution_count": 47,
      "outputs": [
        {
          "output_type": "execute_result",
          "data": {
            "text/plain": [
              "array([[3, 5, 2, 4],\n",
              "       [7, 6, 8, 8],\n",
              "       [1, 6, 7, 7]])"
            ]
          },
          "metadata": {
            "tags": []
          },
          "execution_count": 47
        }
      ]
    },
    {
      "cell_type": "code",
      "metadata": {
        "id": "CdJu4bTMhRhu",
        "colab": {
          "base_uri": "https://localhost:8080/"
        },
        "outputId": "98d0d63e-c59c-4a92-c2aa-2efa58632644"
      },
      "source": [
        "# row from #0 - #1 & column from #0 - #2 equivalent to -> [0:2,0:3]\n",
        "x2[:2, :3]"
      ],
      "execution_count": 48,
      "outputs": [
        {
          "output_type": "execute_result",
          "data": {
            "text/plain": [
              "array([[3, 5, 2],\n",
              "       [7, 6, 8]])"
            ]
          },
          "metadata": {
            "tags": []
          },
          "execution_count": 48
        }
      ]
    },
    {
      "cell_type": "code",
      "metadata": {
        "id": "k_bDThnrk8Os",
        "colab": {
          "base_uri": "https://localhost:8080/"
        },
        "outputId": "21afbb27-025d-4d09-a0be-61fb11a23e19"
      },
      "source": [
        "# row from #0 to #2 & every 2nd column\n",
        "x2[:3, ::2] "
      ],
      "execution_count": 49,
      "outputs": [
        {
          "output_type": "execute_result",
          "data": {
            "text/plain": [
              "array([[3, 2],\n",
              "       [7, 8],\n",
              "       [1, 7]])"
            ]
          },
          "metadata": {
            "tags": []
          },
          "execution_count": 49
        }
      ]
    },
    {
      "cell_type": "code",
      "metadata": {
        "id": "HtnuxK3anhBh",
        "colab": {
          "base_uri": "https://localhost:8080/"
        },
        "outputId": "ddbe22dd-3563-4cc4-96fc-adc79ff304c7"
      },
      "source": [
        "# first reverse all row, then all columns!\n",
        "x2[::-1, ::-1]\n"
      ],
      "execution_count": 50,
      "outputs": [
        {
          "output_type": "execute_result",
          "data": {
            "text/plain": [
              "array([[7, 7, 6, 1],\n",
              "       [8, 8, 6, 7],\n",
              "       [4, 2, 5, 3]])"
            ]
          },
          "metadata": {
            "tags": []
          },
          "execution_count": 50
        }
      ]
    },
    {
      "cell_type": "markdown",
      "metadata": {
        "id": "j9ycxJJjDEpy"
      },
      "source": [
        "#### Accessing array rows and columns\n",
        "One commonly needed routine is accessing single\n",
        "rows or columns of an array. You can do this by combining indexing and slicing,\n",
        "using an empty slice marked by a single colon (:)"
      ]
    },
    {
      "cell_type": "code",
      "metadata": {
        "id": "TCoNyJqnStXB",
        "colab": {
          "base_uri": "https://localhost:8080/"
        },
        "outputId": "631e9551-3f77-456d-ff9d-518c5316c5be"
      },
      "source": [
        "x2"
      ],
      "execution_count": 51,
      "outputs": [
        {
          "output_type": "execute_result",
          "data": {
            "text/plain": [
              "array([[3, 5, 2, 4],\n",
              "       [7, 6, 8, 8],\n",
              "       [1, 6, 7, 7]])"
            ]
          },
          "metadata": {
            "tags": []
          },
          "execution_count": 51
        }
      ]
    },
    {
      "cell_type": "code",
      "metadata": {
        "id": "JJ7qcrXBDaBt",
        "colab": {
          "base_uri": "https://localhost:8080/"
        },
        "outputId": "c2bc7c33-acd4-4b0c-9d66-1d111a9f1cd9"
      },
      "source": [
        "# 0th column only, but all columns -> entire 0th row\n",
        "x2[0, :]"
      ],
      "execution_count": 52,
      "outputs": [
        {
          "output_type": "execute_result",
          "data": {
            "text/plain": [
              "array([3, 5, 2, 4])"
            ]
          },
          "metadata": {
            "tags": []
          },
          "execution_count": 52
        }
      ]
    },
    {
      "cell_type": "code",
      "metadata": {
        "id": "_G58uqRpDnuw",
        "colab": {
          "base_uri": "https://localhost:8080/"
        },
        "outputId": "c9b43f64-29b2-474f-a8e8-4474232c6669"
      },
      "source": [
        "# all rows values containing in 0th column\n",
        "x2[:, 0]"
      ],
      "execution_count": 53,
      "outputs": [
        {
          "output_type": "execute_result",
          "data": {
            "text/plain": [
              "array([3, 7, 1])"
            ]
          },
          "metadata": {
            "tags": []
          },
          "execution_count": 53
        }
      ]
    },
    {
      "cell_type": "code",
      "metadata": {
        "id": "rl8rSNJID_AB",
        "colab": {
          "base_uri": "https://localhost:8080/"
        },
        "outputId": "b55445fe-53ed-4b06-f791-b79657e9c4f5"
      },
      "source": [
        "# Entire 0th Row -> x2[0, :]\n",
        "x2[0]"
      ],
      "execution_count": 54,
      "outputs": [
        {
          "output_type": "execute_result",
          "data": {
            "text/plain": [
              "array([3, 5, 2, 4])"
            ]
          },
          "metadata": {
            "tags": []
          },
          "execution_count": 54
        }
      ]
    },
    {
      "cell_type": "code",
      "metadata": {
        "id": "l7ffjyNRELg8",
        "colab": {
          "base_uri": "https://localhost:8080/"
        },
        "outputId": "7343bfc5-ac4f-4176-f960-77813ec55e73"
      },
      "source": [
        "# Entire 2th Row -> x2[2, :]\n",
        "x2[2]"
      ],
      "execution_count": 55,
      "outputs": [
        {
          "output_type": "execute_result",
          "data": {
            "text/plain": [
              "array([1, 6, 7, 7])"
            ]
          },
          "metadata": {
            "tags": []
          },
          "execution_count": 55
        }
      ]
    },
    {
      "cell_type": "markdown",
      "metadata": {
        "id": "oefjTqDKEigd"
      },
      "source": [
        "### Subarrays as no-copy views\n"
      ]
    },
    {
      "cell_type": "code",
      "metadata": {
        "id": "3pejiAnsE08c"
      },
      "source": [
        "# One important—and extremely useful—thing to know about array slices is that they\n",
        "# return views rather than copies of the array data"
      ],
      "execution_count": 56,
      "outputs": []
    },
    {
      "cell_type": "code",
      "metadata": {
        "id": "CDpwilswEesf",
        "colab": {
          "base_uri": "https://localhost:8080/"
        },
        "outputId": "edc7a1a3-0307-4ca4-8577-b363f9e00103"
      },
      "source": [
        "x2"
      ],
      "execution_count": 57,
      "outputs": [
        {
          "output_type": "execute_result",
          "data": {
            "text/plain": [
              "array([[3, 5, 2, 4],\n",
              "       [7, 6, 8, 8],\n",
              "       [1, 6, 7, 7]])"
            ]
          },
          "metadata": {
            "tags": []
          },
          "execution_count": 57
        }
      ]
    },
    {
      "cell_type": "code",
      "metadata": {
        "id": "xdzpiJ2kEpcf",
        "colab": {
          "base_uri": "https://localhost:8080/"
        },
        "outputId": "55982bc2-e72e-4109-d3ff-7375647c66d5"
      },
      "source": [
        "# viewing rows 0-1 and column 0-2\n",
        "x2_sub = x2[:2, :3]\n",
        "print(x2_sub)\n"
      ],
      "execution_count": 58,
      "outputs": [
        {
          "output_type": "stream",
          "text": [
            "[[3 5 2]\n",
            " [7 6 8]]\n"
          ],
          "name": "stdout"
        }
      ]
    },
    {
      "cell_type": "code",
      "metadata": {
        "id": "W8R6tvtwFJN9"
      },
      "source": [
        "# Now if we assign value here, it will mutate the original x2 2D array\n",
        "x2[1,2] = 1000"
      ],
      "execution_count": 59,
      "outputs": []
    },
    {
      "cell_type": "code",
      "metadata": {
        "id": "-DaPCE8jFb85",
        "colab": {
          "base_uri": "https://localhost:8080/"
        },
        "outputId": "1a1ba64e-2d2d-432f-91fe-cda3d713c79b"
      },
      "source": [
        "# therefore we resigned a value of 1000 on row #1 and col #2\n",
        "# now 8 is removed and is having 1000 value!\n",
        "# this provies we get a view instead of copy like in normal python!\n",
        "x2"
      ],
      "execution_count": 60,
      "outputs": [
        {
          "output_type": "execute_result",
          "data": {
            "text/plain": [
              "array([[   3,    5,    2,    4],\n",
              "       [   7,    6, 1000,    8],\n",
              "       [   1,    6,    7,    7]])"
            ]
          },
          "metadata": {
            "tags": []
          },
          "execution_count": 60
        }
      ]
    },
    {
      "cell_type": "markdown",
      "metadata": {
        "id": "gRYMwIpiGCQR"
      },
      "source": [
        "### Creating copies of arrays\n"
      ]
    },
    {
      "cell_type": "code",
      "metadata": {
        "id": "Wycr0_JKGpwt",
        "colab": {
          "base_uri": "https://localhost:8080/"
        },
        "outputId": "40bedfe6-26ef-40f4-afb4-115904fc7bbc"
      },
      "source": [
        "x2"
      ],
      "execution_count": 61,
      "outputs": [
        {
          "output_type": "execute_result",
          "data": {
            "text/plain": [
              "array([[   3,    5,    2,    4],\n",
              "       [   7,    6, 1000,    8],\n",
              "       [   1,    6,    7,    7]])"
            ]
          },
          "metadata": {
            "tags": []
          },
          "execution_count": 61
        }
      ]
    },
    {
      "cell_type": "code",
      "metadata": {
        "id": "yDXU-rkDFdza",
        "colab": {
          "base_uri": "https://localhost:8080/"
        },
        "outputId": "c6f5cc69-a193-4e2a-d987-12b3d403b8ae"
      },
      "source": [
        "# if we want to create a real copy,istead of view, we can use .copy() method\n",
        "\n",
        "x2_sub_copy = x2[:2, :2].copy()\n",
        "print(x2_sub_copy)"
      ],
      "execution_count": 62,
      "outputs": [
        {
          "output_type": "stream",
          "text": [
            "[[3 5]\n",
            " [7 6]]\n"
          ],
          "name": "stdout"
        }
      ]
    },
    {
      "cell_type": "code",
      "metadata": {
        "id": "UErpKCupGtn8"
      },
      "source": [
        "x2_sub_copy[0,1] = 555"
      ],
      "execution_count": 63,
      "outputs": []
    },
    {
      "cell_type": "code",
      "metadata": {
        "id": "R-3MH1HrG2yT",
        "colab": {
          "base_uri": "https://localhost:8080/"
        },
        "outputId": "6f884253-9e32-4fb3-940e-2e1ff82ff608"
      },
      "source": [
        "# Therefore row #0's column #1 got changed!\n",
        "x2_sub_copy"
      ],
      "execution_count": 64,
      "outputs": [
        {
          "output_type": "execute_result",
          "data": {
            "text/plain": [
              "array([[  3, 555],\n",
              "       [  7,   6]])"
            ]
          },
          "metadata": {
            "tags": []
          },
          "execution_count": 64
        }
      ]
    },
    {
      "cell_type": "code",
      "metadata": {
        "id": "xfQStO59G3wv",
        "colab": {
          "base_uri": "https://localhost:8080/"
        },
        "outputId": "895c8501-8614-402c-ec82-94f7d7175c25"
      },
      "source": [
        "# here we can see the original x2 is not changed, only x2_sub_copy is changed.\n",
        "x2"
      ],
      "execution_count": 65,
      "outputs": [
        {
          "output_type": "execute_result",
          "data": {
            "text/plain": [
              "array([[   3,    5,    2,    4],\n",
              "       [   7,    6, 1000,    8],\n",
              "       [   1,    6,    7,    7]])"
            ]
          },
          "metadata": {
            "tags": []
          },
          "execution_count": 65
        }
      ]
    },
    {
      "cell_type": "markdown",
      "metadata": {
        "id": "dix86MvXHTYs"
      },
      "source": [
        "# Reshaping of Arrays\n"
      ]
    },
    {
      "cell_type": "code",
      "metadata": {
        "id": "u9_LpenUHRsI",
        "colab": {
          "base_uri": "https://localhost:8080/"
        },
        "outputId": "29e85404-b6c1-4a77-8dde-c22aade24749"
      },
      "source": [
        "arr = np.arange(1, 10)\n",
        "arr"
      ],
      "execution_count": 66,
      "outputs": [
        {
          "output_type": "execute_result",
          "data": {
            "text/plain": [
              "array([1, 2, 3, 4, 5, 6, 7, 8, 9])"
            ]
          },
          "metadata": {
            "tags": []
          },
          "execution_count": 66
        }
      ]
    },
    {
      "cell_type": "code",
      "metadata": {
        "id": "Q_NghZpYG77B",
        "colab": {
          "base_uri": "https://localhost:8080/"
        },
        "outputId": "2f1e7d95-78ab-4ac4-f679-a0024b56d48f"
      },
      "source": [
        "grid = arr.reshape(3,3)\n",
        "grid"
      ],
      "execution_count": 67,
      "outputs": [
        {
          "output_type": "execute_result",
          "data": {
            "text/plain": [
              "array([[1, 2, 3],\n",
              "       [4, 5, 6],\n",
              "       [7, 8, 9]])"
            ]
          },
          "metadata": {
            "tags": []
          },
          "execution_count": 67
        }
      ]
    },
    {
      "cell_type": "code",
      "metadata": {
        "id": "xCIlQE2gHo3c",
        "colab": {
          "base_uri": "https://localhost:8080/"
        },
        "outputId": "00304d95-86cd-4fa2-bb10-853641172db7"
      },
      "source": [
        "x = np.array([1, 2, 3])\n",
        "x"
      ],
      "execution_count": 68,
      "outputs": [
        {
          "output_type": "execute_result",
          "data": {
            "text/plain": [
              "array([1, 2, 3])"
            ]
          },
          "metadata": {
            "tags": []
          },
          "execution_count": 68
        }
      ]
    },
    {
      "cell_type": "code",
      "metadata": {
        "id": "iOWf9oL_H5i7",
        "colab": {
          "base_uri": "https://localhost:8080/"
        },
        "outputId": "d4367f2a-58c4-4d57-fe19-d3eb65961f09"
      },
      "source": [
        "# Creating Row Vector\n",
        "\n",
        "x.reshape(1,3) # doesnot mutastes original x arr"
      ],
      "execution_count": 69,
      "outputs": [
        {
          "output_type": "execute_result",
          "data": {
            "text/plain": [
              "array([[1, 2, 3]])"
            ]
          },
          "metadata": {
            "tags": []
          },
          "execution_count": 69
        }
      ]
    },
    {
      "cell_type": "code",
      "metadata": {
        "id": "S-cxji_aH-FV",
        "colab": {
          "base_uri": "https://localhost:8080/"
        },
        "outputId": "299a1155-b4b3-4deb-f4f3-6a4e1af6ec8d"
      },
      "source": [
        "# Creating Column Vector\n",
        "x.reshape(3,1)"
      ],
      "execution_count": 70,
      "outputs": [
        {
          "output_type": "execute_result",
          "data": {
            "text/plain": [
              "array([[1],\n",
              "       [2],\n",
              "       [3]])"
            ]
          },
          "metadata": {
            "tags": []
          },
          "execution_count": 70
        }
      ]
    },
    {
      "cell_type": "code",
      "metadata": {
        "id": "MQw3La_JIAWa",
        "colab": {
          "base_uri": "https://localhost:8080/"
        },
        "outputId": "42a64d8a-dd8f-44de-b19f-3f0471cd1ce1"
      },
      "source": [
        "#same thing can be achived using np.newaxis\n",
        "\n",
        "x[np.newaxis,:] # creates row vector"
      ],
      "execution_count": 71,
      "outputs": [
        {
          "output_type": "execute_result",
          "data": {
            "text/plain": [
              "array([[1, 2, 3]])"
            ]
          },
          "metadata": {
            "tags": []
          },
          "execution_count": 71
        }
      ]
    },
    {
      "cell_type": "code",
      "metadata": {
        "id": "dU6x6qmQIqql",
        "colab": {
          "base_uri": "https://localhost:8080/"
        },
        "outputId": "58dc95b2-acc6-4853-95c4-5ab59e9d9448"
      },
      "source": [
        "x[:,np.newaxis] # creates column vector"
      ],
      "execution_count": 72,
      "outputs": [
        {
          "output_type": "execute_result",
          "data": {
            "text/plain": [
              "array([[1],\n",
              "       [2],\n",
              "       [3]])"
            ]
          },
          "metadata": {
            "tags": []
          },
          "execution_count": 72
        }
      ]
    },
    {
      "cell_type": "markdown",
      "metadata": {
        "id": "YggL2obYJ-8T"
      },
      "source": [
        "# Array Concatenation and Splitting\n"
      ]
    },
    {
      "cell_type": "markdown",
      "metadata": {
        "id": "ywkJg9_MKAqt"
      },
      "source": [
        "## Concatenation of arrays\n"
      ]
    },
    {
      "cell_type": "code",
      "metadata": {
        "id": "i3n5ZR5SJ7bK",
        "colab": {
          "base_uri": "https://localhost:8080/"
        },
        "outputId": "c781a3c5-1586-481a-b7cc-3045602f9d4f"
      },
      "source": [
        "#row wise concat of 1D arrays\n",
        "x = np.array([1, 2, 3])\n",
        "y = np.array([3, 2, 1])\n",
        "\n",
        "np.concatenate([x, y])\n"
      ],
      "execution_count": 73,
      "outputs": [
        {
          "output_type": "execute_result",
          "data": {
            "text/plain": [
              "array([1, 2, 3, 3, 2, 1])"
            ]
          },
          "metadata": {
            "tags": []
          },
          "execution_count": 73
        }
      ]
    },
    {
      "cell_type": "code",
      "metadata": {
        "id": "xKehRi6VI6fL"
      },
      "source": [
        "z = [10, 10, 101]\n"
      ],
      "execution_count": 74,
      "outputs": []
    },
    {
      "cell_type": "code",
      "metadata": {
        "id": "DuAA1lY9KL-G",
        "colab": {
          "base_uri": "https://localhost:8080/"
        },
        "outputId": "ad0db0dd-102b-42e7-cde1-86841d08c7d3"
      },
      "source": [
        "np.concatenate([x, y, z],axis = 0)"
      ],
      "execution_count": 75,
      "outputs": [
        {
          "output_type": "execute_result",
          "data": {
            "text/plain": [
              "array([  1,   2,   3,   3,   2,   1,  10,  10, 101])"
            ]
          },
          "metadata": {
            "tags": []
          },
          "execution_count": 75
        }
      ]
    },
    {
      "cell_type": "code",
      "metadata": {
        "id": "e-339Ez6KRHA",
        "colab": {
          "base_uri": "https://localhost:8080/"
        },
        "outputId": "85c20dc2-df45-4555-9e99-b16fae5fdfd3"
      },
      "source": [
        "# 2D array\n",
        "grid1 = np.array([[1, 2, 3],[4, 5, 6]])\n",
        "grid1"
      ],
      "execution_count": 76,
      "outputs": [
        {
          "output_type": "execute_result",
          "data": {
            "text/plain": [
              "array([[1, 2, 3],\n",
              "       [4, 5, 6]])"
            ]
          },
          "metadata": {
            "tags": []
          },
          "execution_count": 76
        }
      ]
    },
    {
      "cell_type": "code",
      "metadata": {
        "id": "7r2teeO-KqlZ",
        "colab": {
          "base_uri": "https://localhost:8080/"
        },
        "outputId": "d209976e-063d-4fb0-dd60-c272f4bf148d"
      },
      "source": [
        "grid2 = np.array([[10, 20, 30],[40, 50, 60]])\n",
        "grid2"
      ],
      "execution_count": 77,
      "outputs": [
        {
          "output_type": "execute_result",
          "data": {
            "text/plain": [
              "array([[10, 20, 30],\n",
              "       [40, 50, 60]])"
            ]
          },
          "metadata": {
            "tags": []
          },
          "execution_count": 77
        }
      ]
    },
    {
      "cell_type": "code",
      "metadata": {
        "id": "UE01bmaNK6IQ",
        "colab": {
          "base_uri": "https://localhost:8080/"
        },
        "outputId": "461d784e-7788-4569-d132-625d30cdf1e6"
      },
      "source": [
        "np.concatenate([grid1,grid2])"
      ],
      "execution_count": 78,
      "outputs": [
        {
          "output_type": "execute_result",
          "data": {
            "text/plain": [
              "array([[ 1,  2,  3],\n",
              "       [ 4,  5,  6],\n",
              "       [10, 20, 30],\n",
              "       [40, 50, 60]])"
            ]
          },
          "metadata": {
            "tags": []
          },
          "execution_count": 78
        }
      ]
    },
    {
      "cell_type": "code",
      "metadata": {
        "id": "q5m7K_BEK-3C",
        "colab": {
          "base_uri": "https://localhost:8080/"
        },
        "outputId": "4e8cd6d6-0885-4b9f-b3c3-057aac89c5a6"
      },
      "source": [
        "#vstack\n",
        "\n",
        "arr = np.array([1,2,3])\n",
        "np.vstack([arr,grid2])"
      ],
      "execution_count": 79,
      "outputs": [
        {
          "output_type": "execute_result",
          "data": {
            "text/plain": [
              "array([[ 1,  2,  3],\n",
              "       [10, 20, 30],\n",
              "       [40, 50, 60]])"
            ]
          },
          "metadata": {
            "tags": []
          },
          "execution_count": 79
        }
      ]
    },
    {
      "cell_type": "code",
      "metadata": {
        "id": "bxy28Hc0LnxB",
        "colab": {
          "base_uri": "https://localhost:8080/"
        },
        "outputId": "fe703336-f033-4bad-ad34-022656a71e95"
      },
      "source": [
        "#hstack\n",
        "carr = np.array([500,600]).reshape(2,1)\n",
        "carr"
      ],
      "execution_count": 80,
      "outputs": [
        {
          "output_type": "execute_result",
          "data": {
            "text/plain": [
              "array([[500],\n",
              "       [600]])"
            ]
          },
          "metadata": {
            "tags": []
          },
          "execution_count": 80
        }
      ]
    },
    {
      "cell_type": "code",
      "metadata": {
        "id": "XlVpaVhzLuZq",
        "colab": {
          "base_uri": "https://localhost:8080/"
        },
        "outputId": "1e1672b3-168a-4303-85ec-1c711dd60a46"
      },
      "source": [
        "np.hstack([carr,grid2])"
      ],
      "execution_count": 81,
      "outputs": [
        {
          "output_type": "execute_result",
          "data": {
            "text/plain": [
              "array([[500,  10,  20,  30],\n",
              "       [600,  40,  50,  60]])"
            ]
          },
          "metadata": {
            "tags": []
          },
          "execution_count": 81
        }
      ]
    },
    {
      "cell_type": "code",
      "metadata": {
        "id": "mKFyJYKyMTHu",
        "colab": {
          "base_uri": "https://localhost:8080/"
        },
        "outputId": "73a5b93e-5bbb-4bb6-8711-9f5124db510e"
      },
      "source": [
        "np.hstack([grid2,carr])"
      ],
      "execution_count": 82,
      "outputs": [
        {
          "output_type": "execute_result",
          "data": {
            "text/plain": [
              "array([[ 10,  20,  30, 500],\n",
              "       [ 40,  50,  60, 600]])"
            ]
          },
          "metadata": {
            "tags": []
          },
          "execution_count": 82
        }
      ]
    },
    {
      "cell_type": "markdown",
      "metadata": {
        "id": "He7ZT87AM5-z"
      },
      "source": [
        "## Splitting of arrays\n"
      ]
    },
    {
      "cell_type": "markdown",
      "metadata": {
        "id": "RmmDjULYPiIJ"
      },
      "source": [
        "### 1D array"
      ]
    },
    {
      "cell_type": "code",
      "metadata": {
        "id": "p1vYaF7CNB_b"
      },
      "source": [
        "\n",
        "x = [0,1, 2, 3, 4, 5, 6, 7,8,9,10]\n"
      ],
      "execution_count": 83,
      "outputs": []
    },
    {
      "cell_type": "code",
      "metadata": {
        "id": "uCUq5jLOOJEn",
        "colab": {
          "base_uri": "https://localhost:8080/"
        },
        "outputId": "6292d877-f2fd-4228-e247-360274f92ba9"
      },
      "source": [
        "# Spilits the array after index #1 into two halves \n",
        "x1,x2 = np.split(x, [2])\n",
        "print(x1, x2)"
      ],
      "execution_count": 84,
      "outputs": [
        {
          "output_type": "stream",
          "text": [
            "[0 1] [ 2  3  4  5  6  7  8  9 10]\n"
          ],
          "name": "stdout"
        }
      ]
    },
    {
      "cell_type": "code",
      "metadata": {
        "id": "Br773M82OVNz",
        "colab": {
          "base_uri": "https://localhost:8080/"
        },
        "outputId": "ffff3907-42c9-475d-8f21-0607177479ce"
      },
      "source": [
        "# Spilits the array after index #4 into two halves \n",
        "x1,x2 = np.split(x, [4])\n",
        "print(x1, x2)"
      ],
      "execution_count": 85,
      "outputs": [
        {
          "output_type": "stream",
          "text": [
            "[0 1 2 3] [ 4  5  6  7  8  9 10]\n"
          ],
          "name": "stdout"
        }
      ]
    },
    {
      "cell_type": "code",
      "metadata": {
        "id": "xtAgrmtHOoi7",
        "colab": {
          "base_uri": "https://localhost:8080/"
        },
        "outputId": "fda09e26-2f30-4232-bb7f-e4b0b7f0867e"
      },
      "source": [
        "# Spilits the array into 3 parts, first part (#0 - #1) ,(#2-#3 ), (#4 - remaining)\n",
        "x1,x2,x3 = np.split(x, [2,4])\n",
        "print(x1, x2,x3)"
      ],
      "execution_count": 86,
      "outputs": [
        {
          "output_type": "stream",
          "text": [
            "[0 1] [2 3] [ 4  5  6  7  8  9 10]\n"
          ],
          "name": "stdout"
        }
      ]
    },
    {
      "cell_type": "code",
      "metadata": {
        "id": "W9MR6nLBPIFg",
        "colab": {
          "base_uri": "https://localhost:8080/"
        },
        "outputId": "2c5d4ffb-82e6-4c84-9a88-c3d9a6399139"
      },
      "source": [
        "# Spilits the array into 4 parts, first part (#0 - #1) ,(#2-#3 ), (#4 - #5),(#6 - remaining)\n",
        "x1,x2,x3,x4 = np.split(x, [2,4,6])\n",
        "print(x1, x2,x3,x4)"
      ],
      "execution_count": 87,
      "outputs": [
        {
          "output_type": "stream",
          "text": [
            "[0 1] [2 3] [4 5] [ 6  7  8  9 10]\n"
          ],
          "name": "stdout"
        }
      ]
    },
    {
      "cell_type": "markdown",
      "metadata": {
        "id": "PSQvboFaPlg3"
      },
      "source": [
        "### 2D Array"
      ]
    },
    {
      "cell_type": "code",
      "metadata": {
        "id": "oTBFCI0-Pabh",
        "colab": {
          "base_uri": "https://localhost:8080/"
        },
        "outputId": "c1a94199-482c-40d1-ed66-f27e74350cf8"
      },
      "source": [
        "grid = np.arange(10,26).reshape((4, 4))\n",
        "grid\n"
      ],
      "execution_count": 88,
      "outputs": [
        {
          "output_type": "execute_result",
          "data": {
            "text/plain": [
              "array([[10, 11, 12, 13],\n",
              "       [14, 15, 16, 17],\n",
              "       [18, 19, 20, 21],\n",
              "       [22, 23, 24, 25]])"
            ]
          },
          "metadata": {
            "tags": []
          },
          "execution_count": 88
        }
      ]
    },
    {
      "cell_type": "code",
      "metadata": {
        "id": "XC5Q5yPnPs60",
        "colab": {
          "base_uri": "https://localhost:8080/"
        },
        "outputId": "53167dfe-7068-4b60-869e-8f178e57b21b"
      },
      "source": [
        "# vertically splits after row index #1\n",
        "upper, lower = np.vsplit(grid, [2])\n",
        "print(upper)\n",
        "print('\\n')\n",
        "print(lower)\n"
      ],
      "execution_count": 89,
      "outputs": [
        {
          "output_type": "stream",
          "text": [
            "[[10 11 12 13]\n",
            " [14 15 16 17]]\n",
            "\n",
            "\n",
            "[[18 19 20 21]\n",
            " [22 23 24 25]]\n"
          ],
          "name": "stdout"
        }
      ]
    },
    {
      "cell_type": "code",
      "metadata": {
        "id": "EoJWS7RZPy6y",
        "colab": {
          "base_uri": "https://localhost:8080/"
        },
        "outputId": "cf1b95b9-de57-4093-bedd-ee99ededf244"
      },
      "source": [
        "# horizontally splits after column index #1\n",
        "left, right = np.hsplit(grid, [2])\n",
        "print(left)\n",
        "print('\\n')\n",
        "print(right)"
      ],
      "execution_count": 90,
      "outputs": [
        {
          "output_type": "stream",
          "text": [
            "[[10 11]\n",
            " [14 15]\n",
            " [18 19]\n",
            " [22 23]]\n",
            "\n",
            "\n",
            "[[12 13]\n",
            " [16 17]\n",
            " [20 21]\n",
            " [24 25]]\n"
          ],
          "name": "stdout"
        }
      ]
    },
    {
      "cell_type": "markdown",
      "metadata": {
        "id": "Jd__p1_FQb3R"
      },
      "source": [
        "# Computation on NumPy Arrays: Universal Functions\n",
        "\n",
        "Computation on NumPy arrays can be very fast, or it can be very slow. The key to\n",
        "making it fast is to use vectorized operations, generally implemented through Num‐\n",
        "Py’s universal functions (ufuncs).\n"
      ]
    },
    {
      "cell_type": "markdown",
      "metadata": {
        "id": "-gRFoESuQ8nd"
      },
      "source": [
        "## Introducing UFuncs\n",
        "For many types of operations, NumPy provides a convenient interface into just this\n",
        "kind of statically typed, compiled routine. This is known as a vectorized operation.\n",
        "You can accomplish this by simply performing an operation on the array, which will\n",
        "then be applied to each element. This vectorized approach is designed to push the\n",
        "loop into the compiled layer that underlies NumPy, leading to much faster execution."
      ]
    },
    {
      "cell_type": "code",
      "metadata": {
        "id": "dJsNJIw0QWnu",
        "colab": {
          "base_uri": "https://localhost:8080/"
        },
        "outputId": "cc40d231-8df4-45e9-e258-0a2f7bb0f72c"
      },
      "source": [
        "np.arange(5) / np.arange(1, 6)"
      ],
      "execution_count": 91,
      "outputs": [
        {
          "output_type": "execute_result",
          "data": {
            "text/plain": [
              "array([0.        , 0.5       , 0.66666667, 0.75      , 0.8       ])"
            ]
          },
          "metadata": {
            "tags": []
          },
          "execution_count": 91
        }
      ]
    },
    {
      "cell_type": "code",
      "metadata": {
        "id": "_ChlHw1KRRtv",
        "colab": {
          "base_uri": "https://localhost:8080/"
        },
        "outputId": "bebcec29-82b1-402f-f76e-dfc05f98b11d"
      },
      "source": [
        "x = np.arange(9).reshape((3, 3))\n",
        "2 ** x"
      ],
      "execution_count": 92,
      "outputs": [
        {
          "output_type": "execute_result",
          "data": {
            "text/plain": [
              "array([[  1,   2,   4],\n",
              "       [  8,  16,  32],\n",
              "       [ 64, 128, 256]])"
            ]
          },
          "metadata": {
            "tags": []
          },
          "execution_count": 92
        }
      ]
    },
    {
      "cell_type": "markdown",
      "metadata": {
        "id": "vCGlMy_6RWFs"
      },
      "source": [
        "## Exploring NumPy’s UFuncs\n"
      ]
    },
    {
      "cell_type": "markdown",
      "metadata": {
        "id": "C_vtbqLFRgJI"
      },
      "source": [
        "### Array arithmetic\n"
      ]
    },
    {
      "cell_type": "code",
      "metadata": {
        "id": "CaZfUZ-5RUE8",
        "colab": {
          "base_uri": "https://localhost:8080/"
        },
        "outputId": "044af9ce-5212-47f8-a98c-ca93cd4fdfa2"
      },
      "source": [
        "x = np.arange(4)\n",
        "print(\" x       = \", x)\n",
        "print(\" x + 5.0 = \", x + 5.0) # addition with float value converts the entire array to float\n",
        "print(\" x - 2   = \", x - 2)\n",
        "print(\" x * 2   = \", x * 2)\n",
        "print(\" x / 2   = \", x / 2)\n",
        "print(\" x // 2  = \", x // 2) # floor division(returns INT)\n",
        "print(\"-x       = \", -x)\n",
        "print(\" x ** 2  = \", x ** 2)\n",
        "print(\" x % 2   = \", x % 2)"
      ],
      "execution_count": 93,
      "outputs": [
        {
          "output_type": "stream",
          "text": [
            " x       =  [0 1 2 3]\n",
            " x + 5.0 =  [5. 6. 7. 8.]\n",
            " x - 2   =  [-2 -1  0  1]\n",
            " x * 2   =  [0 2 4 6]\n",
            " x / 2   =  [0.  0.5 1.  1.5]\n",
            " x // 2  =  [0 0 1 1]\n",
            "-x       =  [ 0 -1 -2 -3]\n",
            " x ** 2  =  [0 1 4 9]\n",
            " x % 2   =  [0 1 0 1]\n"
          ],
          "name": "stdout"
        }
      ]
    },
    {
      "cell_type": "markdown",
      "metadata": {
        "id": "VhYlvRz6Sjju"
      },
      "source": [
        "### Absolute value\n"
      ]
    },
    {
      "cell_type": "code",
      "metadata": {
        "id": "1OfeK75ERtpx",
        "colab": {
          "base_uri": "https://localhost:8080/"
        },
        "outputId": "039d5089-f090-484e-8b59-a60d51c2513a"
      },
      "source": [
        "x = np.array([-2, -1, 0, 1, 2])\n",
        "abs(x) # <-- This is python's abs function"
      ],
      "execution_count": 94,
      "outputs": [
        {
          "output_type": "execute_result",
          "data": {
            "text/plain": [
              "array([2, 1, 0, 1, 2])"
            ]
          },
          "metadata": {
            "tags": []
          },
          "execution_count": 94
        }
      ]
    },
    {
      "cell_type": "code",
      "metadata": {
        "id": "KBBy_vXgSnNW",
        "colab": {
          "base_uri": "https://localhost:8080/"
        },
        "outputId": "ce80a398-f4b1-49d4-d858-7dcf6bb7af82"
      },
      "source": [
        "np.absolute(x)"
      ],
      "execution_count": 95,
      "outputs": [
        {
          "output_type": "execute_result",
          "data": {
            "text/plain": [
              "array([2, 1, 0, 1, 2])"
            ]
          },
          "metadata": {
            "tags": []
          },
          "execution_count": 95
        }
      ]
    },
    {
      "cell_type": "code",
      "metadata": {
        "id": "yuS49KslS1EY",
        "colab": {
          "base_uri": "https://localhost:8080/"
        },
        "outputId": "b7fb26de-4235-4416-a4ab-87065cdfbd00"
      },
      "source": [
        "np.abs(x)\n"
      ],
      "execution_count": 96,
      "outputs": [
        {
          "output_type": "execute_result",
          "data": {
            "text/plain": [
              "array([2, 1, 0, 1, 2])"
            ]
          },
          "metadata": {
            "tags": []
          },
          "execution_count": 96
        }
      ]
    },
    {
      "cell_type": "markdown",
      "metadata": {
        "id": "l0z6H_gOS7IL"
      },
      "source": [
        "### Trigonometric functions\n"
      ]
    },
    {
      "cell_type": "code",
      "metadata": {
        "id": "k6PbaCOsS3Bt"
      },
      "source": [
        "theta = np.linspace(0, np.pi, 3)"
      ],
      "execution_count": 97,
      "outputs": []
    },
    {
      "cell_type": "code",
      "metadata": {
        "id": "LIVVJCTmS-SA",
        "colab": {
          "base_uri": "https://localhost:8080/"
        },
        "outputId": "dd42dd9b-bf8b-4e84-a084-1429ac7b5750"
      },
      "source": [
        "print(\"theta      = \", theta)\n",
        "print(\"sin(theta) = \", np.sin(theta))\n",
        "print(\"cos(theta) = \", np.cos(theta))\n",
        "print(\"tan(theta) = \", np.tan(theta))"
      ],
      "execution_count": 98,
      "outputs": [
        {
          "output_type": "stream",
          "text": [
            "theta      =  [0.         1.57079633 3.14159265]\n",
            "sin(theta) =  [0.0000000e+00 1.0000000e+00 1.2246468e-16]\n",
            "cos(theta) =  [ 1.000000e+00  6.123234e-17 -1.000000e+00]\n",
            "tan(theta) =  [ 0.00000000e+00  1.63312394e+16 -1.22464680e-16]\n"
          ],
          "name": "stdout"
        }
      ]
    },
    {
      "cell_type": "markdown",
      "metadata": {
        "id": "lSX9Z9kMTLp9"
      },
      "source": [
        "### Exponents and logarithms\n"
      ]
    },
    {
      "cell_type": "code",
      "metadata": {
        "id": "HU5a-sgLTBmy",
        "colab": {
          "base_uri": "https://localhost:8080/"
        },
        "outputId": "02fbde5e-bfcb-4630-8cf0-0b20ab3a2fbd"
      },
      "source": [
        "x = [1, 2, 3]\n",
        "print(\"x   =\", x)\n",
        "print(\"e^x =\", np.exp(x))\n",
        "print(\"2^x =\", np.exp2(x))\n",
        "print(\"3^x =\", np.power(3, x))"
      ],
      "execution_count": 99,
      "outputs": [
        {
          "output_type": "stream",
          "text": [
            "x   = [1, 2, 3]\n",
            "e^x = [ 2.71828183  7.3890561  20.08553692]\n",
            "2^x = [2. 4. 8.]\n",
            "3^x = [ 3  9 27]\n"
          ],
          "name": "stdout"
        }
      ]
    },
    {
      "cell_type": "code",
      "metadata": {
        "id": "uyeCydmcTObg",
        "colab": {
          "base_uri": "https://localhost:8080/"
        },
        "outputId": "33666195-6bf4-4218-8473-31b3632f285f"
      },
      "source": [
        "x = [1, 2, 4, 10]\n",
        "print(\"x       =\", x)\n",
        "print(\"ln(x)   =\", np.log(x))\n",
        "print(\"log2(x) =\", np.log2(x))\n",
        "print(\"log10(x)=\", np.log10(x))\n"
      ],
      "execution_count": 100,
      "outputs": [
        {
          "output_type": "stream",
          "text": [
            "x       = [1, 2, 4, 10]\n",
            "ln(x)   = [0.         0.69314718 1.38629436 2.30258509]\n",
            "log2(x) = [0.         1.         2.         3.32192809]\n",
            "log10(x)= [0.         0.30103    0.60205999 1.        ]\n"
          ],
          "name": "stdout"
        }
      ]
    },
    {
      "cell_type": "code",
      "metadata": {
        "id": "So76zj9JTYY0",
        "colab": {
          "base_uri": "https://localhost:8080/"
        },
        "outputId": "9d1e64b6-de08-40f1-a53b-cc42c3009d39"
      },
      "source": [
        "#There are also some specialized versions that are useful for maintaining precision with very small input:\n",
        "x = [0, 0.001, 0.01, 0.1]\n",
        "print(\"exp(x) - 1 =\", np.expm1(x))\n",
        "print(\"log(1 + x) =\", np.log1p(x))"
      ],
      "execution_count": 101,
      "outputs": [
        {
          "output_type": "stream",
          "text": [
            "exp(x) - 1 = [0.         0.0010005  0.01005017 0.10517092]\n",
            "log(1 + x) = [0.         0.0009995  0.00995033 0.09531018]\n"
          ],
          "name": "stdout"
        }
      ]
    },
    {
      "cell_type": "markdown",
      "metadata": {
        "id": "kAuxvEy3Ty97"
      },
      "source": [
        "##Advanced Ufunc Features\n"
      ]
    },
    {
      "cell_type": "markdown",
      "metadata": {
        "id": "heC9LHsuT95k"
      },
      "source": [
        "### Specifying output\n",
        "\n",
        "\n",
        "For large calculations, it is sometimes useful to be able to specify the array where the\n",
        "result of the calculation will be stored."
      ]
    },
    {
      "cell_type": "code",
      "metadata": {
        "id": "I9GiUfeyTjyp",
        "colab": {
          "base_uri": "https://localhost:8080/"
        },
        "outputId": "426adf12-f496-43ab-a013-8195ac851738"
      },
      "source": [
        "x = np.arange(10)\n",
        "y = np.empty(10)\n",
        "\n",
        "np.multiply(x, 2, out=y)"
      ],
      "execution_count": 102,
      "outputs": [
        {
          "output_type": "execute_result",
          "data": {
            "text/plain": [
              "array([ 0.,  2.,  4.,  6.,  8., 10., 12., 14., 16., 18.])"
            ]
          },
          "metadata": {
            "tags": []
          },
          "execution_count": 102
        }
      ]
    },
    {
      "cell_type": "code",
      "metadata": {
        "id": "zPH-tFq4T2nw",
        "colab": {
          "base_uri": "https://localhost:8080/"
        },
        "outputId": "40e628f6-f950-448d-c47f-ff8407d19eb4"
      },
      "source": [
        "print(y)"
      ],
      "execution_count": 103,
      "outputs": [
        {
          "output_type": "stream",
          "text": [
            "[ 0.  2.  4.  6.  8. 10. 12. 14. 16. 18.]\n"
          ],
          "name": "stdout"
        }
      ]
    },
    {
      "cell_type": "code",
      "metadata": {
        "id": "ssDGOW_AUZvC",
        "colab": {
          "base_uri": "https://localhost:8080/"
        },
        "outputId": "30924d4c-71e1-4c07-c658-3016352c56cf"
      },
      "source": [
        "print(x)"
      ],
      "execution_count": 104,
      "outputs": [
        {
          "output_type": "stream",
          "text": [
            "[0 1 2 3 4 5 6 7 8 9]\n"
          ],
          "name": "stdout"
        }
      ]
    },
    {
      "cell_type": "code",
      "metadata": {
        "id": "p53ihxmdUeVE",
        "colab": {
          "base_uri": "https://localhost:8080/"
        },
        "outputId": "aca08b83-2cd6-44a9-ca3f-caa3ed79dc47"
      },
      "source": [
        "np.divide(x, 2, out=y)"
      ],
      "execution_count": 105,
      "outputs": [
        {
          "output_type": "execute_result",
          "data": {
            "text/plain": [
              "array([0. , 0.5, 1. , 1.5, 2. , 2.5, 3. , 3.5, 4. , 4.5])"
            ]
          },
          "metadata": {
            "tags": []
          },
          "execution_count": 105
        }
      ]
    },
    {
      "cell_type": "markdown",
      "metadata": {
        "id": "hWthYxvtVA2n"
      },
      "source": [
        "### Aggregates"
      ]
    },
    {
      "cell_type": "code",
      "metadata": {
        "id": "QE3IUeJpUpzo",
        "colab": {
          "base_uri": "https://localhost:8080/"
        },
        "outputId": "569df037-42ac-479d-df06-e9301136303d"
      },
      "source": [
        "# Reduces to single value\n",
        "x = np.arange(1, 6)\n",
        "np.add.reduce(x)\n"
      ],
      "execution_count": 106,
      "outputs": [
        {
          "output_type": "execute_result",
          "data": {
            "text/plain": [
              "15"
            ]
          },
          "metadata": {
            "tags": []
          },
          "execution_count": 106
        }
      ]
    },
    {
      "cell_type": "code",
      "metadata": {
        "id": "pY0bFFkHVEP-",
        "colab": {
          "base_uri": "https://localhost:8080/"
        },
        "outputId": "2dbd115b-f239-41d2-a513-c3df7b923f87"
      },
      "source": [
        "# stores the intermediate values of the calculation \n",
        "np.add.accumulate(x)"
      ],
      "execution_count": 107,
      "outputs": [
        {
          "output_type": "execute_result",
          "data": {
            "text/plain": [
              "array([ 1,  3,  6, 10, 15])"
            ]
          },
          "metadata": {
            "tags": []
          },
          "execution_count": 107
        }
      ]
    },
    {
      "cell_type": "code",
      "metadata": {
        "id": "xJIA8k_ZVP7Q",
        "colab": {
          "base_uri": "https://localhost:8080/"
        },
        "outputId": "baac4084-a37d-4c2f-e069-3503f18102f1"
      },
      "source": [
        "np.multiply.accumulate(x)"
      ],
      "execution_count": 108,
      "outputs": [
        {
          "output_type": "execute_result",
          "data": {
            "text/plain": [
              "array([  1,   2,   6,  24, 120])"
            ]
          },
          "metadata": {
            "tags": []
          },
          "execution_count": 108
        }
      ]
    },
    {
      "cell_type": "markdown",
      "metadata": {
        "id": "f8jveSaXKOgT"
      },
      "source": [
        "### Outer products\n"
      ]
    },
    {
      "cell_type": "code",
      "metadata": {
        "id": "Wc2KCMdBJ3Ck",
        "colab": {
          "base_uri": "https://localhost:8080/"
        },
        "outputId": "456586c0-c02f-4584-d78d-f3ccaca89951"
      },
      "source": [
        "x = np.arange(1,6)\n",
        "y = np.arange(1,11)\n",
        "\n",
        "np.multiply.outer(x,y)"
      ],
      "execution_count": 109,
      "outputs": [
        {
          "output_type": "execute_result",
          "data": {
            "text/plain": [
              "array([[ 1,  2,  3,  4,  5,  6,  7,  8,  9, 10],\n",
              "       [ 2,  4,  6,  8, 10, 12, 14, 16, 18, 20],\n",
              "       [ 3,  6,  9, 12, 15, 18, 21, 24, 27, 30],\n",
              "       [ 4,  8, 12, 16, 20, 24, 28, 32, 36, 40],\n",
              "       [ 5, 10, 15, 20, 25, 30, 35, 40, 45, 50]])"
            ]
          },
          "metadata": {
            "tags": []
          },
          "execution_count": 109
        }
      ]
    },
    {
      "cell_type": "markdown",
      "metadata": {
        "id": "00t1m_bRL3KX"
      },
      "source": [
        "# Computation on Arrays: Broadcasting\n",
        " NumPy’s universal functions can be used to vec‐\n",
        "torize operations and thereby remove slow Python loops. Another means of vectoriz‐\n",
        "ing operations is to use NumPy’s broadcasting functionality. Broadcasting is simply a\n",
        "set of rules for applying binary ufuncs (addition, subtraction, multiplication, etc.) on\n",
        "arrays of different sizes.\n",
        "\n",
        "*Broadcasting  binary operations to be performed on arrays of dif‐\n",
        "ferent sizes—for example, we can just as easily add a scalar (think of it as a zerodimensional array) to an array*"
      ]
    },
    {
      "cell_type": "code",
      "metadata": {
        "id": "yyju_CjPLx6b",
        "colab": {
          "base_uri": "https://localhost:8080/"
        },
        "outputId": "063e4432-6e65-4ae3-8ede-906785183268"
      },
      "source": [
        "a = np.arange(5)\n",
        "a"
      ],
      "execution_count": 110,
      "outputs": [
        {
          "output_type": "execute_result",
          "data": {
            "text/plain": [
              "array([0, 1, 2, 3, 4])"
            ]
          },
          "metadata": {
            "tags": []
          },
          "execution_count": 110
        }
      ]
    },
    {
      "cell_type": "code",
      "metadata": {
        "id": "Zt_hWEI5Kn5Z",
        "colab": {
          "base_uri": "https://localhost:8080/"
        },
        "outputId": "69216817-7bb4-411e-c8c5-e643b975e592"
      },
      "source": [
        "a + 5"
      ],
      "execution_count": 111,
      "outputs": [
        {
          "output_type": "execute_result",
          "data": {
            "text/plain": [
              "array([5, 6, 7, 8, 9])"
            ]
          },
          "metadata": {
            "tags": []
          },
          "execution_count": 111
        }
      ]
    },
    {
      "cell_type": "code",
      "metadata": {
        "id": "jCUfzsXOMayU",
        "colab": {
          "base_uri": "https://localhost:8080/"
        },
        "outputId": "6ea13441-a6a4-4790-e57f-5a2104c331ae"
      },
      "source": [
        "x = np.full((3, 5),2,dtype=int)\n",
        "x"
      ],
      "execution_count": 112,
      "outputs": [
        {
          "output_type": "execute_result",
          "data": {
            "text/plain": [
              "array([[2, 2, 2, 2, 2],\n",
              "       [2, 2, 2, 2, 2],\n",
              "       [2, 2, 2, 2, 2]])"
            ]
          },
          "metadata": {
            "tags": []
          },
          "execution_count": 112
        }
      ]
    },
    {
      "cell_type": "code",
      "metadata": {
        "id": "9JVsZKhRNRud",
        "colab": {
          "base_uri": "https://localhost:8080/"
        },
        "outputId": "f026309a-f658-48ca-be03-ab04545ecb88"
      },
      "source": [
        "# Here the one-dimensional array a is stretched, or broadcast, across the second\n",
        "# dimension in order to match the shape of M.\n",
        "x + a"
      ],
      "execution_count": 113,
      "outputs": [
        {
          "output_type": "execute_result",
          "data": {
            "text/plain": [
              "array([[2, 3, 4, 5, 6],\n",
              "       [2, 3, 4, 5, 6],\n",
              "       [2, 3, 4, 5, 6]])"
            ]
          },
          "metadata": {
            "tags": []
          },
          "execution_count": 113
        }
      ]
    },
    {
      "cell_type": "code",
      "metadata": {
        "id": "a60ZjbhiNZjv"
      },
      "source": [
        "a = np.arange(3)\n",
        "b = np.arange(3)[:, np.newaxis]\n"
      ],
      "execution_count": 114,
      "outputs": []
    },
    {
      "cell_type": "code",
      "metadata": {
        "id": "fn6tXVqMOggR",
        "colab": {
          "base_uri": "https://localhost:8080/"
        },
        "outputId": "689b3086-290f-4ed5-d3c3-e5a5644f0452"
      },
      "source": [
        "print(a)\n",
        "print('\\n')\n",
        "print(b)"
      ],
      "execution_count": 115,
      "outputs": [
        {
          "output_type": "stream",
          "text": [
            "[0 1 2]\n",
            "\n",
            "\n",
            "[[0]\n",
            " [1]\n",
            " [2]]\n"
          ],
          "name": "stdout"
        }
      ]
    },
    {
      "cell_type": "code",
      "metadata": {
        "id": "sS3G1JXdOiCF",
        "colab": {
          "base_uri": "https://localhost:8080/"
        },
        "outputId": "e4eb55f7-142e-4480-ee6c-8bfb4912b620"
      },
      "source": [
        "a + b"
      ],
      "execution_count": 116,
      "outputs": [
        {
          "output_type": "execute_result",
          "data": {
            "text/plain": [
              "array([[0, 1, 2],\n",
              "       [1, 2, 3],\n",
              "       [2, 3, 4]])"
            ]
          },
          "metadata": {
            "tags": []
          },
          "execution_count": 116
        }
      ]
    },
    {
      "cell_type": "markdown",
      "metadata": {
        "id": "TKbnz7IZRu48"
      },
      "source": [
        "# Comparisons, Masks, and Boolean Logic\n"
      ]
    },
    {
      "cell_type": "code",
      "metadata": {
        "id": "PcLYwPK7PhGV"
      },
      "source": [
        "#1D array masks\n",
        "x = np.array([1, 2, 3, 4, 5])"
      ],
      "execution_count": 117,
      "outputs": []
    },
    {
      "cell_type": "code",
      "metadata": {
        "id": "ogeUNnKKR3nj",
        "colab": {
          "base_uri": "https://localhost:8080/"
        },
        "outputId": "9752f2a4-9363-43dc-c1bd-4f306e2aeb03"
      },
      "source": [
        "x < 3 # less than"
      ],
      "execution_count": 118,
      "outputs": [
        {
          "output_type": "execute_result",
          "data": {
            "text/plain": [
              "array([ True,  True, False, False, False])"
            ]
          },
          "metadata": {
            "tags": []
          },
          "execution_count": 118
        }
      ]
    },
    {
      "cell_type": "code",
      "metadata": {
        "id": "eovQRmtPR8iC",
        "colab": {
          "base_uri": "https://localhost:8080/"
        },
        "outputId": "355c41f8-8184-4efc-8e61-c6822e7ba18b"
      },
      "source": [
        "x > 3 # greater than"
      ],
      "execution_count": 119,
      "outputs": [
        {
          "output_type": "execute_result",
          "data": {
            "text/plain": [
              "array([False, False, False,  True,  True])"
            ]
          },
          "metadata": {
            "tags": []
          },
          "execution_count": 119
        }
      ]
    },
    {
      "cell_type": "code",
      "metadata": {
        "id": "uGRNdMUASAHf",
        "colab": {
          "base_uri": "https://localhost:8080/"
        },
        "outputId": "050afec3-7f98-4cc4-9fac-ee30304330b9"
      },
      "source": [
        "x <= 3"
      ],
      "execution_count": 120,
      "outputs": [
        {
          "output_type": "execute_result",
          "data": {
            "text/plain": [
              "array([ True,  True,  True, False, False])"
            ]
          },
          "metadata": {
            "tags": []
          },
          "execution_count": 120
        }
      ]
    },
    {
      "cell_type": "code",
      "metadata": {
        "id": "xTNfisQ7SB4I",
        "colab": {
          "base_uri": "https://localhost:8080/"
        },
        "outputId": "04e099f6-70e1-4bc2-ea70-00e8a31d7513"
      },
      "source": [
        "x >= 3"
      ],
      "execution_count": 121,
      "outputs": [
        {
          "output_type": "execute_result",
          "data": {
            "text/plain": [
              "array([False, False,  True,  True,  True])"
            ]
          },
          "metadata": {
            "tags": []
          },
          "execution_count": 121
        }
      ]
    },
    {
      "cell_type": "code",
      "metadata": {
        "id": "eyxwhccCSFIW",
        "colab": {
          "base_uri": "https://localhost:8080/"
        },
        "outputId": "52023d6d-69bb-4f48-f72b-382ad4e32513"
      },
      "source": [
        "x != 3"
      ],
      "execution_count": 122,
      "outputs": [
        {
          "output_type": "execute_result",
          "data": {
            "text/plain": [
              "array([ True,  True, False,  True,  True])"
            ]
          },
          "metadata": {
            "tags": []
          },
          "execution_count": 122
        }
      ]
    },
    {
      "cell_type": "code",
      "metadata": {
        "id": "D7Z-3JamSHIT",
        "colab": {
          "base_uri": "https://localhost:8080/"
        },
        "outputId": "d3f19a70-bf65-4156-eae8-b1829c815e18"
      },
      "source": [
        "x == 3"
      ],
      "execution_count": 123,
      "outputs": [
        {
          "output_type": "execute_result",
          "data": {
            "text/plain": [
              "array([False, False,  True, False, False])"
            ]
          },
          "metadata": {
            "tags": []
          },
          "execution_count": 123
        }
      ]
    },
    {
      "cell_type": "code",
      "metadata": {
        "id": "7ybmMIYGSKJo",
        "colab": {
          "base_uri": "https://localhost:8080/"
        },
        "outputId": "cf2d6cb0-903d-4b81-d567-c714881d33c5"
      },
      "source": [
        "(2 * x) == (x ** 2)"
      ],
      "execution_count": 124,
      "outputs": [
        {
          "output_type": "execute_result",
          "data": {
            "text/plain": [
              "array([False,  True, False, False, False])"
            ]
          },
          "metadata": {
            "tags": []
          },
          "execution_count": 124
        }
      ]
    },
    {
      "cell_type": "code",
      "metadata": {
        "id": "24ox8b-pSOjk",
        "colab": {
          "base_uri": "https://localhost:8080/"
        },
        "outputId": "3ed486f9-7a50-470e-8323-08ca30dfcf77"
      },
      "source": [
        "#2D Array masks\n",
        "rng = np.random.RandomState(0)\n",
        "x = rng.randint(10, size=(3, 4))\n",
        "x"
      ],
      "execution_count": 125,
      "outputs": [
        {
          "output_type": "execute_result",
          "data": {
            "text/plain": [
              "array([[5, 0, 3, 3],\n",
              "       [7, 9, 3, 5],\n",
              "       [2, 4, 7, 6]])"
            ]
          },
          "metadata": {
            "tags": []
          },
          "execution_count": 125
        }
      ]
    },
    {
      "cell_type": "code",
      "metadata": {
        "id": "rDmGMgaqSyz8",
        "colab": {
          "base_uri": "https://localhost:8080/"
        },
        "outputId": "7d738575-4314-424e-9b95-965b075914e1"
      },
      "source": [
        "x < 6"
      ],
      "execution_count": 126,
      "outputs": [
        {
          "output_type": "execute_result",
          "data": {
            "text/plain": [
              "array([[ True,  True,  True,  True],\n",
              "       [False, False,  True,  True],\n",
              "       [ True,  True, False, False]])"
            ]
          },
          "metadata": {
            "tags": []
          },
          "execution_count": 126
        }
      ]
    },
    {
      "cell_type": "markdown",
      "metadata": {
        "id": "xtoSrBaYTNl-"
      },
      "source": [
        "# Working with Boolean Arrays\n"
      ]
    },
    {
      "cell_type": "code",
      "metadata": {
        "id": "KC6R4ZJlTGnh",
        "colab": {
          "base_uri": "https://localhost:8080/"
        },
        "outputId": "5bf67f73-2f6f-40b4-867c-1e3cfeb07bd4"
      },
      "source": [
        "x"
      ],
      "execution_count": 127,
      "outputs": [
        {
          "output_type": "execute_result",
          "data": {
            "text/plain": [
              "array([[5, 0, 3, 3],\n",
              "       [7, 9, 3, 5],\n",
              "       [2, 4, 7, 6]])"
            ]
          },
          "metadata": {
            "tags": []
          },
          "execution_count": 127
        }
      ]
    },
    {
      "cell_type": "markdown",
      "metadata": {
        "id": "9Uvv3gjgTiGb"
      },
      "source": [
        "### Counting entries\n"
      ]
    },
    {
      "cell_type": "code",
      "metadata": {
        "id": "2ulWMbT1TXCE",
        "colab": {
          "base_uri": "https://localhost:8080/"
        },
        "outputId": "844643cc-86cb-4905-81ba-9d8c90c9878e"
      },
      "source": [
        "# how many values less than 6?\n",
        "np.count_nonzero(x < 6)"
      ],
      "execution_count": 128,
      "outputs": [
        {
          "output_type": "execute_result",
          "data": {
            "text/plain": [
              "8"
            ]
          },
          "metadata": {
            "tags": []
          },
          "execution_count": 128
        }
      ]
    },
    {
      "cell_type": "code",
      "metadata": {
        "id": "s-M41OKbTc6V"
      },
      "source": [
        "# same thing can be done with sum(). It sums out the entire values, True -> 1 False -> 0 "
      ],
      "execution_count": 129,
      "outputs": []
    },
    {
      "cell_type": "code",
      "metadata": {
        "id": "pfCX7pLsTfaj",
        "colab": {
          "base_uri": "https://localhost:8080/"
        },
        "outputId": "b1516be6-e16c-46c1-d017-d4460c8e9a85"
      },
      "source": [
        "np.sum(x < 6)"
      ],
      "execution_count": 130,
      "outputs": [
        {
          "output_type": "execute_result",
          "data": {
            "text/plain": [
              "8"
            ]
          },
          "metadata": {
            "tags": []
          },
          "execution_count": 130
        }
      ]
    },
    {
      "cell_type": "code",
      "metadata": {
        "id": "grR1sPB4U6mf",
        "colab": {
          "base_uri": "https://localhost:8080/"
        },
        "outputId": "1f2049bd-b3aa-411b-9e04-708b29689fac"
      },
      "source": [
        "# how many values less than 6 in each row?\n",
        "np.sum(x < 6, axis=1)\n"
      ],
      "execution_count": 131,
      "outputs": [
        {
          "output_type": "execute_result",
          "data": {
            "text/plain": [
              "array([4, 2, 2])"
            ]
          },
          "metadata": {
            "tags": []
          },
          "execution_count": 131
        }
      ]
    },
    {
      "cell_type": "code",
      "metadata": {
        "id": "ztqbLPm5VBtt",
        "colab": {
          "base_uri": "https://localhost:8080/"
        },
        "outputId": "616a5ad4-4fab-41aa-c394-e78ab9d1bf41"
      },
      "source": [
        "# are there any values greater than 8?\n",
        "np.any(x > 8)"
      ],
      "execution_count": 132,
      "outputs": [
        {
          "output_type": "execute_result",
          "data": {
            "text/plain": [
              "True"
            ]
          },
          "metadata": {
            "tags": []
          },
          "execution_count": 132
        }
      ]
    },
    {
      "cell_type": "code",
      "metadata": {
        "id": "kgjQa5TeVNS4",
        "colab": {
          "base_uri": "https://localhost:8080/"
        },
        "outputId": "285cc92e-4596-4d5f-d0cc-ab2446a62db8"
      },
      "source": [
        "# are there any values less than zero?\n",
        "np.any(x < 0)\n"
      ],
      "execution_count": 133,
      "outputs": [
        {
          "output_type": "execute_result",
          "data": {
            "text/plain": [
              "False"
            ]
          },
          "metadata": {
            "tags": []
          },
          "execution_count": 133
        }
      ]
    },
    {
      "cell_type": "code",
      "metadata": {
        "id": "5o2WBgJvVQxb",
        "colab": {
          "base_uri": "https://localhost:8080/"
        },
        "outputId": "6dbbec23-51f0-4e60-c620-af7d89472eab"
      },
      "source": [
        "# are all values less than 10?\n",
        "np.all(x < 10)"
      ],
      "execution_count": 134,
      "outputs": [
        {
          "output_type": "execute_result",
          "data": {
            "text/plain": [
              "True"
            ]
          },
          "metadata": {
            "tags": []
          },
          "execution_count": 134
        }
      ]
    },
    {
      "cell_type": "code",
      "metadata": {
        "id": "fH8MbixkVVqC",
        "colab": {
          "base_uri": "https://localhost:8080/"
        },
        "outputId": "07a78824-87c8-4ffe-8d0a-6d8547546f9c"
      },
      "source": [
        "# are all values equal to 6?\n",
        "np.all(x == 6)\n"
      ],
      "execution_count": 135,
      "outputs": [
        {
          "output_type": "execute_result",
          "data": {
            "text/plain": [
              "False"
            ]
          },
          "metadata": {
            "tags": []
          },
          "execution_count": 135
        }
      ]
    },
    {
      "cell_type": "code",
      "metadata": {
        "id": "LdEYBWwdVaVy",
        "colab": {
          "base_uri": "https://localhost:8080/"
        },
        "outputId": "a7b75cd5-a5f3-40fc-d5a4-cd96349d61ab"
      },
      "source": [
        "# are all values in each row less than 8?\n",
        "np.all(x < 8, axis=1)"
      ],
      "execution_count": 136,
      "outputs": [
        {
          "output_type": "execute_result",
          "data": {
            "text/plain": [
              "array([ True, False,  True])"
            ]
          },
          "metadata": {
            "tags": []
          },
          "execution_count": 136
        }
      ]
    },
    {
      "cell_type": "markdown",
      "metadata": {
        "id": "XtBrbkAmWcS2"
      },
      "source": [
        "### Boolean Operators"
      ]
    },
    {
      "cell_type": "code",
      "metadata": {
        "id": "nlSi3mp_Vqx0",
        "colab": {
          "base_uri": "https://localhost:8080/"
        },
        "outputId": "6b9579fd-b7fb-4887-8194-42adf52213a7"
      },
      "source": [
        "x = np.arange(11)\n",
        "x"
      ],
      "execution_count": 137,
      "outputs": [
        {
          "output_type": "execute_result",
          "data": {
            "text/plain": [
              "array([ 0,  1,  2,  3,  4,  5,  6,  7,  8,  9, 10])"
            ]
          },
          "metadata": {
            "tags": []
          },
          "execution_count": 137
        }
      ]
    },
    {
      "cell_type": "code",
      "metadata": {
        "id": "eqfDBRN9V-RY",
        "colab": {
          "base_uri": "https://localhost:8080/"
        },
        "outputId": "3e2232b0-a897-4015-e40f-2f81f05b4860"
      },
      "source": [
        "#count of number > 3 but less than 8\n",
        "\n",
        "np.sum( (x > 3) & (x < 8) )"
      ],
      "execution_count": 138,
      "outputs": [
        {
          "output_type": "execute_result",
          "data": {
            "text/plain": [
              "4"
            ]
          },
          "metadata": {
            "tags": []
          },
          "execution_count": 138
        }
      ]
    },
    {
      "cell_type": "markdown",
      "metadata": {
        "id": "wNHXmVt3XFI0"
      },
      "source": [
        "# Boolean Arrays as Masks\n",
        " A more powerful pattern is to use Boolean arrays as masks, to select particular\n",
        "subsets of the data themselves. "
      ]
    },
    {
      "cell_type": "code",
      "metadata": {
        "id": "QHkbq1-qXmKs",
        "colab": {
          "base_uri": "https://localhost:8080/"
        },
        "outputId": "f79844ff-1d0f-408b-f425-6fb1698e90d6"
      },
      "source": [
        "#2D Array masks\n",
        "rng = np.random.RandomState(0)\n",
        "x = rng.randint(10, size=(3, 4))\n",
        "x"
      ],
      "execution_count": 139,
      "outputs": [
        {
          "output_type": "execute_result",
          "data": {
            "text/plain": [
              "array([[5, 0, 3, 3],\n",
              "       [7, 9, 3, 5],\n",
              "       [2, 4, 7, 6]])"
            ]
          },
          "metadata": {
            "tags": []
          },
          "execution_count": 139
        }
      ]
    },
    {
      "cell_type": "code",
      "metadata": {
        "id": "iks6GSdxXy78",
        "colab": {
          "base_uri": "https://localhost:8080/"
        },
        "outputId": "e97a33e9-d427-4e3b-ca44-26b9bc4d25e3"
      },
      "source": [
        "mask = x < 5\n",
        "mask"
      ],
      "execution_count": 140,
      "outputs": [
        {
          "output_type": "execute_result",
          "data": {
            "text/plain": [
              "array([[False,  True,  True,  True],\n",
              "       [False, False,  True, False],\n",
              "       [ True,  True, False, False]])"
            ]
          },
          "metadata": {
            "tags": []
          },
          "execution_count": 140
        }
      ]
    },
    {
      "cell_type": "code",
      "metadata": {
        "id": "VppVFv0rX7BS",
        "colab": {
          "base_uri": "https://localhost:8080/"
        },
        "outputId": "a3c1c2d7-6c86-492d-ab35-b2c731a1278b"
      },
      "source": [
        "x[mask]"
      ],
      "execution_count": 141,
      "outputs": [
        {
          "output_type": "execute_result",
          "data": {
            "text/plain": [
              "array([0, 3, 3, 3, 2, 4])"
            ]
          },
          "metadata": {
            "tags": []
          },
          "execution_count": 141
        }
      ]
    },
    {
      "cell_type": "code",
      "metadata": {
        "id": "7Tj7MmC8YeJZ"
      },
      "source": [
        ""
      ],
      "execution_count": 141,
      "outputs": []
    },
    {
      "cell_type": "markdown",
      "metadata": {
        "id": "UehJNQvSZQVl"
      },
      "source": [
        "# Fancy Indexing\n",
        "Fancy indexing is like the simple indexing we’ve already seen, but we pass\n",
        "arrays of indices in place of single scalars. This allows us to very quickly access and\n",
        "modify complicated subsets of an array’s values.\n"
      ]
    },
    {
      "cell_type": "code",
      "metadata": {
        "id": "R0PljkIWZSSA",
        "colab": {
          "base_uri": "https://localhost:8080/"
        },
        "outputId": "50243e0a-2551-4bec-8805-bd208abc4744"
      },
      "source": [
        "rand = np.random.RandomState(42)\n",
        "x = rand.randint(100, size=10)\n",
        "print(x)\n"
      ],
      "execution_count": 142,
      "outputs": [
        {
          "output_type": "stream",
          "text": [
            "[51 92 14 71 60 20 82 86 74 74]\n"
          ],
          "name": "stdout"
        }
      ]
    },
    {
      "cell_type": "code",
      "metadata": {
        "id": "8nIAjV7SZ3kA",
        "colab": {
          "base_uri": "https://localhost:8080/"
        },
        "outputId": "5bf62298-5dc3-41b0-d15c-11b9eb5274c8"
      },
      "source": [
        "[x[3], x[7], x[2]]\n"
      ],
      "execution_count": 143,
      "outputs": [
        {
          "output_type": "execute_result",
          "data": {
            "text/plain": [
              "[71, 86, 14]"
            ]
          },
          "metadata": {
            "tags": []
          },
          "execution_count": 143
        }
      ]
    },
    {
      "cell_type": "code",
      "metadata": {
        "id": "hlz_6xpCaChd",
        "colab": {
          "base_uri": "https://localhost:8080/"
        },
        "outputId": "ecc534be-dc6e-4889-ddad-8c319137c4ad"
      },
      "source": [
        "# better way \n",
        "ind = [3, 7, 4]\n",
        "x[ind]"
      ],
      "execution_count": 144,
      "outputs": [
        {
          "output_type": "execute_result",
          "data": {
            "text/plain": [
              "array([71, 86, 60])"
            ]
          },
          "metadata": {
            "tags": []
          },
          "execution_count": 144
        }
      ]
    },
    {
      "cell_type": "code",
      "metadata": {
        "id": "ubS4Adj2aUiE",
        "colab": {
          "base_uri": "https://localhost:8080/"
        },
        "outputId": "fb441094-36dc-4daa-aed4-d3a84d67e63c"
      },
      "source": [
        "#With fancy indexing, the shape of the result reflects the shape of the index array\n",
        "ind = np.array([[3, 7],[4, 5]])\n",
        "x[ind]"
      ],
      "execution_count": 145,
      "outputs": [
        {
          "output_type": "execute_result",
          "data": {
            "text/plain": [
              "array([[71, 86],\n",
              "       [60, 20]])"
            ]
          },
          "metadata": {
            "tags": []
          },
          "execution_count": 145
        }
      ]
    },
    {
      "cell_type": "code",
      "metadata": {
        "id": "4j8r_1YCbKRI",
        "colab": {
          "base_uri": "https://localhost:8080/"
        },
        "outputId": "508afa6e-390f-447c-b819-f3ab8dd76a05"
      },
      "source": [
        "X = np.arange(12).reshape((3, 4))\n",
        "X"
      ],
      "execution_count": 146,
      "outputs": [
        {
          "output_type": "execute_result",
          "data": {
            "text/plain": [
              "array([[ 0,  1,  2,  3],\n",
              "       [ 4,  5,  6,  7],\n",
              "       [ 8,  9, 10, 11]])"
            ]
          },
          "metadata": {
            "tags": []
          },
          "execution_count": 146
        }
      ]
    },
    {
      "cell_type": "code",
      "metadata": {
        "id": "7mIavrWaclbu",
        "colab": {
          "base_uri": "https://localhost:8080/"
        },
        "outputId": "0dbf018d-7293-4bcc-a20a-18e50d4a6f4a"
      },
      "source": [
        "row = np.array([0, 1, 2])\n",
        "col = np.array([2, 1, 3])\n",
        "X[row, col]"
      ],
      "execution_count": 147,
      "outputs": [
        {
          "output_type": "execute_result",
          "data": {
            "text/plain": [
              "array([ 2,  5, 11])"
            ]
          },
          "metadata": {
            "tags": []
          },
          "execution_count": 147
        }
      ]
    },
    {
      "cell_type": "markdown",
      "metadata": {
        "id": "ZzKolfH4fHHG"
      },
      "source": [
        "# Combined Indexing\n"
      ]
    },
    {
      "cell_type": "code",
      "metadata": {
        "id": "qvJ_lJxMcphO",
        "colab": {
          "base_uri": "https://localhost:8080/"
        },
        "outputId": "5ea59da5-ac27-4d93-a026-b97e04dee612"
      },
      "source": [
        "print(X)"
      ],
      "execution_count": 148,
      "outputs": [
        {
          "output_type": "stream",
          "text": [
            "[[ 0  1  2  3]\n",
            " [ 4  5  6  7]\n",
            " [ 8  9 10 11]]\n"
          ],
          "name": "stdout"
        }
      ]
    },
    {
      "cell_type": "code",
      "metadata": {
        "id": "te1_15kRfOAr",
        "colab": {
          "base_uri": "https://localhost:8080/"
        },
        "outputId": "d0723494-94b7-495b-c831-ad4b477e279f"
      },
      "source": [
        "# combine fancy and simple indices\n",
        "X[2, [2, 0, 1]]"
      ],
      "execution_count": 149,
      "outputs": [
        {
          "output_type": "execute_result",
          "data": {
            "text/plain": [
              "array([10,  8,  9])"
            ]
          },
          "metadata": {
            "tags": []
          },
          "execution_count": 149
        }
      ]
    },
    {
      "cell_type": "code",
      "metadata": {
        "id": "3ouvG5U6fZPc"
      },
      "source": [
        "#  combine fancy indexing with slicing"
      ],
      "execution_count": 150,
      "outputs": []
    },
    {
      "cell_type": "code",
      "metadata": {
        "id": "Hspr6frGff6m",
        "colab": {
          "base_uri": "https://localhost:8080/"
        },
        "outputId": "77401e38-ad83-4b6e-d368-817343a89486"
      },
      "source": [
        "X[1:, [2, 0, 1]]"
      ],
      "execution_count": 151,
      "outputs": [
        {
          "output_type": "execute_result",
          "data": {
            "text/plain": [
              "array([[ 6,  4,  5],\n",
              "       [10,  8,  9]])"
            ]
          },
          "metadata": {
            "tags": []
          },
          "execution_count": 151
        }
      ]
    },
    {
      "cell_type": "markdown",
      "metadata": {
        "id": "jBoNsTpXfxGG"
      },
      "source": [
        "# Modifying Values with Fancy Indexing\n"
      ]
    },
    {
      "cell_type": "code",
      "metadata": {
        "id": "Nf5FzRJPfira",
        "colab": {
          "base_uri": "https://localhost:8080/"
        },
        "outputId": "020ab4ad-aaad-462b-ed7f-9104d8a94b15"
      },
      "source": [
        "x = np.arange(10)\n",
        "i = np.array([2, 1, 8, 4])\n",
        "x[i] = 99\n",
        "\n",
        "print(x)"
      ],
      "execution_count": 152,
      "outputs": [
        {
          "output_type": "stream",
          "text": [
            "[ 0 99 99  3 99  5  6  7 99  9]\n"
          ],
          "name": "stdout"
        }
      ]
    },
    {
      "cell_type": "code",
      "metadata": {
        "id": "nacEiyu3f_rV",
        "colab": {
          "base_uri": "https://localhost:8080/"
        },
        "outputId": "017ef355-eb85-4d87-b60b-c18441685d10"
      },
      "source": [
        "x[i] -= 10\n",
        "print(x)"
      ],
      "execution_count": 153,
      "outputs": [
        {
          "output_type": "stream",
          "text": [
            "[ 0 89 89  3 89  5  6  7 89  9]\n"
          ],
          "name": "stdout"
        }
      ]
    },
    {
      "cell_type": "code",
      "metadata": {
        "id": "JYPYXeBTgHc2",
        "colab": {
          "base_uri": "https://localhost:8080/"
        },
        "outputId": "1c051eb1-19c8-433a-e3b7-86a52859b09c"
      },
      "source": [
        "#  repeated indices with these operations can cause some potentially unexpected results\n",
        "\n",
        "x = np.zeros(10)\n",
        "x[[0, 0]] = [4, 6]\n",
        "print(x)\n"
      ],
      "execution_count": 154,
      "outputs": [
        {
          "output_type": "stream",
          "text": [
            "[6. 0. 0. 0. 0. 0. 0. 0. 0. 0.]\n"
          ],
          "name": "stdout"
        }
      ]
    },
    {
      "cell_type": "code",
      "metadata": {
        "id": "Cr552iTPgUNK"
      },
      "source": [
        ""
      ],
      "execution_count": 154,
      "outputs": []
    },
    {
      "cell_type": "markdown",
      "metadata": {
        "id": "5-7BYQZvg3N5"
      },
      "source": [
        "# Sorting Arrays\n"
      ]
    },
    {
      "cell_type": "code",
      "metadata": {
        "id": "nmP_V0Cjg4MG",
        "colab": {
          "base_uri": "https://localhost:8080/"
        },
        "outputId": "4f69070b-9eec-49ce-d20d-e786c562772e"
      },
      "source": [
        "x = np.array([2, 1, 4, 3, 5])\n",
        "np.sort(x)\n"
      ],
      "execution_count": 155,
      "outputs": [
        {
          "output_type": "execute_result",
          "data": {
            "text/plain": [
              "array([1, 2, 3, 4, 5])"
            ]
          },
          "metadata": {
            "tags": []
          },
          "execution_count": 155
        }
      ]
    },
    {
      "cell_type": "code",
      "metadata": {
        "id": "fD6h79FGhB1A",
        "colab": {
          "base_uri": "https://localhost:8080/"
        },
        "outputId": "82373c9f-b0a4-4ea9-b617-23f67788bda7"
      },
      "source": [
        "#inplace\n",
        "x.sort()\n",
        "print(x)\n"
      ],
      "execution_count": 156,
      "outputs": [
        {
          "output_type": "stream",
          "text": [
            "[1 2 3 4 5]\n"
          ],
          "name": "stdout"
        }
      ]
    },
    {
      "cell_type": "code",
      "metadata": {
        "id": "9TVWT8cchJA9",
        "colab": {
          "base_uri": "https://localhost:8080/"
        },
        "outputId": "a45ba7c2-0cbe-46b8-ae9c-0dfbcad74aa9"
      },
      "source": [
        "# returns the indices of the sorted elements\n",
        "x = np.array([2, 1, 4, 3, 5])\n",
        "i = np.argsort(x)\n",
        "print(i) \n"
      ],
      "execution_count": 157,
      "outputs": [
        {
          "output_type": "stream",
          "text": [
            "[1 0 3 2 4]\n"
          ],
          "name": "stdout"
        }
      ]
    },
    {
      "cell_type": "markdown",
      "metadata": {
        "id": "aKLLQRlrhzXK"
      },
      "source": [
        "## Sorting along rows or columns\n"
      ]
    },
    {
      "cell_type": "code",
      "metadata": {
        "id": "Xa6RdyyHhR73",
        "colab": {
          "base_uri": "https://localhost:8080/"
        },
        "outputId": "bb202e0b-89a5-44b3-d056-f6b791d0daaf"
      },
      "source": [
        "rand = np.random.RandomState(42)\n",
        "X = rand.randint(0, 10, (4, 6))\n",
        "print(X)"
      ],
      "execution_count": 158,
      "outputs": [
        {
          "output_type": "stream",
          "text": [
            "[[6 3 7 4 6 9]\n",
            " [2 6 7 4 3 7]\n",
            " [7 2 5 4 1 7]\n",
            " [5 1 4 0 9 5]]\n"
          ],
          "name": "stdout"
        }
      ]
    },
    {
      "cell_type": "code",
      "metadata": {
        "id": "agex9qIniAv7",
        "colab": {
          "base_uri": "https://localhost:8080/"
        },
        "outputId": "b0e96bbb-aaef-4f65-9aef-2ac24bbb0f4e"
      },
      "source": [
        "# sort each column of X\n",
        "np.sort(X, axis=0)\n"
      ],
      "execution_count": 159,
      "outputs": [
        {
          "output_type": "execute_result",
          "data": {
            "text/plain": [
              "array([[2, 1, 4, 0, 1, 5],\n",
              "       [5, 2, 5, 4, 3, 7],\n",
              "       [6, 3, 7, 4, 6, 7],\n",
              "       [7, 6, 7, 4, 9, 9]])"
            ]
          },
          "metadata": {
            "tags": []
          },
          "execution_count": 159
        }
      ]
    },
    {
      "cell_type": "code",
      "metadata": {
        "id": "qv_mnohDiF9o",
        "colab": {
          "base_uri": "https://localhost:8080/"
        },
        "outputId": "3e02dce5-1b15-48e5-ec57-8cc7237e89e1"
      },
      "source": [
        "# sort each row of X\n",
        "np.sort(X, axis=1)"
      ],
      "execution_count": 160,
      "outputs": [
        {
          "output_type": "execute_result",
          "data": {
            "text/plain": [
              "array([[3, 4, 6, 6, 7, 9],\n",
              "       [2, 3, 4, 6, 7, 7],\n",
              "       [1, 2, 4, 5, 7, 7],\n",
              "       [0, 1, 4, 5, 5, 9]])"
            ]
          },
          "metadata": {
            "tags": []
          },
          "execution_count": 160
        }
      ]
    },
    {
      "cell_type": "code",
      "metadata": {
        "id": "9VHtE1mNiM8I",
        "colab": {
          "base_uri": "https://localhost:8080/"
        },
        "outputId": "25588f50-6e35-4508-9931-3bebfe06f4ef"
      },
      "source": [
        "np.sort(X, axis=1)"
      ],
      "execution_count": 161,
      "outputs": [
        {
          "output_type": "execute_result",
          "data": {
            "text/plain": [
              "array([[3, 4, 6, 6, 7, 9],\n",
              "       [2, 3, 4, 6, 7, 7],\n",
              "       [1, 2, 4, 5, 7, 7],\n",
              "       [0, 1, 4, 5, 5, 9]])"
            ]
          },
          "metadata": {
            "tags": []
          },
          "execution_count": 161
        }
      ]
    },
    {
      "cell_type": "code",
      "metadata": {
        "id": "ZRi5AUfAevGs",
        "colab": {
          "base_uri": "https://localhost:8080/"
        },
        "outputId": "7adda76f-491c-49a6-a851-0e92eb6efd12"
      },
      "source": [
        "np.sort(X, axis=1)"
      ],
      "execution_count": 162,
      "outputs": [
        {
          "output_type": "execute_result",
          "data": {
            "text/plain": [
              "array([[3, 4, 6, 6, 7, 9],\n",
              "       [2, 3, 4, 6, 7, 7],\n",
              "       [1, 2, 4, 5, 7, 7],\n",
              "       [0, 1, 4, 5, 5, 9]])"
            ]
          },
          "metadata": {
            "tags": []
          },
          "execution_count": 162
        }
      ]
    },
    {
      "cell_type": "code",
      "metadata": {
        "id": "VI7iPeawt9um",
        "outputId": "20792898-a90f-4a32-bcce-df732479dce4",
        "colab": {
          "base_uri": "https://localhost:8080/"
        }
      },
      "source": [
        "np.sort(X, axis=1)\n"
      ],
      "execution_count": 163,
      "outputs": [
        {
          "output_type": "execute_result",
          "data": {
            "text/plain": [
              "array([[3, 4, 6, 6, 7, 9],\n",
              "       [2, 3, 4, 6, 7, 7],\n",
              "       [1, 2, 4, 5, 7, 7],\n",
              "       [0, 1, 4, 5, 5, 9]])"
            ]
          },
          "metadata": {
            "tags": []
          },
          "execution_count": 163
        }
      ]
    },
    {
      "cell_type": "markdown",
      "metadata": {
        "id": "wXoTvX86t9iP"
      },
      "source": [
        ""
      ]
    }
  ]
}