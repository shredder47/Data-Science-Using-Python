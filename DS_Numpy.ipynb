{
  "nbformat": 4,
  "nbformat_minor": 0,
  "metadata": {
    "colab": {
      "name": "DS_Numpy.ipynb",
      "provenance": [],
      "toc_visible": true
    },
    "kernelspec": {
      "name": "python3",
      "display_name": "Python 3"
    }
  },
  "cells": [
    {
      "cell_type": "markdown",
      "metadata": {
        "id": "OPzzf1pIf0XG",
        "colab_type": "text"
      },
      "source": [
        "![1280px-NumPy_logo.svg.png](data:image/png;base64,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)\n",
        "\n",
        "NumPy is a library for the Python programming language, adding support for large, multi-dimensional arrays and matrices, along with a large collection of high-level mathematical functions to operate on these arrays."
      ]
    },
    {
      "cell_type": "code",
      "metadata": {
        "id": "5aJHLmNDXEwy",
        "colab_type": "code",
        "colab": {}
      },
      "source": [
        "import numpy as np\n",
        "import pandas as pd\n"
      ],
      "execution_count": 1,
      "outputs": []
    },
    {
      "cell_type": "markdown",
      "metadata": {
        "id": "kVFptI4NgrQY",
        "colab_type": "text"
      },
      "source": [
        "## Creating Arrays from Python Lists\n"
      ]
    },
    {
      "cell_type": "code",
      "metadata": {
        "id": "C1fq-TXegmg9",
        "colab_type": "code",
        "colab": {
          "base_uri": "https://localhost:8080/",
          "height": 35
        },
        "outputId": "f788cc1e-2d66-493d-f7b5-ffec05f65992"
      },
      "source": [
        "# integer array:\n",
        "np.array([1, 4, 2, 5, 3])"
      ],
      "execution_count": 2,
      "outputs": [
        {
          "output_type": "execute_result",
          "data": {
            "text/plain": [
              "array([1, 4, 2, 5, 3])"
            ]
          },
          "metadata": {
            "tags": []
          },
          "execution_count": 2
        }
      ]
    },
    {
      "cell_type": "code",
      "metadata": {
        "id": "9Fiq61uagzQp",
        "colab_type": "code",
        "colab": {
          "base_uri": "https://localhost:8080/",
          "height": 35
        },
        "outputId": "1e29c356-e16f-4a56-c1ed-566601735f70"
      },
      "source": [
        "# float array\n",
        "np.array([3.14, 4, 2, 3])\n"
      ],
      "execution_count": 3,
      "outputs": [
        {
          "output_type": "execute_result",
          "data": {
            "text/plain": [
              "array([3.14, 4.  , 2.  , 3.  ])"
            ]
          },
          "metadata": {
            "tags": []
          },
          "execution_count": 3
        }
      ]
    },
    {
      "cell_type": "code",
      "metadata": {
        "id": "trNImEnsg9bm",
        "colab_type": "code",
        "colab": {
          "base_uri": "https://localhost:8080/",
          "height": 35
        },
        "outputId": "d07802b4-d5fd-4943-ccb6-d1446d185aa9"
      },
      "source": [
        "np.array([1, 2, 3, 4], dtype='float64')"
      ],
      "execution_count": 4,
      "outputs": [
        {
          "output_type": "execute_result",
          "data": {
            "text/plain": [
              "array([1., 2., 3., 4.])"
            ]
          },
          "metadata": {
            "tags": []
          },
          "execution_count": 4
        }
      ]
    },
    {
      "cell_type": "markdown",
      "metadata": {
        "id": "QCA8MK6LhUIy",
        "colab_type": "text"
      },
      "source": [
        "# Creating Arrays from Scratch\n",
        "Especially for larger arrays, it is more efficient to create arrays from scratch using rou‐\n",
        "tines built into NumPy. Here are several examples:\n"
      ]
    },
    {
      "cell_type": "code",
      "metadata": {
        "id": "TEVp8rYDhJ8D",
        "colab_type": "code",
        "colab": {
          "base_uri": "https://localhost:8080/",
          "height": 35
        },
        "outputId": "9c579fcd-d188-418d-df1f-3b832804daad"
      },
      "source": [
        "# Create a length-5 integer array filled with zeros\n",
        "np.zeros(5, dtype=int)"
      ],
      "execution_count": 5,
      "outputs": [
        {
          "output_type": "execute_result",
          "data": {
            "text/plain": [
              "array([0, 0, 0, 0, 0])"
            ]
          },
          "metadata": {
            "tags": []
          },
          "execution_count": 5
        }
      ]
    },
    {
      "cell_type": "code",
      "metadata": {
        "id": "eiivyMN4hf3u",
        "colab_type": "code",
        "colab": {
          "base_uri": "https://localhost:8080/",
          "height": 72
        },
        "outputId": "2f2209e3-ea25-420e-8b13-78071e2cec14"
      },
      "source": [
        "# Create a 3x3 floating-point array filled with 1s\n",
        "np.ones((3, 3), dtype=float)\n"
      ],
      "execution_count": 6,
      "outputs": [
        {
          "output_type": "execute_result",
          "data": {
            "text/plain": [
              "array([[1., 1., 1.],\n",
              "       [1., 1., 1.],\n",
              "       [1., 1., 1.]])"
            ]
          },
          "metadata": {
            "tags": []
          },
          "execution_count": 6
        }
      ]
    },
    {
      "cell_type": "code",
      "metadata": {
        "id": "Y56fgpz7hk1n",
        "colab_type": "code",
        "colab": {
          "base_uri": "https://localhost:8080/",
          "height": 72
        },
        "outputId": "a5db02f1-ce12-46f0-a6e2-1436e4ae594b"
      },
      "source": [
        "# Create a 3x3 int array filled with 1s\n",
        "np.ones((3, 3), dtype=int)"
      ],
      "execution_count": 7,
      "outputs": [
        {
          "output_type": "execute_result",
          "data": {
            "text/plain": [
              "array([[1, 1, 1],\n",
              "       [1, 1, 1],\n",
              "       [1, 1, 1]])"
            ]
          },
          "metadata": {
            "tags": []
          },
          "execution_count": 7
        }
      ]
    },
    {
      "cell_type": "code",
      "metadata": {
        "id": "uIxuFMmzhpVA",
        "colab_type": "code",
        "colab": {
          "base_uri": "https://localhost:8080/",
          "height": 108
        },
        "outputId": "1fe950ef-88cd-4839-b86b-340a1931c163"
      },
      "source": [
        "# Create a 5*5 array filled with 47\n",
        "np.full((5, 5), 47)\n"
      ],
      "execution_count": 8,
      "outputs": [
        {
          "output_type": "execute_result",
          "data": {
            "text/plain": [
              "array([[47, 47, 47, 47, 47],\n",
              "       [47, 47, 47, 47, 47],\n",
              "       [47, 47, 47, 47, 47],\n",
              "       [47, 47, 47, 47, 47],\n",
              "       [47, 47, 47, 47, 47]])"
            ]
          },
          "metadata": {
            "tags": []
          },
          "execution_count": 8
        }
      ]
    },
    {
      "cell_type": "code",
      "metadata": {
        "id": "TCaSJLdfhyDs",
        "colab_type": "code",
        "colab": {
          "base_uri": "https://localhost:8080/",
          "height": 35
        },
        "outputId": "babc6086-f1ed-4fbe-dd00-356229013e61"
      },
      "source": [
        "# Create an array filled with a linear sequence\n",
        "# Starting at 0, ending at 30, stepping by 3\n",
        "np.arange(0, 30, 3)"
      ],
      "execution_count": 9,
      "outputs": [
        {
          "output_type": "execute_result",
          "data": {
            "text/plain": [
              "array([ 0,  3,  6,  9, 12, 15, 18, 21, 24, 27])"
            ]
          },
          "metadata": {
            "tags": []
          },
          "execution_count": 9
        }
      ]
    },
    {
      "cell_type": "code",
      "metadata": {
        "id": "FJBNNJX3h9bB",
        "colab_type": "code",
        "colab": {
          "base_uri": "https://localhost:8080/",
          "height": 53
        },
        "outputId": "7f46d0ed-8eae-4110-c6fd-e0f201e86c0b"
      },
      "source": [
        "# Create an array of ten values evenly spaced between 0 and 1\n",
        "np.linspace(0, 1, 10)"
      ],
      "execution_count": 10,
      "outputs": [
        {
          "output_type": "execute_result",
          "data": {
            "text/plain": [
              "array([0.        , 0.11111111, 0.22222222, 0.33333333, 0.44444444,\n",
              "       0.55555556, 0.66666667, 0.77777778, 0.88888889, 1.        ])"
            ]
          },
          "metadata": {
            "tags": []
          },
          "execution_count": 10
        }
      ]
    },
    {
      "cell_type": "code",
      "metadata": {
        "id": "QkpPwLCKiDz3",
        "colab_type": "code",
        "colab": {
          "base_uri": "https://localhost:8080/",
          "height": 108
        },
        "outputId": "15a91912-cbcc-47d0-9dc6-9d637ce134d9"
      },
      "source": [
        "# Create a 5x5 array of uniformly distributed\n",
        "# random values between 0 and 1\n",
        "np.random.random((5, 5))"
      ],
      "execution_count": 11,
      "outputs": [
        {
          "output_type": "execute_result",
          "data": {
            "text/plain": [
              "array([[0.99073382, 0.0172226 , 0.02689994, 0.56735169, 0.48159487],\n",
              "       [0.74762642, 0.48676366, 0.81346546, 0.57713837, 0.42828144],\n",
              "       [0.29635984, 0.98419974, 0.0263078 , 0.3387644 , 0.12235234],\n",
              "       [0.08699768, 0.92192467, 0.87624184, 0.71812542, 0.75112403],\n",
              "       [0.18350636, 0.12389025, 0.24846613, 0.66502615, 0.88056572]])"
            ]
          },
          "metadata": {
            "tags": []
          },
          "execution_count": 11
        }
      ]
    },
    {
      "cell_type": "code",
      "metadata": {
        "id": "nbn9tCHYiKp3",
        "colab_type": "code",
        "colab": {
          "base_uri": "https://localhost:8080/",
          "height": 72
        },
        "outputId": "a3c9318b-1e9b-49ba-e860-da6f760bb925"
      },
      "source": [
        "# Create a 3x3 array of normally distributed random values\n",
        "# with mean 0 and standard deviation 1 \n",
        "np.random.normal(0, 1, (3, 3))"
      ],
      "execution_count": 12,
      "outputs": [
        {
          "output_type": "execute_result",
          "data": {
            "text/plain": [
              "array([[-1.68733124,  0.95028603, -0.04837905],\n",
              "       [-0.10908097,  0.61299953, -1.01624002],\n",
              "       [-1.32427772, -1.34745742, -1.38285027]])"
            ]
          },
          "metadata": {
            "tags": []
          },
          "execution_count": 12
        }
      ]
    },
    {
      "cell_type": "code",
      "metadata": {
        "id": "hK7-htT_itLd",
        "colab_type": "code",
        "colab": {
          "base_uri": "https://localhost:8080/",
          "height": 72
        },
        "outputId": "47e8fb11-30c4-4d79-9466-d60bce259fe3"
      },
      "source": [
        "# Create a 3x4 array of random integers in the interval [0, 5 )    \n",
        "np.random.randint(0, 5, (3, 4))\n"
      ],
      "execution_count": 13,
      "outputs": [
        {
          "output_type": "execute_result",
          "data": {
            "text/plain": [
              "array([[1, 4, 4, 3],\n",
              "       [2, 4, 2, 3],\n",
              "       [3, 0, 1, 2]])"
            ]
          },
          "metadata": {
            "tags": []
          },
          "execution_count": 13
        }
      ]
    },
    {
      "cell_type": "code",
      "metadata": {
        "id": "QQ7gfbJIixYB",
        "colab_type": "code",
        "colab": {
          "base_uri": "https://localhost:8080/",
          "height": 72
        },
        "outputId": "0794dfac-11ec-4670-827d-cb9f74675254"
      },
      "source": [
        "# Create a 3x3 identity matrix\n",
        "np.eye(3)\n"
      ],
      "execution_count": 14,
      "outputs": [
        {
          "output_type": "execute_result",
          "data": {
            "text/plain": [
              "array([[1., 0., 0.],\n",
              "       [0., 1., 0.],\n",
              "       [0., 0., 1.]])"
            ]
          },
          "metadata": {
            "tags": []
          },
          "execution_count": 14
        }
      ]
    },
    {
      "cell_type": "code",
      "metadata": {
        "id": "XLw4HSbPjBB_",
        "colab_type": "code",
        "colab": {
          "base_uri": "https://localhost:8080/",
          "height": 35
        },
        "outputId": "e29021f4-e4be-450e-a343-0454f076a610"
      },
      "source": [
        "# Create an uninitialized array of three integers\n",
        "# The values will be whatever happens to already exist at that\n",
        "# memory location\n",
        "np.empty(3)\n",
        "\n"
      ],
      "execution_count": 15,
      "outputs": [
        {
          "output_type": "execute_result",
          "data": {
            "text/plain": [
              "array([1., 1., 1.])"
            ]
          },
          "metadata": {
            "tags": []
          },
          "execution_count": 15
        }
      ]
    },
    {
      "cell_type": "markdown",
      "metadata": {
        "id": "M34Z3W4kjbJg",
        "colab_type": "text"
      },
      "source": [
        "# NumPy Array Attributes\n"
      ]
    },
    {
      "cell_type": "code",
      "metadata": {
        "id": "2W50F6F7jNiT",
        "colab_type": "code",
        "colab": {}
      },
      "source": [
        "import numpy as np\n",
        "np.random.seed(0) # seed for reproducibility\n",
        "x1 = np.random.randint(10, size=6) # One-dimensional array\n",
        "x2 = np.random.randint(10, size=(3, 4)) # Two-dimensional array\n",
        "x3 = np.random.randint(10, size=(3, 4, 5)) # Three-dimensional array"
      ],
      "execution_count": 16,
      "outputs": []
    },
    {
      "cell_type": "code",
      "metadata": {
        "id": "9EGDQ1sHkQOA",
        "colab_type": "code",
        "colab": {
          "base_uri": "https://localhost:8080/",
          "height": 126
        },
        "outputId": "2e3baa09-3927-440f-88f6-4f22a873210a"
      },
      "source": [
        "print(\"x3 ndim: \", x3.ndim)\n",
        "print(\"x3 shape:\", x3.shape)\n",
        "print(\"x3 size: \", x3.size)\n",
        "print(\"dtype:\", x3.dtype)\n",
        "print(\"itemsize:\", x3.itemsize, \"bytes\")\n",
        "print(\"nbytes:\", x3.nbytes, \"bytes\")"
      ],
      "execution_count": 17,
      "outputs": [
        {
          "output_type": "stream",
          "text": [
            "x3 ndim:  3\n",
            "x3 shape: (3, 4, 5)\n",
            "x3 size:  60\n",
            "dtype: int64\n",
            "itemsize: 8 bytes\n",
            "nbytes: 480 bytes\n"
          ],
          "name": "stdout"
        }
      ]
    },
    {
      "cell_type": "markdown",
      "metadata": {
        "id": "fBUU3NzNkoeA",
        "colab_type": "text"
      },
      "source": [
        "# Array Indexing: Accessing Single Elements\n"
      ]
    },
    {
      "cell_type": "code",
      "metadata": {
        "id": "8mb5Nd-pkW4D",
        "colab_type": "code",
        "colab": {
          "base_uri": "https://localhost:8080/",
          "height": 35
        },
        "outputId": "4c429470-d240-4103-f6bf-a40d7c409077"
      },
      "source": [
        "x1"
      ],
      "execution_count": 18,
      "outputs": [
        {
          "output_type": "execute_result",
          "data": {
            "text/plain": [
              "array([5, 0, 3, 3, 7, 9])"
            ]
          },
          "metadata": {
            "tags": []
          },
          "execution_count": 18
        }
      ]
    },
    {
      "cell_type": "code",
      "metadata": {
        "id": "YAC_j4hKkuwF",
        "colab_type": "code",
        "colab": {
          "base_uri": "https://localhost:8080/",
          "height": 35
        },
        "outputId": "b49014a4-d524-4d56-a4f4-5f61ba169632"
      },
      "source": [
        "x1[0]\n"
      ],
      "execution_count": 19,
      "outputs": [
        {
          "output_type": "execute_result",
          "data": {
            "text/plain": [
              "5"
            ]
          },
          "metadata": {
            "tags": []
          },
          "execution_count": 19
        }
      ]
    },
    {
      "cell_type": "code",
      "metadata": {
        "id": "vj2wnmFjkxpO",
        "colab_type": "code",
        "colab": {
          "base_uri": "https://localhost:8080/",
          "height": 35
        },
        "outputId": "13746941-7696-4fed-a769-c20a3dc0229c"
      },
      "source": [
        "x1[4]"
      ],
      "execution_count": 20,
      "outputs": [
        {
          "output_type": "execute_result",
          "data": {
            "text/plain": [
              "7"
            ]
          },
          "metadata": {
            "tags": []
          },
          "execution_count": 20
        }
      ]
    },
    {
      "cell_type": "code",
      "metadata": {
        "id": "QYvtiQKQk1Gf",
        "colab_type": "code",
        "colab": {
          "base_uri": "https://localhost:8080/",
          "height": 35
        },
        "outputId": "25f9eb56-e20b-424e-e150-562eafc94610"
      },
      "source": [
        "# from right to left\n",
        "x1[-1] \n"
      ],
      "execution_count": 21,
      "outputs": [
        {
          "output_type": "execute_result",
          "data": {
            "text/plain": [
              "9"
            ]
          },
          "metadata": {
            "tags": []
          },
          "execution_count": 21
        }
      ]
    },
    {
      "cell_type": "code",
      "metadata": {
        "id": "3mflgAFqk84r",
        "colab_type": "code",
        "colab": {
          "base_uri": "https://localhost:8080/",
          "height": 35
        },
        "outputId": "90b7487a-e59f-446d-b85d-1519c9388c6d"
      },
      "source": [
        "x1[-2]\n"
      ],
      "execution_count": 22,
      "outputs": [
        {
          "output_type": "execute_result",
          "data": {
            "text/plain": [
              "7"
            ]
          },
          "metadata": {
            "tags": []
          },
          "execution_count": 22
        }
      ]
    },
    {
      "cell_type": "code",
      "metadata": {
        "id": "tOVu3s1Jk-Qt",
        "colab_type": "code",
        "colab": {
          "base_uri": "https://localhost:8080/",
          "height": 72
        },
        "outputId": "40f58546-fba6-414d-a20b-8341e8659d6c"
      },
      "source": [
        "x2"
      ],
      "execution_count": 23,
      "outputs": [
        {
          "output_type": "execute_result",
          "data": {
            "text/plain": [
              "array([[3, 5, 2, 4],\n",
              "       [7, 6, 8, 8],\n",
              "       [1, 6, 7, 7]])"
            ]
          },
          "metadata": {
            "tags": []
          },
          "execution_count": 23
        }
      ]
    },
    {
      "cell_type": "code",
      "metadata": {
        "id": "nAJHDQ0BlXEW",
        "colab_type": "code",
        "colab": {
          "base_uri": "https://localhost:8080/",
          "height": 35
        },
        "outputId": "1010c385-db97-42bf-d097-824b60e09250"
      },
      "source": [
        "# Multidimension array access: \n",
        "# row #0, -> col #0\n",
        "x2[0,0] "
      ],
      "execution_count": 24,
      "outputs": [
        {
          "output_type": "execute_result",
          "data": {
            "text/plain": [
              "3"
            ]
          },
          "metadata": {
            "tags": []
          },
          "execution_count": 24
        }
      ]
    },
    {
      "cell_type": "code",
      "metadata": {
        "id": "j7RNTZvxlbVq",
        "colab_type": "code",
        "colab": {
          "base_uri": "https://localhost:8080/",
          "height": 35
        },
        "outputId": "9e1cfe6a-d009-4828-8b67-ca943535cce4"
      },
      "source": [
        "# row #1, -> col # 2\n",
        "x2[1,2]"
      ],
      "execution_count": 25,
      "outputs": [
        {
          "output_type": "execute_result",
          "data": {
            "text/plain": [
              "8"
            ]
          },
          "metadata": {
            "tags": []
          },
          "execution_count": 25
        }
      ]
    },
    {
      "cell_type": "code",
      "metadata": {
        "id": "GqSWInQZlfCZ",
        "colab_type": "code",
        "colab": {
          "base_uri": "https://localhost:8080/",
          "height": 35
        },
        "outputId": "916a1ccd-c22c-411f-977d-dafe055fe65c"
      },
      "source": [
        "# row #2, -> col #-1 (right to)\n",
        "x2[2, -1]\n"
      ],
      "execution_count": 26,
      "outputs": [
        {
          "output_type": "execute_result",
          "data": {
            "text/plain": [
              "7"
            ]
          },
          "metadata": {
            "tags": []
          },
          "execution_count": 26
        }
      ]
    },
    {
      "cell_type": "code",
      "metadata": {
        "id": "gD-jextil6wx",
        "colab_type": "code",
        "colab": {
          "base_uri": "https://localhost:8080/",
          "height": 272
        },
        "outputId": "67609b4e-6023-4ab2-d220-7d385bca481d"
      },
      "source": [
        "x3\n"
      ],
      "execution_count": 27,
      "outputs": [
        {
          "output_type": "execute_result",
          "data": {
            "text/plain": [
              "array([[[8, 1, 5, 9, 8],\n",
              "        [9, 4, 3, 0, 3],\n",
              "        [5, 0, 2, 3, 8],\n",
              "        [1, 3, 3, 3, 7]],\n",
              "\n",
              "       [[0, 1, 9, 9, 0],\n",
              "        [4, 7, 3, 2, 7],\n",
              "        [2, 0, 0, 4, 5],\n",
              "        [5, 6, 8, 4, 1]],\n",
              "\n",
              "       [[4, 9, 8, 1, 1],\n",
              "        [7, 9, 9, 3, 6],\n",
              "        [7, 2, 0, 3, 5],\n",
              "        [9, 4, 4, 6, 4]]])"
            ]
          },
          "metadata": {
            "tags": []
          },
          "execution_count": 27
        }
      ]
    },
    {
      "cell_type": "code",
      "metadata": {
        "id": "4cEX2YiWmKUk",
        "colab_type": "code",
        "colab": {
          "base_uri": "https://localhost:8080/",
          "height": 90
        },
        "outputId": "51f1228b-b29a-4387-8931-a28f989a216f"
      },
      "source": [
        "# stack/level/length\n",
        "# stack #0\n",
        "x3[0]"
      ],
      "execution_count": 28,
      "outputs": [
        {
          "output_type": "execute_result",
          "data": {
            "text/plain": [
              "array([[8, 1, 5, 9, 8],\n",
              "       [9, 4, 3, 0, 3],\n",
              "       [5, 0, 2, 3, 8],\n",
              "       [1, 3, 3, 3, 7]])"
            ]
          },
          "metadata": {
            "tags": []
          },
          "execution_count": 28
        }
      ]
    },
    {
      "cell_type": "code",
      "metadata": {
        "id": "eIxrfFvSmOl-",
        "colab_type": "code",
        "colab": {
          "base_uri": "https://localhost:8080/",
          "height": 90
        },
        "outputId": "4ee4eed0-ce16-440a-9adc-373decf8cba4"
      },
      "source": [
        "# stack #1\n",
        "x3[1]"
      ],
      "execution_count": 29,
      "outputs": [
        {
          "output_type": "execute_result",
          "data": {
            "text/plain": [
              "array([[0, 1, 9, 9, 0],\n",
              "       [4, 7, 3, 2, 7],\n",
              "       [2, 0, 0, 4, 5],\n",
              "       [5, 6, 8, 4, 1]])"
            ]
          },
          "metadata": {
            "tags": []
          },
          "execution_count": 29
        }
      ]
    },
    {
      "cell_type": "code",
      "metadata": {
        "id": "ZW2u5ETHmbtF",
        "colab_type": "code",
        "colab": {
          "base_uri": "https://localhost:8080/",
          "height": 35
        },
        "outputId": "45d8a969-aebc-41d9-8e4f-13e457546587"
      },
      "source": [
        "# stack #0 -> row #1\n",
        "x3[0][1]"
      ],
      "execution_count": 30,
      "outputs": [
        {
          "output_type": "execute_result",
          "data": {
            "text/plain": [
              "array([9, 4, 3, 0, 3])"
            ]
          },
          "metadata": {
            "tags": []
          },
          "execution_count": 30
        }
      ]
    },
    {
      "cell_type": "code",
      "metadata": {
        "id": "PLH4EO-_mj2O",
        "colab_type": "code",
        "colab": {
          "base_uri": "https://localhost:8080/",
          "height": 35
        },
        "outputId": "e30d9059-c059-4973-ff73-7e13c0fbe22e"
      },
      "source": [
        "# stack #0 -> row #2 -> column #1\n",
        "x3[0][2][1]"
      ],
      "execution_count": 31,
      "outputs": [
        {
          "output_type": "execute_result",
          "data": {
            "text/plain": [
              "0"
            ]
          },
          "metadata": {
            "tags": []
          },
          "execution_count": 31
        }
      ]
    },
    {
      "cell_type": "markdown",
      "metadata": {
        "id": "gbK7HqYxnHEP",
        "colab_type": "text"
      },
      "source": [
        "# Array Slicing: Accessing Subarrays\n"
      ]
    },
    {
      "cell_type": "code",
      "metadata": {
        "id": "QQivqYnwm3qX",
        "colab_type": "code",
        "colab": {}
      },
      "source": [
        "# The NumPy slicing syntax follows that of the standard Python list; to access a slice of\n",
        "# an array x, use this:\n",
        "# x[start:stop:step]\n",
        "\n",
        "# If any of these are unspecified, they \n",
        "# default to the values \n",
        "# start=0, stop=size of dimension, step=1\n",
        "\n",
        "\n"
      ],
      "execution_count": 32,
      "outputs": []
    },
    {
      "cell_type": "markdown",
      "metadata": {
        "id": "ENpTllrmnn8I",
        "colab_type": "text"
      },
      "source": [
        "### One-dimensional subarrays\n"
      ]
    },
    {
      "cell_type": "code",
      "metadata": {
        "id": "Bezjf6XcnqhE",
        "colab_type": "code",
        "colab": {}
      },
      "source": [
        "x = np.arange(10)"
      ],
      "execution_count": 33,
      "outputs": []
    },
    {
      "cell_type": "code",
      "metadata": {
        "id": "zRg3u5TDnu6_",
        "colab_type": "code",
        "colab": {
          "base_uri": "https://localhost:8080/",
          "height": 35
        },
        "outputId": "15d7e704-d97d-404f-b9b9-3f3e8a27691a"
      },
      "source": [
        "print(x)"
      ],
      "execution_count": 34,
      "outputs": [
        {
          "output_type": "stream",
          "text": [
            "[0 1 2 3 4 5 6 7 8 9]\n"
          ],
          "name": "stdout"
        }
      ]
    },
    {
      "cell_type": "code",
      "metadata": {
        "id": "40XRSRy5nw0H",
        "colab_type": "code",
        "colab": {
          "base_uri": "https://localhost:8080/",
          "height": 35
        },
        "outputId": "f3964db6-46bd-4caf-b495-976ba64672f0"
      },
      "source": [
        "# elements till 0th - 3rd index\n",
        "x[0:4] \n"
      ],
      "execution_count": 35,
      "outputs": [
        {
          "output_type": "execute_result",
          "data": {
            "text/plain": [
              "array([0, 1, 2, 3])"
            ]
          },
          "metadata": {
            "tags": []
          },
          "execution_count": 35
        }
      ]
    },
    {
      "cell_type": "code",
      "metadata": {
        "id": "N96d_fbon5k7",
        "colab_type": "code",
        "colab": {
          "base_uri": "https://localhost:8080/",
          "height": 35
        },
        "outputId": "b20b83c9-77c3-4194-8fe3-04cb7ad7674d"
      },
      "source": [
        "# elements till 0th - 4rd index\n",
        "x[:5] \n"
      ],
      "execution_count": 36,
      "outputs": [
        {
          "output_type": "execute_result",
          "data": {
            "text/plain": [
              "array([0, 1, 2, 3, 4])"
            ]
          },
          "metadata": {
            "tags": []
          },
          "execution_count": 36
        }
      ]
    },
    {
      "cell_type": "code",
      "metadata": {
        "id": "bbRCtrNOn-cV",
        "colab_type": "code",
        "colab": {
          "base_uri": "https://localhost:8080/",
          "height": 35
        },
        "outputId": "f5a08b1d-7a03-47a9-9b3d-aa5245520e30"
      },
      "source": [
        "# elements after index 2 till the last\n",
        "x[2:]"
      ],
      "execution_count": 37,
      "outputs": [
        {
          "output_type": "execute_result",
          "data": {
            "text/plain": [
              "array([2, 3, 4, 5, 6, 7, 8, 9])"
            ]
          },
          "metadata": {
            "tags": []
          },
          "execution_count": 37
        }
      ]
    },
    {
      "cell_type": "code",
      "metadata": {
        "id": "GJuOe5sdoFK6",
        "colab_type": "code",
        "colab": {
          "base_uri": "https://localhost:8080/",
          "height": 35
        },
        "outputId": "b81aa55c-ec52-4869-c13d-348261bc8711"
      },
      "source": [
        "# elements from index 2 but till 3rd index -> [2,4)\n",
        "x[2:4]"
      ],
      "execution_count": 38,
      "outputs": [
        {
          "output_type": "execute_result",
          "data": {
            "text/plain": [
              "array([2, 3])"
            ]
          },
          "metadata": {
            "tags": []
          },
          "execution_count": 38
        }
      ]
    },
    {
      "cell_type": "code",
      "metadata": {
        "id": "WESNSqFQoKz6",
        "colab_type": "code",
        "colab": {
          "base_uri": "https://localhost:8080/",
          "height": 35
        },
        "outputId": "80062a14-dd25-4245-edce-273247649e0f"
      },
      "source": [
        "# every other element\n",
        "x[::2] "
      ],
      "execution_count": 39,
      "outputs": [
        {
          "output_type": "execute_result",
          "data": {
            "text/plain": [
              "array([0, 2, 4, 6, 8])"
            ]
          },
          "metadata": {
            "tags": []
          },
          "execution_count": 39
        }
      ]
    },
    {
      "cell_type": "code",
      "metadata": {
        "id": "kL42tstcog_8",
        "colab_type": "code",
        "colab": {
          "base_uri": "https://localhost:8080/",
          "height": 35
        },
        "outputId": "71fca7a5-42f6-4776-b51d-c2257da99252"
      },
      "source": [
        "# every other element, starting at index 1\n",
        "x[1::2] "
      ],
      "execution_count": 40,
      "outputs": [
        {
          "output_type": "execute_result",
          "data": {
            "text/plain": [
              "array([1, 3, 5, 7, 9])"
            ]
          },
          "metadata": {
            "tags": []
          },
          "execution_count": 40
        }
      ]
    },
    {
      "cell_type": "code",
      "metadata": {
        "id": "SfJUaNh3on93",
        "colab_type": "code",
        "colab": {
          "base_uri": "https://localhost:8080/",
          "height": 35
        },
        "outputId": "e91affd4-8b4a-4125-9dbe-cc609077c60a"
      },
      "source": [
        "# every other element, starting at index 1 ending at 6th index\n",
        "x[1:7:2] \n"
      ],
      "execution_count": 41,
      "outputs": [
        {
          "output_type": "execute_result",
          "data": {
            "text/plain": [
              "array([1, 3, 5])"
            ]
          },
          "metadata": {
            "tags": []
          },
          "execution_count": 41
        }
      ]
    },
    {
      "cell_type": "code",
      "metadata": {
        "id": "q5FDh6ZHpHsS",
        "colab_type": "code",
        "colab": {
          "base_uri": "https://localhost:8080/",
          "height": 35
        },
        "outputId": "59fdb0ea-707d-4f3c-fba2-f842656efeb4"
      },
      "source": [
        "x"
      ],
      "execution_count": 42,
      "outputs": [
        {
          "output_type": "execute_result",
          "data": {
            "text/plain": [
              "array([0, 1, 2, 3, 4, 5, 6, 7, 8, 9])"
            ]
          },
          "metadata": {
            "tags": []
          },
          "execution_count": 42
        }
      ]
    },
    {
      "cell_type": "code",
      "metadata": {
        "id": "cvg0mwwoou9B",
        "colab_type": "code",
        "colab": {
          "base_uri": "https://localhost:8080/",
          "height": 35
        },
        "outputId": "81cc38ef-3e48-40e1-abc8-36b739bc7b87"
      },
      "source": [
        "# every 2rd element, staring from 0 index, ending at 8th index\n",
        "x[:9:2] "
      ],
      "execution_count": 43,
      "outputs": [
        {
          "output_type": "execute_result",
          "data": {
            "text/plain": [
              "array([0, 2, 4, 6, 8])"
            ]
          },
          "metadata": {
            "tags": []
          },
          "execution_count": 43
        }
      ]
    },
    {
      "cell_type": "code",
      "metadata": {
        "id": "0t9nlNjppAOJ",
        "colab_type": "code",
        "colab": {
          "base_uri": "https://localhost:8080/",
          "height": 35
        },
        "outputId": "f31b7f68-f0b2-4273-c07c-3cc816922d8d"
      },
      "source": [
        "# all elements, reversed\n",
        "x[::-1] "
      ],
      "execution_count": 44,
      "outputs": [
        {
          "output_type": "execute_result",
          "data": {
            "text/plain": [
              "array([9, 8, 7, 6, 5, 4, 3, 2, 1, 0])"
            ]
          },
          "metadata": {
            "tags": []
          },
          "execution_count": 44
        }
      ]
    },
    {
      "cell_type": "code",
      "metadata": {
        "id": "GNztoZPrpp_r",
        "colab_type": "code",
        "colab": {
          "base_uri": "https://localhost:8080/",
          "height": 35
        },
        "outputId": "4c925a13-01f9-4cee-9e24-cad305f179d0"
      },
      "source": [
        "# reversed every other from index 5\n",
        "x[5::-2] "
      ],
      "execution_count": 45,
      "outputs": [
        {
          "output_type": "execute_result",
          "data": {
            "text/plain": [
              "array([5, 3, 1])"
            ]
          },
          "metadata": {
            "tags": []
          },
          "execution_count": 45
        }
      ]
    },
    {
      "cell_type": "code",
      "metadata": {
        "id": "6SjfQz1Cpzfv",
        "colab_type": "code",
        "colab": {
          "base_uri": "https://localhost:8080/",
          "height": 35
        },
        "outputId": "e450dd0c-0184-4d49-a9b7-29f6c6107ad6"
      },
      "source": [
        "x[5:2:-1] "
      ],
      "execution_count": 46,
      "outputs": [
        {
          "output_type": "execute_result",
          "data": {
            "text/plain": [
              "array([5, 4, 3])"
            ]
          },
          "metadata": {
            "tags": []
          },
          "execution_count": 46
        }
      ]
    },
    {
      "cell_type": "markdown",
      "metadata": {
        "id": "3PfC8R8droM5",
        "colab_type": "text"
      },
      "source": [
        "### Multidimensional subarrays\n"
      ]
    },
    {
      "cell_type": "code",
      "metadata": {
        "id": "k70aLFXfqg_c",
        "colab_type": "code",
        "colab": {
          "base_uri": "https://localhost:8080/",
          "height": 72
        },
        "outputId": "7f1af4fe-f066-447c-fe55-487e42af25fa"
      },
      "source": [
        "x2"
      ],
      "execution_count": 47,
      "outputs": [
        {
          "output_type": "execute_result",
          "data": {
            "text/plain": [
              "array([[3, 5, 2, 4],\n",
              "       [7, 6, 8, 8],\n",
              "       [1, 6, 7, 7]])"
            ]
          },
          "metadata": {
            "tags": []
          },
          "execution_count": 47
        }
      ]
    },
    {
      "cell_type": "code",
      "metadata": {
        "id": "CdJu4bTMhRhu",
        "colab_type": "code",
        "colab": {
          "base_uri": "https://localhost:8080/",
          "height": 53
        },
        "outputId": "028068f9-ae14-4078-fe80-9a64bd1b2684"
      },
      "source": [
        "# row from #0 - #1 & column from #0 - #2 equivalent to -> [0:2,0:3]\n",
        "x2[:2, :3]"
      ],
      "execution_count": 48,
      "outputs": [
        {
          "output_type": "execute_result",
          "data": {
            "text/plain": [
              "array([[3, 5, 2],\n",
              "       [7, 6, 8]])"
            ]
          },
          "metadata": {
            "tags": []
          },
          "execution_count": 48
        }
      ]
    },
    {
      "cell_type": "code",
      "metadata": {
        "id": "k_bDThnrk8Os",
        "colab_type": "code",
        "colab": {
          "base_uri": "https://localhost:8080/",
          "height": 72
        },
        "outputId": "f12ed872-6df6-4809-f85d-00840995c65e"
      },
      "source": [
        "# row from #0 to #2 & every 2nd column\n",
        "x2[:3, ::2] "
      ],
      "execution_count": 49,
      "outputs": [
        {
          "output_type": "execute_result",
          "data": {
            "text/plain": [
              "array([[3, 2],\n",
              "       [7, 8],\n",
              "       [1, 7]])"
            ]
          },
          "metadata": {
            "tags": []
          },
          "execution_count": 49
        }
      ]
    },
    {
      "cell_type": "code",
      "metadata": {
        "id": "HtnuxK3anhBh",
        "colab_type": "code",
        "colab": {
          "base_uri": "https://localhost:8080/",
          "height": 72
        },
        "outputId": "53a5aa56-364e-4830-a80b-71568374a9c9"
      },
      "source": [
        "# first reverse all row, then all columns!\n",
        "x2[::-1, ::-1]\n"
      ],
      "execution_count": 50,
      "outputs": [
        {
          "output_type": "execute_result",
          "data": {
            "text/plain": [
              "array([[7, 7, 6, 1],\n",
              "       [8, 8, 6, 7],\n",
              "       [4, 2, 5, 3]])"
            ]
          },
          "metadata": {
            "tags": []
          },
          "execution_count": 50
        }
      ]
    },
    {
      "cell_type": "markdown",
      "metadata": {
        "id": "j9ycxJJjDEpy",
        "colab_type": "text"
      },
      "source": [
        "#### Accessing array rows and columns\n",
        "One commonly needed routine is accessing single\n",
        "rows or columns of an array. You can do this by combining indexing and slicing,\n",
        "using an empty slice marked by a single colon (:)"
      ]
    },
    {
      "cell_type": "code",
      "metadata": {
        "id": "TCoNyJqnStXB",
        "colab_type": "code",
        "colab": {
          "base_uri": "https://localhost:8080/",
          "height": 72
        },
        "outputId": "c49d77a4-6b88-4f98-877c-85979d6b21c5"
      },
      "source": [
        "x2"
      ],
      "execution_count": 54,
      "outputs": [
        {
          "output_type": "execute_result",
          "data": {
            "text/plain": [
              "array([[3, 5, 2, 4],\n",
              "       [7, 6, 8, 8],\n",
              "       [1, 6, 7, 7]])"
            ]
          },
          "metadata": {
            "tags": []
          },
          "execution_count": 54
        }
      ]
    },
    {
      "cell_type": "code",
      "metadata": {
        "id": "JJ7qcrXBDaBt",
        "colab_type": "code",
        "colab": {
          "base_uri": "https://localhost:8080/",
          "height": 35
        },
        "outputId": "ebf7878f-8e05-4dc8-fb7d-66c10738526d"
      },
      "source": [
        "# 0th column only, but all columns -> entire 0th row\n",
        "x2[0, :]"
      ],
      "execution_count": 60,
      "outputs": [
        {
          "output_type": "execute_result",
          "data": {
            "text/plain": [
              "array([3, 5, 2, 4])"
            ]
          },
          "metadata": {
            "tags": []
          },
          "execution_count": 60
        }
      ]
    },
    {
      "cell_type": "code",
      "metadata": {
        "id": "_G58uqRpDnuw",
        "colab_type": "code",
        "colab": {
          "base_uri": "https://localhost:8080/",
          "height": 35
        },
        "outputId": "c8df4dba-ea38-4f73-a549-355e0bd3341d"
      },
      "source": [
        "# all rows values containing in 0th column\n",
        "x2[:, 0]"
      ],
      "execution_count": 61,
      "outputs": [
        {
          "output_type": "execute_result",
          "data": {
            "text/plain": [
              "array([3, 7, 1])"
            ]
          },
          "metadata": {
            "tags": []
          },
          "execution_count": 61
        }
      ]
    },
    {
      "cell_type": "code",
      "metadata": {
        "id": "rl8rSNJID_AB",
        "colab_type": "code",
        "colab": {
          "base_uri": "https://localhost:8080/",
          "height": 35
        },
        "outputId": "69ab1260-37f8-442d-9cc0-25b2996e93fa"
      },
      "source": [
        "# Entire 0th Row -> x2[0, :]\n",
        "x2[0]"
      ],
      "execution_count": 62,
      "outputs": [
        {
          "output_type": "execute_result",
          "data": {
            "text/plain": [
              "array([3, 5, 2, 4])"
            ]
          },
          "metadata": {
            "tags": []
          },
          "execution_count": 62
        }
      ]
    },
    {
      "cell_type": "code",
      "metadata": {
        "id": "l7ffjyNRELg8",
        "colab_type": "code",
        "colab": {
          "base_uri": "https://localhost:8080/",
          "height": 35
        },
        "outputId": "988c3ba7-09ff-4e9a-817c-910f222de301"
      },
      "source": [
        "# Entire 2th Row -> x2[2, :]\n",
        "x2[2]"
      ],
      "execution_count": 63,
      "outputs": [
        {
          "output_type": "execute_result",
          "data": {
            "text/plain": [
              "array([1, 6, 7, 7])"
            ]
          },
          "metadata": {
            "tags": []
          },
          "execution_count": 63
        }
      ]
    },
    {
      "cell_type": "markdown",
      "metadata": {
        "id": "oefjTqDKEigd",
        "colab_type": "text"
      },
      "source": [
        "### Subarrays as no-copy views\n"
      ]
    },
    {
      "cell_type": "code",
      "metadata": {
        "id": "3pejiAnsE08c",
        "colab_type": "code",
        "colab": {}
      },
      "source": [
        "# One important—and extremely useful—thing to know about array slices is that they\n",
        "# return views rather than copies of the array data"
      ],
      "execution_count": null,
      "outputs": []
    },
    {
      "cell_type": "code",
      "metadata": {
        "id": "CDpwilswEesf",
        "colab_type": "code",
        "colab": {
          "base_uri": "https://localhost:8080/",
          "height": 72
        },
        "outputId": "bdcc1718-cef1-4e2e-b35a-3c82409b57bd"
      },
      "source": [
        "x2"
      ],
      "execution_count": 64,
      "outputs": [
        {
          "output_type": "execute_result",
          "data": {
            "text/plain": [
              "array([[3, 5, 2, 4],\n",
              "       [7, 6, 8, 8],\n",
              "       [1, 6, 7, 7]])"
            ]
          },
          "metadata": {
            "tags": []
          },
          "execution_count": 64
        }
      ]
    },
    {
      "cell_type": "code",
      "metadata": {
        "id": "xdzpiJ2kEpcf",
        "colab_type": "code",
        "colab": {
          "base_uri": "https://localhost:8080/",
          "height": 53
        },
        "outputId": "b68fd3b1-6136-4ad4-beeb-77863a047b42"
      },
      "source": [
        "# viewing rows 0-1 and column 0-2\n",
        "x2_sub = x2[:2, :3]\n",
        "print(x2_sub)\n"
      ],
      "execution_count": 68,
      "outputs": [
        {
          "output_type": "stream",
          "text": [
            "[[   3    5    2]\n",
            " [   7    6 1000]]\n"
          ],
          "name": "stdout"
        }
      ]
    },
    {
      "cell_type": "code",
      "metadata": {
        "id": "W8R6tvtwFJN9",
        "colab_type": "code",
        "colab": {}
      },
      "source": [
        "# Now if we assign value here, it will mutate the original x2 2D array\n",
        "x2[1,2] = 1000"
      ],
      "execution_count": 66,
      "outputs": []
    },
    {
      "cell_type": "code",
      "metadata": {
        "id": "-DaPCE8jFb85",
        "colab_type": "code",
        "colab": {
          "base_uri": "https://localhost:8080/",
          "height": 72
        },
        "outputId": "aa0281d8-aa4c-419f-e41c-e18080255e01"
      },
      "source": [
        "# therefore we resigned a value of 1000 on row #1 and col #2\n",
        "# now 8 is removed and is having 1000 value!\n",
        "# this provies we get a view instead of copy like in normal python!\n",
        "x2"
      ],
      "execution_count": 67,
      "outputs": [
        {
          "output_type": "execute_result",
          "data": {
            "text/plain": [
              "array([[   3,    5,    2,    4],\n",
              "       [   7,    6, 1000,    8],\n",
              "       [   1,    6,    7,    7]])"
            ]
          },
          "metadata": {
            "tags": []
          },
          "execution_count": 67
        }
      ]
    },
    {
      "cell_type": "markdown",
      "metadata": {
        "id": "gRYMwIpiGCQR",
        "colab_type": "text"
      },
      "source": [
        "### Creating copies of arrays\n"
      ]
    },
    {
      "cell_type": "code",
      "metadata": {
        "id": "Wycr0_JKGpwt",
        "colab_type": "code",
        "colab": {
          "base_uri": "https://localhost:8080/",
          "height": 72
        },
        "outputId": "01eb3243-1406-4afd-fbf7-2de2824bb1a7"
      },
      "source": [
        "x2"
      ],
      "execution_count": 69,
      "outputs": [
        {
          "output_type": "execute_result",
          "data": {
            "text/plain": [
              "array([[   3,    5,    2,    4],\n",
              "       [   7,    6, 1000,    8],\n",
              "       [   1,    6,    7,    7]])"
            ]
          },
          "metadata": {
            "tags": []
          },
          "execution_count": 69
        }
      ]
    },
    {
      "cell_type": "code",
      "metadata": {
        "id": "yDXU-rkDFdza",
        "colab_type": "code",
        "colab": {
          "base_uri": "https://localhost:8080/",
          "height": 53
        },
        "outputId": "e78b79cb-b924-4629-acb4-0aae0411d122"
      },
      "source": [
        "# if we want to create a real copy,istead of view, we can use .copy() method\n",
        "\n",
        "x2_sub_copy = x2[:2, :2].copy()\n",
        "print(x2_sub_copy)"
      ],
      "execution_count": 70,
      "outputs": [
        {
          "output_type": "stream",
          "text": [
            "[[3 5]\n",
            " [7 6]]\n"
          ],
          "name": "stdout"
        }
      ]
    },
    {
      "cell_type": "code",
      "metadata": {
        "id": "UErpKCupGtn8",
        "colab_type": "code",
        "colab": {}
      },
      "source": [
        "x2_sub_copy[0,1] = 555"
      ],
      "execution_count": 71,
      "outputs": []
    },
    {
      "cell_type": "code",
      "metadata": {
        "id": "R-3MH1HrG2yT",
        "colab_type": "code",
        "colab": {
          "base_uri": "https://localhost:8080/",
          "height": 53
        },
        "outputId": "aba8b15b-2a2c-4703-81fc-40cb0d793c4d"
      },
      "source": [
        "# Therefore row #0's column #1 got changed!\n",
        "x2_sub_copy"
      ],
      "execution_count": 72,
      "outputs": [
        {
          "output_type": "execute_result",
          "data": {
            "text/plain": [
              "array([[  3, 555],\n",
              "       [  7,   6]])"
            ]
          },
          "metadata": {
            "tags": []
          },
          "execution_count": 72
        }
      ]
    },
    {
      "cell_type": "code",
      "metadata": {
        "id": "xfQStO59G3wv",
        "colab_type": "code",
        "colab": {
          "base_uri": "https://localhost:8080/",
          "height": 72
        },
        "outputId": "b330d585-8049-480d-c8c8-793da310e014"
      },
      "source": [
        "# here we can see the original x2 is not changed, only x2_sub_copy is changed.\n",
        "x2"
      ],
      "execution_count": 73,
      "outputs": [
        {
          "output_type": "execute_result",
          "data": {
            "text/plain": [
              "array([[   3,    5,    2,    4],\n",
              "       [   7,    6, 1000,    8],\n",
              "       [   1,    6,    7,    7]])"
            ]
          },
          "metadata": {
            "tags": []
          },
          "execution_count": 73
        }
      ]
    },
    {
      "cell_type": "markdown",
      "metadata": {
        "id": "dix86MvXHTYs",
        "colab_type": "text"
      },
      "source": [
        "# Reshaping of Arrays\n"
      ]
    },
    {
      "cell_type": "code",
      "metadata": {
        "id": "u9_LpenUHRsI",
        "colab_type": "code",
        "colab": {
          "base_uri": "https://localhost:8080/",
          "height": 35
        },
        "outputId": "820597a5-13bb-432b-e752-213275018953"
      },
      "source": [
        "arr = np.arange(1, 10)\n",
        "arr"
      ],
      "execution_count": 75,
      "outputs": [
        {
          "output_type": "execute_result",
          "data": {
            "text/plain": [
              "array([1, 2, 3, 4, 5, 6, 7, 8, 9])"
            ]
          },
          "metadata": {
            "tags": []
          },
          "execution_count": 75
        }
      ]
    },
    {
      "cell_type": "code",
      "metadata": {
        "id": "Q_NghZpYG77B",
        "colab_type": "code",
        "colab": {
          "base_uri": "https://localhost:8080/",
          "height": 72
        },
        "outputId": "089d4229-e532-447f-f7da-7cc260610de5"
      },
      "source": [
        "grid = arr.reshape(3,3)\n",
        "grid"
      ],
      "execution_count": 77,
      "outputs": [
        {
          "output_type": "execute_result",
          "data": {
            "text/plain": [
              "array([[1, 2, 3],\n",
              "       [4, 5, 6],\n",
              "       [7, 8, 9]])"
            ]
          },
          "metadata": {
            "tags": []
          },
          "execution_count": 77
        }
      ]
    },
    {
      "cell_type": "code",
      "metadata": {
        "id": "xCIlQE2gHo3c",
        "colab_type": "code",
        "colab": {
          "base_uri": "https://localhost:8080/",
          "height": 35
        },
        "outputId": "6dcf87c1-aa8f-4bfa-d891-ee6842594300"
      },
      "source": [
        "x = np.array([1, 2, 3])\n",
        "x"
      ],
      "execution_count": 78,
      "outputs": [
        {
          "output_type": "execute_result",
          "data": {
            "text/plain": [
              "array([1, 2, 3])"
            ]
          },
          "metadata": {
            "tags": []
          },
          "execution_count": 78
        }
      ]
    },
    {
      "cell_type": "code",
      "metadata": {
        "id": "iOWf9oL_H5i7",
        "colab_type": "code",
        "colab": {
          "base_uri": "https://localhost:8080/",
          "height": 35
        },
        "outputId": "bf787b50-1379-4616-cfef-df468bda1bcf"
      },
      "source": [
        "# Creating Row Vector\n",
        "\n",
        "x.reshape(1,3) # doesnot mutastes original x arr"
      ],
      "execution_count": 79,
      "outputs": [
        {
          "output_type": "execute_result",
          "data": {
            "text/plain": [
              "array([[1, 2, 3]])"
            ]
          },
          "metadata": {
            "tags": []
          },
          "execution_count": 79
        }
      ]
    },
    {
      "cell_type": "code",
      "metadata": {
        "id": "S-cxji_aH-FV",
        "colab_type": "code",
        "colab": {
          "base_uri": "https://localhost:8080/",
          "height": 72
        },
        "outputId": "7a01b7d7-6377-4b38-ae36-45e2d3a872eb"
      },
      "source": [
        "# Creating Column Vector\n",
        "x.reshape(3,1)"
      ],
      "execution_count": 81,
      "outputs": [
        {
          "output_type": "execute_result",
          "data": {
            "text/plain": [
              "array([[1],\n",
              "       [2],\n",
              "       [3]])"
            ]
          },
          "metadata": {
            "tags": []
          },
          "execution_count": 81
        }
      ]
    },
    {
      "cell_type": "code",
      "metadata": {
        "id": "MQw3La_JIAWa",
        "colab_type": "code",
        "colab": {
          "base_uri": "https://localhost:8080/",
          "height": 35
        },
        "outputId": "ad346201-00e4-4943-a617-3b28f0a04d85"
      },
      "source": [
        "#same thing can be achived using np.newaxis\n",
        "\n",
        "x[np.newaxis,:] # creates row vector"
      ],
      "execution_count": 84,
      "outputs": [
        {
          "output_type": "execute_result",
          "data": {
            "text/plain": [
              "array([[1, 2, 3]])"
            ]
          },
          "metadata": {
            "tags": []
          },
          "execution_count": 84
        }
      ]
    },
    {
      "cell_type": "code",
      "metadata": {
        "id": "dU6x6qmQIqql",
        "colab_type": "code",
        "colab": {
          "base_uri": "https://localhost:8080/",
          "height": 72
        },
        "outputId": "9a638bbb-82fa-4581-8add-190bb1209faa"
      },
      "source": [
        "x[:,np.newaxis] # creates column vector"
      ],
      "execution_count": 85,
      "outputs": [
        {
          "output_type": "execute_result",
          "data": {
            "text/plain": [
              "array([[1],\n",
              "       [2],\n",
              "       [3]])"
            ]
          },
          "metadata": {
            "tags": []
          },
          "execution_count": 85
        }
      ]
    },
    {
      "cell_type": "markdown",
      "metadata": {
        "id": "YggL2obYJ-8T",
        "colab_type": "text"
      },
      "source": [
        "# Array Concatenation and Splitting\n"
      ]
    },
    {
      "cell_type": "markdown",
      "metadata": {
        "id": "ywkJg9_MKAqt",
        "colab_type": "text"
      },
      "source": [
        "## Concatenation of arrays\n"
      ]
    },
    {
      "cell_type": "code",
      "metadata": {
        "id": "i3n5ZR5SJ7bK",
        "colab_type": "code",
        "colab": {
          "base_uri": "https://localhost:8080/",
          "height": 35
        },
        "outputId": "6cb8d2ed-d522-4ca2-aad7-156613efbc8d"
      },
      "source": [
        "#row wise concat of 1D arrays\n",
        "x = np.array([1, 2, 3])\n",
        "y = np.array([3, 2, 1])\n",
        "\n",
        "np.concatenate([x, y])\n"
      ],
      "execution_count": 88,
      "outputs": [
        {
          "output_type": "execute_result",
          "data": {
            "text/plain": [
              "array([1, 2, 3, 3, 2, 1])"
            ]
          },
          "metadata": {
            "tags": []
          },
          "execution_count": 88
        }
      ]
    },
    {
      "cell_type": "code",
      "metadata": {
        "id": "xKehRi6VI6fL",
        "colab_type": "code",
        "colab": {}
      },
      "source": [
        "z = [10, 10, 101]\n"
      ],
      "execution_count": 90,
      "outputs": []
    },
    {
      "cell_type": "code",
      "metadata": {
        "id": "DuAA1lY9KL-G",
        "colab_type": "code",
        "colab": {
          "base_uri": "https://localhost:8080/",
          "height": 35
        },
        "outputId": "4fc69dd2-9a43-4602-e352-c6606b1a0b91"
      },
      "source": [
        "np.concatenate([x, y, z],axis = 0)"
      ],
      "execution_count": 94,
      "outputs": [
        {
          "output_type": "execute_result",
          "data": {
            "text/plain": [
              "array([  1,   2,   3,   3,   2,   1,  10,  10, 101])"
            ]
          },
          "metadata": {
            "tags": []
          },
          "execution_count": 94
        }
      ]
    },
    {
      "cell_type": "code",
      "metadata": {
        "id": "e-339Ez6KRHA",
        "colab_type": "code",
        "colab": {
          "base_uri": "https://localhost:8080/",
          "height": 53
        },
        "outputId": "27cb1c79-2aed-42b7-a2b0-04c257549233"
      },
      "source": [
        "# 2D array\n",
        "grid1 = np.array([[1, 2, 3],[4, 5, 6]])\n",
        "grid1"
      ],
      "execution_count": 97,
      "outputs": [
        {
          "output_type": "execute_result",
          "data": {
            "text/plain": [
              "array([[1, 2, 3],\n",
              "       [4, 5, 6]])"
            ]
          },
          "metadata": {
            "tags": []
          },
          "execution_count": 97
        }
      ]
    },
    {
      "cell_type": "code",
      "metadata": {
        "id": "7r2teeO-KqlZ",
        "colab_type": "code",
        "colab": {
          "base_uri": "https://localhost:8080/",
          "height": 53
        },
        "outputId": "93143fe2-a041-4786-d0fa-6a9a3288dcbf"
      },
      "source": [
        "grid2 = np.array([[10, 20, 30],[40, 50, 60]])\n",
        "grid2"
      ],
      "execution_count": 98,
      "outputs": [
        {
          "output_type": "execute_result",
          "data": {
            "text/plain": [
              "array([[10, 20, 30],\n",
              "       [40, 50, 60]])"
            ]
          },
          "metadata": {
            "tags": []
          },
          "execution_count": 98
        }
      ]
    },
    {
      "cell_type": "code",
      "metadata": {
        "id": "UE01bmaNK6IQ",
        "colab_type": "code",
        "colab": {
          "base_uri": "https://localhost:8080/",
          "height": 90
        },
        "outputId": "4c8de35d-355f-4f0c-c784-3aaf743d1ff6"
      },
      "source": [
        "np.concatenate([grid1,grid2])"
      ],
      "execution_count": 102,
      "outputs": [
        {
          "output_type": "execute_result",
          "data": {
            "text/plain": [
              "array([[ 1,  2,  3],\n",
              "       [ 4,  5,  6],\n",
              "       [10, 20, 30],\n",
              "       [40, 50, 60]])"
            ]
          },
          "metadata": {
            "tags": []
          },
          "execution_count": 102
        }
      ]
    },
    {
      "cell_type": "code",
      "metadata": {
        "id": "q5m7K_BEK-3C",
        "colab_type": "code",
        "colab": {
          "base_uri": "https://localhost:8080/",
          "height": 72
        },
        "outputId": "3e00953c-a27b-47d5-e5db-53d2b9c9dac5"
      },
      "source": [
        "#vstack\n",
        "\n",
        "arr = np.array([1,2,3])\n",
        "np.vstack([arr,grid2])"
      ],
      "execution_count": 103,
      "outputs": [
        {
          "output_type": "execute_result",
          "data": {
            "text/plain": [
              "array([[ 1,  2,  3],\n",
              "       [10, 20, 30],\n",
              "       [40, 50, 60]])"
            ]
          },
          "metadata": {
            "tags": []
          },
          "execution_count": 103
        }
      ]
    },
    {
      "cell_type": "code",
      "metadata": {
        "id": "bxy28Hc0LnxB",
        "colab_type": "code",
        "colab": {
          "base_uri": "https://localhost:8080/",
          "height": 53
        },
        "outputId": "9a6843bb-e56d-4d31-a945-76826c91bb39"
      },
      "source": [
        "#hstack\n",
        "carr = np.array([500,600]).reshape(2,1)\n",
        "carr"
      ],
      "execution_count": 109,
      "outputs": [
        {
          "output_type": "execute_result",
          "data": {
            "text/plain": [
              "array([[500],\n",
              "       [600]])"
            ]
          },
          "metadata": {
            "tags": []
          },
          "execution_count": 109
        }
      ]
    },
    {
      "cell_type": "code",
      "metadata": {
        "id": "XlVpaVhzLuZq",
        "colab_type": "code",
        "colab": {
          "base_uri": "https://localhost:8080/",
          "height": 53
        },
        "outputId": "61242be5-9bac-4c55-c3c2-7d87b7d9a935"
      },
      "source": [
        "np.hstack([carr,grid2])"
      ],
      "execution_count": 110,
      "outputs": [
        {
          "output_type": "execute_result",
          "data": {
            "text/plain": [
              "array([[500,  10,  20,  30],\n",
              "       [600,  40,  50,  60]])"
            ]
          },
          "metadata": {
            "tags": []
          },
          "execution_count": 110
        }
      ]
    },
    {
      "cell_type": "code",
      "metadata": {
        "id": "mKFyJYKyMTHu",
        "colab_type": "code",
        "colab": {
          "base_uri": "https://localhost:8080/",
          "height": 53
        },
        "outputId": "35faffa4-d6d6-49de-cf8b-48415370edbd"
      },
      "source": [
        "np.hstack([grid2,carr])"
      ],
      "execution_count": 111,
      "outputs": [
        {
          "output_type": "execute_result",
          "data": {
            "text/plain": [
              "array([[ 10,  20,  30, 500],\n",
              "       [ 40,  50,  60, 600]])"
            ]
          },
          "metadata": {
            "tags": []
          },
          "execution_count": 111
        }
      ]
    },
    {
      "cell_type": "markdown",
      "metadata": {
        "id": "He7ZT87AM5-z",
        "colab_type": "text"
      },
      "source": [
        "## Splitting of arrays\n"
      ]
    },
    {
      "cell_type": "markdown",
      "metadata": {
        "id": "RmmDjULYPiIJ",
        "colab_type": "text"
      },
      "source": [
        "### 1D array"
      ]
    },
    {
      "cell_type": "code",
      "metadata": {
        "id": "p1vYaF7CNB_b",
        "colab_type": "code",
        "colab": {}
      },
      "source": [
        "\n",
        "x = [0,1, 2, 3, 4, 5, 6, 7,8,9,10]\n"
      ],
      "execution_count": 126,
      "outputs": []
    },
    {
      "cell_type": "code",
      "metadata": {
        "id": "uCUq5jLOOJEn",
        "colab_type": "code",
        "colab": {
          "base_uri": "https://localhost:8080/",
          "height": 35
        },
        "outputId": "5853144e-7787-4c97-e99e-ca411d45e9c4"
      },
      "source": [
        "# Spilits the array after index #1 into two halves \n",
        "x1,x2 = np.split(x, [2])\n",
        "print(x1, x2)"
      ],
      "execution_count": 128,
      "outputs": [
        {
          "output_type": "stream",
          "text": [
            "[0 1] [ 2  3  4  5  6  7  8  9 10]\n"
          ],
          "name": "stdout"
        }
      ]
    },
    {
      "cell_type": "code",
      "metadata": {
        "id": "Br773M82OVNz",
        "colab_type": "code",
        "colab": {
          "base_uri": "https://localhost:8080/",
          "height": 35
        },
        "outputId": "dff77504-518f-4b1d-c878-8172a4226eb8"
      },
      "source": [
        "# Spilits the array after index #4 into two halves \n",
        "x1,x2 = np.split(x, [4])\n",
        "print(x1, x2)"
      ],
      "execution_count": 130,
      "outputs": [
        {
          "output_type": "stream",
          "text": [
            "[0 1 2 3] [ 4  5  6  7  8  9 10]\n"
          ],
          "name": "stdout"
        }
      ]
    },
    {
      "cell_type": "code",
      "metadata": {
        "id": "xtAgrmtHOoi7",
        "colab_type": "code",
        "colab": {
          "base_uri": "https://localhost:8080/",
          "height": 35
        },
        "outputId": "6652577a-f4fe-43f5-b3b0-902ac88eced1"
      },
      "source": [
        "# Spilits the array into 3 parts, first part (#0 - #1) ,(#2-#3 ), (#4 - remaining)\n",
        "x1,x2,x3 = np.split(x, [2,4])\n",
        "print(x1, x2,x3)"
      ],
      "execution_count": 131,
      "outputs": [
        {
          "output_type": "stream",
          "text": [
            "[0 1] [2 3] [ 4  5  6  7  8  9 10]\n"
          ],
          "name": "stdout"
        }
      ]
    },
    {
      "cell_type": "code",
      "metadata": {
        "id": "W9MR6nLBPIFg",
        "colab_type": "code",
        "colab": {
          "base_uri": "https://localhost:8080/",
          "height": 35
        },
        "outputId": "876e0f07-03e8-4f58-a076-bd915a440943"
      },
      "source": [
        "# Spilits the array into 4 parts, first part (#0 - #1) ,(#2-#3 ), (#4 - #5),(#6 - remaining)\n",
        "x1,x2,x3,x4 = np.split(x, [2,4,6])\n",
        "print(x1, x2,x3,x4)"
      ],
      "execution_count": 132,
      "outputs": [
        {
          "output_type": "stream",
          "text": [
            "[0 1] [2 3] [4 5] [ 6  7  8  9 10]\n"
          ],
          "name": "stdout"
        }
      ]
    },
    {
      "cell_type": "markdown",
      "metadata": {
        "id": "PSQvboFaPlg3",
        "colab_type": "text"
      },
      "source": [
        "### 2D Array"
      ]
    },
    {
      "cell_type": "code",
      "metadata": {
        "id": "oTBFCI0-Pabh",
        "colab_type": "code",
        "colab": {
          "base_uri": "https://localhost:8080/",
          "height": 90
        },
        "outputId": "f2d51dea-1ab1-45a0-f402-b92b43cb1e59"
      },
      "source": [
        "grid = np.arange(10,26).reshape((4, 4))\n",
        "grid\n"
      ],
      "execution_count": 136,
      "outputs": [
        {
          "output_type": "execute_result",
          "data": {
            "text/plain": [
              "array([[10, 11, 12, 13],\n",
              "       [14, 15, 16, 17],\n",
              "       [18, 19, 20, 21],\n",
              "       [22, 23, 24, 25]])"
            ]
          },
          "metadata": {
            "tags": []
          },
          "execution_count": 136
        }
      ]
    },
    {
      "cell_type": "code",
      "metadata": {
        "id": "XC5Q5yPnPs60",
        "colab_type": "code",
        "colab": {
          "base_uri": "https://localhost:8080/",
          "height": 126
        },
        "outputId": "929f4ec7-eab3-4f89-9762-e2df575918ee"
      },
      "source": [
        "# vertically splits after row index #1\n",
        "upper, lower = np.vsplit(grid, [2])\n",
        "print(upper)\n",
        "print('\\n')\n",
        "print(lower)\n"
      ],
      "execution_count": 137,
      "outputs": [
        {
          "output_type": "stream",
          "text": [
            "[[10 11 12 13]\n",
            " [14 15 16 17]]\n",
            "\n",
            "\n",
            "[[18 19 20 21]\n",
            " [22 23 24 25]]\n"
          ],
          "name": "stdout"
        }
      ]
    },
    {
      "cell_type": "code",
      "metadata": {
        "id": "EoJWS7RZPy6y",
        "colab_type": "code",
        "colab": {
          "base_uri": "https://localhost:8080/",
          "height": 199
        },
        "outputId": "95928d06-3189-4af4-ec6f-9f171951b58d"
      },
      "source": [
        "# horizontally splits after column index #1\n",
        "left, right = np.hsplit(grid, [2])\n",
        "print(left)\n",
        "print('\\n')\n",
        "print(right)"
      ],
      "execution_count": 139,
      "outputs": [
        {
          "output_type": "stream",
          "text": [
            "[[10 11]\n",
            " [14 15]\n",
            " [18 19]\n",
            " [22 23]]\n",
            "\n",
            "\n",
            "[[12 13]\n",
            " [16 17]\n",
            " [20 21]\n",
            " [24 25]]\n"
          ],
          "name": "stdout"
        }
      ]
    },
    {
      "cell_type": "markdown",
      "metadata": {
        "id": "Jd__p1_FQb3R",
        "colab_type": "text"
      },
      "source": [
        "# Computation on NumPy Arrays: Universal Functions\n",
        "\n",
        "Computation on NumPy arrays can be very fast, or it can be very slow. The key to\n",
        "making it fast is to use vectorized operations, generally implemented through Num‐\n",
        "Py’s universal functions (ufuncs).\n"
      ]
    },
    {
      "cell_type": "markdown",
      "metadata": {
        "id": "-gRFoESuQ8nd",
        "colab_type": "text"
      },
      "source": [
        "## Introducing UFuncs\n",
        "For many types of operations, NumPy provides a convenient interface into just this\n",
        "kind of statically typed, compiled routine. This is known as a vectorized operation.\n",
        "You can accomplish this by simply performing an operation on the array, which will\n",
        "then be applied to each element. This vectorized approach is designed to push the\n",
        "loop into the compiled layer that underlies NumPy, leading to much faster execution."
      ]
    },
    {
      "cell_type": "code",
      "metadata": {
        "id": "dJsNJIw0QWnu",
        "colab_type": "code",
        "colab": {
          "base_uri": "https://localhost:8080/",
          "height": 35
        },
        "outputId": "e79164ae-4f20-45cc-d68f-4add266b1d43"
      },
      "source": [
        "np.arange(5) / np.arange(1, 6)"
      ],
      "execution_count": 140,
      "outputs": [
        {
          "output_type": "execute_result",
          "data": {
            "text/plain": [
              "array([0.        , 0.5       , 0.66666667, 0.75      , 0.8       ])"
            ]
          },
          "metadata": {
            "tags": []
          },
          "execution_count": 140
        }
      ]
    },
    {
      "cell_type": "code",
      "metadata": {
        "id": "_ChlHw1KRRtv",
        "colab_type": "code",
        "colab": {
          "base_uri": "https://localhost:8080/",
          "height": 72
        },
        "outputId": "c148ca86-5343-44bb-91fd-9c94dd3fe20d"
      },
      "source": [
        "x = np.arange(9).reshape((3, 3))\n",
        "2 ** x"
      ],
      "execution_count": 141,
      "outputs": [
        {
          "output_type": "execute_result",
          "data": {
            "text/plain": [
              "array([[  1,   2,   4],\n",
              "       [  8,  16,  32],\n",
              "       [ 64, 128, 256]])"
            ]
          },
          "metadata": {
            "tags": []
          },
          "execution_count": 141
        }
      ]
    },
    {
      "cell_type": "markdown",
      "metadata": {
        "id": "vCGlMy_6RWFs",
        "colab_type": "text"
      },
      "source": [
        "## Exploring NumPy’s UFuncs\n"
      ]
    },
    {
      "cell_type": "markdown",
      "metadata": {
        "id": "C_vtbqLFRgJI",
        "colab_type": "text"
      },
      "source": [
        "### Array arithmetic\n"
      ]
    },
    {
      "cell_type": "code",
      "metadata": {
        "id": "CaZfUZ-5RUE8",
        "colab_type": "code",
        "colab": {
          "base_uri": "https://localhost:8080/",
          "height": 181
        },
        "outputId": "f5572bed-6073-4d7b-a164-6947d33bbc7c"
      },
      "source": [
        "x = np.arange(4)\n",
        "print(\" x       = \", x)\n",
        "print(\" x + 5.0 = \", x + 5.0) # addition with float value converts the entire array to float\n",
        "print(\" x - 2   = \", x - 2)\n",
        "print(\" x * 2   = \", x * 2)\n",
        "print(\" x / 2   = \", x / 2)\n",
        "print(\" x // 2  = \", x // 2) # floor division(returns INT)\n",
        "print(\"-x       = \", -x)\n",
        "print(\" x ** 2  = \", x ** 2)\n",
        "print(\" x % 2   = \", x % 2)"
      ],
      "execution_count": 149,
      "outputs": [
        {
          "output_type": "stream",
          "text": [
            " x       =  [0 1 2 3]\n",
            " x + 5.0 =  [5. 6. 7. 8.]\n",
            " x - 2   =  [-2 -1  0  1]\n",
            " x * 2   =  [0 2 4 6]\n",
            " x / 2   =  [0.  0.5 1.  1.5]\n",
            " x // 2  =  [0 0 1 1]\n",
            "-x       =  [ 0 -1 -2 -3]\n",
            " x ** 2  =  [0 1 4 9]\n",
            " x % 2   =  [0 1 0 1]\n"
          ],
          "name": "stdout"
        }
      ]
    },
    {
      "cell_type": "markdown",
      "metadata": {
        "id": "VhYlvRz6Sjju",
        "colab_type": "text"
      },
      "source": [
        "### Absolute value\n"
      ]
    },
    {
      "cell_type": "code",
      "metadata": {
        "id": "1OfeK75ERtpx",
        "colab_type": "code",
        "colab": {
          "base_uri": "https://localhost:8080/",
          "height": 35
        },
        "outputId": "75adfc7b-3283-4366-c1ac-7fd19802df23"
      },
      "source": [
        "x = np.array([-2, -1, 0, 1, 2])\n",
        "abs(x) # <-- This is python's abs function"
      ],
      "execution_count": 150,
      "outputs": [
        {
          "output_type": "execute_result",
          "data": {
            "text/plain": [
              "array([2, 1, 0, 1, 2])"
            ]
          },
          "metadata": {
            "tags": []
          },
          "execution_count": 150
        }
      ]
    },
    {
      "cell_type": "code",
      "metadata": {
        "id": "KBBy_vXgSnNW",
        "colab_type": "code",
        "colab": {
          "base_uri": "https://localhost:8080/",
          "height": 35
        },
        "outputId": "3df057da-d07f-4387-f32c-0d3846a29947"
      },
      "source": [
        "np.absolute(x)"
      ],
      "execution_count": 151,
      "outputs": [
        {
          "output_type": "execute_result",
          "data": {
            "text/plain": [
              "array([2, 1, 0, 1, 2])"
            ]
          },
          "metadata": {
            "tags": []
          },
          "execution_count": 151
        }
      ]
    },
    {
      "cell_type": "code",
      "metadata": {
        "id": "yuS49KslS1EY",
        "colab_type": "code",
        "colab": {
          "base_uri": "https://localhost:8080/",
          "height": 35
        },
        "outputId": "9c6c93a8-724e-43e6-f7b3-c077761d4a56"
      },
      "source": [
        "np.abs(x)\n"
      ],
      "execution_count": 152,
      "outputs": [
        {
          "output_type": "execute_result",
          "data": {
            "text/plain": [
              "array([2, 1, 0, 1, 2])"
            ]
          },
          "metadata": {
            "tags": []
          },
          "execution_count": 152
        }
      ]
    },
    {
      "cell_type": "markdown",
      "metadata": {
        "id": "l0z6H_gOS7IL",
        "colab_type": "text"
      },
      "source": [
        "### Trigonometric functions\n"
      ]
    },
    {
      "cell_type": "code",
      "metadata": {
        "id": "k6PbaCOsS3Bt",
        "colab_type": "code",
        "colab": {}
      },
      "source": [
        "theta = np.linspace(0, np.pi, 3)"
      ],
      "execution_count": 153,
      "outputs": []
    },
    {
      "cell_type": "code",
      "metadata": {
        "id": "LIVVJCTmS-SA",
        "colab_type": "code",
        "colab": {
          "base_uri": "https://localhost:8080/",
          "height": 90
        },
        "outputId": "425a7674-3045-4d50-d573-07bfdeb5576c"
      },
      "source": [
        "print(\"theta      = \", theta)\n",
        "print(\"sin(theta) = \", np.sin(theta))\n",
        "print(\"cos(theta) = \", np.cos(theta))\n",
        "print(\"tan(theta) = \", np.tan(theta))"
      ],
      "execution_count": 154,
      "outputs": [
        {
          "output_type": "stream",
          "text": [
            "theta      =  [0.         1.57079633 3.14159265]\n",
            "sin(theta) =  [0.0000000e+00 1.0000000e+00 1.2246468e-16]\n",
            "cos(theta) =  [ 1.000000e+00  6.123234e-17 -1.000000e+00]\n",
            "tan(theta) =  [ 0.00000000e+00  1.63312394e+16 -1.22464680e-16]\n"
          ],
          "name": "stdout"
        }
      ]
    },
    {
      "cell_type": "markdown",
      "metadata": {
        "id": "lSX9Z9kMTLp9",
        "colab_type": "text"
      },
      "source": [
        "### Exponents and logarithms\n"
      ]
    },
    {
      "cell_type": "code",
      "metadata": {
        "id": "HU5a-sgLTBmy",
        "colab_type": "code",
        "colab": {
          "base_uri": "https://localhost:8080/",
          "height": 90
        },
        "outputId": "97c09282-cc75-4cc7-eb52-48cdc16decfb"
      },
      "source": [
        "x = [1, 2, 3]\n",
        "print(\"x   =\", x)\n",
        "print(\"e^x =\", np.exp(x))\n",
        "print(\"2^x =\", np.exp2(x))\n",
        "print(\"3^x =\", np.power(3, x))"
      ],
      "execution_count": 156,
      "outputs": [
        {
          "output_type": "stream",
          "text": [
            "x   = [1, 2, 3]\n",
            "e^x = [ 2.71828183  7.3890561  20.08553692]\n",
            "2^x = [2. 4. 8.]\n",
            "3^x = [ 3  9 27]\n"
          ],
          "name": "stdout"
        }
      ]
    },
    {
      "cell_type": "code",
      "metadata": {
        "id": "uyeCydmcTObg",
        "colab_type": "code",
        "colab": {
          "base_uri": "https://localhost:8080/",
          "height": 90
        },
        "outputId": "46b1c7ca-9781-47ba-ba1a-43ef66ea4ce4"
      },
      "source": [
        "x = [1, 2, 4, 10]\n",
        "print(\"x       =\", x)\n",
        "print(\"ln(x)   =\", np.log(x))\n",
        "print(\"log2(x) =\", np.log2(x))\n",
        "print(\"log10(x)=\", np.log10(x))\n"
      ],
      "execution_count": 157,
      "outputs": [
        {
          "output_type": "stream",
          "text": [
            "x       = [1, 2, 4, 10]\n",
            "ln(x)   = [0.         0.69314718 1.38629436 2.30258509]\n",
            "log2(x) = [0.         1.         2.         3.32192809]\n",
            "log10(x)= [0.         0.30103    0.60205999 1.        ]\n"
          ],
          "name": "stdout"
        }
      ]
    },
    {
      "cell_type": "code",
      "metadata": {
        "id": "So76zj9JTYY0",
        "colab_type": "code",
        "colab": {
          "base_uri": "https://localhost:8080/",
          "height": 53
        },
        "outputId": "ddc99bdf-2fe6-46db-a484-a313fe1896f9"
      },
      "source": [
        "#There are also some specialized versions that are useful for maintaining precision with very small input:\n",
        "x = [0, 0.001, 0.01, 0.1]\n",
        "print(\"exp(x) - 1 =\", np.expm1(x))\n",
        "print(\"log(1 + x) =\", np.log1p(x))"
      ],
      "execution_count": 158,
      "outputs": [
        {
          "output_type": "stream",
          "text": [
            "exp(x) - 1 = [0.         0.0010005  0.01005017 0.10517092]\n",
            "log(1 + x) = [0.         0.0009995  0.00995033 0.09531018]\n"
          ],
          "name": "stdout"
        }
      ]
    },
    {
      "cell_type": "markdown",
      "metadata": {
        "id": "kAuxvEy3Ty97",
        "colab_type": "text"
      },
      "source": [
        "##Advanced Ufunc Features\n"
      ]
    },
    {
      "cell_type": "markdown",
      "metadata": {
        "id": "heC9LHsuT95k",
        "colab_type": "text"
      },
      "source": [
        "### Specifying output\n",
        "\n",
        "\n",
        "For large calculations, it is sometimes useful to be able to specify the array where the\n",
        "result of the calculation will be stored."
      ]
    },
    {
      "cell_type": "code",
      "metadata": {
        "id": "I9GiUfeyTjyp",
        "colab_type": "code",
        "colab": {
          "base_uri": "https://localhost:8080/",
          "height": 35
        },
        "outputId": "16685a36-478e-49aa-e194-886412320f44"
      },
      "source": [
        "x = np.arange(10)\n",
        "y = np.empty(10)\n",
        "\n",
        "np.multiply(x, 2, out=y)"
      ],
      "execution_count": 166,
      "outputs": [
        {
          "output_type": "execute_result",
          "data": {
            "text/plain": [
              "array([ 0.,  2.,  4.,  6.,  8., 10., 12., 14., 16., 18.])"
            ]
          },
          "metadata": {
            "tags": []
          },
          "execution_count": 166
        }
      ]
    },
    {
      "cell_type": "code",
      "metadata": {
        "id": "zPH-tFq4T2nw",
        "colab_type": "code",
        "colab": {
          "base_uri": "https://localhost:8080/",
          "height": 35
        },
        "outputId": "34dab2c9-6ab2-4de3-ad30-51c61b62278a"
      },
      "source": [
        "print(y)"
      ],
      "execution_count": 167,
      "outputs": [
        {
          "output_type": "stream",
          "text": [
            "[ 0.  2.  4.  6.  8. 10. 12. 14. 16. 18.]\n"
          ],
          "name": "stdout"
        }
      ]
    },
    {
      "cell_type": "code",
      "metadata": {
        "id": "ssDGOW_AUZvC",
        "colab_type": "code",
        "colab": {
          "base_uri": "https://localhost:8080/",
          "height": 35
        },
        "outputId": "c5eb4381-07bb-40ec-bde8-42a82e196137"
      },
      "source": [
        "print(x)"
      ],
      "execution_count": 168,
      "outputs": [
        {
          "output_type": "stream",
          "text": [
            "[0 1 2 3 4 5 6 7 8 9]\n"
          ],
          "name": "stdout"
        }
      ]
    },
    {
      "cell_type": "code",
      "metadata": {
        "id": "p53ihxmdUeVE",
        "colab_type": "code",
        "colab": {
          "base_uri": "https://localhost:8080/",
          "height": 35
        },
        "outputId": "dfc7ad6e-47e2-4792-ecdc-44595ffe18f4"
      },
      "source": [
        "np.divide(x, 2, out=y)"
      ],
      "execution_count": 169,
      "outputs": [
        {
          "output_type": "execute_result",
          "data": {
            "text/plain": [
              "array([0. , 0.5, 1. , 1.5, 2. , 2.5, 3. , 3.5, 4. , 4.5])"
            ]
          },
          "metadata": {
            "tags": []
          },
          "execution_count": 169
        }
      ]
    },
    {
      "cell_type": "markdown",
      "metadata": {
        "id": "hWthYxvtVA2n",
        "colab_type": "text"
      },
      "source": [
        "### Aggregates"
      ]
    },
    {
      "cell_type": "code",
      "metadata": {
        "id": "QE3IUeJpUpzo",
        "colab_type": "code",
        "colab": {
          "base_uri": "https://localhost:8080/",
          "height": 35
        },
        "outputId": "a30254e7-0dbd-4a45-fa08-107f5ddd01ad"
      },
      "source": [
        "# Reduces to single value\n",
        "x = np.arange(1, 6)\n",
        "np.add.reduce(x)\n"
      ],
      "execution_count": 170,
      "outputs": [
        {
          "output_type": "execute_result",
          "data": {
            "text/plain": [
              "15"
            ]
          },
          "metadata": {
            "tags": []
          },
          "execution_count": 170
        }
      ]
    },
    {
      "cell_type": "code",
      "metadata": {
        "id": "pY0bFFkHVEP-",
        "colab_type": "code",
        "colab": {
          "base_uri": "https://localhost:8080/",
          "height": 35
        },
        "outputId": "4b033046-224a-45e2-e2d0-5d3a6a57e14f"
      },
      "source": [
        "# stores the intermediate values of the calculation \n",
        "np.add.accumulate(x)"
      ],
      "execution_count": 171,
      "outputs": [
        {
          "output_type": "execute_result",
          "data": {
            "text/plain": [
              "array([ 1,  3,  6, 10, 15])"
            ]
          },
          "metadata": {
            "tags": []
          },
          "execution_count": 171
        }
      ]
    },
    {
      "cell_type": "code",
      "metadata": {
        "id": "xJIA8k_ZVP7Q",
        "colab_type": "code",
        "colab": {}
      },
      "source": [
        ""
      ],
      "execution_count": null,
      "outputs": []
    }
  ]
}