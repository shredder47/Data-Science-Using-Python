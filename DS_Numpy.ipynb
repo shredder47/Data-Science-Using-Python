{
  "nbformat": 4,
  "nbformat_minor": 0,
  "metadata": {
    "colab": {
      "name": "DS_Numpy.ipynb",
      "provenance": [],
      "toc_visible": true
    },
    "kernelspec": {
      "name": "python3",
      "display_name": "Python 3"
    }
  },
  "cells": [
    {
      "cell_type": "markdown",
      "metadata": {
        "id": "OPzzf1pIf0XG"
      },
      "source": [
        "![1280px-NumPy_logo.svg.png](data:image/png;base64,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)\n",
        "\n",
        "NumPy is a library for the Python programming language, adding support for large, multi-dimensional arrays and matrices, along with a large collection of high-level mathematical functions to operate on these arrays."
      ]
    },
    {
      "cell_type": "code",
      "metadata": {
        "id": "5aJHLmNDXEwy"
      },
      "source": [
        "import numpy as np\n",
        "import pandas as pd\n"
      ],
      "execution_count": 1,
      "outputs": []
    },
    {
      "cell_type": "markdown",
      "metadata": {
        "id": "kVFptI4NgrQY"
      },
      "source": [
        "## Creating Arrays from Python Lists\n"
      ]
    },
    {
      "cell_type": "code",
      "metadata": {
        "id": "C1fq-TXegmg9",
        "colab": {
          "base_uri": "https://localhost:8080/"
        },
        "outputId": "1005fa1a-3263-4b88-f69f-4a82d5f5da2e"
      },
      "source": [
        "# integer array:\n",
        "np.array([1, 4, 2, 5, 3])"
      ],
      "execution_count": 2,
      "outputs": [
        {
          "output_type": "execute_result",
          "data": {
            "text/plain": [
              "array([1, 4, 2, 5, 3])"
            ]
          },
          "metadata": {
            "tags": []
          },
          "execution_count": 2
        }
      ]
    },
    {
      "cell_type": "code",
      "metadata": {
        "id": "9Fiq61uagzQp",
        "colab": {
          "base_uri": "https://localhost:8080/"
        },
        "outputId": "0f9c272e-114a-45db-d3b0-f5219599809c"
      },
      "source": [
        "# float array\n",
        "np.array([3.14, 4, 2, 3])\n"
      ],
      "execution_count": 3,
      "outputs": [
        {
          "output_type": "execute_result",
          "data": {
            "text/plain": [
              "array([3.14, 4.  , 2.  , 3.  ])"
            ]
          },
          "metadata": {
            "tags": []
          },
          "execution_count": 3
        }
      ]
    },
    {
      "cell_type": "code",
      "metadata": {
        "id": "trNImEnsg9bm",
        "colab": {
          "base_uri": "https://localhost:8080/"
        },
        "outputId": "a1c58066-5541-412c-b205-a6bad36dc6cd"
      },
      "source": [
        "np.array([1, 2, 3, 4], dtype='float64')"
      ],
      "execution_count": 4,
      "outputs": [
        {
          "output_type": "execute_result",
          "data": {
            "text/plain": [
              "array([1., 2., 3., 4.])"
            ]
          },
          "metadata": {
            "tags": []
          },
          "execution_count": 4
        }
      ]
    },
    {
      "cell_type": "markdown",
      "metadata": {
        "id": "QCA8MK6LhUIy"
      },
      "source": [
        "# Creating Arrays from Scratch\n",
        "Especially for larger arrays, it is more efficient to create arrays from scratch using rou‐\n",
        "tines built into NumPy. Here are several examples:\n"
      ]
    },
    {
      "cell_type": "code",
      "metadata": {
        "id": "TEVp8rYDhJ8D",
        "colab": {
          "base_uri": "https://localhost:8080/"
        },
        "outputId": "a7308bce-eb8b-42e0-90a7-df97c0329256"
      },
      "source": [
        "# Create a length-5 integer array filled with zeros\n",
        "np.zeros(5, dtype=int)"
      ],
      "execution_count": 5,
      "outputs": [
        {
          "output_type": "execute_result",
          "data": {
            "text/plain": [
              "array([0, 0, 0, 0, 0])"
            ]
          },
          "metadata": {
            "tags": []
          },
          "execution_count": 5
        }
      ]
    },
    {
      "cell_type": "code",
      "metadata": {
        "id": "eiivyMN4hf3u",
        "colab": {
          "base_uri": "https://localhost:8080/"
        },
        "outputId": "1d14a995-d738-4727-833b-ee91fcf41e6c"
      },
      "source": [
        "# Create a 3x3 floating-point array filled with 1s\n",
        "np.ones((3, 3), dtype=float)\n"
      ],
      "execution_count": 6,
      "outputs": [
        {
          "output_type": "execute_result",
          "data": {
            "text/plain": [
              "array([[1., 1., 1.],\n",
              "       [1., 1., 1.],\n",
              "       [1., 1., 1.]])"
            ]
          },
          "metadata": {
            "tags": []
          },
          "execution_count": 6
        }
      ]
    },
    {
      "cell_type": "code",
      "metadata": {
        "id": "Y56fgpz7hk1n",
        "colab": {
          "base_uri": "https://localhost:8080/"
        },
        "outputId": "21e4ac77-8f92-4d6f-f370-604aae033499"
      },
      "source": [
        "# Create a 3x3 int array filled with 1s\n",
        "np.ones((3, 3), dtype=int)"
      ],
      "execution_count": 7,
      "outputs": [
        {
          "output_type": "execute_result",
          "data": {
            "text/plain": [
              "array([[1, 1, 1],\n",
              "       [1, 1, 1],\n",
              "       [1, 1, 1]])"
            ]
          },
          "metadata": {
            "tags": []
          },
          "execution_count": 7
        }
      ]
    },
    {
      "cell_type": "code",
      "metadata": {
        "id": "uIxuFMmzhpVA",
        "colab": {
          "base_uri": "https://localhost:8080/"
        },
        "outputId": "350ad6f2-e320-4f67-e0da-62cf77213c92"
      },
      "source": [
        "# Create a 5*5 array filled with 47\n",
        "np.full((5, 5), 47)\n"
      ],
      "execution_count": 8,
      "outputs": [
        {
          "output_type": "execute_result",
          "data": {
            "text/plain": [
              "array([[47, 47, 47, 47, 47],\n",
              "       [47, 47, 47, 47, 47],\n",
              "       [47, 47, 47, 47, 47],\n",
              "       [47, 47, 47, 47, 47],\n",
              "       [47, 47, 47, 47, 47]])"
            ]
          },
          "metadata": {
            "tags": []
          },
          "execution_count": 8
        }
      ]
    },
    {
      "cell_type": "code",
      "metadata": {
        "id": "TCaSJLdfhyDs",
        "colab": {
          "base_uri": "https://localhost:8080/"
        },
        "outputId": "12ed3b45-48a0-45bc-ab58-66887afd37ed"
      },
      "source": [
        "# Create an array filled with a linear sequence\n",
        "# Starting at 0, ending at 30, stepping by 3\n",
        "np.arange(0, 30, 3)"
      ],
      "execution_count": 9,
      "outputs": [
        {
          "output_type": "execute_result",
          "data": {
            "text/plain": [
              "array([ 0,  3,  6,  9, 12, 15, 18, 21, 24, 27])"
            ]
          },
          "metadata": {
            "tags": []
          },
          "execution_count": 9
        }
      ]
    },
    {
      "cell_type": "code",
      "metadata": {
        "id": "FJBNNJX3h9bB",
        "colab": {
          "base_uri": "https://localhost:8080/"
        },
        "outputId": "31f73704-2ab2-4002-c1dd-4ed4aef7e435"
      },
      "source": [
        "# Create an array of ten values evenly spaced between 0 and 1\n",
        "np.linspace(0, 1, 10)"
      ],
      "execution_count": 10,
      "outputs": [
        {
          "output_type": "execute_result",
          "data": {
            "text/plain": [
              "array([0.        , 0.11111111, 0.22222222, 0.33333333, 0.44444444,\n",
              "       0.55555556, 0.66666667, 0.77777778, 0.88888889, 1.        ])"
            ]
          },
          "metadata": {
            "tags": []
          },
          "execution_count": 10
        }
      ]
    },
    {
      "cell_type": "code",
      "metadata": {
        "id": "QkpPwLCKiDz3",
        "colab": {
          "base_uri": "https://localhost:8080/"
        },
        "outputId": "753769aa-f883-4adf-c100-06552587c0de"
      },
      "source": [
        "# Create a 5x5 array of uniformly distributed\n",
        "# random values between 0 and 1\n",
        "np.random.random((5, 5))"
      ],
      "execution_count": 11,
      "outputs": [
        {
          "output_type": "execute_result",
          "data": {
            "text/plain": [
              "array([[0.75811864, 0.3756256 , 0.50035497, 0.38509877, 0.73102782],\n",
              "       [0.91245978, 0.41237608, 0.70156629, 0.16474143, 0.45869992],\n",
              "       [0.50342997, 0.73266197, 0.18281747, 0.88844327, 0.55622265],\n",
              "       [0.79274918, 0.6248336 , 0.58030852, 0.18879541, 0.8336384 ],\n",
              "       [0.09025596, 0.3373469 , 0.3963741 , 0.24926182, 0.03540152]])"
            ]
          },
          "metadata": {
            "tags": []
          },
          "execution_count": 11
        }
      ]
    },
    {
      "cell_type": "code",
      "metadata": {
        "id": "nbn9tCHYiKp3",
        "colab": {
          "base_uri": "https://localhost:8080/"
        },
        "outputId": "b57b26db-e5e5-4e56-edb7-f1ed99ee14bb"
      },
      "source": [
        "# Create a 3x3 array of normally distributed random values\n",
        "# with mean 0 and standard deviation 1 \n",
        "np.random.normal(0, 1, (3, 3))"
      ],
      "execution_count": 12,
      "outputs": [
        {
          "output_type": "execute_result",
          "data": {
            "text/plain": [
              "array([[-0.26560175,  0.05896144,  0.46745108],\n",
              "       [-0.80435043,  0.15834544, -0.4870324 ],\n",
              "       [-1.62400378,  1.17867952, -0.47109114]])"
            ]
          },
          "metadata": {
            "tags": []
          },
          "execution_count": 12
        }
      ]
    },
    {
      "cell_type": "code",
      "metadata": {
        "id": "hK7-htT_itLd",
        "colab": {
          "base_uri": "https://localhost:8080/"
        },
        "outputId": "2326f1cb-f236-477e-b70f-da6d85eb3cb4"
      },
      "source": [
        "# Create a 3x4 array of random integers in the interval [0, 5 )    \n",
        "np.random.randint(0, 5, (3, 4))\n"
      ],
      "execution_count": 13,
      "outputs": [
        {
          "output_type": "execute_result",
          "data": {
            "text/plain": [
              "array([[2, 0, 0, 1],\n",
              "       [3, 4, 1, 3],\n",
              "       [3, 3, 0, 0]])"
            ]
          },
          "metadata": {
            "tags": []
          },
          "execution_count": 13
        }
      ]
    },
    {
      "cell_type": "code",
      "metadata": {
        "id": "QQ7gfbJIixYB",
        "colab": {
          "base_uri": "https://localhost:8080/"
        },
        "outputId": "7220abbc-697d-45d2-c82d-826d5345237d"
      },
      "source": [
        "# Create a 3x3 identity matrix\n",
        "np.eye(3)\n"
      ],
      "execution_count": 14,
      "outputs": [
        {
          "output_type": "execute_result",
          "data": {
            "text/plain": [
              "array([[1., 0., 0.],\n",
              "       [0., 1., 0.],\n",
              "       [0., 0., 1.]])"
            ]
          },
          "metadata": {
            "tags": []
          },
          "execution_count": 14
        }
      ]
    },
    {
      "cell_type": "code",
      "metadata": {
        "id": "XLw4HSbPjBB_",
        "colab": {
          "base_uri": "https://localhost:8080/"
        },
        "outputId": "2254d53c-f4ea-4b08-a88e-9e25d7796b39"
      },
      "source": [
        "# Create an uninitialized array of three integers\n",
        "# The values will be whatever happens to already exist at that\n",
        "# memory location\n",
        "np.empty(3)\n",
        "\n"
      ],
      "execution_count": 15,
      "outputs": [
        {
          "output_type": "execute_result",
          "data": {
            "text/plain": [
              "array([1., 1., 1.])"
            ]
          },
          "metadata": {
            "tags": []
          },
          "execution_count": 15
        }
      ]
    },
    {
      "cell_type": "markdown",
      "metadata": {
        "id": "M34Z3W4kjbJg"
      },
      "source": [
        "# NumPy Array Attributes\n"
      ]
    },
    {
      "cell_type": "code",
      "metadata": {
        "id": "2W50F6F7jNiT"
      },
      "source": [
        "import numpy as np\n",
        "np.random.seed(0) # seed for reproducibility\n",
        "x1 = np.random.randint(10, size=6) # One-dimensional array\n",
        "x2 = np.random.randint(10, size=(3, 4)) # Two-dimensional array\n",
        "x3 = np.random.randint(10, size=(3, 4, 5)) # Three-dimensional array"
      ],
      "execution_count": 16,
      "outputs": []
    },
    {
      "cell_type": "code",
      "metadata": {
        "id": "9EGDQ1sHkQOA",
        "colab": {
          "base_uri": "https://localhost:8080/"
        },
        "outputId": "1c995c13-d5d2-4d0b-abbc-dc0b78ce5db8"
      },
      "source": [
        "print(\"x3 ndim: \", x3.ndim)\n",
        "print(\"x3 shape:\", x3.shape)\n",
        "print(\"x3 size: \", x3.size)\n",
        "print(\"dtype:\", x3.dtype)\n",
        "print(\"itemsize:\", x3.itemsize, \"bytes\")\n",
        "print(\"nbytes:\", x3.nbytes, \"bytes\")"
      ],
      "execution_count": 17,
      "outputs": [
        {
          "output_type": "stream",
          "text": [
            "x3 ndim:  3\n",
            "x3 shape: (3, 4, 5)\n",
            "x3 size:  60\n",
            "dtype: int64\n",
            "itemsize: 8 bytes\n",
            "nbytes: 480 bytes\n"
          ],
          "name": "stdout"
        }
      ]
    },
    {
      "cell_type": "markdown",
      "metadata": {
        "id": "fBUU3NzNkoeA"
      },
      "source": [
        "# Array Indexing: Accessing Single Elements\n"
      ]
    },
    {
      "cell_type": "code",
      "metadata": {
        "id": "8mb5Nd-pkW4D",
        "colab": {
          "base_uri": "https://localhost:8080/"
        },
        "outputId": "ed791061-1c45-483f-8108-25a591628f5e"
      },
      "source": [
        "x1"
      ],
      "execution_count": 18,
      "outputs": [
        {
          "output_type": "execute_result",
          "data": {
            "text/plain": [
              "array([5, 0, 3, 3, 7, 9])"
            ]
          },
          "metadata": {
            "tags": []
          },
          "execution_count": 18
        }
      ]
    },
    {
      "cell_type": "code",
      "metadata": {
        "id": "YAC_j4hKkuwF",
        "colab": {
          "base_uri": "https://localhost:8080/"
        },
        "outputId": "fd434a4a-5fe8-4e8d-f905-4cb74b79a271"
      },
      "source": [
        "x1[0]\n"
      ],
      "execution_count": 19,
      "outputs": [
        {
          "output_type": "execute_result",
          "data": {
            "text/plain": [
              "5"
            ]
          },
          "metadata": {
            "tags": []
          },
          "execution_count": 19
        }
      ]
    },
    {
      "cell_type": "code",
      "metadata": {
        "id": "vj2wnmFjkxpO",
        "colab": {
          "base_uri": "https://localhost:8080/"
        },
        "outputId": "ad3c7245-9165-4a31-cc16-33a836f5776c"
      },
      "source": [
        "x1[4]"
      ],
      "execution_count": 20,
      "outputs": [
        {
          "output_type": "execute_result",
          "data": {
            "text/plain": [
              "7"
            ]
          },
          "metadata": {
            "tags": []
          },
          "execution_count": 20
        }
      ]
    },
    {
      "cell_type": "code",
      "metadata": {
        "id": "QYvtiQKQk1Gf",
        "colab": {
          "base_uri": "https://localhost:8080/"
        },
        "outputId": "9485e45b-aed2-4eee-9ea8-74c8f8376ffb"
      },
      "source": [
        "# from right to left\n",
        "x1[-1] \n"
      ],
      "execution_count": 21,
      "outputs": [
        {
          "output_type": "execute_result",
          "data": {
            "text/plain": [
              "9"
            ]
          },
          "metadata": {
            "tags": []
          },
          "execution_count": 21
        }
      ]
    },
    {
      "cell_type": "code",
      "metadata": {
        "id": "3mflgAFqk84r",
        "colab": {
          "base_uri": "https://localhost:8080/"
        },
        "outputId": "296e5eb7-0809-4f5f-ce41-4f9249f572a9"
      },
      "source": [
        "x1[-2]\n"
      ],
      "execution_count": 22,
      "outputs": [
        {
          "output_type": "execute_result",
          "data": {
            "text/plain": [
              "7"
            ]
          },
          "metadata": {
            "tags": []
          },
          "execution_count": 22
        }
      ]
    },
    {
      "cell_type": "code",
      "metadata": {
        "id": "tOVu3s1Jk-Qt",
        "colab": {
          "base_uri": "https://localhost:8080/"
        },
        "outputId": "075db8c0-b39e-467e-8fed-7a403c510ce2"
      },
      "source": [
        "x2"
      ],
      "execution_count": 23,
      "outputs": [
        {
          "output_type": "execute_result",
          "data": {
            "text/plain": [
              "array([[3, 5, 2, 4],\n",
              "       [7, 6, 8, 8],\n",
              "       [1, 6, 7, 7]])"
            ]
          },
          "metadata": {
            "tags": []
          },
          "execution_count": 23
        }
      ]
    },
    {
      "cell_type": "code",
      "metadata": {
        "id": "nAJHDQ0BlXEW",
        "colab": {
          "base_uri": "https://localhost:8080/"
        },
        "outputId": "d8af61ba-dd0e-4afa-b5fb-e9ae363b2c07"
      },
      "source": [
        "# Multidimension array access: \n",
        "# row #0, -> col #0\n",
        "x2[0,0] "
      ],
      "execution_count": 24,
      "outputs": [
        {
          "output_type": "execute_result",
          "data": {
            "text/plain": [
              "3"
            ]
          },
          "metadata": {
            "tags": []
          },
          "execution_count": 24
        }
      ]
    },
    {
      "cell_type": "code",
      "metadata": {
        "id": "j7RNTZvxlbVq",
        "colab": {
          "base_uri": "https://localhost:8080/"
        },
        "outputId": "019231f5-a73c-4d1c-f403-34c1f9f3c0ac"
      },
      "source": [
        "# row #1, -> col # 2\n",
        "x2[1,2]"
      ],
      "execution_count": 25,
      "outputs": [
        {
          "output_type": "execute_result",
          "data": {
            "text/plain": [
              "8"
            ]
          },
          "metadata": {
            "tags": []
          },
          "execution_count": 25
        }
      ]
    },
    {
      "cell_type": "code",
      "metadata": {
        "id": "GqSWInQZlfCZ",
        "colab": {
          "base_uri": "https://localhost:8080/"
        },
        "outputId": "c20822cf-a84b-4ede-c670-65ad58803efb"
      },
      "source": [
        "# row #2, -> col #-1 (right to)\n",
        "x2[2, -1]\n"
      ],
      "execution_count": 26,
      "outputs": [
        {
          "output_type": "execute_result",
          "data": {
            "text/plain": [
              "7"
            ]
          },
          "metadata": {
            "tags": []
          },
          "execution_count": 26
        }
      ]
    },
    {
      "cell_type": "code",
      "metadata": {
        "id": "gD-jextil6wx",
        "colab": {
          "base_uri": "https://localhost:8080/"
        },
        "outputId": "e4cea0d5-1c21-40b3-8520-4a834626321c"
      },
      "source": [
        "x3\n"
      ],
      "execution_count": 27,
      "outputs": [
        {
          "output_type": "execute_result",
          "data": {
            "text/plain": [
              "array([[[8, 1, 5, 9, 8],\n",
              "        [9, 4, 3, 0, 3],\n",
              "        [5, 0, 2, 3, 8],\n",
              "        [1, 3, 3, 3, 7]],\n",
              "\n",
              "       [[0, 1, 9, 9, 0],\n",
              "        [4, 7, 3, 2, 7],\n",
              "        [2, 0, 0, 4, 5],\n",
              "        [5, 6, 8, 4, 1]],\n",
              "\n",
              "       [[4, 9, 8, 1, 1],\n",
              "        [7, 9, 9, 3, 6],\n",
              "        [7, 2, 0, 3, 5],\n",
              "        [9, 4, 4, 6, 4]]])"
            ]
          },
          "metadata": {
            "tags": []
          },
          "execution_count": 27
        }
      ]
    },
    {
      "cell_type": "code",
      "metadata": {
        "id": "4cEX2YiWmKUk",
        "colab": {
          "base_uri": "https://localhost:8080/"
        },
        "outputId": "cc23d2d3-ae4c-4a62-88fe-3c7785d98bb2"
      },
      "source": [
        "# stack/level/length\n",
        "# stack #0\n",
        "x3[0]"
      ],
      "execution_count": 28,
      "outputs": [
        {
          "output_type": "execute_result",
          "data": {
            "text/plain": [
              "array([[8, 1, 5, 9, 8],\n",
              "       [9, 4, 3, 0, 3],\n",
              "       [5, 0, 2, 3, 8],\n",
              "       [1, 3, 3, 3, 7]])"
            ]
          },
          "metadata": {
            "tags": []
          },
          "execution_count": 28
        }
      ]
    },
    {
      "cell_type": "code",
      "metadata": {
        "id": "eIxrfFvSmOl-",
        "colab": {
          "base_uri": "https://localhost:8080/"
        },
        "outputId": "ec51ba67-7455-4330-f9ee-88cb1ae3a0d9"
      },
      "source": [
        "# stack #1\n",
        "x3[1]"
      ],
      "execution_count": 29,
      "outputs": [
        {
          "output_type": "execute_result",
          "data": {
            "text/plain": [
              "array([[0, 1, 9, 9, 0],\n",
              "       [4, 7, 3, 2, 7],\n",
              "       [2, 0, 0, 4, 5],\n",
              "       [5, 6, 8, 4, 1]])"
            ]
          },
          "metadata": {
            "tags": []
          },
          "execution_count": 29
        }
      ]
    },
    {
      "cell_type": "code",
      "metadata": {
        "id": "ZW2u5ETHmbtF",
        "colab": {
          "base_uri": "https://localhost:8080/"
        },
        "outputId": "9c968fb0-7786-473a-d6a7-b64cf4b951df"
      },
      "source": [
        "# stack #0 -> row #1\n",
        "x3[0][1]"
      ],
      "execution_count": 30,
      "outputs": [
        {
          "output_type": "execute_result",
          "data": {
            "text/plain": [
              "array([9, 4, 3, 0, 3])"
            ]
          },
          "metadata": {
            "tags": []
          },
          "execution_count": 30
        }
      ]
    },
    {
      "cell_type": "code",
      "metadata": {
        "id": "PLH4EO-_mj2O",
        "colab": {
          "base_uri": "https://localhost:8080/"
        },
        "outputId": "3f104d18-6af8-46c6-86b4-e0a2f5d714ad"
      },
      "source": [
        "# stack #0 -> row #2 -> column #1\n",
        "x3[0][2][1]"
      ],
      "execution_count": 31,
      "outputs": [
        {
          "output_type": "execute_result",
          "data": {
            "text/plain": [
              "0"
            ]
          },
          "metadata": {
            "tags": []
          },
          "execution_count": 31
        }
      ]
    },
    {
      "cell_type": "markdown",
      "metadata": {
        "id": "gbK7HqYxnHEP"
      },
      "source": [
        "# Array Slicing: Accessing Subarrays\n"
      ]
    },
    {
      "cell_type": "code",
      "metadata": {
        "id": "QQivqYnwm3qX"
      },
      "source": [
        "# The NumPy slicing syntax follows that of the standard Python list; to access a slice of\n",
        "# an array x, use this:\n",
        "# x[start:stop:step]\n",
        "\n",
        "# If any of these are unspecified, they \n",
        "# default to the values \n",
        "# start=0, stop=size of dimension, step=1\n",
        "\n",
        "\n"
      ],
      "execution_count": 32,
      "outputs": []
    },
    {
      "cell_type": "markdown",
      "metadata": {
        "id": "ENpTllrmnn8I"
      },
      "source": [
        "### One-dimensional subarrays\n"
      ]
    },
    {
      "cell_type": "code",
      "metadata": {
        "id": "Bezjf6XcnqhE"
      },
      "source": [
        "x = np.arange(10)"
      ],
      "execution_count": 33,
      "outputs": []
    },
    {
      "cell_type": "code",
      "metadata": {
        "id": "zRg3u5TDnu6_",
        "colab": {
          "base_uri": "https://localhost:8080/"
        },
        "outputId": "67547a8c-df72-4585-f432-431c9804f7b6"
      },
      "source": [
        "print(x)"
      ],
      "execution_count": 34,
      "outputs": [
        {
          "output_type": "stream",
          "text": [
            "[0 1 2 3 4 5 6 7 8 9]\n"
          ],
          "name": "stdout"
        }
      ]
    },
    {
      "cell_type": "code",
      "metadata": {
        "id": "40XRSRy5nw0H",
        "colab": {
          "base_uri": "https://localhost:8080/"
        },
        "outputId": "1bd5d95a-7e6f-4fe9-e5a6-e4be0273d79f"
      },
      "source": [
        "# elements till 0th - 3rd index\n",
        "x[0:4] \n"
      ],
      "execution_count": 35,
      "outputs": [
        {
          "output_type": "execute_result",
          "data": {
            "text/plain": [
              "array([0, 1, 2, 3])"
            ]
          },
          "metadata": {
            "tags": []
          },
          "execution_count": 35
        }
      ]
    },
    {
      "cell_type": "code",
      "metadata": {
        "id": "N96d_fbon5k7",
        "colab": {
          "base_uri": "https://localhost:8080/"
        },
        "outputId": "98c481fc-2059-41c1-b76c-c90081246b19"
      },
      "source": [
        "# elements till 0th - 4rd index\n",
        "x[:5] \n"
      ],
      "execution_count": 36,
      "outputs": [
        {
          "output_type": "execute_result",
          "data": {
            "text/plain": [
              "array([0, 1, 2, 3, 4])"
            ]
          },
          "metadata": {
            "tags": []
          },
          "execution_count": 36
        }
      ]
    },
    {
      "cell_type": "code",
      "metadata": {
        "id": "bbRCtrNOn-cV",
        "colab": {
          "base_uri": "https://localhost:8080/"
        },
        "outputId": "90b41adb-b417-45b4-c5bd-3ca3adeeda1c"
      },
      "source": [
        "# elements after index 2 till the last\n",
        "x[2:]"
      ],
      "execution_count": 37,
      "outputs": [
        {
          "output_type": "execute_result",
          "data": {
            "text/plain": [
              "array([2, 3, 4, 5, 6, 7, 8, 9])"
            ]
          },
          "metadata": {
            "tags": []
          },
          "execution_count": 37
        }
      ]
    },
    {
      "cell_type": "code",
      "metadata": {
        "id": "GJuOe5sdoFK6",
        "colab": {
          "base_uri": "https://localhost:8080/"
        },
        "outputId": "95010c2f-756a-4f77-9694-8f2b9500aa8f"
      },
      "source": [
        "# elements from index 2 but till 3rd index -> [2,4)\n",
        "x[2:4]"
      ],
      "execution_count": 38,
      "outputs": [
        {
          "output_type": "execute_result",
          "data": {
            "text/plain": [
              "array([2, 3])"
            ]
          },
          "metadata": {
            "tags": []
          },
          "execution_count": 38
        }
      ]
    },
    {
      "cell_type": "code",
      "metadata": {
        "id": "WESNSqFQoKz6",
        "colab": {
          "base_uri": "https://localhost:8080/"
        },
        "outputId": "ad4e08df-0d81-43ca-9938-d2591434aaf1"
      },
      "source": [
        "# every other element\n",
        "x[::2] "
      ],
      "execution_count": 39,
      "outputs": [
        {
          "output_type": "execute_result",
          "data": {
            "text/plain": [
              "array([0, 2, 4, 6, 8])"
            ]
          },
          "metadata": {
            "tags": []
          },
          "execution_count": 39
        }
      ]
    },
    {
      "cell_type": "code",
      "metadata": {
        "id": "kL42tstcog_8",
        "colab": {
          "base_uri": "https://localhost:8080/"
        },
        "outputId": "c5a144b0-1029-48dd-f5f0-0047babb3ac9"
      },
      "source": [
        "# every other element, starting at index 1\n",
        "x[1::2] "
      ],
      "execution_count": 40,
      "outputs": [
        {
          "output_type": "execute_result",
          "data": {
            "text/plain": [
              "array([1, 3, 5, 7, 9])"
            ]
          },
          "metadata": {
            "tags": []
          },
          "execution_count": 40
        }
      ]
    },
    {
      "cell_type": "code",
      "metadata": {
        "id": "SfJUaNh3on93",
        "colab": {
          "base_uri": "https://localhost:8080/"
        },
        "outputId": "e1b7ae34-9083-4c8a-905d-4d9a0b005e27"
      },
      "source": [
        "# every other element, starting at index 1 ending at 6th index\n",
        "x[1:7:2] \n"
      ],
      "execution_count": 41,
      "outputs": [
        {
          "output_type": "execute_result",
          "data": {
            "text/plain": [
              "array([1, 3, 5])"
            ]
          },
          "metadata": {
            "tags": []
          },
          "execution_count": 41
        }
      ]
    },
    {
      "cell_type": "code",
      "metadata": {
        "id": "q5FDh6ZHpHsS",
        "colab": {
          "base_uri": "https://localhost:8080/"
        },
        "outputId": "7f059e17-cf84-4702-9214-8320778fde7f"
      },
      "source": [
        "x"
      ],
      "execution_count": 42,
      "outputs": [
        {
          "output_type": "execute_result",
          "data": {
            "text/plain": [
              "array([0, 1, 2, 3, 4, 5, 6, 7, 8, 9])"
            ]
          },
          "metadata": {
            "tags": []
          },
          "execution_count": 42
        }
      ]
    },
    {
      "cell_type": "code",
      "metadata": {
        "id": "cvg0mwwoou9B",
        "colab": {
          "base_uri": "https://localhost:8080/"
        },
        "outputId": "9638fef9-e69b-493e-ee4a-b78bdddcb532"
      },
      "source": [
        "# every 2rd element, staring from 0 index, ending at 8th index\n",
        "x[:9:2] "
      ],
      "execution_count": 43,
      "outputs": [
        {
          "output_type": "execute_result",
          "data": {
            "text/plain": [
              "array([0, 2, 4, 6, 8])"
            ]
          },
          "metadata": {
            "tags": []
          },
          "execution_count": 43
        }
      ]
    },
    {
      "cell_type": "code",
      "metadata": {
        "id": "0t9nlNjppAOJ",
        "colab": {
          "base_uri": "https://localhost:8080/"
        },
        "outputId": "03b8894a-a148-4434-b7be-d2eea258e731"
      },
      "source": [
        "# all elements, reversed\n",
        "x[::-1] "
      ],
      "execution_count": 44,
      "outputs": [
        {
          "output_type": "execute_result",
          "data": {
            "text/plain": [
              "array([9, 8, 7, 6, 5, 4, 3, 2, 1, 0])"
            ]
          },
          "metadata": {
            "tags": []
          },
          "execution_count": 44
        }
      ]
    },
    {
      "cell_type": "code",
      "metadata": {
        "id": "GNztoZPrpp_r",
        "colab": {
          "base_uri": "https://localhost:8080/"
        },
        "outputId": "580e583e-490c-4e6d-eb83-22acea2ecbae"
      },
      "source": [
        "# reversed every other from index 5\n",
        "x[5::-2] "
      ],
      "execution_count": 45,
      "outputs": [
        {
          "output_type": "execute_result",
          "data": {
            "text/plain": [
              "array([5, 3, 1])"
            ]
          },
          "metadata": {
            "tags": []
          },
          "execution_count": 45
        }
      ]
    },
    {
      "cell_type": "code",
      "metadata": {
        "id": "6SjfQz1Cpzfv",
        "colab": {
          "base_uri": "https://localhost:8080/"
        },
        "outputId": "29f6ad2c-96d6-4065-fbdb-88dbb6b7a3c0"
      },
      "source": [
        "x[5:2:-1] "
      ],
      "execution_count": 46,
      "outputs": [
        {
          "output_type": "execute_result",
          "data": {
            "text/plain": [
              "array([5, 4, 3])"
            ]
          },
          "metadata": {
            "tags": []
          },
          "execution_count": 46
        }
      ]
    },
    {
      "cell_type": "markdown",
      "metadata": {
        "id": "3PfC8R8droM5"
      },
      "source": [
        "### Multidimensional subarrays\n"
      ]
    },
    {
      "cell_type": "code",
      "metadata": {
        "id": "k70aLFXfqg_c",
        "colab": {
          "base_uri": "https://localhost:8080/"
        },
        "outputId": "00f4d856-7081-4ada-c0df-d918a00b651b"
      },
      "source": [
        "x2"
      ],
      "execution_count": 47,
      "outputs": [
        {
          "output_type": "execute_result",
          "data": {
            "text/plain": [
              "array([[3, 5, 2, 4],\n",
              "       [7, 6, 8, 8],\n",
              "       [1, 6, 7, 7]])"
            ]
          },
          "metadata": {
            "tags": []
          },
          "execution_count": 47
        }
      ]
    },
    {
      "cell_type": "code",
      "metadata": {
        "id": "CdJu4bTMhRhu",
        "colab": {
          "base_uri": "https://localhost:8080/"
        },
        "outputId": "a75c8a90-1b73-4d60-86b6-f753ae0435ec"
      },
      "source": [
        "# row from #0 - #1 & column from #0 - #2 equivalent to -> [0:2,0:3]\n",
        "x2[:2, :3]"
      ],
      "execution_count": 48,
      "outputs": [
        {
          "output_type": "execute_result",
          "data": {
            "text/plain": [
              "array([[3, 5, 2],\n",
              "       [7, 6, 8]])"
            ]
          },
          "metadata": {
            "tags": []
          },
          "execution_count": 48
        }
      ]
    },
    {
      "cell_type": "code",
      "metadata": {
        "id": "k_bDThnrk8Os",
        "colab": {
          "base_uri": "https://localhost:8080/"
        },
        "outputId": "a7ab2c58-11c0-448b-87ab-b1e3c2fb9ce4"
      },
      "source": [
        "# row from #0 to #2 & every 2nd column\n",
        "x2[:3, ::2] "
      ],
      "execution_count": 49,
      "outputs": [
        {
          "output_type": "execute_result",
          "data": {
            "text/plain": [
              "array([[3, 2],\n",
              "       [7, 8],\n",
              "       [1, 7]])"
            ]
          },
          "metadata": {
            "tags": []
          },
          "execution_count": 49
        }
      ]
    },
    {
      "cell_type": "code",
      "metadata": {
        "id": "HtnuxK3anhBh",
        "colab": {
          "base_uri": "https://localhost:8080/"
        },
        "outputId": "83146949-dee9-4db5-b70d-0541b9752afb"
      },
      "source": [
        "# first reverse all row, then all columns!\n",
        "x2[::-1, ::-1]\n"
      ],
      "execution_count": 50,
      "outputs": [
        {
          "output_type": "execute_result",
          "data": {
            "text/plain": [
              "array([[7, 7, 6, 1],\n",
              "       [8, 8, 6, 7],\n",
              "       [4, 2, 5, 3]])"
            ]
          },
          "metadata": {
            "tags": []
          },
          "execution_count": 50
        }
      ]
    },
    {
      "cell_type": "markdown",
      "metadata": {
        "id": "j9ycxJJjDEpy"
      },
      "source": [
        "#### Accessing array rows and columns\n",
        "One commonly needed routine is accessing single\n",
        "rows or columns of an array. You can do this by combining indexing and slicing,\n",
        "using an empty slice marked by a single colon (:)"
      ]
    },
    {
      "cell_type": "code",
      "metadata": {
        "id": "TCoNyJqnStXB",
        "colab": {
          "base_uri": "https://localhost:8080/"
        },
        "outputId": "1d158da2-e2a3-409f-a048-33372cfac1ed"
      },
      "source": [
        "x2"
      ],
      "execution_count": 51,
      "outputs": [
        {
          "output_type": "execute_result",
          "data": {
            "text/plain": [
              "array([[3, 5, 2, 4],\n",
              "       [7, 6, 8, 8],\n",
              "       [1, 6, 7, 7]])"
            ]
          },
          "metadata": {
            "tags": []
          },
          "execution_count": 51
        }
      ]
    },
    {
      "cell_type": "code",
      "metadata": {
        "id": "JJ7qcrXBDaBt",
        "colab": {
          "base_uri": "https://localhost:8080/"
        },
        "outputId": "5adc3075-eb70-4cb0-8a1c-d8a11bdd11a6"
      },
      "source": [
        "# 0th column only, but all columns -> entire 0th row\n",
        "x2[0, :]"
      ],
      "execution_count": 52,
      "outputs": [
        {
          "output_type": "execute_result",
          "data": {
            "text/plain": [
              "array([3, 5, 2, 4])"
            ]
          },
          "metadata": {
            "tags": []
          },
          "execution_count": 52
        }
      ]
    },
    {
      "cell_type": "code",
      "metadata": {
        "id": "_G58uqRpDnuw",
        "colab": {
          "base_uri": "https://localhost:8080/"
        },
        "outputId": "0a7a2f51-7378-4f31-8491-23faf49b0987"
      },
      "source": [
        "# all rows values containing in 0th column\n",
        "x2[:, 0]"
      ],
      "execution_count": 53,
      "outputs": [
        {
          "output_type": "execute_result",
          "data": {
            "text/plain": [
              "array([3, 7, 1])"
            ]
          },
          "metadata": {
            "tags": []
          },
          "execution_count": 53
        }
      ]
    },
    {
      "cell_type": "code",
      "metadata": {
        "id": "rl8rSNJID_AB",
        "colab": {
          "base_uri": "https://localhost:8080/"
        },
        "outputId": "3822772c-9349-45ac-8b80-f2962cb12ee4"
      },
      "source": [
        "# Entire 0th Row -> x2[0, :]\n",
        "x2[0]"
      ],
      "execution_count": 54,
      "outputs": [
        {
          "output_type": "execute_result",
          "data": {
            "text/plain": [
              "array([3, 5, 2, 4])"
            ]
          },
          "metadata": {
            "tags": []
          },
          "execution_count": 54
        }
      ]
    },
    {
      "cell_type": "code",
      "metadata": {
        "id": "l7ffjyNRELg8",
        "colab": {
          "base_uri": "https://localhost:8080/"
        },
        "outputId": "ce7c5541-076d-4bb3-9982-9176f921847a"
      },
      "source": [
        "# Entire 2th Row -> x2[2, :]\n",
        "x2[2]"
      ],
      "execution_count": 55,
      "outputs": [
        {
          "output_type": "execute_result",
          "data": {
            "text/plain": [
              "array([1, 6, 7, 7])"
            ]
          },
          "metadata": {
            "tags": []
          },
          "execution_count": 55
        }
      ]
    },
    {
      "cell_type": "markdown",
      "metadata": {
        "id": "oefjTqDKEigd"
      },
      "source": [
        "### Subarrays as no-copy views\n"
      ]
    },
    {
      "cell_type": "code",
      "metadata": {
        "id": "3pejiAnsE08c"
      },
      "source": [
        "# One important—and extremely useful—thing to know about array slices is that they\n",
        "# return views rather than copies of the array data"
      ],
      "execution_count": 56,
      "outputs": []
    },
    {
      "cell_type": "code",
      "metadata": {
        "id": "CDpwilswEesf",
        "colab": {
          "base_uri": "https://localhost:8080/"
        },
        "outputId": "8296e264-7c3d-4291-950c-92c9f938796f"
      },
      "source": [
        "x2"
      ],
      "execution_count": 57,
      "outputs": [
        {
          "output_type": "execute_result",
          "data": {
            "text/plain": [
              "array([[3, 5, 2, 4],\n",
              "       [7, 6, 8, 8],\n",
              "       [1, 6, 7, 7]])"
            ]
          },
          "metadata": {
            "tags": []
          },
          "execution_count": 57
        }
      ]
    },
    {
      "cell_type": "code",
      "metadata": {
        "id": "xdzpiJ2kEpcf",
        "colab": {
          "base_uri": "https://localhost:8080/"
        },
        "outputId": "ffb8c96e-9a6e-43b9-e811-a755d140c8fa"
      },
      "source": [
        "# viewing rows 0-1 and column 0-2\n",
        "x2_sub = x2[:2, :3]\n",
        "print(x2_sub)\n"
      ],
      "execution_count": 58,
      "outputs": [
        {
          "output_type": "stream",
          "text": [
            "[[3 5 2]\n",
            " [7 6 8]]\n"
          ],
          "name": "stdout"
        }
      ]
    },
    {
      "cell_type": "code",
      "metadata": {
        "id": "W8R6tvtwFJN9"
      },
      "source": [
        "# Now if we assign value here, it will mutate the original x2 2D array\n",
        "x2[1,2] = 1000"
      ],
      "execution_count": 59,
      "outputs": []
    },
    {
      "cell_type": "code",
      "metadata": {
        "id": "-DaPCE8jFb85",
        "colab": {
          "base_uri": "https://localhost:8080/"
        },
        "outputId": "637c79a0-b2c3-4e97-ea7e-f136d06b89db"
      },
      "source": [
        "# therefore we resigned a value of 1000 on row #1 and col #2\n",
        "# now 8 is removed and is having 1000 value!\n",
        "# this provies we get a view instead of copy like in normal python!\n",
        "x2"
      ],
      "execution_count": 60,
      "outputs": [
        {
          "output_type": "execute_result",
          "data": {
            "text/plain": [
              "array([[   3,    5,    2,    4],\n",
              "       [   7,    6, 1000,    8],\n",
              "       [   1,    6,    7,    7]])"
            ]
          },
          "metadata": {
            "tags": []
          },
          "execution_count": 60
        }
      ]
    },
    {
      "cell_type": "markdown",
      "metadata": {
        "id": "gRYMwIpiGCQR"
      },
      "source": [
        "### Creating copies of arrays\n"
      ]
    },
    {
      "cell_type": "code",
      "metadata": {
        "id": "Wycr0_JKGpwt",
        "colab": {
          "base_uri": "https://localhost:8080/"
        },
        "outputId": "47cf91f8-73af-4212-dade-e8cf8433e168"
      },
      "source": [
        "x2"
      ],
      "execution_count": 61,
      "outputs": [
        {
          "output_type": "execute_result",
          "data": {
            "text/plain": [
              "array([[   3,    5,    2,    4],\n",
              "       [   7,    6, 1000,    8],\n",
              "       [   1,    6,    7,    7]])"
            ]
          },
          "metadata": {
            "tags": []
          },
          "execution_count": 61
        }
      ]
    },
    {
      "cell_type": "code",
      "metadata": {
        "id": "yDXU-rkDFdza",
        "colab": {
          "base_uri": "https://localhost:8080/"
        },
        "outputId": "c179a290-3d61-41fe-a127-10177bc51d15"
      },
      "source": [
        "# if we want to create a real copy,istead of view, we can use .copy() method\n",
        "\n",
        "x2_sub_copy = x2[:2, :2].copy()\n",
        "print(x2_sub_copy)"
      ],
      "execution_count": 62,
      "outputs": [
        {
          "output_type": "stream",
          "text": [
            "[[3 5]\n",
            " [7 6]]\n"
          ],
          "name": "stdout"
        }
      ]
    },
    {
      "cell_type": "code",
      "metadata": {
        "id": "UErpKCupGtn8"
      },
      "source": [
        "x2_sub_copy[0,1] = 555"
      ],
      "execution_count": 63,
      "outputs": []
    },
    {
      "cell_type": "code",
      "metadata": {
        "id": "R-3MH1HrG2yT",
        "colab": {
          "base_uri": "https://localhost:8080/"
        },
        "outputId": "268c40c7-eb32-462a-e24a-4d197e192ae9"
      },
      "source": [
        "# Therefore row #0's column #1 got changed!\n",
        "x2_sub_copy"
      ],
      "execution_count": 64,
      "outputs": [
        {
          "output_type": "execute_result",
          "data": {
            "text/plain": [
              "array([[  3, 555],\n",
              "       [  7,   6]])"
            ]
          },
          "metadata": {
            "tags": []
          },
          "execution_count": 64
        }
      ]
    },
    {
      "cell_type": "code",
      "metadata": {
        "id": "xfQStO59G3wv",
        "colab": {
          "base_uri": "https://localhost:8080/"
        },
        "outputId": "462c5f77-7348-49fd-cb7d-c82a92b5d089"
      },
      "source": [
        "# here we can see the original x2 is not changed, only x2_sub_copy is changed.\n",
        "x2"
      ],
      "execution_count": 65,
      "outputs": [
        {
          "output_type": "execute_result",
          "data": {
            "text/plain": [
              "array([[   3,    5,    2,    4],\n",
              "       [   7,    6, 1000,    8],\n",
              "       [   1,    6,    7,    7]])"
            ]
          },
          "metadata": {
            "tags": []
          },
          "execution_count": 65
        }
      ]
    },
    {
      "cell_type": "markdown",
      "metadata": {
        "id": "dix86MvXHTYs"
      },
      "source": [
        "# Reshaping of Arrays\n"
      ]
    },
    {
      "cell_type": "code",
      "metadata": {
        "id": "u9_LpenUHRsI",
        "colab": {
          "base_uri": "https://localhost:8080/"
        },
        "outputId": "d815e52c-7b06-4256-a005-ac9d483120b4"
      },
      "source": [
        "arr = np.arange(1, 10)\n",
        "arr"
      ],
      "execution_count": 66,
      "outputs": [
        {
          "output_type": "execute_result",
          "data": {
            "text/plain": [
              "array([1, 2, 3, 4, 5, 6, 7, 8, 9])"
            ]
          },
          "metadata": {
            "tags": []
          },
          "execution_count": 66
        }
      ]
    },
    {
      "cell_type": "code",
      "metadata": {
        "id": "Q_NghZpYG77B",
        "colab": {
          "base_uri": "https://localhost:8080/"
        },
        "outputId": "ad7fe448-fd21-4983-f2c0-83ec19521543"
      },
      "source": [
        "grid = arr.reshape(3,3)\n",
        "grid"
      ],
      "execution_count": 67,
      "outputs": [
        {
          "output_type": "execute_result",
          "data": {
            "text/plain": [
              "array([[1, 2, 3],\n",
              "       [4, 5, 6],\n",
              "       [7, 8, 9]])"
            ]
          },
          "metadata": {
            "tags": []
          },
          "execution_count": 67
        }
      ]
    },
    {
      "cell_type": "code",
      "metadata": {
        "id": "xCIlQE2gHo3c",
        "colab": {
          "base_uri": "https://localhost:8080/"
        },
        "outputId": "3c281316-4f46-4d02-f4f8-72d8b49e7aa1"
      },
      "source": [
        "x = np.array([1, 2, 3])\n",
        "x"
      ],
      "execution_count": 68,
      "outputs": [
        {
          "output_type": "execute_result",
          "data": {
            "text/plain": [
              "array([1, 2, 3])"
            ]
          },
          "metadata": {
            "tags": []
          },
          "execution_count": 68
        }
      ]
    },
    {
      "cell_type": "code",
      "metadata": {
        "id": "iOWf9oL_H5i7",
        "colab": {
          "base_uri": "https://localhost:8080/"
        },
        "outputId": "dbe82c88-f5c6-497b-c402-3bb094491ee0"
      },
      "source": [
        "# Creating Row Vector\n",
        "\n",
        "x.reshape(1,3) # doesnot mutastes original x arr"
      ],
      "execution_count": 69,
      "outputs": [
        {
          "output_type": "execute_result",
          "data": {
            "text/plain": [
              "array([[1, 2, 3]])"
            ]
          },
          "metadata": {
            "tags": []
          },
          "execution_count": 69
        }
      ]
    },
    {
      "cell_type": "code",
      "metadata": {
        "id": "S-cxji_aH-FV",
        "colab": {
          "base_uri": "https://localhost:8080/"
        },
        "outputId": "78f4ff08-cde2-4d9a-ef7a-97b307ad10c0"
      },
      "source": [
        "# Creating Column Vector\n",
        "x.reshape(3,1)"
      ],
      "execution_count": 70,
      "outputs": [
        {
          "output_type": "execute_result",
          "data": {
            "text/plain": [
              "array([[1],\n",
              "       [2],\n",
              "       [3]])"
            ]
          },
          "metadata": {
            "tags": []
          },
          "execution_count": 70
        }
      ]
    },
    {
      "cell_type": "code",
      "metadata": {
        "id": "MQw3La_JIAWa",
        "colab": {
          "base_uri": "https://localhost:8080/"
        },
        "outputId": "d5c3db2e-e7d7-415b-eb66-025e2ebe65cc"
      },
      "source": [
        "#same thing can be achived using np.newaxis\n",
        "\n",
        "x[np.newaxis,:] # creates row vector"
      ],
      "execution_count": 71,
      "outputs": [
        {
          "output_type": "execute_result",
          "data": {
            "text/plain": [
              "array([[1, 2, 3]])"
            ]
          },
          "metadata": {
            "tags": []
          },
          "execution_count": 71
        }
      ]
    },
    {
      "cell_type": "code",
      "metadata": {
        "id": "dU6x6qmQIqql",
        "colab": {
          "base_uri": "https://localhost:8080/"
        },
        "outputId": "015ab84f-f592-4f94-df13-5290a5fafc37"
      },
      "source": [
        "x[:,np.newaxis] # creates column vector"
      ],
      "execution_count": 72,
      "outputs": [
        {
          "output_type": "execute_result",
          "data": {
            "text/plain": [
              "array([[1],\n",
              "       [2],\n",
              "       [3]])"
            ]
          },
          "metadata": {
            "tags": []
          },
          "execution_count": 72
        }
      ]
    },
    {
      "cell_type": "markdown",
      "metadata": {
        "id": "YggL2obYJ-8T"
      },
      "source": [
        "# Array Concatenation and Splitting\n"
      ]
    },
    {
      "cell_type": "markdown",
      "metadata": {
        "id": "ywkJg9_MKAqt"
      },
      "source": [
        "## Concatenation of arrays\n"
      ]
    },
    {
      "cell_type": "code",
      "metadata": {
        "id": "i3n5ZR5SJ7bK",
        "colab": {
          "base_uri": "https://localhost:8080/"
        },
        "outputId": "3d92b360-14d2-4b6a-d56e-3bf4559ea59d"
      },
      "source": [
        "#row wise concat of 1D arrays\n",
        "x = np.array([1, 2, 3])\n",
        "y = np.array([3, 2, 1])\n",
        "\n",
        "np.concatenate([x, y])\n"
      ],
      "execution_count": 73,
      "outputs": [
        {
          "output_type": "execute_result",
          "data": {
            "text/plain": [
              "array([1, 2, 3, 3, 2, 1])"
            ]
          },
          "metadata": {
            "tags": []
          },
          "execution_count": 73
        }
      ]
    },
    {
      "cell_type": "code",
      "metadata": {
        "id": "xKehRi6VI6fL"
      },
      "source": [
        "z = [10, 10, 101]\n"
      ],
      "execution_count": 74,
      "outputs": []
    },
    {
      "cell_type": "code",
      "metadata": {
        "id": "DuAA1lY9KL-G",
        "colab": {
          "base_uri": "https://localhost:8080/"
        },
        "outputId": "4aafdb12-6a16-4f20-9699-5fbdb3cc9fcd"
      },
      "source": [
        "np.concatenate([x, y, z],axis = 0)"
      ],
      "execution_count": 75,
      "outputs": [
        {
          "output_type": "execute_result",
          "data": {
            "text/plain": [
              "array([  1,   2,   3,   3,   2,   1,  10,  10, 101])"
            ]
          },
          "metadata": {
            "tags": []
          },
          "execution_count": 75
        }
      ]
    },
    {
      "cell_type": "code",
      "metadata": {
        "id": "e-339Ez6KRHA",
        "colab": {
          "base_uri": "https://localhost:8080/"
        },
        "outputId": "a1e1e001-0271-408e-d08b-00f69b55f23b"
      },
      "source": [
        "# 2D array\n",
        "grid1 = np.array([[1, 2, 3],[4, 5, 6]])\n",
        "grid1"
      ],
      "execution_count": 76,
      "outputs": [
        {
          "output_type": "execute_result",
          "data": {
            "text/plain": [
              "array([[1, 2, 3],\n",
              "       [4, 5, 6]])"
            ]
          },
          "metadata": {
            "tags": []
          },
          "execution_count": 76
        }
      ]
    },
    {
      "cell_type": "code",
      "metadata": {
        "id": "7r2teeO-KqlZ",
        "colab": {
          "base_uri": "https://localhost:8080/"
        },
        "outputId": "3a9e3090-1d18-4b84-c9d5-5cca67339b18"
      },
      "source": [
        "grid2 = np.array([[10, 20, 30],[40, 50, 60]])\n",
        "grid2"
      ],
      "execution_count": 77,
      "outputs": [
        {
          "output_type": "execute_result",
          "data": {
            "text/plain": [
              "array([[10, 20, 30],\n",
              "       [40, 50, 60]])"
            ]
          },
          "metadata": {
            "tags": []
          },
          "execution_count": 77
        }
      ]
    },
    {
      "cell_type": "code",
      "metadata": {
        "id": "UE01bmaNK6IQ",
        "colab": {
          "base_uri": "https://localhost:8080/"
        },
        "outputId": "2c100a2b-ce0d-407a-ba05-6b88c6637144"
      },
      "source": [
        "np.concatenate([grid1,grid2])"
      ],
      "execution_count": 78,
      "outputs": [
        {
          "output_type": "execute_result",
          "data": {
            "text/plain": [
              "array([[ 1,  2,  3],\n",
              "       [ 4,  5,  6],\n",
              "       [10, 20, 30],\n",
              "       [40, 50, 60]])"
            ]
          },
          "metadata": {
            "tags": []
          },
          "execution_count": 78
        }
      ]
    },
    {
      "cell_type": "code",
      "metadata": {
        "id": "q5m7K_BEK-3C",
        "colab": {
          "base_uri": "https://localhost:8080/"
        },
        "outputId": "87db43f1-721c-436b-e5e8-0074ae6db845"
      },
      "source": [
        "#vstack\n",
        "\n",
        "arr = np.array([1,2,3])\n",
        "np.vstack([arr,grid2])"
      ],
      "execution_count": 79,
      "outputs": [
        {
          "output_type": "execute_result",
          "data": {
            "text/plain": [
              "array([[ 1,  2,  3],\n",
              "       [10, 20, 30],\n",
              "       [40, 50, 60]])"
            ]
          },
          "metadata": {
            "tags": []
          },
          "execution_count": 79
        }
      ]
    },
    {
      "cell_type": "code",
      "metadata": {
        "id": "bxy28Hc0LnxB",
        "colab": {
          "base_uri": "https://localhost:8080/"
        },
        "outputId": "6bc748fc-577f-48a5-b7fb-e4f139ebedd3"
      },
      "source": [
        "#hstack\n",
        "carr = np.array([500,600]).reshape(2,1)\n",
        "carr"
      ],
      "execution_count": 80,
      "outputs": [
        {
          "output_type": "execute_result",
          "data": {
            "text/plain": [
              "array([[500],\n",
              "       [600]])"
            ]
          },
          "metadata": {
            "tags": []
          },
          "execution_count": 80
        }
      ]
    },
    {
      "cell_type": "code",
      "metadata": {
        "id": "XlVpaVhzLuZq",
        "colab": {
          "base_uri": "https://localhost:8080/"
        },
        "outputId": "c53dc555-2742-4c4c-f300-231c267576a8"
      },
      "source": [
        "np.hstack([carr,grid2])"
      ],
      "execution_count": 81,
      "outputs": [
        {
          "output_type": "execute_result",
          "data": {
            "text/plain": [
              "array([[500,  10,  20,  30],\n",
              "       [600,  40,  50,  60]])"
            ]
          },
          "metadata": {
            "tags": []
          },
          "execution_count": 81
        }
      ]
    },
    {
      "cell_type": "code",
      "metadata": {
        "id": "mKFyJYKyMTHu",
        "colab": {
          "base_uri": "https://localhost:8080/"
        },
        "outputId": "77218681-fee2-4787-9bc5-770dfab1a9d0"
      },
      "source": [
        "np.hstack([grid2,carr])"
      ],
      "execution_count": 82,
      "outputs": [
        {
          "output_type": "execute_result",
          "data": {
            "text/plain": [
              "array([[ 10,  20,  30, 500],\n",
              "       [ 40,  50,  60, 600]])"
            ]
          },
          "metadata": {
            "tags": []
          },
          "execution_count": 82
        }
      ]
    },
    {
      "cell_type": "markdown",
      "metadata": {
        "id": "He7ZT87AM5-z"
      },
      "source": [
        "## Splitting of arrays\n"
      ]
    },
    {
      "cell_type": "markdown",
      "metadata": {
        "id": "RmmDjULYPiIJ"
      },
      "source": [
        "### 1D array"
      ]
    },
    {
      "cell_type": "code",
      "metadata": {
        "id": "p1vYaF7CNB_b"
      },
      "source": [
        "\n",
        "x = [0,1, 2, 3, 4, 5, 6, 7,8,9,10]\n"
      ],
      "execution_count": 83,
      "outputs": []
    },
    {
      "cell_type": "code",
      "metadata": {
        "id": "uCUq5jLOOJEn",
        "colab": {
          "base_uri": "https://localhost:8080/"
        },
        "outputId": "44c82336-621d-454f-cfe7-2fd2535fbb69"
      },
      "source": [
        "# Spilits the array after index #1 into two halves \n",
        "x1,x2 = np.split(x, [2])\n",
        "print(x1, x2)"
      ],
      "execution_count": 84,
      "outputs": [
        {
          "output_type": "stream",
          "text": [
            "[0 1] [ 2  3  4  5  6  7  8  9 10]\n"
          ],
          "name": "stdout"
        }
      ]
    },
    {
      "cell_type": "code",
      "metadata": {
        "id": "Br773M82OVNz",
        "colab": {
          "base_uri": "https://localhost:8080/"
        },
        "outputId": "c52c6f57-4745-4255-fbe4-9278d4e64495"
      },
      "source": [
        "# Spilits the array after index #4 into two halves \n",
        "x1,x2 = np.split(x, [4])\n",
        "print(x1, x2)"
      ],
      "execution_count": 85,
      "outputs": [
        {
          "output_type": "stream",
          "text": [
            "[0 1 2 3] [ 4  5  6  7  8  9 10]\n"
          ],
          "name": "stdout"
        }
      ]
    },
    {
      "cell_type": "code",
      "metadata": {
        "id": "xtAgrmtHOoi7",
        "colab": {
          "base_uri": "https://localhost:8080/"
        },
        "outputId": "16edfd06-c0d1-4156-abb8-894f730199d3"
      },
      "source": [
        "# Spilits the array into 3 parts, first part (#0 - #1) ,(#2-#3 ), (#4 - remaining)\n",
        "x1,x2,x3 = np.split(x, [2,4])\n",
        "print(x1, x2,x3)"
      ],
      "execution_count": 86,
      "outputs": [
        {
          "output_type": "stream",
          "text": [
            "[0 1] [2 3] [ 4  5  6  7  8  9 10]\n"
          ],
          "name": "stdout"
        }
      ]
    },
    {
      "cell_type": "code",
      "metadata": {
        "id": "W9MR6nLBPIFg",
        "colab": {
          "base_uri": "https://localhost:8080/"
        },
        "outputId": "f3db2f98-2537-47a4-e442-fd1d0ad74906"
      },
      "source": [
        "# Spilits the array into 4 parts, first part (#0 - #1) ,(#2-#3 ), (#4 - #5),(#6 - remaining)\n",
        "x1,x2,x3,x4 = np.split(x, [2,4,6])\n",
        "print(x1, x2,x3,x4)"
      ],
      "execution_count": 87,
      "outputs": [
        {
          "output_type": "stream",
          "text": [
            "[0 1] [2 3] [4 5] [ 6  7  8  9 10]\n"
          ],
          "name": "stdout"
        }
      ]
    },
    {
      "cell_type": "markdown",
      "metadata": {
        "id": "PSQvboFaPlg3"
      },
      "source": [
        "### 2D Array"
      ]
    },
    {
      "cell_type": "code",
      "metadata": {
        "id": "oTBFCI0-Pabh",
        "colab": {
          "base_uri": "https://localhost:8080/"
        },
        "outputId": "6f0a1563-6605-4a49-bb44-da46030afd3a"
      },
      "source": [
        "grid = np.arange(10,26).reshape((4, 4))\n",
        "grid\n"
      ],
      "execution_count": 88,
      "outputs": [
        {
          "output_type": "execute_result",
          "data": {
            "text/plain": [
              "array([[10, 11, 12, 13],\n",
              "       [14, 15, 16, 17],\n",
              "       [18, 19, 20, 21],\n",
              "       [22, 23, 24, 25]])"
            ]
          },
          "metadata": {
            "tags": []
          },
          "execution_count": 88
        }
      ]
    },
    {
      "cell_type": "code",
      "metadata": {
        "id": "XC5Q5yPnPs60",
        "colab": {
          "base_uri": "https://localhost:8080/"
        },
        "outputId": "0abde24d-e525-4490-c5a9-19cee6923ba7"
      },
      "source": [
        "# vertically splits after row index #1\n",
        "upper, lower = np.vsplit(grid, [2])\n",
        "print(upper)\n",
        "print('\\n')\n",
        "print(lower)\n"
      ],
      "execution_count": 89,
      "outputs": [
        {
          "output_type": "stream",
          "text": [
            "[[10 11 12 13]\n",
            " [14 15 16 17]]\n",
            "\n",
            "\n",
            "[[18 19 20 21]\n",
            " [22 23 24 25]]\n"
          ],
          "name": "stdout"
        }
      ]
    },
    {
      "cell_type": "code",
      "metadata": {
        "id": "EoJWS7RZPy6y",
        "colab": {
          "base_uri": "https://localhost:8080/"
        },
        "outputId": "dda96121-e68e-4f08-a9e5-831ee9657d17"
      },
      "source": [
        "# horizontally splits after column index #1\n",
        "left, right = np.hsplit(grid, [2])\n",
        "print(left)\n",
        "print('\\n')\n",
        "print(right)"
      ],
      "execution_count": 90,
      "outputs": [
        {
          "output_type": "stream",
          "text": [
            "[[10 11]\n",
            " [14 15]\n",
            " [18 19]\n",
            " [22 23]]\n",
            "\n",
            "\n",
            "[[12 13]\n",
            " [16 17]\n",
            " [20 21]\n",
            " [24 25]]\n"
          ],
          "name": "stdout"
        }
      ]
    },
    {
      "cell_type": "markdown",
      "metadata": {
        "id": "Jd__p1_FQb3R"
      },
      "source": [
        "# Computation on NumPy Arrays: Universal Functions\n",
        "\n",
        "Computation on NumPy arrays can be very fast, or it can be very slow. The key to\n",
        "making it fast is to use vectorized operations, generally implemented through Num‐\n",
        "Py’s universal functions (ufuncs).\n"
      ]
    },
    {
      "cell_type": "markdown",
      "metadata": {
        "id": "-gRFoESuQ8nd"
      },
      "source": [
        "## Introducing UFuncs\n",
        "For many types of operations, NumPy provides a convenient interface into just this\n",
        "kind of statically typed, compiled routine. This is known as a vectorized operation.\n",
        "You can accomplish this by simply performing an operation on the array, which will\n",
        "then be applied to each element. This vectorized approach is designed to push the\n",
        "loop into the compiled layer that underlies NumPy, leading to much faster execution."
      ]
    },
    {
      "cell_type": "code",
      "metadata": {
        "id": "dJsNJIw0QWnu",
        "colab": {
          "base_uri": "https://localhost:8080/"
        },
        "outputId": "2593b9cf-432a-4333-dc32-5d1374e3818f"
      },
      "source": [
        "np.arange(5) / np.arange(1, 6)"
      ],
      "execution_count": 91,
      "outputs": [
        {
          "output_type": "execute_result",
          "data": {
            "text/plain": [
              "array([0.        , 0.5       , 0.66666667, 0.75      , 0.8       ])"
            ]
          },
          "metadata": {
            "tags": []
          },
          "execution_count": 91
        }
      ]
    },
    {
      "cell_type": "code",
      "metadata": {
        "id": "_ChlHw1KRRtv",
        "colab": {
          "base_uri": "https://localhost:8080/"
        },
        "outputId": "c8128536-ba22-466b-f6bc-dc21997d9633"
      },
      "source": [
        "x = np.arange(9).reshape((3, 3))\n",
        "2 ** x"
      ],
      "execution_count": 92,
      "outputs": [
        {
          "output_type": "execute_result",
          "data": {
            "text/plain": [
              "array([[  1,   2,   4],\n",
              "       [  8,  16,  32],\n",
              "       [ 64, 128, 256]])"
            ]
          },
          "metadata": {
            "tags": []
          },
          "execution_count": 92
        }
      ]
    },
    {
      "cell_type": "markdown",
      "metadata": {
        "id": "vCGlMy_6RWFs"
      },
      "source": [
        "## Exploring NumPy’s UFuncs\n"
      ]
    },
    {
      "cell_type": "markdown",
      "metadata": {
        "id": "C_vtbqLFRgJI"
      },
      "source": [
        "### Array arithmetic\n"
      ]
    },
    {
      "cell_type": "code",
      "metadata": {
        "id": "CaZfUZ-5RUE8",
        "colab": {
          "base_uri": "https://localhost:8080/"
        },
        "outputId": "5a269bb9-5c61-462a-a1b8-1087e22eb31f"
      },
      "source": [
        "x = np.arange(4)\n",
        "print(\" x       = \", x)\n",
        "print(\" x + 5.0 = \", x + 5.0) # addition with float value converts the entire array to float\n",
        "print(\" x - 2   = \", x - 2)\n",
        "print(\" x * 2   = \", x * 2)\n",
        "print(\" x / 2   = \", x / 2)\n",
        "print(\" x // 2  = \", x // 2) # floor division(returns INT)\n",
        "print(\"-x       = \", -x)\n",
        "print(\" x ** 2  = \", x ** 2)\n",
        "print(\" x % 2   = \", x % 2)"
      ],
      "execution_count": 93,
      "outputs": [
        {
          "output_type": "stream",
          "text": [
            " x       =  [0 1 2 3]\n",
            " x + 5.0 =  [5. 6. 7. 8.]\n",
            " x - 2   =  [-2 -1  0  1]\n",
            " x * 2   =  [0 2 4 6]\n",
            " x / 2   =  [0.  0.5 1.  1.5]\n",
            " x // 2  =  [0 0 1 1]\n",
            "-x       =  [ 0 -1 -2 -3]\n",
            " x ** 2  =  [0 1 4 9]\n",
            " x % 2   =  [0 1 0 1]\n"
          ],
          "name": "stdout"
        }
      ]
    },
    {
      "cell_type": "markdown",
      "metadata": {
        "id": "VhYlvRz6Sjju"
      },
      "source": [
        "### Absolute value\n"
      ]
    },
    {
      "cell_type": "code",
      "metadata": {
        "id": "1OfeK75ERtpx",
        "colab": {
          "base_uri": "https://localhost:8080/"
        },
        "outputId": "6f4be14e-0212-40b2-8e62-6369ecd33062"
      },
      "source": [
        "x = np.array([-2, -1, 0, 1, 2])\n",
        "abs(x) # <-- This is python's abs function"
      ],
      "execution_count": 94,
      "outputs": [
        {
          "output_type": "execute_result",
          "data": {
            "text/plain": [
              "array([2, 1, 0, 1, 2])"
            ]
          },
          "metadata": {
            "tags": []
          },
          "execution_count": 94
        }
      ]
    },
    {
      "cell_type": "code",
      "metadata": {
        "id": "KBBy_vXgSnNW",
        "colab": {
          "base_uri": "https://localhost:8080/"
        },
        "outputId": "402c51b4-5b51-4181-a964-1fdb9b0ec5fe"
      },
      "source": [
        "np.absolute(x)"
      ],
      "execution_count": 95,
      "outputs": [
        {
          "output_type": "execute_result",
          "data": {
            "text/plain": [
              "array([2, 1, 0, 1, 2])"
            ]
          },
          "metadata": {
            "tags": []
          },
          "execution_count": 95
        }
      ]
    },
    {
      "cell_type": "code",
      "metadata": {
        "id": "yuS49KslS1EY",
        "colab": {
          "base_uri": "https://localhost:8080/"
        },
        "outputId": "758fdeab-e5f9-4298-acb3-4960cac0cce5"
      },
      "source": [
        "np.abs(x)\n"
      ],
      "execution_count": 96,
      "outputs": [
        {
          "output_type": "execute_result",
          "data": {
            "text/plain": [
              "array([2, 1, 0, 1, 2])"
            ]
          },
          "metadata": {
            "tags": []
          },
          "execution_count": 96
        }
      ]
    },
    {
      "cell_type": "markdown",
      "metadata": {
        "id": "l0z6H_gOS7IL"
      },
      "source": [
        "### Trigonometric functions\n"
      ]
    },
    {
      "cell_type": "code",
      "metadata": {
        "id": "k6PbaCOsS3Bt"
      },
      "source": [
        "theta = np.linspace(0, np.pi, 3)"
      ],
      "execution_count": 97,
      "outputs": []
    },
    {
      "cell_type": "code",
      "metadata": {
        "id": "LIVVJCTmS-SA",
        "colab": {
          "base_uri": "https://localhost:8080/"
        },
        "outputId": "fd74b814-d79b-4ff0-9404-6694a349a4b0"
      },
      "source": [
        "print(\"theta      = \", theta)\n",
        "print(\"sin(theta) = \", np.sin(theta))\n",
        "print(\"cos(theta) = \", np.cos(theta))\n",
        "print(\"tan(theta) = \", np.tan(theta))"
      ],
      "execution_count": 98,
      "outputs": [
        {
          "output_type": "stream",
          "text": [
            "theta      =  [0.         1.57079633 3.14159265]\n",
            "sin(theta) =  [0.0000000e+00 1.0000000e+00 1.2246468e-16]\n",
            "cos(theta) =  [ 1.000000e+00  6.123234e-17 -1.000000e+00]\n",
            "tan(theta) =  [ 0.00000000e+00  1.63312394e+16 -1.22464680e-16]\n"
          ],
          "name": "stdout"
        }
      ]
    },
    {
      "cell_type": "markdown",
      "metadata": {
        "id": "lSX9Z9kMTLp9"
      },
      "source": [
        "### Exponents and logarithms\n"
      ]
    },
    {
      "cell_type": "code",
      "metadata": {
        "id": "HU5a-sgLTBmy",
        "colab": {
          "base_uri": "https://localhost:8080/"
        },
        "outputId": "e2458aa3-3a93-4d61-9cc2-56e7ba35f98c"
      },
      "source": [
        "x = [1, 2, 3]\n",
        "print(\"x   =\", x)\n",
        "print(\"e^x =\", np.exp(x))\n",
        "print(\"2^x =\", np.exp2(x))\n",
        "print(\"3^x =\", np.power(3, x))"
      ],
      "execution_count": 99,
      "outputs": [
        {
          "output_type": "stream",
          "text": [
            "x   = [1, 2, 3]\n",
            "e^x = [ 2.71828183  7.3890561  20.08553692]\n",
            "2^x = [2. 4. 8.]\n",
            "3^x = [ 3  9 27]\n"
          ],
          "name": "stdout"
        }
      ]
    },
    {
      "cell_type": "code",
      "metadata": {
        "id": "uyeCydmcTObg",
        "colab": {
          "base_uri": "https://localhost:8080/"
        },
        "outputId": "c8928d42-b8f4-43ed-8f1a-f5c4d4d74d36"
      },
      "source": [
        "x = [1, 2, 4, 10]\n",
        "print(\"x       =\", x)\n",
        "print(\"ln(x)   =\", np.log(x))\n",
        "print(\"log2(x) =\", np.log2(x))\n",
        "print(\"log10(x)=\", np.log10(x))\n"
      ],
      "execution_count": 100,
      "outputs": [
        {
          "output_type": "stream",
          "text": [
            "x       = [1, 2, 4, 10]\n",
            "ln(x)   = [0.         0.69314718 1.38629436 2.30258509]\n",
            "log2(x) = [0.         1.         2.         3.32192809]\n",
            "log10(x)= [0.         0.30103    0.60205999 1.        ]\n"
          ],
          "name": "stdout"
        }
      ]
    },
    {
      "cell_type": "code",
      "metadata": {
        "id": "So76zj9JTYY0",
        "colab": {
          "base_uri": "https://localhost:8080/"
        },
        "outputId": "f8d0c3f6-487b-4f2d-8244-b027d568aa5e"
      },
      "source": [
        "#There are also some specialized versions that are useful for maintaining precision with very small input:\n",
        "x = [0, 0.001, 0.01, 0.1]\n",
        "print(\"exp(x) - 1 =\", np.expm1(x))\n",
        "print(\"log(1 + x) =\", np.log1p(x))"
      ],
      "execution_count": 101,
      "outputs": [
        {
          "output_type": "stream",
          "text": [
            "exp(x) - 1 = [0.         0.0010005  0.01005017 0.10517092]\n",
            "log(1 + x) = [0.         0.0009995  0.00995033 0.09531018]\n"
          ],
          "name": "stdout"
        }
      ]
    },
    {
      "cell_type": "markdown",
      "metadata": {
        "id": "kAuxvEy3Ty97"
      },
      "source": [
        "##Advanced Ufunc Features\n"
      ]
    },
    {
      "cell_type": "markdown",
      "metadata": {
        "id": "heC9LHsuT95k"
      },
      "source": [
        "### Specifying output\n",
        "\n",
        "\n",
        "For large calculations, it is sometimes useful to be able to specify the array where the\n",
        "result of the calculation will be stored."
      ]
    },
    {
      "cell_type": "code",
      "metadata": {
        "id": "I9GiUfeyTjyp",
        "colab": {
          "base_uri": "https://localhost:8080/"
        },
        "outputId": "9bcd6301-c80d-49d8-8ef6-f1b300402463"
      },
      "source": [
        "x = np.arange(10)\n",
        "y = np.empty(10)\n",
        "\n",
        "np.multiply(x, 2, out=y)"
      ],
      "execution_count": 102,
      "outputs": [
        {
          "output_type": "execute_result",
          "data": {
            "text/plain": [
              "array([ 0.,  2.,  4.,  6.,  8., 10., 12., 14., 16., 18.])"
            ]
          },
          "metadata": {
            "tags": []
          },
          "execution_count": 102
        }
      ]
    },
    {
      "cell_type": "code",
      "metadata": {
        "id": "zPH-tFq4T2nw",
        "colab": {
          "base_uri": "https://localhost:8080/"
        },
        "outputId": "74b57b16-8af3-4a0a-8bce-7e1a2572bfa4"
      },
      "source": [
        "print(y)"
      ],
      "execution_count": 103,
      "outputs": [
        {
          "output_type": "stream",
          "text": [
            "[ 0.  2.  4.  6.  8. 10. 12. 14. 16. 18.]\n"
          ],
          "name": "stdout"
        }
      ]
    },
    {
      "cell_type": "code",
      "metadata": {
        "id": "ssDGOW_AUZvC",
        "colab": {
          "base_uri": "https://localhost:8080/"
        },
        "outputId": "dfde3ecb-ec73-4a05-f2c2-22a8fc9184dd"
      },
      "source": [
        "print(x)"
      ],
      "execution_count": 104,
      "outputs": [
        {
          "output_type": "stream",
          "text": [
            "[0 1 2 3 4 5 6 7 8 9]\n"
          ],
          "name": "stdout"
        }
      ]
    },
    {
      "cell_type": "code",
      "metadata": {
        "id": "p53ihxmdUeVE",
        "colab": {
          "base_uri": "https://localhost:8080/"
        },
        "outputId": "3de3162b-fa46-4572-8dc4-cd5fc33cd73d"
      },
      "source": [
        "np.divide(x, 2, out=y)"
      ],
      "execution_count": 105,
      "outputs": [
        {
          "output_type": "execute_result",
          "data": {
            "text/plain": [
              "array([0. , 0.5, 1. , 1.5, 2. , 2.5, 3. , 3.5, 4. , 4.5])"
            ]
          },
          "metadata": {
            "tags": []
          },
          "execution_count": 105
        }
      ]
    },
    {
      "cell_type": "markdown",
      "metadata": {
        "id": "hWthYxvtVA2n"
      },
      "source": [
        "### Aggregates"
      ]
    },
    {
      "cell_type": "code",
      "metadata": {
        "id": "QE3IUeJpUpzo",
        "colab": {
          "base_uri": "https://localhost:8080/"
        },
        "outputId": "7455e41d-ed81-4955-f710-0a03fcf75e72"
      },
      "source": [
        "# Reduces to single value\n",
        "x = np.arange(1, 6)\n",
        "np.add.reduce(x)\n"
      ],
      "execution_count": 106,
      "outputs": [
        {
          "output_type": "execute_result",
          "data": {
            "text/plain": [
              "15"
            ]
          },
          "metadata": {
            "tags": []
          },
          "execution_count": 106
        }
      ]
    },
    {
      "cell_type": "code",
      "metadata": {
        "id": "pY0bFFkHVEP-",
        "colab": {
          "base_uri": "https://localhost:8080/"
        },
        "outputId": "13c214e1-6a50-4d52-90fa-f3f41e219c29"
      },
      "source": [
        "# stores the intermediate values of the calculation \n",
        "np.add.accumulate(x)"
      ],
      "execution_count": 107,
      "outputs": [
        {
          "output_type": "execute_result",
          "data": {
            "text/plain": [
              "array([ 1,  3,  6, 10, 15])"
            ]
          },
          "metadata": {
            "tags": []
          },
          "execution_count": 107
        }
      ]
    },
    {
      "cell_type": "code",
      "metadata": {
        "id": "xJIA8k_ZVP7Q",
        "colab": {
          "base_uri": "https://localhost:8080/"
        },
        "outputId": "7bdde8ad-c8ec-4778-dd48-1689231ee04e"
      },
      "source": [
        "np.multiply.accumulate(x)"
      ],
      "execution_count": 108,
      "outputs": [
        {
          "output_type": "execute_result",
          "data": {
            "text/plain": [
              "array([  1,   2,   6,  24, 120])"
            ]
          },
          "metadata": {
            "tags": []
          },
          "execution_count": 108
        }
      ]
    },
    {
      "cell_type": "markdown",
      "metadata": {
        "id": "f8jveSaXKOgT"
      },
      "source": [
        "### Outer products\n"
      ]
    },
    {
      "cell_type": "code",
      "metadata": {
        "id": "Wc2KCMdBJ3Ck",
        "colab": {
          "base_uri": "https://localhost:8080/"
        },
        "outputId": "d5931457-d595-4c31-b1c2-37d59ccaf513"
      },
      "source": [
        "x = np.arange(1,6)\n",
        "y = np.arange(1,11)\n",
        "\n",
        "np.multiply.outer(x,y)"
      ],
      "execution_count": 109,
      "outputs": [
        {
          "output_type": "execute_result",
          "data": {
            "text/plain": [
              "array([[ 1,  2,  3,  4,  5,  6,  7,  8,  9, 10],\n",
              "       [ 2,  4,  6,  8, 10, 12, 14, 16, 18, 20],\n",
              "       [ 3,  6,  9, 12, 15, 18, 21, 24, 27, 30],\n",
              "       [ 4,  8, 12, 16, 20, 24, 28, 32, 36, 40],\n",
              "       [ 5, 10, 15, 20, 25, 30, 35, 40, 45, 50]])"
            ]
          },
          "metadata": {
            "tags": []
          },
          "execution_count": 109
        }
      ]
    },
    {
      "cell_type": "markdown",
      "metadata": {
        "id": "00t1m_bRL3KX"
      },
      "source": [
        "# Computation on Arrays: Broadcasting\n",
        " NumPy’s universal functions can be used to vec‐\n",
        "torize operations and thereby remove slow Python loops. Another means of vectoriz‐\n",
        "ing operations is to use NumPy’s broadcasting functionality. Broadcasting is simply a\n",
        "set of rules for applying binary ufuncs (addition, subtraction, multiplication, etc.) on\n",
        "arrays of different sizes.\n",
        "\n",
        "*Broadcasting  binary operations to be performed on arrays of dif‐\n",
        "ferent sizes—for example, we can just as easily add a scalar (think of it as a zerodimensional array) to an array*"
      ]
    },
    {
      "cell_type": "code",
      "metadata": {
        "id": "yyju_CjPLx6b",
        "colab": {
          "base_uri": "https://localhost:8080/"
        },
        "outputId": "984b3239-35d5-4624-de7c-31cc41e79737"
      },
      "source": [
        "a = np.arange(5)\n",
        "a"
      ],
      "execution_count": 110,
      "outputs": [
        {
          "output_type": "execute_result",
          "data": {
            "text/plain": [
              "array([0, 1, 2, 3, 4])"
            ]
          },
          "metadata": {
            "tags": []
          },
          "execution_count": 110
        }
      ]
    },
    {
      "cell_type": "code",
      "metadata": {
        "id": "Zt_hWEI5Kn5Z",
        "colab": {
          "base_uri": "https://localhost:8080/"
        },
        "outputId": "d5c051c7-abfc-4d2d-9c15-2c00d8421bd4"
      },
      "source": [
        "a + 5"
      ],
      "execution_count": 111,
      "outputs": [
        {
          "output_type": "execute_result",
          "data": {
            "text/plain": [
              "array([5, 6, 7, 8, 9])"
            ]
          },
          "metadata": {
            "tags": []
          },
          "execution_count": 111
        }
      ]
    },
    {
      "cell_type": "code",
      "metadata": {
        "id": "jCUfzsXOMayU",
        "colab": {
          "base_uri": "https://localhost:8080/"
        },
        "outputId": "34615e13-dc42-4461-9990-1a5d90063ead"
      },
      "source": [
        "x = np.full((3, 5),2,dtype=int)\n",
        "x"
      ],
      "execution_count": 112,
      "outputs": [
        {
          "output_type": "execute_result",
          "data": {
            "text/plain": [
              "array([[2, 2, 2, 2, 2],\n",
              "       [2, 2, 2, 2, 2],\n",
              "       [2, 2, 2, 2, 2]])"
            ]
          },
          "metadata": {
            "tags": []
          },
          "execution_count": 112
        }
      ]
    },
    {
      "cell_type": "code",
      "metadata": {
        "id": "9JVsZKhRNRud",
        "colab": {
          "base_uri": "https://localhost:8080/"
        },
        "outputId": "3d3b79a4-7460-4971-a6cf-7d2cc0b8c4a3"
      },
      "source": [
        "# Here the one-dimensional array a is stretched, or broadcast, across the second\n",
        "# dimension in order to match the shape of M.\n",
        "x + a"
      ],
      "execution_count": 113,
      "outputs": [
        {
          "output_type": "execute_result",
          "data": {
            "text/plain": [
              "array([[2, 3, 4, 5, 6],\n",
              "       [2, 3, 4, 5, 6],\n",
              "       [2, 3, 4, 5, 6]])"
            ]
          },
          "metadata": {
            "tags": []
          },
          "execution_count": 113
        }
      ]
    },
    {
      "cell_type": "code",
      "metadata": {
        "id": "a60ZjbhiNZjv"
      },
      "source": [
        "a = np.arange(3)\n",
        "b = np.arange(3)[:, np.newaxis]\n"
      ],
      "execution_count": 114,
      "outputs": []
    },
    {
      "cell_type": "code",
      "metadata": {
        "id": "fn6tXVqMOggR",
        "colab": {
          "base_uri": "https://localhost:8080/"
        },
        "outputId": "74aed960-f986-4303-f785-e6c023452fd2"
      },
      "source": [
        "print(a)\n",
        "print('\\n')\n",
        "print(b)"
      ],
      "execution_count": 115,
      "outputs": [
        {
          "output_type": "stream",
          "text": [
            "[0 1 2]\n",
            "\n",
            "\n",
            "[[0]\n",
            " [1]\n",
            " [2]]\n"
          ],
          "name": "stdout"
        }
      ]
    },
    {
      "cell_type": "code",
      "metadata": {
        "id": "sS3G1JXdOiCF",
        "colab": {
          "base_uri": "https://localhost:8080/"
        },
        "outputId": "4313b1f0-dcb8-4599-fec8-fbab28611683"
      },
      "source": [
        "a + b"
      ],
      "execution_count": 116,
      "outputs": [
        {
          "output_type": "execute_result",
          "data": {
            "text/plain": [
              "array([[0, 1, 2],\n",
              "       [1, 2, 3],\n",
              "       [2, 3, 4]])"
            ]
          },
          "metadata": {
            "tags": []
          },
          "execution_count": 116
        }
      ]
    },
    {
      "cell_type": "markdown",
      "metadata": {
        "id": "TKbnz7IZRu48"
      },
      "source": [
        "# Comparisons, Masks, and Boolean Logic\n"
      ]
    },
    {
      "cell_type": "code",
      "metadata": {
        "id": "PcLYwPK7PhGV"
      },
      "source": [
        "#1D array masks\n",
        "x = np.array([1, 2, 3, 4, 5])"
      ],
      "execution_count": 117,
      "outputs": []
    },
    {
      "cell_type": "code",
      "metadata": {
        "id": "ogeUNnKKR3nj",
        "colab": {
          "base_uri": "https://localhost:8080/"
        },
        "outputId": "7ab986f4-7b6d-4804-b4e4-c2b6c994e9d8"
      },
      "source": [
        "x < 3 # less than"
      ],
      "execution_count": 118,
      "outputs": [
        {
          "output_type": "execute_result",
          "data": {
            "text/plain": [
              "array([ True,  True, False, False, False])"
            ]
          },
          "metadata": {
            "tags": []
          },
          "execution_count": 118
        }
      ]
    },
    {
      "cell_type": "code",
      "metadata": {
        "id": "eovQRmtPR8iC",
        "colab": {
          "base_uri": "https://localhost:8080/"
        },
        "outputId": "a0c9f339-6d3e-4b3f-d35d-5c2764e93ad0"
      },
      "source": [
        "x > 3 # greater than"
      ],
      "execution_count": 119,
      "outputs": [
        {
          "output_type": "execute_result",
          "data": {
            "text/plain": [
              "array([False, False, False,  True,  True])"
            ]
          },
          "metadata": {
            "tags": []
          },
          "execution_count": 119
        }
      ]
    },
    {
      "cell_type": "code",
      "metadata": {
        "id": "uGRNdMUASAHf",
        "colab": {
          "base_uri": "https://localhost:8080/"
        },
        "outputId": "c6236a20-c028-4053-8559-1a3056267638"
      },
      "source": [
        "x <= 3"
      ],
      "execution_count": 120,
      "outputs": [
        {
          "output_type": "execute_result",
          "data": {
            "text/plain": [
              "array([ True,  True,  True, False, False])"
            ]
          },
          "metadata": {
            "tags": []
          },
          "execution_count": 120
        }
      ]
    },
    {
      "cell_type": "code",
      "metadata": {
        "id": "xTNfisQ7SB4I",
        "colab": {
          "base_uri": "https://localhost:8080/"
        },
        "outputId": "57e2c586-a09d-4913-885c-e6c4c0f2d5c1"
      },
      "source": [
        "x >= 3"
      ],
      "execution_count": 121,
      "outputs": [
        {
          "output_type": "execute_result",
          "data": {
            "text/plain": [
              "array([False, False,  True,  True,  True])"
            ]
          },
          "metadata": {
            "tags": []
          },
          "execution_count": 121
        }
      ]
    },
    {
      "cell_type": "code",
      "metadata": {
        "id": "eyxwhccCSFIW",
        "colab": {
          "base_uri": "https://localhost:8080/"
        },
        "outputId": "6eb65729-0a96-44d8-f947-19aa7a1a420b"
      },
      "source": [
        "x != 3"
      ],
      "execution_count": 122,
      "outputs": [
        {
          "output_type": "execute_result",
          "data": {
            "text/plain": [
              "array([ True,  True, False,  True,  True])"
            ]
          },
          "metadata": {
            "tags": []
          },
          "execution_count": 122
        }
      ]
    },
    {
      "cell_type": "code",
      "metadata": {
        "id": "D7Z-3JamSHIT",
        "colab": {
          "base_uri": "https://localhost:8080/"
        },
        "outputId": "64ae0543-1bc7-41c5-f08c-43615f6a4ec9"
      },
      "source": [
        "x == 3"
      ],
      "execution_count": 123,
      "outputs": [
        {
          "output_type": "execute_result",
          "data": {
            "text/plain": [
              "array([False, False,  True, False, False])"
            ]
          },
          "metadata": {
            "tags": []
          },
          "execution_count": 123
        }
      ]
    },
    {
      "cell_type": "code",
      "metadata": {
        "id": "7ybmMIYGSKJo",
        "colab": {
          "base_uri": "https://localhost:8080/"
        },
        "outputId": "d06fd694-2312-488c-c885-c13e759787a2"
      },
      "source": [
        "(2 * x) == (x ** 2)"
      ],
      "execution_count": 124,
      "outputs": [
        {
          "output_type": "execute_result",
          "data": {
            "text/plain": [
              "array([False,  True, False, False, False])"
            ]
          },
          "metadata": {
            "tags": []
          },
          "execution_count": 124
        }
      ]
    },
    {
      "cell_type": "code",
      "metadata": {
        "id": "24ox8b-pSOjk",
        "colab": {
          "base_uri": "https://localhost:8080/"
        },
        "outputId": "605f676b-1f53-4e81-b00d-f397238edaf5"
      },
      "source": [
        "#2D Array masks\n",
        "rng = np.random.RandomState(0)\n",
        "x = rng.randint(10, size=(3, 4))\n",
        "x"
      ],
      "execution_count": 125,
      "outputs": [
        {
          "output_type": "execute_result",
          "data": {
            "text/plain": [
              "array([[5, 0, 3, 3],\n",
              "       [7, 9, 3, 5],\n",
              "       [2, 4, 7, 6]])"
            ]
          },
          "metadata": {
            "tags": []
          },
          "execution_count": 125
        }
      ]
    },
    {
      "cell_type": "code",
      "metadata": {
        "id": "rDmGMgaqSyz8",
        "colab": {
          "base_uri": "https://localhost:8080/"
        },
        "outputId": "42712d5b-c373-4508-d9db-fa3e7ff66594"
      },
      "source": [
        "x < 6"
      ],
      "execution_count": 126,
      "outputs": [
        {
          "output_type": "execute_result",
          "data": {
            "text/plain": [
              "array([[ True,  True,  True,  True],\n",
              "       [False, False,  True,  True],\n",
              "       [ True,  True, False, False]])"
            ]
          },
          "metadata": {
            "tags": []
          },
          "execution_count": 126
        }
      ]
    },
    {
      "cell_type": "markdown",
      "metadata": {
        "id": "xtoSrBaYTNl-"
      },
      "source": [
        "# Working with Boolean Arrays\n"
      ]
    },
    {
      "cell_type": "code",
      "metadata": {
        "id": "KC6R4ZJlTGnh",
        "colab": {
          "base_uri": "https://localhost:8080/"
        },
        "outputId": "a6f8360c-d227-4fbe-a968-9b4547b89d3d"
      },
      "source": [
        "x"
      ],
      "execution_count": 127,
      "outputs": [
        {
          "output_type": "execute_result",
          "data": {
            "text/plain": [
              "array([[5, 0, 3, 3],\n",
              "       [7, 9, 3, 5],\n",
              "       [2, 4, 7, 6]])"
            ]
          },
          "metadata": {
            "tags": []
          },
          "execution_count": 127
        }
      ]
    },
    {
      "cell_type": "markdown",
      "metadata": {
        "id": "9Uvv3gjgTiGb"
      },
      "source": [
        "### Counting entries\n"
      ]
    },
    {
      "cell_type": "code",
      "metadata": {
        "id": "2ulWMbT1TXCE",
        "colab": {
          "base_uri": "https://localhost:8080/"
        },
        "outputId": "5e1375d9-2d28-4c87-ffa5-a414a6de4994"
      },
      "source": [
        "# how many values less than 6?\n",
        "np.count_nonzero(x < 6)"
      ],
      "execution_count": 128,
      "outputs": [
        {
          "output_type": "execute_result",
          "data": {
            "text/plain": [
              "8"
            ]
          },
          "metadata": {
            "tags": []
          },
          "execution_count": 128
        }
      ]
    },
    {
      "cell_type": "code",
      "metadata": {
        "id": "s-M41OKbTc6V"
      },
      "source": [
        "# same thing can be done with sum(). It sums out the entire values, True -> 1 False -> 0 "
      ],
      "execution_count": 129,
      "outputs": []
    },
    {
      "cell_type": "code",
      "metadata": {
        "id": "pfCX7pLsTfaj",
        "colab": {
          "base_uri": "https://localhost:8080/"
        },
        "outputId": "75d9380f-b516-4daf-a9fd-a03fd56f2410"
      },
      "source": [
        "np.sum(x < 6)"
      ],
      "execution_count": 130,
      "outputs": [
        {
          "output_type": "execute_result",
          "data": {
            "text/plain": [
              "8"
            ]
          },
          "metadata": {
            "tags": []
          },
          "execution_count": 130
        }
      ]
    },
    {
      "cell_type": "code",
      "metadata": {
        "id": "grR1sPB4U6mf",
        "colab": {
          "base_uri": "https://localhost:8080/"
        },
        "outputId": "c777cd1c-a98e-47d8-dee6-e7cec8c6bbb2"
      },
      "source": [
        "# how many values less than 6 in each row?\n",
        "np.sum(x < 6, axis=1)\n"
      ],
      "execution_count": 131,
      "outputs": [
        {
          "output_type": "execute_result",
          "data": {
            "text/plain": [
              "array([4, 2, 2])"
            ]
          },
          "metadata": {
            "tags": []
          },
          "execution_count": 131
        }
      ]
    },
    {
      "cell_type": "code",
      "metadata": {
        "id": "ztqbLPm5VBtt",
        "colab": {
          "base_uri": "https://localhost:8080/"
        },
        "outputId": "84a3b5be-3dc1-4e5a-ce69-511b01c590a5"
      },
      "source": [
        "# are there any values greater than 8?\n",
        "np.any(x > 8)"
      ],
      "execution_count": 132,
      "outputs": [
        {
          "output_type": "execute_result",
          "data": {
            "text/plain": [
              "True"
            ]
          },
          "metadata": {
            "tags": []
          },
          "execution_count": 132
        }
      ]
    },
    {
      "cell_type": "code",
      "metadata": {
        "id": "kgjQa5TeVNS4",
        "colab": {
          "base_uri": "https://localhost:8080/"
        },
        "outputId": "97dfd30f-8bb9-4032-aca5-235e6ed2a351"
      },
      "source": [
        "# are there any values less than zero?\n",
        "np.any(x < 0)\n"
      ],
      "execution_count": 133,
      "outputs": [
        {
          "output_type": "execute_result",
          "data": {
            "text/plain": [
              "False"
            ]
          },
          "metadata": {
            "tags": []
          },
          "execution_count": 133
        }
      ]
    },
    {
      "cell_type": "code",
      "metadata": {
        "id": "5o2WBgJvVQxb",
        "colab": {
          "base_uri": "https://localhost:8080/"
        },
        "outputId": "44b90ef3-2661-4a09-cdc1-f5a3f3998581"
      },
      "source": [
        "# are all values less than 10?\n",
        "np.all(x < 10)"
      ],
      "execution_count": 134,
      "outputs": [
        {
          "output_type": "execute_result",
          "data": {
            "text/plain": [
              "True"
            ]
          },
          "metadata": {
            "tags": []
          },
          "execution_count": 134
        }
      ]
    },
    {
      "cell_type": "code",
      "metadata": {
        "id": "fH8MbixkVVqC",
        "colab": {
          "base_uri": "https://localhost:8080/"
        },
        "outputId": "b7cb3b91-6785-404a-c970-f173d6c099fe"
      },
      "source": [
        "# are all values equal to 6?\n",
        "np.all(x == 6)\n"
      ],
      "execution_count": 135,
      "outputs": [
        {
          "output_type": "execute_result",
          "data": {
            "text/plain": [
              "False"
            ]
          },
          "metadata": {
            "tags": []
          },
          "execution_count": 135
        }
      ]
    },
    {
      "cell_type": "code",
      "metadata": {
        "id": "LdEYBWwdVaVy",
        "colab": {
          "base_uri": "https://localhost:8080/"
        },
        "outputId": "ce6f6144-6820-4d76-f7ac-27e911733eb0"
      },
      "source": [
        "# are all values in each row less than 8?\n",
        "np.all(x < 8, axis=1)"
      ],
      "execution_count": 136,
      "outputs": [
        {
          "output_type": "execute_result",
          "data": {
            "text/plain": [
              "array([ True, False,  True])"
            ]
          },
          "metadata": {
            "tags": []
          },
          "execution_count": 136
        }
      ]
    },
    {
      "cell_type": "markdown",
      "metadata": {
        "id": "XtBrbkAmWcS2"
      },
      "source": [
        "### Boolean Operators"
      ]
    },
    {
      "cell_type": "code",
      "metadata": {
        "id": "nlSi3mp_Vqx0",
        "colab": {
          "base_uri": "https://localhost:8080/"
        },
        "outputId": "a096763b-6707-4c07-b669-ba8a1d172c35"
      },
      "source": [
        "x = np.arange(11)\n",
        "x"
      ],
      "execution_count": 137,
      "outputs": [
        {
          "output_type": "execute_result",
          "data": {
            "text/plain": [
              "array([ 0,  1,  2,  3,  4,  5,  6,  7,  8,  9, 10])"
            ]
          },
          "metadata": {
            "tags": []
          },
          "execution_count": 137
        }
      ]
    },
    {
      "cell_type": "code",
      "metadata": {
        "id": "eqfDBRN9V-RY",
        "colab": {
          "base_uri": "https://localhost:8080/"
        },
        "outputId": "a755cc01-65d2-438e-c5ea-d1704667a07b"
      },
      "source": [
        "#count of number > 3 but less than 8\n",
        "\n",
        "np.sum( (x > 3) & (x < 8) )"
      ],
      "execution_count": 138,
      "outputs": [
        {
          "output_type": "execute_result",
          "data": {
            "text/plain": [
              "4"
            ]
          },
          "metadata": {
            "tags": []
          },
          "execution_count": 138
        }
      ]
    },
    {
      "cell_type": "markdown",
      "metadata": {
        "id": "wNHXmVt3XFI0"
      },
      "source": [
        "# Boolean Arrays as Masks\n",
        " A more powerful pattern is to use Boolean arrays as masks, to select particular\n",
        "subsets of the data themselves. "
      ]
    },
    {
      "cell_type": "code",
      "metadata": {
        "id": "QHkbq1-qXmKs",
        "colab": {
          "base_uri": "https://localhost:8080/"
        },
        "outputId": "3fbfdf88-ecdc-48cf-86c6-0b03f3ea71d7"
      },
      "source": [
        "#2D Array masks\n",
        "rng = np.random.RandomState(0)\n",
        "x = rng.randint(10, size=(3, 4))\n",
        "x"
      ],
      "execution_count": 139,
      "outputs": [
        {
          "output_type": "execute_result",
          "data": {
            "text/plain": [
              "array([[5, 0, 3, 3],\n",
              "       [7, 9, 3, 5],\n",
              "       [2, 4, 7, 6]])"
            ]
          },
          "metadata": {
            "tags": []
          },
          "execution_count": 139
        }
      ]
    },
    {
      "cell_type": "code",
      "metadata": {
        "id": "iks6GSdxXy78",
        "colab": {
          "base_uri": "https://localhost:8080/"
        },
        "outputId": "161da5f6-f196-4619-9cad-7fb071d1782b"
      },
      "source": [
        "mask = x < 5\n",
        "mask"
      ],
      "execution_count": 140,
      "outputs": [
        {
          "output_type": "execute_result",
          "data": {
            "text/plain": [
              "array([[False,  True,  True,  True],\n",
              "       [False, False,  True, False],\n",
              "       [ True,  True, False, False]])"
            ]
          },
          "metadata": {
            "tags": []
          },
          "execution_count": 140
        }
      ]
    },
    {
      "cell_type": "code",
      "metadata": {
        "id": "VppVFv0rX7BS",
        "colab": {
          "base_uri": "https://localhost:8080/"
        },
        "outputId": "8ffa99e9-c36b-4e21-def2-ef8bf0ff249e"
      },
      "source": [
        "x[mask]"
      ],
      "execution_count": 141,
      "outputs": [
        {
          "output_type": "execute_result",
          "data": {
            "text/plain": [
              "array([0, 3, 3, 3, 2, 4])"
            ]
          },
          "metadata": {
            "tags": []
          },
          "execution_count": 141
        }
      ]
    },
    {
      "cell_type": "code",
      "metadata": {
        "id": "7Tj7MmC8YeJZ"
      },
      "source": [
        ""
      ],
      "execution_count": 141,
      "outputs": []
    },
    {
      "cell_type": "markdown",
      "metadata": {
        "id": "UehJNQvSZQVl"
      },
      "source": [
        "# Fancy Indexing\n",
        "Fancy indexing is like the simple indexing we’ve already seen, but we pass\n",
        "arrays of indices in place of single scalars. This allows us to very quickly access and\n",
        "modify complicated subsets of an array’s values.\n"
      ]
    },
    {
      "cell_type": "code",
      "metadata": {
        "id": "R0PljkIWZSSA",
        "colab": {
          "base_uri": "https://localhost:8080/"
        },
        "outputId": "92437b96-ccaf-48d6-eaf1-3b49228db236"
      },
      "source": [
        "rand = np.random.RandomState(42)\n",
        "x = rand.randint(100, size=10)\n",
        "print(x)\n"
      ],
      "execution_count": 142,
      "outputs": [
        {
          "output_type": "stream",
          "text": [
            "[51 92 14 71 60 20 82 86 74 74]\n"
          ],
          "name": "stdout"
        }
      ]
    },
    {
      "cell_type": "code",
      "metadata": {
        "id": "8nIAjV7SZ3kA",
        "colab": {
          "base_uri": "https://localhost:8080/"
        },
        "outputId": "2ec7c119-3803-4594-a32e-1049810e2bae"
      },
      "source": [
        "[x[3], x[7], x[2]]\n"
      ],
      "execution_count": 143,
      "outputs": [
        {
          "output_type": "execute_result",
          "data": {
            "text/plain": [
              "[71, 86, 14]"
            ]
          },
          "metadata": {
            "tags": []
          },
          "execution_count": 143
        }
      ]
    },
    {
      "cell_type": "code",
      "metadata": {
        "id": "hlz_6xpCaChd",
        "colab": {
          "base_uri": "https://localhost:8080/"
        },
        "outputId": "68a84ec5-1e4a-473f-cbf0-4c5f24757967"
      },
      "source": [
        "# better way \n",
        "ind = [3, 7, 4]\n",
        "x[ind]"
      ],
      "execution_count": 144,
      "outputs": [
        {
          "output_type": "execute_result",
          "data": {
            "text/plain": [
              "array([71, 86, 60])"
            ]
          },
          "metadata": {
            "tags": []
          },
          "execution_count": 144
        }
      ]
    },
    {
      "cell_type": "code",
      "metadata": {
        "id": "ubS4Adj2aUiE",
        "colab": {
          "base_uri": "https://localhost:8080/"
        },
        "outputId": "453af80f-0022-4de8-82a5-e3745234f6e1"
      },
      "source": [
        "#With fancy indexing, the shape of the result reflects the shape of the index array\n",
        "ind = np.array([[3, 7],[4, 5]])\n",
        "x[ind]"
      ],
      "execution_count": 145,
      "outputs": [
        {
          "output_type": "execute_result",
          "data": {
            "text/plain": [
              "array([[71, 86],\n",
              "       [60, 20]])"
            ]
          },
          "metadata": {
            "tags": []
          },
          "execution_count": 145
        }
      ]
    },
    {
      "cell_type": "code",
      "metadata": {
        "id": "4j8r_1YCbKRI",
        "colab": {
          "base_uri": "https://localhost:8080/"
        },
        "outputId": "6b238bea-b90d-4876-a475-ec35f0dbee21"
      },
      "source": [
        "X = np.arange(12).reshape((3, 4))\n",
        "X"
      ],
      "execution_count": 146,
      "outputs": [
        {
          "output_type": "execute_result",
          "data": {
            "text/plain": [
              "array([[ 0,  1,  2,  3],\n",
              "       [ 4,  5,  6,  7],\n",
              "       [ 8,  9, 10, 11]])"
            ]
          },
          "metadata": {
            "tags": []
          },
          "execution_count": 146
        }
      ]
    },
    {
      "cell_type": "code",
      "metadata": {
        "id": "7mIavrWaclbu",
        "colab": {
          "base_uri": "https://localhost:8080/"
        },
        "outputId": "1dde10c8-a324-42c0-e938-16dcfec79fa9"
      },
      "source": [
        "row = np.array([0, 1, 2])\n",
        "col = np.array([2, 1, 3])\n",
        "X[row, col]"
      ],
      "execution_count": 147,
      "outputs": [
        {
          "output_type": "execute_result",
          "data": {
            "text/plain": [
              "array([ 2,  5, 11])"
            ]
          },
          "metadata": {
            "tags": []
          },
          "execution_count": 147
        }
      ]
    },
    {
      "cell_type": "markdown",
      "metadata": {
        "id": "ZzKolfH4fHHG"
      },
      "source": [
        "# Combined Indexing\n"
      ]
    },
    {
      "cell_type": "code",
      "metadata": {
        "id": "qvJ_lJxMcphO",
        "colab": {
          "base_uri": "https://localhost:8080/"
        },
        "outputId": "74d99a38-1f1c-46aa-e0d1-186e1f5bd246"
      },
      "source": [
        "print(X)"
      ],
      "execution_count": 148,
      "outputs": [
        {
          "output_type": "stream",
          "text": [
            "[[ 0  1  2  3]\n",
            " [ 4  5  6  7]\n",
            " [ 8  9 10 11]]\n"
          ],
          "name": "stdout"
        }
      ]
    },
    {
      "cell_type": "code",
      "metadata": {
        "id": "te1_15kRfOAr",
        "colab": {
          "base_uri": "https://localhost:8080/"
        },
        "outputId": "3940a9d7-b229-4cbc-8062-8d3476d57fb7"
      },
      "source": [
        "# combine fancy and simple indices\n",
        "X[2, [2, 0, 1]]"
      ],
      "execution_count": 149,
      "outputs": [
        {
          "output_type": "execute_result",
          "data": {
            "text/plain": [
              "array([10,  8,  9])"
            ]
          },
          "metadata": {
            "tags": []
          },
          "execution_count": 149
        }
      ]
    },
    {
      "cell_type": "code",
      "metadata": {
        "id": "3ouvG5U6fZPc"
      },
      "source": [
        "#  combine fancy indexing with slicing"
      ],
      "execution_count": 150,
      "outputs": []
    },
    {
      "cell_type": "code",
      "metadata": {
        "id": "Hspr6frGff6m",
        "colab": {
          "base_uri": "https://localhost:8080/"
        },
        "outputId": "b6c71bd1-a1dd-4629-dc33-b2ddf2df9cb5"
      },
      "source": [
        "X[1:, [2, 0, 1]]"
      ],
      "execution_count": 151,
      "outputs": [
        {
          "output_type": "execute_result",
          "data": {
            "text/plain": [
              "array([[ 6,  4,  5],\n",
              "       [10,  8,  9]])"
            ]
          },
          "metadata": {
            "tags": []
          },
          "execution_count": 151
        }
      ]
    },
    {
      "cell_type": "markdown",
      "metadata": {
        "id": "jBoNsTpXfxGG"
      },
      "source": [
        "# Modifying Values with Fancy Indexing\n"
      ]
    },
    {
      "cell_type": "code",
      "metadata": {
        "id": "Nf5FzRJPfira",
        "colab": {
          "base_uri": "https://localhost:8080/"
        },
        "outputId": "df96a0ea-5cd5-4f1a-d780-25071ef0c2b8"
      },
      "source": [
        "x = np.arange(10)\n",
        "i = np.array([2, 1, 8, 4])\n",
        "x[i] = 99\n",
        "\n",
        "print(x)"
      ],
      "execution_count": 152,
      "outputs": [
        {
          "output_type": "stream",
          "text": [
            "[ 0 99 99  3 99  5  6  7 99  9]\n"
          ],
          "name": "stdout"
        }
      ]
    },
    {
      "cell_type": "code",
      "metadata": {
        "id": "nacEiyu3f_rV",
        "colab": {
          "base_uri": "https://localhost:8080/"
        },
        "outputId": "60905dc3-3b4b-4b46-ab59-25e3610e3c9f"
      },
      "source": [
        "x[i] -= 10\n",
        "print(x)"
      ],
      "execution_count": 153,
      "outputs": [
        {
          "output_type": "stream",
          "text": [
            "[ 0 89 89  3 89  5  6  7 89  9]\n"
          ],
          "name": "stdout"
        }
      ]
    },
    {
      "cell_type": "code",
      "metadata": {
        "id": "JYPYXeBTgHc2",
        "colab": {
          "base_uri": "https://localhost:8080/"
        },
        "outputId": "14992636-7c69-4508-e65e-be124aaa8f69"
      },
      "source": [
        "#  repeated indices with these operations can cause some potentially unexpected results\n",
        "\n",
        "x = np.zeros(10)\n",
        "x[[0, 0]] = [4, 6]\n",
        "print(x)\n"
      ],
      "execution_count": 154,
      "outputs": [
        {
          "output_type": "stream",
          "text": [
            "[6. 0. 0. 0. 0. 0. 0. 0. 0. 0.]\n"
          ],
          "name": "stdout"
        }
      ]
    },
    {
      "cell_type": "code",
      "metadata": {
        "id": "Cr552iTPgUNK"
      },
      "source": [
        ""
      ],
      "execution_count": 154,
      "outputs": []
    },
    {
      "cell_type": "markdown",
      "metadata": {
        "id": "5-7BYQZvg3N5"
      },
      "source": [
        "# Sorting Arrays\n"
      ]
    },
    {
      "cell_type": "code",
      "metadata": {
        "id": "nmP_V0Cjg4MG",
        "colab": {
          "base_uri": "https://localhost:8080/"
        },
        "outputId": "0929f76c-f5bb-4791-a00b-4175c7e778b1"
      },
      "source": [
        "x = np.array([2, 1, 4, 3, 5])\n",
        "np.sort(x)\n"
      ],
      "execution_count": 155,
      "outputs": [
        {
          "output_type": "execute_result",
          "data": {
            "text/plain": [
              "array([1, 2, 3, 4, 5])"
            ]
          },
          "metadata": {
            "tags": []
          },
          "execution_count": 155
        }
      ]
    },
    {
      "cell_type": "code",
      "metadata": {
        "id": "fD6h79FGhB1A",
        "colab": {
          "base_uri": "https://localhost:8080/"
        },
        "outputId": "e02b2932-aad3-45f1-c37f-2cd21c4b4112"
      },
      "source": [
        "#inplace\n",
        "x.sort()\n",
        "print(x)\n"
      ],
      "execution_count": 156,
      "outputs": [
        {
          "output_type": "stream",
          "text": [
            "[1 2 3 4 5]\n"
          ],
          "name": "stdout"
        }
      ]
    },
    {
      "cell_type": "code",
      "metadata": {
        "id": "9TVWT8cchJA9",
        "colab": {
          "base_uri": "https://localhost:8080/"
        },
        "outputId": "57048f1b-86a5-4b78-b97f-bff4fc1c6c17"
      },
      "source": [
        "# returns the indices of the sorted elements\n",
        "x = np.array([2, 1, 4, 3, 5])\n",
        "i = np.argsort(x)\n",
        "print(i) \n"
      ],
      "execution_count": 157,
      "outputs": [
        {
          "output_type": "stream",
          "text": [
            "[1 0 3 2 4]\n"
          ],
          "name": "stdout"
        }
      ]
    },
    {
      "cell_type": "markdown",
      "metadata": {
        "id": "aKLLQRlrhzXK"
      },
      "source": [
        "## Sorting along rows or columns\n"
      ]
    },
    {
      "cell_type": "code",
      "metadata": {
        "id": "Xa6RdyyHhR73",
        "colab": {
          "base_uri": "https://localhost:8080/"
        },
        "outputId": "70e9e11f-f353-4202-f53f-fe3a3cfd1d10"
      },
      "source": [
        "rand = np.random.RandomState(42)\n",
        "X = rand.randint(0, 10, (4, 6))\n",
        "print(X)"
      ],
      "execution_count": 158,
      "outputs": [
        {
          "output_type": "stream",
          "text": [
            "[[6 3 7 4 6 9]\n",
            " [2 6 7 4 3 7]\n",
            " [7 2 5 4 1 7]\n",
            " [5 1 4 0 9 5]]\n"
          ],
          "name": "stdout"
        }
      ]
    },
    {
      "cell_type": "code",
      "metadata": {
        "id": "agex9qIniAv7",
        "colab": {
          "base_uri": "https://localhost:8080/"
        },
        "outputId": "00c7f76a-f0ef-4a85-b49a-dcf19dcf51bb"
      },
      "source": [
        "# sort each column of X\n",
        "np.sort(X, axis=0)\n"
      ],
      "execution_count": 159,
      "outputs": [
        {
          "output_type": "execute_result",
          "data": {
            "text/plain": [
              "array([[2, 1, 4, 0, 1, 5],\n",
              "       [5, 2, 5, 4, 3, 7],\n",
              "       [6, 3, 7, 4, 6, 7],\n",
              "       [7, 6, 7, 4, 9, 9]])"
            ]
          },
          "metadata": {
            "tags": []
          },
          "execution_count": 159
        }
      ]
    },
    {
      "cell_type": "code",
      "metadata": {
        "id": "qv_mnohDiF9o",
        "colab": {
          "base_uri": "https://localhost:8080/"
        },
        "outputId": "e5218dff-8b89-4ce2-83fb-bf8cd4d28c58"
      },
      "source": [
        "# sort each row of X\n",
        "np.sort(X, axis=1)"
      ],
      "execution_count": 160,
      "outputs": [
        {
          "output_type": "execute_result",
          "data": {
            "text/plain": [
              "array([[3, 4, 6, 6, 7, 9],\n",
              "       [2, 3, 4, 6, 7, 7],\n",
              "       [1, 2, 4, 5, 7, 7],\n",
              "       [0, 1, 4, 5, 5, 9]])"
            ]
          },
          "metadata": {
            "tags": []
          },
          "execution_count": 160
        }
      ]
    },
    {
      "cell_type": "code",
      "metadata": {
        "id": "9VHtE1mNiM8I",
        "colab": {
          "base_uri": "https://localhost:8080/"
        },
        "outputId": "eb0b0ebd-e75d-4b03-bff2-a2723a8ca1c7"
      },
      "source": [
        "np.sort(X, axis=1)"
      ],
      "execution_count": 161,
      "outputs": [
        {
          "output_type": "execute_result",
          "data": {
            "text/plain": [
              "array([[3, 4, 6, 6, 7, 9],\n",
              "       [2, 3, 4, 6, 7, 7],\n",
              "       [1, 2, 4, 5, 7, 7],\n",
              "       [0, 1, 4, 5, 5, 9]])"
            ]
          },
          "metadata": {
            "tags": []
          },
          "execution_count": 161
        }
      ]
    },
    {
      "cell_type": "code",
      "metadata": {
        "id": "ZRi5AUfAevGs",
        "outputId": "5172328a-6863-477b-ee43-709ab6188c85",
        "colab": {
          "base_uri": "https://localhost:8080/"
        }
      },
      "source": [
        "np.sort(X, axis=1)"
      ],
      "execution_count": 162,
      "outputs": [
        {
          "output_type": "execute_result",
          "data": {
            "text/plain": [
              "array([[3, 4, 6, 6, 7, 9],\n",
              "       [2, 3, 4, 6, 7, 7],\n",
              "       [1, 2, 4, 5, 7, 7],\n",
              "       [0, 1, 4, 5, 5, 9]])"
            ]
          },
          "metadata": {
            "tags": []
          },
          "execution_count": 162
        }
      ]
    }
  ]
}