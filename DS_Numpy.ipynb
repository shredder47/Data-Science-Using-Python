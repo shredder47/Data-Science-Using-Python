{
  "nbformat": 4,
  "nbformat_minor": 0,
  "metadata": {
    "colab": {
      "name": "DS_Numpy.ipynb",
      "provenance": [],
      "toc_visible": true
    },
    "kernelspec": {
      "name": "python3",
      "display_name": "Python 3"
    }
  },
  "cells": [
    {
      "cell_type": "markdown",
      "metadata": {
        "id": "OPzzf1pIf0XG",
        "colab_type": "text"
      },
      "source": [
        "![1280px-NumPy_logo.svg.png](data:image/png;base64,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)\n",
        "\n",
        "NumPy is a library for the Python programming language, adding support for large, multi-dimensional arrays and matrices, along with a large collection of high-level mathematical functions to operate on these arrays."
      ]
    },
    {
      "cell_type": "code",
      "metadata": {
        "id": "5aJHLmNDXEwy",
        "colab_type": "code",
        "colab": {}
      },
      "source": [
        "import numpy as np"
      ],
      "execution_count": 1,
      "outputs": []
    },
    {
      "cell_type": "markdown",
      "metadata": {
        "id": "kVFptI4NgrQY",
        "colab_type": "text"
      },
      "source": [
        "## Creating Arrays from Python Lists\n"
      ]
    },
    {
      "cell_type": "code",
      "metadata": {
        "id": "C1fq-TXegmg9",
        "colab_type": "code",
        "colab": {
          "base_uri": "https://localhost:8080/",
          "height": 35
        },
        "outputId": "fefb6c4a-24ff-4b2a-8b0c-923bd477f2fd"
      },
      "source": [
        "# integer array:\n",
        "np.array([1, 4, 2, 5, 3])"
      ],
      "execution_count": 3,
      "outputs": [
        {
          "output_type": "execute_result",
          "data": {
            "text/plain": [
              "array([1, 4, 2, 5, 3])"
            ]
          },
          "metadata": {
            "tags": []
          },
          "execution_count": 3
        }
      ]
    },
    {
      "cell_type": "code",
      "metadata": {
        "id": "9Fiq61uagzQp",
        "colab_type": "code",
        "colab": {
          "base_uri": "https://localhost:8080/",
          "height": 35
        },
        "outputId": "d6e65a2d-1ead-450b-e8e6-37a709dd577e"
      },
      "source": [
        "# float array\n",
        "np.array([3.14, 4, 2, 3])\n"
      ],
      "execution_count": 4,
      "outputs": [
        {
          "output_type": "execute_result",
          "data": {
            "text/plain": [
              "array([3.14, 4.  , 2.  , 3.  ])"
            ]
          },
          "metadata": {
            "tags": []
          },
          "execution_count": 4
        }
      ]
    },
    {
      "cell_type": "code",
      "metadata": {
        "id": "trNImEnsg9bm",
        "colab_type": "code",
        "colab": {
          "base_uri": "https://localhost:8080/",
          "height": 35
        },
        "outputId": "c04a16fd-5dd3-4715-bf0f-015d1fbfbb65"
      },
      "source": [
        "np.array([1, 2, 3, 4], dtype='float64')"
      ],
      "execution_count": 5,
      "outputs": [
        {
          "output_type": "execute_result",
          "data": {
            "text/plain": [
              "array([1., 2., 3., 4.])"
            ]
          },
          "metadata": {
            "tags": []
          },
          "execution_count": 5
        }
      ]
    },
    {
      "cell_type": "markdown",
      "metadata": {
        "id": "QCA8MK6LhUIy",
        "colab_type": "text"
      },
      "source": [
        "# Creating Arrays from Scratch\n",
        "Especially for larger arrays, it is more efficient to create arrays from scratch using rou‐\n",
        "tines built into NumPy. Here are several examples:\n"
      ]
    },
    {
      "cell_type": "code",
      "metadata": {
        "id": "TEVp8rYDhJ8D",
        "colab_type": "code",
        "colab": {
          "base_uri": "https://localhost:8080/",
          "height": 35
        },
        "outputId": "d469768e-f846-449a-a9f7-4f256318e106"
      },
      "source": [
        "# Create a length-5 integer array filled with zeros\n",
        "np.zeros(5, dtype=int)"
      ],
      "execution_count": 6,
      "outputs": [
        {
          "output_type": "execute_result",
          "data": {
            "text/plain": [
              "array([0, 0, 0, 0, 0])"
            ]
          },
          "metadata": {
            "tags": []
          },
          "execution_count": 6
        }
      ]
    },
    {
      "cell_type": "code",
      "metadata": {
        "id": "eiivyMN4hf3u",
        "colab_type": "code",
        "colab": {
          "base_uri": "https://localhost:8080/",
          "height": 72
        },
        "outputId": "f571369f-f97f-4d50-fb10-b132a8731007"
      },
      "source": [
        "# Create a 3x3 floating-point array filled with 1s\n",
        "np.ones((3, 3), dtype=float)\n"
      ],
      "execution_count": 7,
      "outputs": [
        {
          "output_type": "execute_result",
          "data": {
            "text/plain": [
              "array([[1., 1., 1.],\n",
              "       [1., 1., 1.],\n",
              "       [1., 1., 1.]])"
            ]
          },
          "metadata": {
            "tags": []
          },
          "execution_count": 7
        }
      ]
    },
    {
      "cell_type": "code",
      "metadata": {
        "id": "Y56fgpz7hk1n",
        "colab_type": "code",
        "colab": {
          "base_uri": "https://localhost:8080/",
          "height": 72
        },
        "outputId": "93390d2f-c0e8-43d3-a1f8-a374d100a99c"
      },
      "source": [
        "# Create a 3x3 int array filled with 1s\n",
        "np.ones((3, 3), dtype=int)"
      ],
      "execution_count": 8,
      "outputs": [
        {
          "output_type": "execute_result",
          "data": {
            "text/plain": [
              "array([[1, 1, 1],\n",
              "       [1, 1, 1],\n",
              "       [1, 1, 1]])"
            ]
          },
          "metadata": {
            "tags": []
          },
          "execution_count": 8
        }
      ]
    },
    {
      "cell_type": "code",
      "metadata": {
        "id": "uIxuFMmzhpVA",
        "colab_type": "code",
        "colab": {
          "base_uri": "https://localhost:8080/",
          "height": 109
        },
        "outputId": "cf529c9b-9596-406a-ee39-50bad2cb7f56"
      },
      "source": [
        "# Create a 5*5 array filled with 47\n",
        "np.full((5, 5), 47)\n"
      ],
      "execution_count": 9,
      "outputs": [
        {
          "output_type": "execute_result",
          "data": {
            "text/plain": [
              "array([[47, 47, 47, 47, 47],\n",
              "       [47, 47, 47, 47, 47],\n",
              "       [47, 47, 47, 47, 47],\n",
              "       [47, 47, 47, 47, 47],\n",
              "       [47, 47, 47, 47, 47]])"
            ]
          },
          "metadata": {
            "tags": []
          },
          "execution_count": 9
        }
      ]
    },
    {
      "cell_type": "code",
      "metadata": {
        "id": "TCaSJLdfhyDs",
        "colab_type": "code",
        "colab": {
          "base_uri": "https://localhost:8080/",
          "height": 35
        },
        "outputId": "e5450668-ac52-41d8-df0f-55005d74eeb1"
      },
      "source": [
        "# Create an array filled with a linear sequence\n",
        "# Starting at 0, ending at 30, stepping by 3\n",
        "np.arange(0, 30, 3)"
      ],
      "execution_count": 10,
      "outputs": [
        {
          "output_type": "execute_result",
          "data": {
            "text/plain": [
              "array([ 0,  3,  6,  9, 12, 15, 18, 21, 24, 27])"
            ]
          },
          "metadata": {
            "tags": []
          },
          "execution_count": 10
        }
      ]
    },
    {
      "cell_type": "code",
      "metadata": {
        "id": "FJBNNJX3h9bB",
        "colab_type": "code",
        "colab": {
          "base_uri": "https://localhost:8080/",
          "height": 54
        },
        "outputId": "84e0d5ba-ec6a-4755-8e03-0c7baccb1bad"
      },
      "source": [
        "# Create an array of ten values evenly spaced between 0 and 1\n",
        "np.linspace(0, 1, 10)"
      ],
      "execution_count": 12,
      "outputs": [
        {
          "output_type": "execute_result",
          "data": {
            "text/plain": [
              "array([0.        , 0.11111111, 0.22222222, 0.33333333, 0.44444444,\n",
              "       0.55555556, 0.66666667, 0.77777778, 0.88888889, 1.        ])"
            ]
          },
          "metadata": {
            "tags": []
          },
          "execution_count": 12
        }
      ]
    },
    {
      "cell_type": "code",
      "metadata": {
        "id": "QkpPwLCKiDz3",
        "colab_type": "code",
        "colab": {
          "base_uri": "https://localhost:8080/",
          "height": 109
        },
        "outputId": "7f14fb37-fd03-4721-ea7b-e5eac0816f82"
      },
      "source": [
        "# Create a 5x5 array of uniformly distributed\n",
        "# random values between 0 and 1\n",
        "np.random.random((5, 5))"
      ],
      "execution_count": 19,
      "outputs": [
        {
          "output_type": "execute_result",
          "data": {
            "text/plain": [
              "array([[0.96581863, 0.61247018, 0.79860742, 0.98770795, 0.38001653],\n",
              "       [0.94071671, 0.08923162, 0.70376376, 0.38388409, 0.33366864],\n",
              "       [0.38436124, 0.53369651, 0.85158505, 0.84862523, 0.23219995],\n",
              "       [0.04820429, 0.58279257, 0.31251656, 0.66211008, 0.98585063],\n",
              "       [0.2309822 , 0.08454585, 0.76252048, 0.45521627, 0.82744093]])"
            ]
          },
          "metadata": {
            "tags": []
          },
          "execution_count": 19
        }
      ]
    },
    {
      "cell_type": "code",
      "metadata": {
        "id": "nbn9tCHYiKp3",
        "colab_type": "code",
        "colab": {
          "base_uri": "https://localhost:8080/",
          "height": 72
        },
        "outputId": "bf2c39df-4c9e-4f5c-c770-3a203990635e"
      },
      "source": [
        "# Create a 3x3 array of normally distributed random values\n",
        "# with mean 0 and standard deviation 1 \n",
        "np.random.normal(0, 1, (3, 3))"
      ],
      "execution_count": 23,
      "outputs": [
        {
          "output_type": "execute_result",
          "data": {
            "text/plain": [
              "array([[-1.07289569, -0.83894313,  0.96177371],\n",
              "       [-1.50541544,  0.35340225, -0.0194509 ],\n",
              "       [ 0.21662253, -1.59135146, -0.36513377]])"
            ]
          },
          "metadata": {
            "tags": []
          },
          "execution_count": 23
        }
      ]
    },
    {
      "cell_type": "code",
      "metadata": {
        "id": "hK7-htT_itLd",
        "colab_type": "code",
        "colab": {
          "base_uri": "https://localhost:8080/",
          "height": 72
        },
        "outputId": "67b86e6c-bca3-44bb-b1b4-3e3b444f427b"
      },
      "source": [
        "# Create a 3x4 array of random integers in the interval [0, 5 )    \n",
        "np.random.randint(0, 5, (3, 4))\n"
      ],
      "execution_count": 26,
      "outputs": [
        {
          "output_type": "execute_result",
          "data": {
            "text/plain": [
              "array([[2, 2, 4, 3],\n",
              "       [1, 0, 1, 4],\n",
              "       [2, 0, 3, 3]])"
            ]
          },
          "metadata": {
            "tags": []
          },
          "execution_count": 26
        }
      ]
    },
    {
      "cell_type": "code",
      "metadata": {
        "id": "QQ7gfbJIixYB",
        "colab_type": "code",
        "colab": {
          "base_uri": "https://localhost:8080/",
          "height": 72
        },
        "outputId": "5df29e9e-8264-427f-cc9b-de09d4a6e3ff"
      },
      "source": [
        "# Create a 3x3 identity matrix\n",
        "np.eye(3)\n"
      ],
      "execution_count": 25,
      "outputs": [
        {
          "output_type": "execute_result",
          "data": {
            "text/plain": [
              "array([[1., 0., 0.],\n",
              "       [0., 1., 0.],\n",
              "       [0., 0., 1.]])"
            ]
          },
          "metadata": {
            "tags": []
          },
          "execution_count": 25
        }
      ]
    },
    {
      "cell_type": "code",
      "metadata": {
        "id": "XLw4HSbPjBB_",
        "colab_type": "code",
        "colab": {
          "base_uri": "https://localhost:8080/",
          "height": 35
        },
        "outputId": "b2f3cbc2-b3e3-451a-ae3c-ed7451bc15b0"
      },
      "source": [
        "# Create an uninitialized array of three integers\n",
        "# The values will be whatever happens to already exist at that\n",
        "# memory location\n",
        "np.empty(3)\n",
        "\n"
      ],
      "execution_count": 28,
      "outputs": [
        {
          "output_type": "execute_result",
          "data": {
            "text/plain": [
              "array([1., 1., 1.])"
            ]
          },
          "metadata": {
            "tags": []
          },
          "execution_count": 28
        }
      ]
    },
    {
      "cell_type": "markdown",
      "metadata": {
        "id": "M34Z3W4kjbJg",
        "colab_type": "text"
      },
      "source": [
        "# NumPy Array Attributes\n"
      ]
    },
    {
      "cell_type": "code",
      "metadata": {
        "id": "2W50F6F7jNiT",
        "colab_type": "code",
        "colab": {}
      },
      "source": [
        "import numpy as np\n",
        "np.random.seed(0) # seed for reproducibility\n",
        "x1 = np.random.randint(10, size=6) # One-dimensional array\n",
        "x2 = np.random.randint(10, size=(3, 4)) # Two-dimensional array\n",
        "x3 = np.random.randint(10, size=(3, 4, 5)) # Three-dimensional array"
      ],
      "execution_count": 29,
      "outputs": []
    },
    {
      "cell_type": "code",
      "metadata": {
        "id": "9EGDQ1sHkQOA",
        "colab_type": "code",
        "colab": {
          "base_uri": "https://localhost:8080/",
          "height": 127
        },
        "outputId": "a5a3a599-888c-4063-ba9d-931577a78027"
      },
      "source": [
        "print(\"x3 ndim: \", x3.ndim)\n",
        "print(\"x3 shape:\", x3.shape)\n",
        "print(\"x3 size: \", x3.size)\n",
        "print(\"dtype:\", x3.dtype)\n",
        "print(\"itemsize:\", x3.itemsize, \"bytes\")\n",
        "print(\"nbytes:\", x3.nbytes, \"bytes\")"
      ],
      "execution_count": 32,
      "outputs": [
        {
          "output_type": "stream",
          "text": [
            "x3 ndim:  3\n",
            "x3 shape: (3, 4, 5)\n",
            "x3 size:  60\n",
            "dtype: int64\n",
            "itemsize: 8 bytes\n",
            "nbytes: 480 bytes\n"
          ],
          "name": "stdout"
        }
      ]
    },
    {
      "cell_type": "markdown",
      "metadata": {
        "id": "fBUU3NzNkoeA",
        "colab_type": "text"
      },
      "source": [
        "# Array Indexing: Accessing Single Elements\n"
      ]
    },
    {
      "cell_type": "code",
      "metadata": {
        "id": "8mb5Nd-pkW4D",
        "colab_type": "code",
        "colab": {
          "base_uri": "https://localhost:8080/",
          "height": 35
        },
        "outputId": "17d9cb60-2c82-4694-871c-44981610d8ad"
      },
      "source": [
        "x1"
      ],
      "execution_count": 33,
      "outputs": [
        {
          "output_type": "execute_result",
          "data": {
            "text/plain": [
              "array([5, 0, 3, 3, 7, 9])"
            ]
          },
          "metadata": {
            "tags": []
          },
          "execution_count": 33
        }
      ]
    },
    {
      "cell_type": "code",
      "metadata": {
        "id": "YAC_j4hKkuwF",
        "colab_type": "code",
        "colab": {
          "base_uri": "https://localhost:8080/",
          "height": 35
        },
        "outputId": "abe7ed1b-c7c9-4db8-e3d1-0dcb8dabe46a"
      },
      "source": [
        "x1[0]\n"
      ],
      "execution_count": 34,
      "outputs": [
        {
          "output_type": "execute_result",
          "data": {
            "text/plain": [
              "5"
            ]
          },
          "metadata": {
            "tags": []
          },
          "execution_count": 34
        }
      ]
    },
    {
      "cell_type": "code",
      "metadata": {
        "id": "vj2wnmFjkxpO",
        "colab_type": "code",
        "colab": {
          "base_uri": "https://localhost:8080/",
          "height": 35
        },
        "outputId": "b4289708-d11d-45fd-a93a-18dd3af5577a"
      },
      "source": [
        "x1[4]"
      ],
      "execution_count": 35,
      "outputs": [
        {
          "output_type": "execute_result",
          "data": {
            "text/plain": [
              "7"
            ]
          },
          "metadata": {
            "tags": []
          },
          "execution_count": 35
        }
      ]
    },
    {
      "cell_type": "code",
      "metadata": {
        "id": "QYvtiQKQk1Gf",
        "colab_type": "code",
        "colab": {
          "base_uri": "https://localhost:8080/",
          "height": 35
        },
        "outputId": "5d6c1de5-bdfd-4cf1-b873-ea6e931d59a3"
      },
      "source": [
        "# from right to left\n",
        "x1[-1] \n"
      ],
      "execution_count": 36,
      "outputs": [
        {
          "output_type": "execute_result",
          "data": {
            "text/plain": [
              "9"
            ]
          },
          "metadata": {
            "tags": []
          },
          "execution_count": 36
        }
      ]
    },
    {
      "cell_type": "code",
      "metadata": {
        "id": "3mflgAFqk84r",
        "colab_type": "code",
        "colab": {
          "base_uri": "https://localhost:8080/",
          "height": 35
        },
        "outputId": "fa2584ad-34e1-46dd-a34b-96cb0c03465f"
      },
      "source": [
        "x1[-2]\n"
      ],
      "execution_count": 37,
      "outputs": [
        {
          "output_type": "execute_result",
          "data": {
            "text/plain": [
              "7"
            ]
          },
          "metadata": {
            "tags": []
          },
          "execution_count": 37
        }
      ]
    },
    {
      "cell_type": "code",
      "metadata": {
        "id": "tOVu3s1Jk-Qt",
        "colab_type": "code",
        "colab": {
          "base_uri": "https://localhost:8080/",
          "height": 72
        },
        "outputId": "6521cb8e-1d92-4c5b-9264-d7188cd96c82"
      },
      "source": [
        "x2"
      ],
      "execution_count": 38,
      "outputs": [
        {
          "output_type": "execute_result",
          "data": {
            "text/plain": [
              "array([[3, 5, 2, 4],\n",
              "       [7, 6, 8, 8],\n",
              "       [1, 6, 7, 7]])"
            ]
          },
          "metadata": {
            "tags": []
          },
          "execution_count": 38
        }
      ]
    },
    {
      "cell_type": "code",
      "metadata": {
        "id": "nAJHDQ0BlXEW",
        "colab_type": "code",
        "colab": {
          "base_uri": "https://localhost:8080/",
          "height": 35
        },
        "outputId": "182cc905-fef8-452e-aae5-8121df12237c"
      },
      "source": [
        "# Multidimension array access: \n",
        "# row #0, -> col #0\n",
        "x2[0,0] "
      ],
      "execution_count": 39,
      "outputs": [
        {
          "output_type": "execute_result",
          "data": {
            "text/plain": [
              "3"
            ]
          },
          "metadata": {
            "tags": []
          },
          "execution_count": 39
        }
      ]
    },
    {
      "cell_type": "code",
      "metadata": {
        "id": "j7RNTZvxlbVq",
        "colab_type": "code",
        "colab": {
          "base_uri": "https://localhost:8080/",
          "height": 35
        },
        "outputId": "2d22667b-603b-4fc5-e5a5-579030daeba3"
      },
      "source": [
        "# row #1, -> col # 2\n",
        "x2[1,2]"
      ],
      "execution_count": 40,
      "outputs": [
        {
          "output_type": "execute_result",
          "data": {
            "text/plain": [
              "8"
            ]
          },
          "metadata": {
            "tags": []
          },
          "execution_count": 40
        }
      ]
    },
    {
      "cell_type": "code",
      "metadata": {
        "id": "GqSWInQZlfCZ",
        "colab_type": "code",
        "colab": {
          "base_uri": "https://localhost:8080/",
          "height": 35
        },
        "outputId": "f5ab481c-ca65-4c8e-8442-065199c2734e"
      },
      "source": [
        "# row #2, -> col #-1 (right to)\n",
        "x2[2, -1]\n"
      ],
      "execution_count": 41,
      "outputs": [
        {
          "output_type": "execute_result",
          "data": {
            "text/plain": [
              "7"
            ]
          },
          "metadata": {
            "tags": []
          },
          "execution_count": 41
        }
      ]
    },
    {
      "cell_type": "code",
      "metadata": {
        "id": "gD-jextil6wx",
        "colab_type": "code",
        "colab": {
          "base_uri": "https://localhost:8080/",
          "height": 274
        },
        "outputId": "c41c435d-b5da-471e-921d-f867569d11e4"
      },
      "source": [
        "x3\n"
      ],
      "execution_count": 42,
      "outputs": [
        {
          "output_type": "execute_result",
          "data": {
            "text/plain": [
              "array([[[8, 1, 5, 9, 8],\n",
              "        [9, 4, 3, 0, 3],\n",
              "        [5, 0, 2, 3, 8],\n",
              "        [1, 3, 3, 3, 7]],\n",
              "\n",
              "       [[0, 1, 9, 9, 0],\n",
              "        [4, 7, 3, 2, 7],\n",
              "        [2, 0, 0, 4, 5],\n",
              "        [5, 6, 8, 4, 1]],\n",
              "\n",
              "       [[4, 9, 8, 1, 1],\n",
              "        [7, 9, 9, 3, 6],\n",
              "        [7, 2, 0, 3, 5],\n",
              "        [9, 4, 4, 6, 4]]])"
            ]
          },
          "metadata": {
            "tags": []
          },
          "execution_count": 42
        }
      ]
    },
    {
      "cell_type": "code",
      "metadata": {
        "id": "4cEX2YiWmKUk",
        "colab_type": "code",
        "colab": {
          "base_uri": "https://localhost:8080/",
          "height": 90
        },
        "outputId": "203bf5c3-2081-46b6-e8d6-09e22b152be7"
      },
      "source": [
        "# stack/level/length\n",
        "# stack #0\n",
        "x3[0]"
      ],
      "execution_count": 43,
      "outputs": [
        {
          "output_type": "execute_result",
          "data": {
            "text/plain": [
              "array([[8, 1, 5, 9, 8],\n",
              "       [9, 4, 3, 0, 3],\n",
              "       [5, 0, 2, 3, 8],\n",
              "       [1, 3, 3, 3, 7]])"
            ]
          },
          "metadata": {
            "tags": []
          },
          "execution_count": 43
        }
      ]
    },
    {
      "cell_type": "code",
      "metadata": {
        "id": "eIxrfFvSmOl-",
        "colab_type": "code",
        "colab": {
          "base_uri": "https://localhost:8080/",
          "height": 90
        },
        "outputId": "8f7ea33a-5325-41f1-bb16-f0292aa3bfa0"
      },
      "source": [
        "# stack #1\n",
        "x3[1]"
      ],
      "execution_count": 44,
      "outputs": [
        {
          "output_type": "execute_result",
          "data": {
            "text/plain": [
              "array([[0, 1, 9, 9, 0],\n",
              "       [4, 7, 3, 2, 7],\n",
              "       [2, 0, 0, 4, 5],\n",
              "       [5, 6, 8, 4, 1]])"
            ]
          },
          "metadata": {
            "tags": []
          },
          "execution_count": 44
        }
      ]
    },
    {
      "cell_type": "code",
      "metadata": {
        "id": "ZW2u5ETHmbtF",
        "colab_type": "code",
        "colab": {
          "base_uri": "https://localhost:8080/",
          "height": 35
        },
        "outputId": "c75b248e-541f-47ed-e3cd-f932b8b7102d"
      },
      "source": [
        "# stack #0 -> row #1\n",
        "x3[0][1]"
      ],
      "execution_count": 47,
      "outputs": [
        {
          "output_type": "execute_result",
          "data": {
            "text/plain": [
              "array([9, 4, 3, 0, 3])"
            ]
          },
          "metadata": {
            "tags": []
          },
          "execution_count": 47
        }
      ]
    },
    {
      "cell_type": "code",
      "metadata": {
        "id": "PLH4EO-_mj2O",
        "colab_type": "code",
        "colab": {
          "base_uri": "https://localhost:8080/",
          "height": 35
        },
        "outputId": "8e935467-ef83-4676-995d-8e832e45ee26"
      },
      "source": [
        "# stack #0 -> row #2 -> column #1\n",
        "x3[0][2][1]"
      ],
      "execution_count": 48,
      "outputs": [
        {
          "output_type": "execute_result",
          "data": {
            "text/plain": [
              "0"
            ]
          },
          "metadata": {
            "tags": []
          },
          "execution_count": 48
        }
      ]
    },
    {
      "cell_type": "markdown",
      "metadata": {
        "id": "gbK7HqYxnHEP",
        "colab_type": "text"
      },
      "source": [
        "# Array Slicing: Accessing Subarrays\n"
      ]
    },
    {
      "cell_type": "code",
      "metadata": {
        "id": "QQivqYnwm3qX",
        "colab_type": "code",
        "colab": {}
      },
      "source": [
        "# The NumPy slicing syntax follows that of the standard Python list; to access a slice of\n",
        "# an array x, use this:\n",
        "# x[start:stop:step]\n",
        "\n",
        "# If any of these are unspecified, they \n",
        "# default to the values \n",
        "# start=0, stop=size of dimension, step=1\n",
        "\n",
        "\n"
      ],
      "execution_count": null,
      "outputs": []
    },
    {
      "cell_type": "markdown",
      "metadata": {
        "id": "ENpTllrmnn8I",
        "colab_type": "text"
      },
      "source": [
        "### One-dimensional subarrays\n"
      ]
    },
    {
      "cell_type": "code",
      "metadata": {
        "id": "Bezjf6XcnqhE",
        "colab_type": "code",
        "colab": {}
      },
      "source": [
        "x = np.arange(10)"
      ],
      "execution_count": 49,
      "outputs": []
    },
    {
      "cell_type": "code",
      "metadata": {
        "id": "zRg3u5TDnu6_",
        "colab_type": "code",
        "colab": {
          "base_uri": "https://localhost:8080/",
          "height": 35
        },
        "outputId": "bc459695-23f5-4820-8374-a80480329784"
      },
      "source": [
        "print(x)"
      ],
      "execution_count": 50,
      "outputs": [
        {
          "output_type": "stream",
          "text": [
            "[0 1 2 3 4 5 6 7 8 9]\n"
          ],
          "name": "stdout"
        }
      ]
    },
    {
      "cell_type": "code",
      "metadata": {
        "id": "40XRSRy5nw0H",
        "colab_type": "code",
        "colab": {
          "base_uri": "https://localhost:8080/",
          "height": 35
        },
        "outputId": "16214fa7-ecd7-4665-85a4-6e8af12a3180"
      },
      "source": [
        "# first four elements\n",
        "x[0:4] \n"
      ],
      "execution_count": 51,
      "outputs": [
        {
          "output_type": "execute_result",
          "data": {
            "text/plain": [
              "array([0, 1, 2, 3])"
            ]
          },
          "metadata": {
            "tags": []
          },
          "execution_count": 51
        }
      ]
    },
    {
      "cell_type": "code",
      "metadata": {
        "id": "N96d_fbon5k7",
        "colab_type": "code",
        "colab": {
          "base_uri": "https://localhost:8080/",
          "height": 35
        },
        "outputId": "2b15baae-b418-45b1-c53b-1dc69fec9a28"
      },
      "source": [
        "# first five elements\n",
        "x[:5] \n"
      ],
      "execution_count": 52,
      "outputs": [
        {
          "output_type": "execute_result",
          "data": {
            "text/plain": [
              "array([0, 1, 2, 3, 4])"
            ]
          },
          "metadata": {
            "tags": []
          },
          "execution_count": 52
        }
      ]
    },
    {
      "cell_type": "code",
      "metadata": {
        "id": "bbRCtrNOn-cV",
        "colab_type": "code",
        "colab": {
          "base_uri": "https://localhost:8080/",
          "height": 35
        },
        "outputId": "802b016d-4432-4b25-9135-722c12b5ee0d"
      },
      "source": [
        "# elements after index 2\n",
        "x[2:]"
      ],
      "execution_count": 53,
      "outputs": [
        {
          "output_type": "execute_result",
          "data": {
            "text/plain": [
              "array([2, 3, 4, 5, 6, 7, 8, 9])"
            ]
          },
          "metadata": {
            "tags": []
          },
          "execution_count": 53
        }
      ]
    },
    {
      "cell_type": "code",
      "metadata": {
        "id": "GJuOe5sdoFK6",
        "colab_type": "code",
        "colab": {
          "base_uri": "https://localhost:8080/",
          "height": 35
        },
        "outputId": "06b499ce-f3d9-41a5-a362-cffd5225ed3b"
      },
      "source": [
        "# elements after index 2 but till 3rd index -> [2,4)\n",
        "x[2:4]"
      ],
      "execution_count": 54,
      "outputs": [
        {
          "output_type": "execute_result",
          "data": {
            "text/plain": [
              "array([2, 3])"
            ]
          },
          "metadata": {
            "tags": []
          },
          "execution_count": 54
        }
      ]
    },
    {
      "cell_type": "code",
      "metadata": {
        "id": "WESNSqFQoKz6",
        "colab_type": "code",
        "colab": {
          "base_uri": "https://localhost:8080/",
          "height": 35
        },
        "outputId": "9ebcdc75-35a2-46a4-c61c-7ecb6481c3dc"
      },
      "source": [
        "# every other element\n",
        "x[::2] "
      ],
      "execution_count": 55,
      "outputs": [
        {
          "output_type": "execute_result",
          "data": {
            "text/plain": [
              "array([0, 2, 4, 6, 8])"
            ]
          },
          "metadata": {
            "tags": []
          },
          "execution_count": 55
        }
      ]
    },
    {
      "cell_type": "code",
      "metadata": {
        "id": "kL42tstcog_8",
        "colab_type": "code",
        "colab": {
          "base_uri": "https://localhost:8080/",
          "height": 35
        },
        "outputId": "df7a4132-b227-4a1e-af46-90477713b918"
      },
      "source": [
        "# every other element, starting at index 1\n",
        "x[1::2] "
      ],
      "execution_count": 56,
      "outputs": [
        {
          "output_type": "execute_result",
          "data": {
            "text/plain": [
              "array([1, 3, 5, 7, 9])"
            ]
          },
          "metadata": {
            "tags": []
          },
          "execution_count": 56
        }
      ]
    },
    {
      "cell_type": "code",
      "metadata": {
        "id": "SfJUaNh3on93",
        "colab_type": "code",
        "colab": {
          "base_uri": "https://localhost:8080/",
          "height": 35
        },
        "outputId": "188c7e85-6459-4349-f2fb-5ee119dae471"
      },
      "source": [
        "# every other element, starting at index 1 ending at 6th index\n",
        "x[1:7:2] \n"
      ],
      "execution_count": 57,
      "outputs": [
        {
          "output_type": "execute_result",
          "data": {
            "text/plain": [
              "array([1, 3, 5])"
            ]
          },
          "metadata": {
            "tags": []
          },
          "execution_count": 57
        }
      ]
    },
    {
      "cell_type": "code",
      "metadata": {
        "id": "q5FDh6ZHpHsS",
        "colab_type": "code",
        "colab": {
          "base_uri": "https://localhost:8080/",
          "height": 35
        },
        "outputId": "06b408c6-76a3-4f7e-a1e7-2cc93d85d8a2"
      },
      "source": [
        "x"
      ],
      "execution_count": 59,
      "outputs": [
        {
          "output_type": "execute_result",
          "data": {
            "text/plain": [
              "array([0, 1, 2, 3, 4, 5, 6, 7, 8, 9])"
            ]
          },
          "metadata": {
            "tags": []
          },
          "execution_count": 59
        }
      ]
    },
    {
      "cell_type": "code",
      "metadata": {
        "id": "cvg0mwwoou9B",
        "colab_type": "code",
        "colab": {
          "base_uri": "https://localhost:8080/",
          "height": 35
        },
        "outputId": "70b3142a-06d9-4750-95a6-359a485ec9cb"
      },
      "source": [
        "# every 3rd element, ending at 8th index\n",
        "x[:9:2] "
      ],
      "execution_count": 60,
      "outputs": [
        {
          "output_type": "execute_result",
          "data": {
            "text/plain": [
              "array([0, 2, 4, 6, 8])"
            ]
          },
          "metadata": {
            "tags": []
          },
          "execution_count": 60
        }
      ]
    },
    {
      "cell_type": "code",
      "metadata": {
        "id": "0t9nlNjppAOJ",
        "colab_type": "code",
        "colab": {
          "base_uri": "https://localhost:8080/",
          "height": 35
        },
        "outputId": "634adc8c-9c82-445f-99f8-4d0d2d22ce14"
      },
      "source": [
        "# all elements, reversed\n",
        "x[::-1] "
      ],
      "execution_count": 61,
      "outputs": [
        {
          "output_type": "execute_result",
          "data": {
            "text/plain": [
              "array([9, 8, 7, 6, 5, 4, 3, 2, 1, 0])"
            ]
          },
          "metadata": {
            "tags": []
          },
          "execution_count": 61
        }
      ]
    },
    {
      "cell_type": "code",
      "metadata": {
        "id": "GNztoZPrpp_r",
        "colab_type": "code",
        "colab": {
          "base_uri": "https://localhost:8080/",
          "height": 35
        },
        "outputId": "cdbaf3e3-1c20-4e4d-9b83-c3c02f6270b2"
      },
      "source": [
        "# reversed every other from index 5\n",
        "x[5::-2] "
      ],
      "execution_count": 62,
      "outputs": [
        {
          "output_type": "execute_result",
          "data": {
            "text/plain": [
              "array([5, 3, 1])"
            ]
          },
          "metadata": {
            "tags": []
          },
          "execution_count": 62
        }
      ]
    },
    {
      "cell_type": "code",
      "metadata": {
        "id": "6SjfQz1Cpzfv",
        "colab_type": "code",
        "colab": {
          "base_uri": "https://localhost:8080/",
          "height": 35
        },
        "outputId": "fe499f99-0576-4a4a-cb9e-158bc61dd0e3"
      },
      "source": [
        "x[5:2:-1] "
      ],
      "execution_count": 64,
      "outputs": [
        {
          "output_type": "execute_result",
          "data": {
            "text/plain": [
              "array([5, 4, 3])"
            ]
          },
          "metadata": {
            "tags": []
          },
          "execution_count": 64
        }
      ]
    },
    {
      "cell_type": "markdown",
      "metadata": {
        "id": "3PfC8R8droM5",
        "colab_type": "text"
      },
      "source": [
        "### Multidimensional subarrays\n"
      ]
    },
    {
      "cell_type": "code",
      "metadata": {
        "id": "k70aLFXfqg_c",
        "colab_type": "code",
        "colab": {}
      },
      "source": [
        ""
      ],
      "execution_count": null,
      "outputs": []
    }
  ]
}