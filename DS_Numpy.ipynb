{
  "nbformat": 4,
  "nbformat_minor": 0,
  "metadata": {
    "colab": {
      "name": "DS_Numpy.ipynb",
      "provenance": [],
      "toc_visible": true
    },
    "kernelspec": {
      "name": "python3",
      "display_name": "Python 3"
    }
  },
  "cells": [
    {
      "cell_type": "markdown",
      "metadata": {
        "id": "OPzzf1pIf0XG"
      },
      "source": [
        "![1280px-NumPy_logo.svg.png](data:image/png;base64,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)\n",
        "\n",
        "NumPy is a library for the Python programming language, adding support for large, multi-dimensional arrays and matrices, along with a large collection of high-level mathematical functions to operate on these arrays."
      ]
    },
    {
      "cell_type": "code",
      "metadata": {
        "id": "5aJHLmNDXEwy"
      },
      "source": [
        "import numpy as np\n",
        "import pandas as pd\n"
      ],
      "execution_count": 165,
      "outputs": []
    },
    {
      "cell_type": "markdown",
      "metadata": {
        "id": "kVFptI4NgrQY"
      },
      "source": [
        "## Creating Arrays from Python Lists\n"
      ]
    },
    {
      "cell_type": "code",
      "metadata": {
        "id": "C1fq-TXegmg9",
        "colab": {
          "base_uri": "https://localhost:8080/"
        },
        "outputId": "e3442886-78d1-4650-a36b-93fe2e0016ea"
      },
      "source": [
        "# integer array:\n",
        "np.array([1, 4, 2, 5, 3])"
      ],
      "execution_count": 166,
      "outputs": [
        {
          "output_type": "execute_result",
          "data": {
            "text/plain": [
              "array([1, 4, 2, 5, 3])"
            ]
          },
          "metadata": {
            "tags": []
          },
          "execution_count": 166
        }
      ]
    },
    {
      "cell_type": "code",
      "metadata": {
        "id": "9Fiq61uagzQp",
        "colab": {
          "base_uri": "https://localhost:8080/"
        },
        "outputId": "99026874-9719-4427-dc6d-22926f118033"
      },
      "source": [
        "# float array\n",
        "np.array([3.14, 4, 2, 3])\n"
      ],
      "execution_count": 167,
      "outputs": [
        {
          "output_type": "execute_result",
          "data": {
            "text/plain": [
              "array([3.14, 4.  , 2.  , 3.  ])"
            ]
          },
          "metadata": {
            "tags": []
          },
          "execution_count": 167
        }
      ]
    },
    {
      "cell_type": "code",
      "metadata": {
        "id": "trNImEnsg9bm",
        "colab": {
          "base_uri": "https://localhost:8080/"
        },
        "outputId": "e0f385be-3964-4aec-b1a2-12a72c89d3d7"
      },
      "source": [
        "np.array([1, 2, 3, 4], dtype='float64')"
      ],
      "execution_count": 168,
      "outputs": [
        {
          "output_type": "execute_result",
          "data": {
            "text/plain": [
              "array([1., 2., 3., 4.])"
            ]
          },
          "metadata": {
            "tags": []
          },
          "execution_count": 168
        }
      ]
    },
    {
      "cell_type": "markdown",
      "metadata": {
        "id": "QCA8MK6LhUIy"
      },
      "source": [
        "# Creating Arrays from Scratch\n",
        "Especially for larger arrays, it is more efficient to create arrays from scratch using rou‐\n",
        "tines built into NumPy. Here are several examples:\n"
      ]
    },
    {
      "cell_type": "code",
      "metadata": {
        "id": "TEVp8rYDhJ8D",
        "colab": {
          "base_uri": "https://localhost:8080/"
        },
        "outputId": "9ddf91a1-cdbb-4878-e80d-a1cb978b3230"
      },
      "source": [
        "# Create a length-5 integer array filled with zeros\n",
        "np.zeros(5, dtype=int)"
      ],
      "execution_count": 169,
      "outputs": [
        {
          "output_type": "execute_result",
          "data": {
            "text/plain": [
              "array([0, 0, 0, 0, 0])"
            ]
          },
          "metadata": {
            "tags": []
          },
          "execution_count": 169
        }
      ]
    },
    {
      "cell_type": "code",
      "metadata": {
        "id": "eiivyMN4hf3u",
        "colab": {
          "base_uri": "https://localhost:8080/"
        },
        "outputId": "565e189f-6b58-4e1c-cd2f-338fcdbab4cc"
      },
      "source": [
        "# Create a 3x3 floating-point array filled with 1s\n",
        "np.ones((3, 3), dtype=float)\n"
      ],
      "execution_count": 170,
      "outputs": [
        {
          "output_type": "execute_result",
          "data": {
            "text/plain": [
              "array([[1., 1., 1.],\n",
              "       [1., 1., 1.],\n",
              "       [1., 1., 1.]])"
            ]
          },
          "metadata": {
            "tags": []
          },
          "execution_count": 170
        }
      ]
    },
    {
      "cell_type": "code",
      "metadata": {
        "id": "Y56fgpz7hk1n",
        "colab": {
          "base_uri": "https://localhost:8080/"
        },
        "outputId": "f2dc9446-c2a8-4f8f-fd8a-1377a58a44b7"
      },
      "source": [
        "# Create a 3x3 int array filled with 1s\n",
        "np.ones((3, 3), dtype=int)"
      ],
      "execution_count": 171,
      "outputs": [
        {
          "output_type": "execute_result",
          "data": {
            "text/plain": [
              "array([[1, 1, 1],\n",
              "       [1, 1, 1],\n",
              "       [1, 1, 1]])"
            ]
          },
          "metadata": {
            "tags": []
          },
          "execution_count": 171
        }
      ]
    },
    {
      "cell_type": "code",
      "metadata": {
        "id": "uIxuFMmzhpVA",
        "colab": {
          "base_uri": "https://localhost:8080/"
        },
        "outputId": "ad507f34-faba-4eb5-8235-1ffaa79fea0f"
      },
      "source": [
        "# Create a 5*5 array filled with 47\n",
        "np.full((5, 5), 47)\n"
      ],
      "execution_count": 172,
      "outputs": [
        {
          "output_type": "execute_result",
          "data": {
            "text/plain": [
              "array([[47, 47, 47, 47, 47],\n",
              "       [47, 47, 47, 47, 47],\n",
              "       [47, 47, 47, 47, 47],\n",
              "       [47, 47, 47, 47, 47],\n",
              "       [47, 47, 47, 47, 47]])"
            ]
          },
          "metadata": {
            "tags": []
          },
          "execution_count": 172
        }
      ]
    },
    {
      "cell_type": "code",
      "metadata": {
        "id": "TCaSJLdfhyDs",
        "colab": {
          "base_uri": "https://localhost:8080/"
        },
        "outputId": "a5d9b3bb-bb23-47d3-c144-fe4ec0e5f47c"
      },
      "source": [
        "# Create an array filled with a linear sequence\n",
        "# Starting at 0, ending at 30, stepping by 3\n",
        "np.arange(0, 30, 3)"
      ],
      "execution_count": 173,
      "outputs": [
        {
          "output_type": "execute_result",
          "data": {
            "text/plain": [
              "array([ 0,  3,  6,  9, 12, 15, 18, 21, 24, 27])"
            ]
          },
          "metadata": {
            "tags": []
          },
          "execution_count": 173
        }
      ]
    },
    {
      "cell_type": "code",
      "metadata": {
        "id": "FJBNNJX3h9bB",
        "colab": {
          "base_uri": "https://localhost:8080/"
        },
        "outputId": "182dab08-7622-470f-f399-a270889997b3"
      },
      "source": [
        "# Create an array of ten values evenly spaced between 0 and 1\n",
        "np.linspace(0, 1, 10)"
      ],
      "execution_count": 174,
      "outputs": [
        {
          "output_type": "execute_result",
          "data": {
            "text/plain": [
              "array([0.        , 0.11111111, 0.22222222, 0.33333333, 0.44444444,\n",
              "       0.55555556, 0.66666667, 0.77777778, 0.88888889, 1.        ])"
            ]
          },
          "metadata": {
            "tags": []
          },
          "execution_count": 174
        }
      ]
    },
    {
      "cell_type": "code",
      "metadata": {
        "id": "QkpPwLCKiDz3",
        "colab": {
          "base_uri": "https://localhost:8080/"
        },
        "outputId": "a5f49e6e-3e8a-4608-92e6-407d5466657d"
      },
      "source": [
        "# Create a 5x5 array of uniformly distributed\n",
        "# random values between 0 and 1\n",
        "np.random.random((5, 5))"
      ],
      "execution_count": 175,
      "outputs": [
        {
          "output_type": "execute_result",
          "data": {
            "text/plain": [
              "array([[0.65279032, 0.63505887, 0.99529957, 0.58185033, 0.41436859],\n",
              "       [0.4746975 , 0.6235101 , 0.33800761, 0.67475232, 0.31720174],\n",
              "       [0.77834548, 0.94957105, 0.66252687, 0.01357164, 0.6228461 ],\n",
              "       [0.67365963, 0.971945  , 0.87819347, 0.50962438, 0.05571469],\n",
              "       [0.45115921, 0.01998767, 0.44171092, 0.97958673, 0.35944446]])"
            ]
          },
          "metadata": {
            "tags": []
          },
          "execution_count": 175
        }
      ]
    },
    {
      "cell_type": "code",
      "metadata": {
        "id": "nbn9tCHYiKp3",
        "colab": {
          "base_uri": "https://localhost:8080/"
        },
        "outputId": "8e2ba55c-c81a-46b3-c356-a348c9927d3c"
      },
      "source": [
        "# Create a 3x3 array of normally distributed random values\n",
        "# with mean 0 and standard deviation 1 \n",
        "np.random.normal(0, 1, (3, 3))"
      ],
      "execution_count": 176,
      "outputs": [
        {
          "output_type": "execute_result",
          "data": {
            "text/plain": [
              "array([[ 1.95929589, -0.1984257 ,  0.33053441],\n",
              "       [-1.43582841,  0.02752832,  1.12060466],\n",
              "       [-0.22403878, -0.42018339,  0.99982969]])"
            ]
          },
          "metadata": {
            "tags": []
          },
          "execution_count": 176
        }
      ]
    },
    {
      "cell_type": "code",
      "metadata": {
        "id": "hK7-htT_itLd",
        "colab": {
          "base_uri": "https://localhost:8080/"
        },
        "outputId": "0b08dd75-89a8-4922-c8a8-de3b51069cde"
      },
      "source": [
        "# Create a 3x4 array of random integers in the interval [0, 5 )    \n",
        "np.random.randint(0, 5, (3, 4))\n"
      ],
      "execution_count": 177,
      "outputs": [
        {
          "output_type": "execute_result",
          "data": {
            "text/plain": [
              "array([[3, 2, 3, 0],\n",
              "       [4, 0, 0, 2],\n",
              "       [3, 2, 3, 0]])"
            ]
          },
          "metadata": {
            "tags": []
          },
          "execution_count": 177
        }
      ]
    },
    {
      "cell_type": "code",
      "metadata": {
        "id": "QQ7gfbJIixYB",
        "colab": {
          "base_uri": "https://localhost:8080/"
        },
        "outputId": "9f327ac8-8f44-415c-eea8-5496e49f61bc"
      },
      "source": [
        "# Create a 3x3 identity matrix\n",
        "np.eye(3)\n"
      ],
      "execution_count": 178,
      "outputs": [
        {
          "output_type": "execute_result",
          "data": {
            "text/plain": [
              "array([[1., 0., 0.],\n",
              "       [0., 1., 0.],\n",
              "       [0., 0., 1.]])"
            ]
          },
          "metadata": {
            "tags": []
          },
          "execution_count": 178
        }
      ]
    },
    {
      "cell_type": "code",
      "metadata": {
        "id": "XLw4HSbPjBB_",
        "colab": {
          "base_uri": "https://localhost:8080/"
        },
        "outputId": "af69a645-8b7a-4de6-96b2-49e8ba323d18"
      },
      "source": [
        "# Create an uninitialized array of three integers\n",
        "# The values will be whatever happens to already exist at that\n",
        "# memory location\n",
        "np.empty(3)\n",
        "\n"
      ],
      "execution_count": 179,
      "outputs": [
        {
          "output_type": "execute_result",
          "data": {
            "text/plain": [
              "array([1., 1., 1.])"
            ]
          },
          "metadata": {
            "tags": []
          },
          "execution_count": 179
        }
      ]
    },
    {
      "cell_type": "markdown",
      "metadata": {
        "id": "M34Z3W4kjbJg"
      },
      "source": [
        "# NumPy Array Attributes\n"
      ]
    },
    {
      "cell_type": "code",
      "metadata": {
        "id": "2W50F6F7jNiT"
      },
      "source": [
        "import numpy as np\n",
        "np.random.seed(0) # seed for reproducibility\n",
        "x1 = np.random.randint(10, size=6) # One-dimensional array\n",
        "x2 = np.random.randint(10, size=(3, 4)) # Two-dimensional array\n",
        "x3 = np.random.randint(10, size=(3, 4, 5)) # Three-dimensional array"
      ],
      "execution_count": 180,
      "outputs": []
    },
    {
      "cell_type": "code",
      "metadata": {
        "id": "9EGDQ1sHkQOA",
        "colab": {
          "base_uri": "https://localhost:8080/"
        },
        "outputId": "bc1711c1-6225-4020-c5cf-3edf0af8373f"
      },
      "source": [
        "print(\"x3 ndim: \", x3.ndim)\n",
        "print(\"x3 shape:\", x3.shape)\n",
        "print(\"x3 size: \", x3.size)\n",
        "print(\"dtype:\", x3.dtype)\n",
        "print(\"itemsize:\", x3.itemsize, \"bytes\")\n",
        "print(\"nbytes:\", x3.nbytes, \"bytes\")"
      ],
      "execution_count": 181,
      "outputs": [
        {
          "output_type": "stream",
          "text": [
            "x3 ndim:  3\n",
            "x3 shape: (3, 4, 5)\n",
            "x3 size:  60\n",
            "dtype: int64\n",
            "itemsize: 8 bytes\n",
            "nbytes: 480 bytes\n"
          ],
          "name": "stdout"
        }
      ]
    },
    {
      "cell_type": "markdown",
      "metadata": {
        "id": "fBUU3NzNkoeA"
      },
      "source": [
        "# Array Indexing: Accessing Single Elements\n"
      ]
    },
    {
      "cell_type": "code",
      "metadata": {
        "id": "8mb5Nd-pkW4D",
        "colab": {
          "base_uri": "https://localhost:8080/"
        },
        "outputId": "8acde168-2136-457e-c8aa-bef10b9c744e"
      },
      "source": [
        "x1"
      ],
      "execution_count": 182,
      "outputs": [
        {
          "output_type": "execute_result",
          "data": {
            "text/plain": [
              "array([5, 0, 3, 3, 7, 9])"
            ]
          },
          "metadata": {
            "tags": []
          },
          "execution_count": 182
        }
      ]
    },
    {
      "cell_type": "code",
      "metadata": {
        "id": "YAC_j4hKkuwF",
        "colab": {
          "base_uri": "https://localhost:8080/"
        },
        "outputId": "086f5bde-760a-4a70-84eb-1c866390cb50"
      },
      "source": [
        "x1[0]\n"
      ],
      "execution_count": 183,
      "outputs": [
        {
          "output_type": "execute_result",
          "data": {
            "text/plain": [
              "5"
            ]
          },
          "metadata": {
            "tags": []
          },
          "execution_count": 183
        }
      ]
    },
    {
      "cell_type": "code",
      "metadata": {
        "id": "vj2wnmFjkxpO",
        "colab": {
          "base_uri": "https://localhost:8080/"
        },
        "outputId": "01f573e5-f419-4999-97a7-eb76ed94f239"
      },
      "source": [
        "x1[4]"
      ],
      "execution_count": 184,
      "outputs": [
        {
          "output_type": "execute_result",
          "data": {
            "text/plain": [
              "7"
            ]
          },
          "metadata": {
            "tags": []
          },
          "execution_count": 184
        }
      ]
    },
    {
      "cell_type": "code",
      "metadata": {
        "id": "QYvtiQKQk1Gf",
        "colab": {
          "base_uri": "https://localhost:8080/"
        },
        "outputId": "89cc1cf2-3793-42d3-b9b2-b7124f23e97a"
      },
      "source": [
        "# from right to left\n",
        "x1[-1] \n"
      ],
      "execution_count": 185,
      "outputs": [
        {
          "output_type": "execute_result",
          "data": {
            "text/plain": [
              "9"
            ]
          },
          "metadata": {
            "tags": []
          },
          "execution_count": 185
        }
      ]
    },
    {
      "cell_type": "code",
      "metadata": {
        "id": "3mflgAFqk84r",
        "colab": {
          "base_uri": "https://localhost:8080/"
        },
        "outputId": "f8680ab9-6eab-4d7a-c2a9-198f91d40195"
      },
      "source": [
        "x1[-2]\n"
      ],
      "execution_count": 186,
      "outputs": [
        {
          "output_type": "execute_result",
          "data": {
            "text/plain": [
              "7"
            ]
          },
          "metadata": {
            "tags": []
          },
          "execution_count": 186
        }
      ]
    },
    {
      "cell_type": "code",
      "metadata": {
        "id": "tOVu3s1Jk-Qt",
        "colab": {
          "base_uri": "https://localhost:8080/"
        },
        "outputId": "7f6fa9f9-b18c-4a08-a4da-7ad7e7abf553"
      },
      "source": [
        "x2"
      ],
      "execution_count": 187,
      "outputs": [
        {
          "output_type": "execute_result",
          "data": {
            "text/plain": [
              "array([[3, 5, 2, 4],\n",
              "       [7, 6, 8, 8],\n",
              "       [1, 6, 7, 7]])"
            ]
          },
          "metadata": {
            "tags": []
          },
          "execution_count": 187
        }
      ]
    },
    {
      "cell_type": "code",
      "metadata": {
        "id": "nAJHDQ0BlXEW",
        "colab": {
          "base_uri": "https://localhost:8080/"
        },
        "outputId": "8cfa1851-1920-428b-8038-881e27a5eb1e"
      },
      "source": [
        "# Multidimension array access: \n",
        "# row #0, -> col #0\n",
        "x2[0,0] "
      ],
      "execution_count": 188,
      "outputs": [
        {
          "output_type": "execute_result",
          "data": {
            "text/plain": [
              "3"
            ]
          },
          "metadata": {
            "tags": []
          },
          "execution_count": 188
        }
      ]
    },
    {
      "cell_type": "code",
      "metadata": {
        "id": "j7RNTZvxlbVq",
        "colab": {
          "base_uri": "https://localhost:8080/"
        },
        "outputId": "765c245d-417a-4c82-b3ad-17d0edb9e7a6"
      },
      "source": [
        "# row #1, -> col # 2\n",
        "x2[1,2]"
      ],
      "execution_count": 189,
      "outputs": [
        {
          "output_type": "execute_result",
          "data": {
            "text/plain": [
              "8"
            ]
          },
          "metadata": {
            "tags": []
          },
          "execution_count": 189
        }
      ]
    },
    {
      "cell_type": "code",
      "metadata": {
        "id": "GqSWInQZlfCZ",
        "colab": {
          "base_uri": "https://localhost:8080/"
        },
        "outputId": "3ad24c20-1a43-4de8-e238-cc6c70b4870d"
      },
      "source": [
        "# row #2, -> col #-1 (right to)\n",
        "x2[2, -1]\n"
      ],
      "execution_count": 190,
      "outputs": [
        {
          "output_type": "execute_result",
          "data": {
            "text/plain": [
              "7"
            ]
          },
          "metadata": {
            "tags": []
          },
          "execution_count": 190
        }
      ]
    },
    {
      "cell_type": "code",
      "metadata": {
        "id": "gD-jextil6wx",
        "colab": {
          "base_uri": "https://localhost:8080/"
        },
        "outputId": "a34de129-12a7-490d-b742-71fa8f49eee6"
      },
      "source": [
        "x3\n"
      ],
      "execution_count": 191,
      "outputs": [
        {
          "output_type": "execute_result",
          "data": {
            "text/plain": [
              "array([[[8, 1, 5, 9, 8],\n",
              "        [9, 4, 3, 0, 3],\n",
              "        [5, 0, 2, 3, 8],\n",
              "        [1, 3, 3, 3, 7]],\n",
              "\n",
              "       [[0, 1, 9, 9, 0],\n",
              "        [4, 7, 3, 2, 7],\n",
              "        [2, 0, 0, 4, 5],\n",
              "        [5, 6, 8, 4, 1]],\n",
              "\n",
              "       [[4, 9, 8, 1, 1],\n",
              "        [7, 9, 9, 3, 6],\n",
              "        [7, 2, 0, 3, 5],\n",
              "        [9, 4, 4, 6, 4]]])"
            ]
          },
          "metadata": {
            "tags": []
          },
          "execution_count": 191
        }
      ]
    },
    {
      "cell_type": "code",
      "metadata": {
        "id": "4cEX2YiWmKUk",
        "colab": {
          "base_uri": "https://localhost:8080/"
        },
        "outputId": "15bbdb01-9ce5-4bb6-f6d3-f50ed3b6638b"
      },
      "source": [
        "# stack/level/length\n",
        "# stack #0\n",
        "x3[0]"
      ],
      "execution_count": 192,
      "outputs": [
        {
          "output_type": "execute_result",
          "data": {
            "text/plain": [
              "array([[8, 1, 5, 9, 8],\n",
              "       [9, 4, 3, 0, 3],\n",
              "       [5, 0, 2, 3, 8],\n",
              "       [1, 3, 3, 3, 7]])"
            ]
          },
          "metadata": {
            "tags": []
          },
          "execution_count": 192
        }
      ]
    },
    {
      "cell_type": "code",
      "metadata": {
        "id": "eIxrfFvSmOl-",
        "colab": {
          "base_uri": "https://localhost:8080/"
        },
        "outputId": "5619b9e6-9c98-4b7c-fbd4-8c3d1cd65773"
      },
      "source": [
        "# stack #1\n",
        "x3[1]"
      ],
      "execution_count": 193,
      "outputs": [
        {
          "output_type": "execute_result",
          "data": {
            "text/plain": [
              "array([[0, 1, 9, 9, 0],\n",
              "       [4, 7, 3, 2, 7],\n",
              "       [2, 0, 0, 4, 5],\n",
              "       [5, 6, 8, 4, 1]])"
            ]
          },
          "metadata": {
            "tags": []
          },
          "execution_count": 193
        }
      ]
    },
    {
      "cell_type": "code",
      "metadata": {
        "id": "ZW2u5ETHmbtF",
        "colab": {
          "base_uri": "https://localhost:8080/"
        },
        "outputId": "7ee99e26-e206-4fc2-b838-bdb081e73332"
      },
      "source": [
        "# stack #0 -> row #1\n",
        "x3[0][1]"
      ],
      "execution_count": 194,
      "outputs": [
        {
          "output_type": "execute_result",
          "data": {
            "text/plain": [
              "array([9, 4, 3, 0, 3])"
            ]
          },
          "metadata": {
            "tags": []
          },
          "execution_count": 194
        }
      ]
    },
    {
      "cell_type": "code",
      "metadata": {
        "id": "PLH4EO-_mj2O",
        "colab": {
          "base_uri": "https://localhost:8080/"
        },
        "outputId": "09f91522-b4a6-4fd7-cab5-9fe1e9f90a43"
      },
      "source": [
        "# stack #0 -> row #2 -> column #1\n",
        "x3[0][2][1]"
      ],
      "execution_count": 195,
      "outputs": [
        {
          "output_type": "execute_result",
          "data": {
            "text/plain": [
              "0"
            ]
          },
          "metadata": {
            "tags": []
          },
          "execution_count": 195
        }
      ]
    },
    {
      "cell_type": "markdown",
      "metadata": {
        "id": "gbK7HqYxnHEP"
      },
      "source": [
        "# Array Slicing: Accessing Subarrays\n"
      ]
    },
    {
      "cell_type": "code",
      "metadata": {
        "id": "QQivqYnwm3qX"
      },
      "source": [
        "# The NumPy slicing syntax follows that of the standard Python list; to access a slice of\n",
        "# an array x, use this:\n",
        "# x[start:stop:step]\n",
        "\n",
        "# If any of these are unspecified, they \n",
        "# default to the values \n",
        "# start=0, stop=size of dimension, step=1\n",
        "\n",
        "\n"
      ],
      "execution_count": 196,
      "outputs": []
    },
    {
      "cell_type": "markdown",
      "metadata": {
        "id": "ENpTllrmnn8I"
      },
      "source": [
        "### One-dimensional subarrays\n"
      ]
    },
    {
      "cell_type": "code",
      "metadata": {
        "id": "Bezjf6XcnqhE"
      },
      "source": [
        "x = np.arange(10)"
      ],
      "execution_count": 197,
      "outputs": []
    },
    {
      "cell_type": "code",
      "metadata": {
        "id": "zRg3u5TDnu6_",
        "colab": {
          "base_uri": "https://localhost:8080/"
        },
        "outputId": "3feb99b6-2346-48cd-a11a-2e5efa55d6e6"
      },
      "source": [
        "print(x)"
      ],
      "execution_count": 198,
      "outputs": [
        {
          "output_type": "stream",
          "text": [
            "[0 1 2 3 4 5 6 7 8 9]\n"
          ],
          "name": "stdout"
        }
      ]
    },
    {
      "cell_type": "code",
      "metadata": {
        "id": "40XRSRy5nw0H",
        "colab": {
          "base_uri": "https://localhost:8080/"
        },
        "outputId": "b405e556-a51f-4b56-d058-cd5901754bf5"
      },
      "source": [
        "# elements till 0th - 3rd index\n",
        "x[0:4] \n"
      ],
      "execution_count": 199,
      "outputs": [
        {
          "output_type": "execute_result",
          "data": {
            "text/plain": [
              "array([0, 1, 2, 3])"
            ]
          },
          "metadata": {
            "tags": []
          },
          "execution_count": 199
        }
      ]
    },
    {
      "cell_type": "code",
      "metadata": {
        "id": "N96d_fbon5k7",
        "colab": {
          "base_uri": "https://localhost:8080/"
        },
        "outputId": "3035edd1-5864-48d5-8748-dbb3c73eb072"
      },
      "source": [
        "# elements till 0th - 4rd index\n",
        "x[:5] \n"
      ],
      "execution_count": 200,
      "outputs": [
        {
          "output_type": "execute_result",
          "data": {
            "text/plain": [
              "array([0, 1, 2, 3, 4])"
            ]
          },
          "metadata": {
            "tags": []
          },
          "execution_count": 200
        }
      ]
    },
    {
      "cell_type": "code",
      "metadata": {
        "id": "bbRCtrNOn-cV",
        "colab": {
          "base_uri": "https://localhost:8080/"
        },
        "outputId": "bf6935b9-cd81-4a2c-ffba-21236ec33b98"
      },
      "source": [
        "# elements after index 2 till the last\n",
        "x[2:]"
      ],
      "execution_count": 201,
      "outputs": [
        {
          "output_type": "execute_result",
          "data": {
            "text/plain": [
              "array([2, 3, 4, 5, 6, 7, 8, 9])"
            ]
          },
          "metadata": {
            "tags": []
          },
          "execution_count": 201
        }
      ]
    },
    {
      "cell_type": "code",
      "metadata": {
        "id": "GJuOe5sdoFK6",
        "colab": {
          "base_uri": "https://localhost:8080/"
        },
        "outputId": "9c92b3c3-4e20-4204-8a33-5f87ba40ad48"
      },
      "source": [
        "# elements from index 2 but till 3rd index -> [2,4)\n",
        "x[2:4]"
      ],
      "execution_count": 202,
      "outputs": [
        {
          "output_type": "execute_result",
          "data": {
            "text/plain": [
              "array([2, 3])"
            ]
          },
          "metadata": {
            "tags": []
          },
          "execution_count": 202
        }
      ]
    },
    {
      "cell_type": "code",
      "metadata": {
        "id": "WESNSqFQoKz6",
        "colab": {
          "base_uri": "https://localhost:8080/"
        },
        "outputId": "59adbc07-d263-45b8-b821-c7fae363bf70"
      },
      "source": [
        "# every other element\n",
        "x[::2] "
      ],
      "execution_count": 203,
      "outputs": [
        {
          "output_type": "execute_result",
          "data": {
            "text/plain": [
              "array([0, 2, 4, 6, 8])"
            ]
          },
          "metadata": {
            "tags": []
          },
          "execution_count": 203
        }
      ]
    },
    {
      "cell_type": "code",
      "metadata": {
        "id": "kL42tstcog_8",
        "colab": {
          "base_uri": "https://localhost:8080/"
        },
        "outputId": "07516f26-cd42-473c-cc5f-60305d95ccda"
      },
      "source": [
        "# every other element, starting at index 1\n",
        "x[1::2] "
      ],
      "execution_count": 204,
      "outputs": [
        {
          "output_type": "execute_result",
          "data": {
            "text/plain": [
              "array([1, 3, 5, 7, 9])"
            ]
          },
          "metadata": {
            "tags": []
          },
          "execution_count": 204
        }
      ]
    },
    {
      "cell_type": "code",
      "metadata": {
        "id": "SfJUaNh3on93",
        "colab": {
          "base_uri": "https://localhost:8080/"
        },
        "outputId": "2130ef90-5ea3-4cc6-dd4c-0875c560ac8d"
      },
      "source": [
        "# every other element, starting at index 1 ending at 6th index\n",
        "x[1:7:2] \n"
      ],
      "execution_count": 205,
      "outputs": [
        {
          "output_type": "execute_result",
          "data": {
            "text/plain": [
              "array([1, 3, 5])"
            ]
          },
          "metadata": {
            "tags": []
          },
          "execution_count": 205
        }
      ]
    },
    {
      "cell_type": "code",
      "metadata": {
        "id": "q5FDh6ZHpHsS",
        "colab": {
          "base_uri": "https://localhost:8080/"
        },
        "outputId": "d4e2ea89-6ee0-4fa2-8a10-79005d997bc8"
      },
      "source": [
        "x"
      ],
      "execution_count": 206,
      "outputs": [
        {
          "output_type": "execute_result",
          "data": {
            "text/plain": [
              "array([0, 1, 2, 3, 4, 5, 6, 7, 8, 9])"
            ]
          },
          "metadata": {
            "tags": []
          },
          "execution_count": 206
        }
      ]
    },
    {
      "cell_type": "code",
      "metadata": {
        "id": "cvg0mwwoou9B",
        "colab": {
          "base_uri": "https://localhost:8080/"
        },
        "outputId": "6312e5b0-1803-4f9c-d2e0-10209d49c47f"
      },
      "source": [
        "# every 2rd element, staring from 0 index, ending at 8th index\n",
        "x[:9:2] "
      ],
      "execution_count": 207,
      "outputs": [
        {
          "output_type": "execute_result",
          "data": {
            "text/plain": [
              "array([0, 2, 4, 6, 8])"
            ]
          },
          "metadata": {
            "tags": []
          },
          "execution_count": 207
        }
      ]
    },
    {
      "cell_type": "code",
      "metadata": {
        "id": "0t9nlNjppAOJ",
        "colab": {
          "base_uri": "https://localhost:8080/"
        },
        "outputId": "cb646688-cb03-43f0-be59-f9a3868e5af2"
      },
      "source": [
        "# all elements, reversed\n",
        "x[::-1] "
      ],
      "execution_count": 208,
      "outputs": [
        {
          "output_type": "execute_result",
          "data": {
            "text/plain": [
              "array([9, 8, 7, 6, 5, 4, 3, 2, 1, 0])"
            ]
          },
          "metadata": {
            "tags": []
          },
          "execution_count": 208
        }
      ]
    },
    {
      "cell_type": "code",
      "metadata": {
        "id": "GNztoZPrpp_r",
        "colab": {
          "base_uri": "https://localhost:8080/"
        },
        "outputId": "e859e541-4d0c-47fc-9bf5-e18094b3c7a5"
      },
      "source": [
        "# reversed every other from index 5\n",
        "x[5::-2] "
      ],
      "execution_count": 209,
      "outputs": [
        {
          "output_type": "execute_result",
          "data": {
            "text/plain": [
              "array([5, 3, 1])"
            ]
          },
          "metadata": {
            "tags": []
          },
          "execution_count": 209
        }
      ]
    },
    {
      "cell_type": "code",
      "metadata": {
        "id": "6SjfQz1Cpzfv",
        "colab": {
          "base_uri": "https://localhost:8080/"
        },
        "outputId": "49962a05-4c60-40d0-ca3d-800b792f209d"
      },
      "source": [
        "x[5:2:-1] "
      ],
      "execution_count": 210,
      "outputs": [
        {
          "output_type": "execute_result",
          "data": {
            "text/plain": [
              "array([5, 4, 3])"
            ]
          },
          "metadata": {
            "tags": []
          },
          "execution_count": 210
        }
      ]
    },
    {
      "cell_type": "markdown",
      "metadata": {
        "id": "3PfC8R8droM5"
      },
      "source": [
        "### Multidimensional subarrays\n"
      ]
    },
    {
      "cell_type": "code",
      "metadata": {
        "id": "k70aLFXfqg_c",
        "colab": {
          "base_uri": "https://localhost:8080/"
        },
        "outputId": "404819a4-ba23-4e48-9e65-caedfebb91ae"
      },
      "source": [
        "x2"
      ],
      "execution_count": 211,
      "outputs": [
        {
          "output_type": "execute_result",
          "data": {
            "text/plain": [
              "array([[3, 5, 2, 4],\n",
              "       [7, 6, 8, 8],\n",
              "       [1, 6, 7, 7]])"
            ]
          },
          "metadata": {
            "tags": []
          },
          "execution_count": 211
        }
      ]
    },
    {
      "cell_type": "code",
      "metadata": {
        "id": "CdJu4bTMhRhu",
        "colab": {
          "base_uri": "https://localhost:8080/"
        },
        "outputId": "11e42c6c-6ba8-41ea-b459-fc122e4b5f94"
      },
      "source": [
        "# row from #0 - #1 & column from #0 - #2 equivalent to -> [0:2,0:3]\n",
        "x2[:2, :3]"
      ],
      "execution_count": 212,
      "outputs": [
        {
          "output_type": "execute_result",
          "data": {
            "text/plain": [
              "array([[3, 5, 2],\n",
              "       [7, 6, 8]])"
            ]
          },
          "metadata": {
            "tags": []
          },
          "execution_count": 212
        }
      ]
    },
    {
      "cell_type": "code",
      "metadata": {
        "id": "k_bDThnrk8Os",
        "colab": {
          "base_uri": "https://localhost:8080/"
        },
        "outputId": "82e5b917-9ddd-4a49-a2c4-dc1d2d3ad8c5"
      },
      "source": [
        "# row from #0 to #2 & every 2nd column\n",
        "x2[:3, ::2] "
      ],
      "execution_count": 213,
      "outputs": [
        {
          "output_type": "execute_result",
          "data": {
            "text/plain": [
              "array([[3, 2],\n",
              "       [7, 8],\n",
              "       [1, 7]])"
            ]
          },
          "metadata": {
            "tags": []
          },
          "execution_count": 213
        }
      ]
    },
    {
      "cell_type": "code",
      "metadata": {
        "id": "HtnuxK3anhBh",
        "colab": {
          "base_uri": "https://localhost:8080/"
        },
        "outputId": "204d7a6d-670c-4439-9628-2b494d5ab46f"
      },
      "source": [
        "# first reverse all row, then all columns!\n",
        "x2[::-1, ::-1]\n"
      ],
      "execution_count": 214,
      "outputs": [
        {
          "output_type": "execute_result",
          "data": {
            "text/plain": [
              "array([[7, 7, 6, 1],\n",
              "       [8, 8, 6, 7],\n",
              "       [4, 2, 5, 3]])"
            ]
          },
          "metadata": {
            "tags": []
          },
          "execution_count": 214
        }
      ]
    },
    {
      "cell_type": "markdown",
      "metadata": {
        "id": "j9ycxJJjDEpy"
      },
      "source": [
        "#### Accessing array rows and columns\n",
        "One commonly needed routine is accessing single\n",
        "rows or columns of an array. You can do this by combining indexing and slicing,\n",
        "using an empty slice marked by a single colon (:)"
      ]
    },
    {
      "cell_type": "code",
      "metadata": {
        "id": "TCoNyJqnStXB",
        "colab": {
          "base_uri": "https://localhost:8080/"
        },
        "outputId": "dffe4643-7d5d-40f5-cfdf-0a205503720c"
      },
      "source": [
        "x2"
      ],
      "execution_count": 215,
      "outputs": [
        {
          "output_type": "execute_result",
          "data": {
            "text/plain": [
              "array([[3, 5, 2, 4],\n",
              "       [7, 6, 8, 8],\n",
              "       [1, 6, 7, 7]])"
            ]
          },
          "metadata": {
            "tags": []
          },
          "execution_count": 215
        }
      ]
    },
    {
      "cell_type": "code",
      "metadata": {
        "id": "JJ7qcrXBDaBt",
        "colab": {
          "base_uri": "https://localhost:8080/"
        },
        "outputId": "b966f61c-3e25-48e0-86b9-5e332900b648"
      },
      "source": [
        "# 0th column only, but all columns -> entire 0th row\n",
        "x2[0, :]"
      ],
      "execution_count": 216,
      "outputs": [
        {
          "output_type": "execute_result",
          "data": {
            "text/plain": [
              "array([3, 5, 2, 4])"
            ]
          },
          "metadata": {
            "tags": []
          },
          "execution_count": 216
        }
      ]
    },
    {
      "cell_type": "code",
      "metadata": {
        "id": "_G58uqRpDnuw",
        "colab": {
          "base_uri": "https://localhost:8080/"
        },
        "outputId": "63381a15-6d37-4619-fa84-3cd455514ba7"
      },
      "source": [
        "# all rows values containing in 0th column\n",
        "x2[:, 0]"
      ],
      "execution_count": 217,
      "outputs": [
        {
          "output_type": "execute_result",
          "data": {
            "text/plain": [
              "array([3, 7, 1])"
            ]
          },
          "metadata": {
            "tags": []
          },
          "execution_count": 217
        }
      ]
    },
    {
      "cell_type": "code",
      "metadata": {
        "id": "rl8rSNJID_AB",
        "colab": {
          "base_uri": "https://localhost:8080/"
        },
        "outputId": "f80f8a42-31f6-4918-b37c-d394267cff9b"
      },
      "source": [
        "# Entire 0th Row -> x2[0, :]\n",
        "x2[0]"
      ],
      "execution_count": 218,
      "outputs": [
        {
          "output_type": "execute_result",
          "data": {
            "text/plain": [
              "array([3, 5, 2, 4])"
            ]
          },
          "metadata": {
            "tags": []
          },
          "execution_count": 218
        }
      ]
    },
    {
      "cell_type": "code",
      "metadata": {
        "id": "l7ffjyNRELg8",
        "colab": {
          "base_uri": "https://localhost:8080/"
        },
        "outputId": "58bf0e83-9faa-4b8f-c84c-fec94d23a077"
      },
      "source": [
        "# Entire 2th Row -> x2[2, :]\n",
        "x2[2]"
      ],
      "execution_count": 219,
      "outputs": [
        {
          "output_type": "execute_result",
          "data": {
            "text/plain": [
              "array([1, 6, 7, 7])"
            ]
          },
          "metadata": {
            "tags": []
          },
          "execution_count": 219
        }
      ]
    },
    {
      "cell_type": "markdown",
      "metadata": {
        "id": "oefjTqDKEigd"
      },
      "source": [
        "### Subarrays as no-copy views\n"
      ]
    },
    {
      "cell_type": "code",
      "metadata": {
        "id": "3pejiAnsE08c"
      },
      "source": [
        "# One important—and extremely useful—thing to know about array slices is that they\n",
        "# return views rather than copies of the array data"
      ],
      "execution_count": 220,
      "outputs": []
    },
    {
      "cell_type": "code",
      "metadata": {
        "id": "CDpwilswEesf",
        "colab": {
          "base_uri": "https://localhost:8080/"
        },
        "outputId": "25df2776-da5d-4813-c6e5-4affb76483cf"
      },
      "source": [
        "x2"
      ],
      "execution_count": 221,
      "outputs": [
        {
          "output_type": "execute_result",
          "data": {
            "text/plain": [
              "array([[3, 5, 2, 4],\n",
              "       [7, 6, 8, 8],\n",
              "       [1, 6, 7, 7]])"
            ]
          },
          "metadata": {
            "tags": []
          },
          "execution_count": 221
        }
      ]
    },
    {
      "cell_type": "code",
      "metadata": {
        "id": "xdzpiJ2kEpcf",
        "colab": {
          "base_uri": "https://localhost:8080/"
        },
        "outputId": "d3ef45b6-6989-4d10-a994-9a659648274b"
      },
      "source": [
        "# viewing rows 0-1 and column 0-2\n",
        "x2_sub = x2[:2, :3]\n",
        "print(x2_sub)\n"
      ],
      "execution_count": 222,
      "outputs": [
        {
          "output_type": "stream",
          "text": [
            "[[3 5 2]\n",
            " [7 6 8]]\n"
          ],
          "name": "stdout"
        }
      ]
    },
    {
      "cell_type": "code",
      "metadata": {
        "id": "W8R6tvtwFJN9"
      },
      "source": [
        "# Now if we assign value here, it will mutate the original x2 2D array\n",
        "x2[1,2] = 1000"
      ],
      "execution_count": 223,
      "outputs": []
    },
    {
      "cell_type": "code",
      "metadata": {
        "id": "-DaPCE8jFb85",
        "colab": {
          "base_uri": "https://localhost:8080/"
        },
        "outputId": "901881a0-6d66-4882-db1c-61fcc7818281"
      },
      "source": [
        "# therefore we resigned a value of 1000 on row #1 and col #2\n",
        "# now 8 is removed and is having 1000 value!\n",
        "# this provies we get a view instead of copy like in normal python!\n",
        "x2"
      ],
      "execution_count": 224,
      "outputs": [
        {
          "output_type": "execute_result",
          "data": {
            "text/plain": [
              "array([[   3,    5,    2,    4],\n",
              "       [   7,    6, 1000,    8],\n",
              "       [   1,    6,    7,    7]])"
            ]
          },
          "metadata": {
            "tags": []
          },
          "execution_count": 224
        }
      ]
    },
    {
      "cell_type": "markdown",
      "metadata": {
        "id": "gRYMwIpiGCQR"
      },
      "source": [
        "### Creating copies of arrays\n"
      ]
    },
    {
      "cell_type": "code",
      "metadata": {
        "id": "Wycr0_JKGpwt",
        "colab": {
          "base_uri": "https://localhost:8080/"
        },
        "outputId": "b58c2f46-36d7-43a3-b48d-4c10922d3cea"
      },
      "source": [
        "x2"
      ],
      "execution_count": 225,
      "outputs": [
        {
          "output_type": "execute_result",
          "data": {
            "text/plain": [
              "array([[   3,    5,    2,    4],\n",
              "       [   7,    6, 1000,    8],\n",
              "       [   1,    6,    7,    7]])"
            ]
          },
          "metadata": {
            "tags": []
          },
          "execution_count": 225
        }
      ]
    },
    {
      "cell_type": "code",
      "metadata": {
        "id": "yDXU-rkDFdza",
        "colab": {
          "base_uri": "https://localhost:8080/"
        },
        "outputId": "26046515-6b43-4c04-9040-8233f6b4e59f"
      },
      "source": [
        "# if we want to create a real copy,istead of view, we can use .copy() method\n",
        "\n",
        "x2_sub_copy = x2[:2, :2].copy()\n",
        "print(x2_sub_copy)"
      ],
      "execution_count": 226,
      "outputs": [
        {
          "output_type": "stream",
          "text": [
            "[[3 5]\n",
            " [7 6]]\n"
          ],
          "name": "stdout"
        }
      ]
    },
    {
      "cell_type": "code",
      "metadata": {
        "id": "UErpKCupGtn8"
      },
      "source": [
        "x2_sub_copy[0,1] = 555"
      ],
      "execution_count": 227,
      "outputs": []
    },
    {
      "cell_type": "code",
      "metadata": {
        "id": "R-3MH1HrG2yT",
        "colab": {
          "base_uri": "https://localhost:8080/"
        },
        "outputId": "9f0771bb-cc2b-4e5f-b160-824c22402878"
      },
      "source": [
        "# Therefore row #0's column #1 got changed!\n",
        "x2_sub_copy"
      ],
      "execution_count": 228,
      "outputs": [
        {
          "output_type": "execute_result",
          "data": {
            "text/plain": [
              "array([[  3, 555],\n",
              "       [  7,   6]])"
            ]
          },
          "metadata": {
            "tags": []
          },
          "execution_count": 228
        }
      ]
    },
    {
      "cell_type": "code",
      "metadata": {
        "id": "xfQStO59G3wv",
        "colab": {
          "base_uri": "https://localhost:8080/"
        },
        "outputId": "fe41930b-61b1-4e0e-8bdf-be3060e21fe4"
      },
      "source": [
        "# here we can see the original x2 is not changed, only x2_sub_copy is changed.\n",
        "x2"
      ],
      "execution_count": 229,
      "outputs": [
        {
          "output_type": "execute_result",
          "data": {
            "text/plain": [
              "array([[   3,    5,    2,    4],\n",
              "       [   7,    6, 1000,    8],\n",
              "       [   1,    6,    7,    7]])"
            ]
          },
          "metadata": {
            "tags": []
          },
          "execution_count": 229
        }
      ]
    },
    {
      "cell_type": "markdown",
      "metadata": {
        "id": "dix86MvXHTYs"
      },
      "source": [
        "# Reshaping of Arrays\n"
      ]
    },
    {
      "cell_type": "code",
      "metadata": {
        "id": "u9_LpenUHRsI",
        "colab": {
          "base_uri": "https://localhost:8080/"
        },
        "outputId": "c484cef3-57a7-4885-bee3-0f34ed81de71"
      },
      "source": [
        "arr = np.arange(1, 10)\n",
        "arr"
      ],
      "execution_count": 230,
      "outputs": [
        {
          "output_type": "execute_result",
          "data": {
            "text/plain": [
              "array([1, 2, 3, 4, 5, 6, 7, 8, 9])"
            ]
          },
          "metadata": {
            "tags": []
          },
          "execution_count": 230
        }
      ]
    },
    {
      "cell_type": "code",
      "metadata": {
        "id": "Q_NghZpYG77B",
        "colab": {
          "base_uri": "https://localhost:8080/"
        },
        "outputId": "b6838513-932f-4397-99e0-2d989c3c54bc"
      },
      "source": [
        "grid = arr.reshape(3,3)\n",
        "grid"
      ],
      "execution_count": 231,
      "outputs": [
        {
          "output_type": "execute_result",
          "data": {
            "text/plain": [
              "array([[1, 2, 3],\n",
              "       [4, 5, 6],\n",
              "       [7, 8, 9]])"
            ]
          },
          "metadata": {
            "tags": []
          },
          "execution_count": 231
        }
      ]
    },
    {
      "cell_type": "code",
      "metadata": {
        "id": "xCIlQE2gHo3c",
        "colab": {
          "base_uri": "https://localhost:8080/"
        },
        "outputId": "422f8255-ece5-44fe-d4fa-22ddc4ae929a"
      },
      "source": [
        "x = np.array([1, 2, 3])\n",
        "x"
      ],
      "execution_count": 232,
      "outputs": [
        {
          "output_type": "execute_result",
          "data": {
            "text/plain": [
              "array([1, 2, 3])"
            ]
          },
          "metadata": {
            "tags": []
          },
          "execution_count": 232
        }
      ]
    },
    {
      "cell_type": "code",
      "metadata": {
        "id": "iOWf9oL_H5i7",
        "colab": {
          "base_uri": "https://localhost:8080/"
        },
        "outputId": "82cb8a1a-5ac9-4c75-9d92-21254a23dbff"
      },
      "source": [
        "# Creating Row Vector\n",
        "\n",
        "x.reshape(1,3) # doesnot mutastes original x arr"
      ],
      "execution_count": 233,
      "outputs": [
        {
          "output_type": "execute_result",
          "data": {
            "text/plain": [
              "array([[1, 2, 3]])"
            ]
          },
          "metadata": {
            "tags": []
          },
          "execution_count": 233
        }
      ]
    },
    {
      "cell_type": "code",
      "metadata": {
        "id": "S-cxji_aH-FV",
        "colab": {
          "base_uri": "https://localhost:8080/"
        },
        "outputId": "df19dc3f-28b0-40a9-debf-c37f0fe8e50d"
      },
      "source": [
        "# Creating Column Vector\n",
        "x.reshape(3,1)"
      ],
      "execution_count": 234,
      "outputs": [
        {
          "output_type": "execute_result",
          "data": {
            "text/plain": [
              "array([[1],\n",
              "       [2],\n",
              "       [3]])"
            ]
          },
          "metadata": {
            "tags": []
          },
          "execution_count": 234
        }
      ]
    },
    {
      "cell_type": "code",
      "metadata": {
        "id": "MQw3La_JIAWa",
        "colab": {
          "base_uri": "https://localhost:8080/"
        },
        "outputId": "75e372e3-bf85-40d7-d893-c8ee29a097c9"
      },
      "source": [
        "#same thing can be achived using np.newaxis\n",
        "\n",
        "x[np.newaxis,:] # creates row vector"
      ],
      "execution_count": 235,
      "outputs": [
        {
          "output_type": "execute_result",
          "data": {
            "text/plain": [
              "array([[1, 2, 3]])"
            ]
          },
          "metadata": {
            "tags": []
          },
          "execution_count": 235
        }
      ]
    },
    {
      "cell_type": "code",
      "metadata": {
        "id": "dU6x6qmQIqql",
        "colab": {
          "base_uri": "https://localhost:8080/"
        },
        "outputId": "4da46608-4c46-47e2-e069-ccc84b3ab0d1"
      },
      "source": [
        "x[:,np.newaxis] # creates column vector"
      ],
      "execution_count": 236,
      "outputs": [
        {
          "output_type": "execute_result",
          "data": {
            "text/plain": [
              "array([[1],\n",
              "       [2],\n",
              "       [3]])"
            ]
          },
          "metadata": {
            "tags": []
          },
          "execution_count": 236
        }
      ]
    },
    {
      "cell_type": "markdown",
      "metadata": {
        "id": "YggL2obYJ-8T"
      },
      "source": [
        "# Array Concatenation and Splitting\n"
      ]
    },
    {
      "cell_type": "markdown",
      "metadata": {
        "id": "ywkJg9_MKAqt"
      },
      "source": [
        "## Concatenation of arrays\n"
      ]
    },
    {
      "cell_type": "code",
      "metadata": {
        "id": "i3n5ZR5SJ7bK",
        "colab": {
          "base_uri": "https://localhost:8080/"
        },
        "outputId": "c10bd4a7-2706-4669-fb41-97cc2b4bf867"
      },
      "source": [
        "#row wise concat of 1D arrays\n",
        "x = np.array([1, 2, 3])\n",
        "y = np.array([3, 2, 1])\n",
        "\n",
        "np.concatenate([x, y])\n"
      ],
      "execution_count": 237,
      "outputs": [
        {
          "output_type": "execute_result",
          "data": {
            "text/plain": [
              "array([1, 2, 3, 3, 2, 1])"
            ]
          },
          "metadata": {
            "tags": []
          },
          "execution_count": 237
        }
      ]
    },
    {
      "cell_type": "code",
      "metadata": {
        "id": "xKehRi6VI6fL"
      },
      "source": [
        "z = [10, 10, 101]\n"
      ],
      "execution_count": 238,
      "outputs": []
    },
    {
      "cell_type": "code",
      "metadata": {
        "id": "DuAA1lY9KL-G",
        "colab": {
          "base_uri": "https://localhost:8080/"
        },
        "outputId": "6870fb29-928f-4def-89de-8d3aea3231dc"
      },
      "source": [
        "np.concatenate([x, y, z],axis = 0)"
      ],
      "execution_count": 239,
      "outputs": [
        {
          "output_type": "execute_result",
          "data": {
            "text/plain": [
              "array([  1,   2,   3,   3,   2,   1,  10,  10, 101])"
            ]
          },
          "metadata": {
            "tags": []
          },
          "execution_count": 239
        }
      ]
    },
    {
      "cell_type": "code",
      "metadata": {
        "id": "e-339Ez6KRHA",
        "colab": {
          "base_uri": "https://localhost:8080/"
        },
        "outputId": "0aac9e32-ba28-455d-b1e3-1e5297a0d0c3"
      },
      "source": [
        "# 2D array\n",
        "grid1 = np.array([[1, 2, 3],[4, 5, 6]])\n",
        "grid1"
      ],
      "execution_count": 240,
      "outputs": [
        {
          "output_type": "execute_result",
          "data": {
            "text/plain": [
              "array([[1, 2, 3],\n",
              "       [4, 5, 6]])"
            ]
          },
          "metadata": {
            "tags": []
          },
          "execution_count": 240
        }
      ]
    },
    {
      "cell_type": "code",
      "metadata": {
        "id": "7r2teeO-KqlZ",
        "colab": {
          "base_uri": "https://localhost:8080/"
        },
        "outputId": "afdd6215-2b2f-42ee-af00-b346e95dc8fd"
      },
      "source": [
        "grid2 = np.array([[10, 20, 30],[40, 50, 60]])\n",
        "grid2"
      ],
      "execution_count": 241,
      "outputs": [
        {
          "output_type": "execute_result",
          "data": {
            "text/plain": [
              "array([[10, 20, 30],\n",
              "       [40, 50, 60]])"
            ]
          },
          "metadata": {
            "tags": []
          },
          "execution_count": 241
        }
      ]
    },
    {
      "cell_type": "code",
      "metadata": {
        "id": "UE01bmaNK6IQ",
        "colab": {
          "base_uri": "https://localhost:8080/"
        },
        "outputId": "b327328b-af71-4813-cf17-8f15c590cbff"
      },
      "source": [
        "np.concatenate([grid1,grid2])"
      ],
      "execution_count": 242,
      "outputs": [
        {
          "output_type": "execute_result",
          "data": {
            "text/plain": [
              "array([[ 1,  2,  3],\n",
              "       [ 4,  5,  6],\n",
              "       [10, 20, 30],\n",
              "       [40, 50, 60]])"
            ]
          },
          "metadata": {
            "tags": []
          },
          "execution_count": 242
        }
      ]
    },
    {
      "cell_type": "code",
      "metadata": {
        "id": "q5m7K_BEK-3C",
        "colab": {
          "base_uri": "https://localhost:8080/"
        },
        "outputId": "26bc6454-fdf0-4689-8b57-b1647f846d9a"
      },
      "source": [
        "#vstack\n",
        "\n",
        "arr = np.array([1,2,3])\n",
        "np.vstack([arr,grid2])"
      ],
      "execution_count": 243,
      "outputs": [
        {
          "output_type": "execute_result",
          "data": {
            "text/plain": [
              "array([[ 1,  2,  3],\n",
              "       [10, 20, 30],\n",
              "       [40, 50, 60]])"
            ]
          },
          "metadata": {
            "tags": []
          },
          "execution_count": 243
        }
      ]
    },
    {
      "cell_type": "code",
      "metadata": {
        "id": "bxy28Hc0LnxB",
        "colab": {
          "base_uri": "https://localhost:8080/"
        },
        "outputId": "96e33447-779f-4303-d4da-9a3cf32c8af5"
      },
      "source": [
        "#hstack\n",
        "carr = np.array([500,600]).reshape(2,1)\n",
        "carr"
      ],
      "execution_count": 244,
      "outputs": [
        {
          "output_type": "execute_result",
          "data": {
            "text/plain": [
              "array([[500],\n",
              "       [600]])"
            ]
          },
          "metadata": {
            "tags": []
          },
          "execution_count": 244
        }
      ]
    },
    {
      "cell_type": "code",
      "metadata": {
        "id": "XlVpaVhzLuZq",
        "colab": {
          "base_uri": "https://localhost:8080/"
        },
        "outputId": "7614210a-0ef3-4c26-f8c4-50e681f1d6cc"
      },
      "source": [
        "np.hstack([carr,grid2])"
      ],
      "execution_count": 245,
      "outputs": [
        {
          "output_type": "execute_result",
          "data": {
            "text/plain": [
              "array([[500,  10,  20,  30],\n",
              "       [600,  40,  50,  60]])"
            ]
          },
          "metadata": {
            "tags": []
          },
          "execution_count": 245
        }
      ]
    },
    {
      "cell_type": "code",
      "metadata": {
        "id": "mKFyJYKyMTHu",
        "colab": {
          "base_uri": "https://localhost:8080/"
        },
        "outputId": "ed466a34-3286-4247-d3a7-72802c3977a7"
      },
      "source": [
        "np.hstack([grid2,carr])"
      ],
      "execution_count": 246,
      "outputs": [
        {
          "output_type": "execute_result",
          "data": {
            "text/plain": [
              "array([[ 10,  20,  30, 500],\n",
              "       [ 40,  50,  60, 600]])"
            ]
          },
          "metadata": {
            "tags": []
          },
          "execution_count": 246
        }
      ]
    },
    {
      "cell_type": "markdown",
      "metadata": {
        "id": "He7ZT87AM5-z"
      },
      "source": [
        "## Splitting of arrays\n"
      ]
    },
    {
      "cell_type": "markdown",
      "metadata": {
        "id": "RmmDjULYPiIJ"
      },
      "source": [
        "### 1D array"
      ]
    },
    {
      "cell_type": "code",
      "metadata": {
        "id": "p1vYaF7CNB_b"
      },
      "source": [
        "\n",
        "x = [0,1, 2, 3, 4, 5, 6, 7,8,9,10]\n"
      ],
      "execution_count": 247,
      "outputs": []
    },
    {
      "cell_type": "code",
      "metadata": {
        "id": "uCUq5jLOOJEn",
        "colab": {
          "base_uri": "https://localhost:8080/"
        },
        "outputId": "2a2eb382-8993-43fa-be74-868e082fccd0"
      },
      "source": [
        "# Spilits the array after index #1 into two halves \n",
        "x1,x2 = np.split(x, [2])\n",
        "print(x1, x2)"
      ],
      "execution_count": 248,
      "outputs": [
        {
          "output_type": "stream",
          "text": [
            "[0 1] [ 2  3  4  5  6  7  8  9 10]\n"
          ],
          "name": "stdout"
        }
      ]
    },
    {
      "cell_type": "code",
      "metadata": {
        "id": "Br773M82OVNz",
        "colab": {
          "base_uri": "https://localhost:8080/"
        },
        "outputId": "9d20d8aa-bb1e-44b6-c667-d0fa87755392"
      },
      "source": [
        "# Spilits the array after index #4 into two halves \n",
        "x1,x2 = np.split(x, [4])\n",
        "print(x1, x2)"
      ],
      "execution_count": 249,
      "outputs": [
        {
          "output_type": "stream",
          "text": [
            "[0 1 2 3] [ 4  5  6  7  8  9 10]\n"
          ],
          "name": "stdout"
        }
      ]
    },
    {
      "cell_type": "code",
      "metadata": {
        "id": "xtAgrmtHOoi7",
        "colab": {
          "base_uri": "https://localhost:8080/"
        },
        "outputId": "73e42fb3-d2f3-44c9-8eb3-25f0436d5e9b"
      },
      "source": [
        "# Spilits the array into 3 parts, first part (#0 - #1) ,(#2-#3 ), (#4 - remaining)\n",
        "x1,x2,x3 = np.split(x, [2,4])\n",
        "print(x1, x2,x3)"
      ],
      "execution_count": 250,
      "outputs": [
        {
          "output_type": "stream",
          "text": [
            "[0 1] [2 3] [ 4  5  6  7  8  9 10]\n"
          ],
          "name": "stdout"
        }
      ]
    },
    {
      "cell_type": "code",
      "metadata": {
        "id": "W9MR6nLBPIFg",
        "colab": {
          "base_uri": "https://localhost:8080/"
        },
        "outputId": "689e3fca-dfdf-4a7c-ff3a-04e8f38d7281"
      },
      "source": [
        "# Spilits the array into 4 parts, first part (#0 - #1) ,(#2-#3 ), (#4 - #5),(#6 - remaining)\n",
        "x1,x2,x3,x4 = np.split(x, [2,4,6])\n",
        "print(x1, x2,x3,x4)"
      ],
      "execution_count": 251,
      "outputs": [
        {
          "output_type": "stream",
          "text": [
            "[0 1] [2 3] [4 5] [ 6  7  8  9 10]\n"
          ],
          "name": "stdout"
        }
      ]
    },
    {
      "cell_type": "markdown",
      "metadata": {
        "id": "PSQvboFaPlg3"
      },
      "source": [
        "### 2D Array"
      ]
    },
    {
      "cell_type": "code",
      "metadata": {
        "id": "oTBFCI0-Pabh",
        "colab": {
          "base_uri": "https://localhost:8080/"
        },
        "outputId": "0c6c3b25-0b7e-4e26-a107-55388ae5c339"
      },
      "source": [
        "grid = np.arange(10,26).reshape((4, 4))\n",
        "grid\n"
      ],
      "execution_count": 252,
      "outputs": [
        {
          "output_type": "execute_result",
          "data": {
            "text/plain": [
              "array([[10, 11, 12, 13],\n",
              "       [14, 15, 16, 17],\n",
              "       [18, 19, 20, 21],\n",
              "       [22, 23, 24, 25]])"
            ]
          },
          "metadata": {
            "tags": []
          },
          "execution_count": 252
        }
      ]
    },
    {
      "cell_type": "code",
      "metadata": {
        "id": "XC5Q5yPnPs60",
        "colab": {
          "base_uri": "https://localhost:8080/"
        },
        "outputId": "58f3374e-6480-4db1-9426-37822ff641d3"
      },
      "source": [
        "# vertically splits after row index #1\n",
        "upper, lower = np.vsplit(grid, [2])\n",
        "print(upper)\n",
        "print('\\n')\n",
        "print(lower)\n"
      ],
      "execution_count": 253,
      "outputs": [
        {
          "output_type": "stream",
          "text": [
            "[[10 11 12 13]\n",
            " [14 15 16 17]]\n",
            "\n",
            "\n",
            "[[18 19 20 21]\n",
            " [22 23 24 25]]\n"
          ],
          "name": "stdout"
        }
      ]
    },
    {
      "cell_type": "code",
      "metadata": {
        "id": "EoJWS7RZPy6y",
        "colab": {
          "base_uri": "https://localhost:8080/"
        },
        "outputId": "fc0a4b9a-3a19-4b04-b0b9-86da3eceea9a"
      },
      "source": [
        "# horizontally splits after column index #1\n",
        "left, right = np.hsplit(grid, [2])\n",
        "print(left)\n",
        "print('\\n')\n",
        "print(right)"
      ],
      "execution_count": 254,
      "outputs": [
        {
          "output_type": "stream",
          "text": [
            "[[10 11]\n",
            " [14 15]\n",
            " [18 19]\n",
            " [22 23]]\n",
            "\n",
            "\n",
            "[[12 13]\n",
            " [16 17]\n",
            " [20 21]\n",
            " [24 25]]\n"
          ],
          "name": "stdout"
        }
      ]
    },
    {
      "cell_type": "markdown",
      "metadata": {
        "id": "Jd__p1_FQb3R"
      },
      "source": [
        "# Computation on NumPy Arrays: Universal Functions\n",
        "\n",
        "Computation on NumPy arrays can be very fast, or it can be very slow. The key to\n",
        "making it fast is to use vectorized operations, generally implemented through Num‐\n",
        "Py’s universal functions (ufuncs).\n"
      ]
    },
    {
      "cell_type": "markdown",
      "metadata": {
        "id": "-gRFoESuQ8nd"
      },
      "source": [
        "## Introducing UFuncs\n",
        "For many types of operations, NumPy provides a convenient interface into just this\n",
        "kind of statically typed, compiled routine. This is known as a vectorized operation.\n",
        "You can accomplish this by simply performing an operation on the array, which will\n",
        "then be applied to each element. This vectorized approach is designed to push the\n",
        "loop into the compiled layer that underlies NumPy, leading to much faster execution."
      ]
    },
    {
      "cell_type": "code",
      "metadata": {
        "id": "dJsNJIw0QWnu",
        "colab": {
          "base_uri": "https://localhost:8080/"
        },
        "outputId": "b5110878-0b0d-48d7-e815-baae0ad9ca6e"
      },
      "source": [
        "np.arange(5) / np.arange(1, 6)"
      ],
      "execution_count": 255,
      "outputs": [
        {
          "output_type": "execute_result",
          "data": {
            "text/plain": [
              "array([0.        , 0.5       , 0.66666667, 0.75      , 0.8       ])"
            ]
          },
          "metadata": {
            "tags": []
          },
          "execution_count": 255
        }
      ]
    },
    {
      "cell_type": "code",
      "metadata": {
        "id": "_ChlHw1KRRtv",
        "colab": {
          "base_uri": "https://localhost:8080/"
        },
        "outputId": "572dc7ff-d3f0-446a-d442-84e9de1d90b1"
      },
      "source": [
        "x = np.arange(9).reshape((3, 3))\n",
        "2 ** x"
      ],
      "execution_count": 256,
      "outputs": [
        {
          "output_type": "execute_result",
          "data": {
            "text/plain": [
              "array([[  1,   2,   4],\n",
              "       [  8,  16,  32],\n",
              "       [ 64, 128, 256]])"
            ]
          },
          "metadata": {
            "tags": []
          },
          "execution_count": 256
        }
      ]
    },
    {
      "cell_type": "markdown",
      "metadata": {
        "id": "vCGlMy_6RWFs"
      },
      "source": [
        "## Exploring NumPy’s UFuncs\n"
      ]
    },
    {
      "cell_type": "markdown",
      "metadata": {
        "id": "C_vtbqLFRgJI"
      },
      "source": [
        "### Array arithmetic\n"
      ]
    },
    {
      "cell_type": "code",
      "metadata": {
        "id": "CaZfUZ-5RUE8",
        "colab": {
          "base_uri": "https://localhost:8080/"
        },
        "outputId": "c1ce386c-b4f6-4389-9472-3e608a763048"
      },
      "source": [
        "x = np.arange(4)\n",
        "print(\" x       = \", x)\n",
        "print(\" x + 5.0 = \", x + 5.0) # addition with float value converts the entire array to float\n",
        "print(\" x - 2   = \", x - 2)\n",
        "print(\" x * 2   = \", x * 2)\n",
        "print(\" x / 2   = \", x / 2)\n",
        "print(\" x // 2  = \", x // 2) # floor division(returns INT)\n",
        "print(\"-x       = \", -x)\n",
        "print(\" x ** 2  = \", x ** 2)\n",
        "print(\" x % 2   = \", x % 2)"
      ],
      "execution_count": 257,
      "outputs": [
        {
          "output_type": "stream",
          "text": [
            " x       =  [0 1 2 3]\n",
            " x + 5.0 =  [5. 6. 7. 8.]\n",
            " x - 2   =  [-2 -1  0  1]\n",
            " x * 2   =  [0 2 4 6]\n",
            " x / 2   =  [0.  0.5 1.  1.5]\n",
            " x // 2  =  [0 0 1 1]\n",
            "-x       =  [ 0 -1 -2 -3]\n",
            " x ** 2  =  [0 1 4 9]\n",
            " x % 2   =  [0 1 0 1]\n"
          ],
          "name": "stdout"
        }
      ]
    },
    {
      "cell_type": "markdown",
      "metadata": {
        "id": "VhYlvRz6Sjju"
      },
      "source": [
        "### Absolute value\n"
      ]
    },
    {
      "cell_type": "code",
      "metadata": {
        "id": "1OfeK75ERtpx",
        "colab": {
          "base_uri": "https://localhost:8080/"
        },
        "outputId": "b86c59b8-5dc8-4797-a05c-dea7eccab02a"
      },
      "source": [
        "x = np.array([-2, -1, 0, 1, 2])\n",
        "abs(x) # <-- This is python's abs function"
      ],
      "execution_count": 258,
      "outputs": [
        {
          "output_type": "execute_result",
          "data": {
            "text/plain": [
              "array([2, 1, 0, 1, 2])"
            ]
          },
          "metadata": {
            "tags": []
          },
          "execution_count": 258
        }
      ]
    },
    {
      "cell_type": "code",
      "metadata": {
        "id": "KBBy_vXgSnNW",
        "colab": {
          "base_uri": "https://localhost:8080/"
        },
        "outputId": "b54b6351-71dd-4a7f-a151-9eced139bcc4"
      },
      "source": [
        "np.absolute(x)"
      ],
      "execution_count": 259,
      "outputs": [
        {
          "output_type": "execute_result",
          "data": {
            "text/plain": [
              "array([2, 1, 0, 1, 2])"
            ]
          },
          "metadata": {
            "tags": []
          },
          "execution_count": 259
        }
      ]
    },
    {
      "cell_type": "code",
      "metadata": {
        "id": "yuS49KslS1EY",
        "colab": {
          "base_uri": "https://localhost:8080/"
        },
        "outputId": "82b4d105-9a4c-4542-f411-9e037d257d03"
      },
      "source": [
        "np.abs(x)\n"
      ],
      "execution_count": 260,
      "outputs": [
        {
          "output_type": "execute_result",
          "data": {
            "text/plain": [
              "array([2, 1, 0, 1, 2])"
            ]
          },
          "metadata": {
            "tags": []
          },
          "execution_count": 260
        }
      ]
    },
    {
      "cell_type": "markdown",
      "metadata": {
        "id": "l0z6H_gOS7IL"
      },
      "source": [
        "### Trigonometric functions\n"
      ]
    },
    {
      "cell_type": "code",
      "metadata": {
        "id": "k6PbaCOsS3Bt"
      },
      "source": [
        "theta = np.linspace(0, np.pi, 3)"
      ],
      "execution_count": 261,
      "outputs": []
    },
    {
      "cell_type": "code",
      "metadata": {
        "id": "LIVVJCTmS-SA",
        "colab": {
          "base_uri": "https://localhost:8080/"
        },
        "outputId": "a296ac9c-a92f-4c77-8b27-4f21869549df"
      },
      "source": [
        "print(\"theta      = \", theta)\n",
        "print(\"sin(theta) = \", np.sin(theta))\n",
        "print(\"cos(theta) = \", np.cos(theta))\n",
        "print(\"tan(theta) = \", np.tan(theta))"
      ],
      "execution_count": 262,
      "outputs": [
        {
          "output_type": "stream",
          "text": [
            "theta      =  [0.         1.57079633 3.14159265]\n",
            "sin(theta) =  [0.0000000e+00 1.0000000e+00 1.2246468e-16]\n",
            "cos(theta) =  [ 1.000000e+00  6.123234e-17 -1.000000e+00]\n",
            "tan(theta) =  [ 0.00000000e+00  1.63312394e+16 -1.22464680e-16]\n"
          ],
          "name": "stdout"
        }
      ]
    },
    {
      "cell_type": "markdown",
      "metadata": {
        "id": "lSX9Z9kMTLp9"
      },
      "source": [
        "### Exponents and logarithms\n"
      ]
    },
    {
      "cell_type": "code",
      "metadata": {
        "id": "HU5a-sgLTBmy",
        "colab": {
          "base_uri": "https://localhost:8080/"
        },
        "outputId": "151dae05-ffab-4a5e-c5a6-58d9956686be"
      },
      "source": [
        "x = [1, 2, 3]\n",
        "print(\"x   =\", x)\n",
        "print(\"e^x =\", np.exp(x))\n",
        "print(\"2^x =\", np.exp2(x))\n",
        "print(\"3^x =\", np.power(3, x))"
      ],
      "execution_count": 263,
      "outputs": [
        {
          "output_type": "stream",
          "text": [
            "x   = [1, 2, 3]\n",
            "e^x = [ 2.71828183  7.3890561  20.08553692]\n",
            "2^x = [2. 4. 8.]\n",
            "3^x = [ 3  9 27]\n"
          ],
          "name": "stdout"
        }
      ]
    },
    {
      "cell_type": "code",
      "metadata": {
        "id": "uyeCydmcTObg",
        "colab": {
          "base_uri": "https://localhost:8080/"
        },
        "outputId": "06d8e019-3560-40e0-815c-74be6c11ddf6"
      },
      "source": [
        "x = [1, 2, 4, 10]\n",
        "print(\"x       =\", x)\n",
        "print(\"ln(x)   =\", np.log(x))\n",
        "print(\"log2(x) =\", np.log2(x))\n",
        "print(\"log10(x)=\", np.log10(x))\n"
      ],
      "execution_count": 264,
      "outputs": [
        {
          "output_type": "stream",
          "text": [
            "x       = [1, 2, 4, 10]\n",
            "ln(x)   = [0.         0.69314718 1.38629436 2.30258509]\n",
            "log2(x) = [0.         1.         2.         3.32192809]\n",
            "log10(x)= [0.         0.30103    0.60205999 1.        ]\n"
          ],
          "name": "stdout"
        }
      ]
    },
    {
      "cell_type": "code",
      "metadata": {
        "id": "So76zj9JTYY0",
        "colab": {
          "base_uri": "https://localhost:8080/"
        },
        "outputId": "d6543e47-f502-486d-f7d2-36f5c7175a89"
      },
      "source": [
        "#There are also some specialized versions that are useful for maintaining precision with very small input:\n",
        "x = [0, 0.001, 0.01, 0.1]\n",
        "print(\"exp(x) - 1 =\", np.expm1(x))\n",
        "print(\"log(1 + x) =\", np.log1p(x))"
      ],
      "execution_count": 265,
      "outputs": [
        {
          "output_type": "stream",
          "text": [
            "exp(x) - 1 = [0.         0.0010005  0.01005017 0.10517092]\n",
            "log(1 + x) = [0.         0.0009995  0.00995033 0.09531018]\n"
          ],
          "name": "stdout"
        }
      ]
    },
    {
      "cell_type": "markdown",
      "metadata": {
        "id": "kAuxvEy3Ty97"
      },
      "source": [
        "##Advanced Ufunc Features\n"
      ]
    },
    {
      "cell_type": "markdown",
      "metadata": {
        "id": "heC9LHsuT95k"
      },
      "source": [
        "### Specifying output\n",
        "\n",
        "\n",
        "For large calculations, it is sometimes useful to be able to specify the array where the\n",
        "result of the calculation will be stored."
      ]
    },
    {
      "cell_type": "code",
      "metadata": {
        "id": "I9GiUfeyTjyp",
        "colab": {
          "base_uri": "https://localhost:8080/"
        },
        "outputId": "4684f162-eb51-4af0-876c-58a94bc3c311"
      },
      "source": [
        "x = np.arange(10)\n",
        "y = np.empty(10)\n",
        "\n",
        "np.multiply(x, 2, out=y)"
      ],
      "execution_count": 266,
      "outputs": [
        {
          "output_type": "execute_result",
          "data": {
            "text/plain": [
              "array([ 0.,  2.,  4.,  6.,  8., 10., 12., 14., 16., 18.])"
            ]
          },
          "metadata": {
            "tags": []
          },
          "execution_count": 266
        }
      ]
    },
    {
      "cell_type": "code",
      "metadata": {
        "id": "zPH-tFq4T2nw",
        "colab": {
          "base_uri": "https://localhost:8080/"
        },
        "outputId": "8174429a-b135-4607-89de-0965b7acd7d0"
      },
      "source": [
        "print(y)"
      ],
      "execution_count": 267,
      "outputs": [
        {
          "output_type": "stream",
          "text": [
            "[ 0.  2.  4.  6.  8. 10. 12. 14. 16. 18.]\n"
          ],
          "name": "stdout"
        }
      ]
    },
    {
      "cell_type": "code",
      "metadata": {
        "id": "ssDGOW_AUZvC",
        "colab": {
          "base_uri": "https://localhost:8080/"
        },
        "outputId": "572b7d9d-c7de-4e9b-8d01-9c9416a16575"
      },
      "source": [
        "print(x)"
      ],
      "execution_count": 268,
      "outputs": [
        {
          "output_type": "stream",
          "text": [
            "[0 1 2 3 4 5 6 7 8 9]\n"
          ],
          "name": "stdout"
        }
      ]
    },
    {
      "cell_type": "code",
      "metadata": {
        "id": "p53ihxmdUeVE",
        "colab": {
          "base_uri": "https://localhost:8080/"
        },
        "outputId": "18ac3743-c31f-4461-c7ca-0ab5e1b63ae8"
      },
      "source": [
        "np.divide(x, 2, out=y)"
      ],
      "execution_count": 269,
      "outputs": [
        {
          "output_type": "execute_result",
          "data": {
            "text/plain": [
              "array([0. , 0.5, 1. , 1.5, 2. , 2.5, 3. , 3.5, 4. , 4.5])"
            ]
          },
          "metadata": {
            "tags": []
          },
          "execution_count": 269
        }
      ]
    },
    {
      "cell_type": "markdown",
      "metadata": {
        "id": "hWthYxvtVA2n"
      },
      "source": [
        "### Aggregates"
      ]
    },
    {
      "cell_type": "code",
      "metadata": {
        "id": "QE3IUeJpUpzo",
        "colab": {
          "base_uri": "https://localhost:8080/"
        },
        "outputId": "01ba43c1-55fc-4077-a02c-18559e895bee"
      },
      "source": [
        "# Reduces to single value\n",
        "x = np.arange(1, 6)\n",
        "np.add.reduce(x)\n"
      ],
      "execution_count": 270,
      "outputs": [
        {
          "output_type": "execute_result",
          "data": {
            "text/plain": [
              "15"
            ]
          },
          "metadata": {
            "tags": []
          },
          "execution_count": 270
        }
      ]
    },
    {
      "cell_type": "code",
      "metadata": {
        "id": "pY0bFFkHVEP-",
        "colab": {
          "base_uri": "https://localhost:8080/"
        },
        "outputId": "5c86631e-4bc2-4881-e803-ec6a034dc335"
      },
      "source": [
        "# stores the intermediate values of the calculation \n",
        "np.add.accumulate(x)"
      ],
      "execution_count": 271,
      "outputs": [
        {
          "output_type": "execute_result",
          "data": {
            "text/plain": [
              "array([ 1,  3,  6, 10, 15])"
            ]
          },
          "metadata": {
            "tags": []
          },
          "execution_count": 271
        }
      ]
    },
    {
      "cell_type": "code",
      "metadata": {
        "id": "xJIA8k_ZVP7Q",
        "colab": {
          "base_uri": "https://localhost:8080/"
        },
        "outputId": "6b089128-7bcb-4153-e735-1e16b5201c40"
      },
      "source": [
        "np.multiply.accumulate(x)"
      ],
      "execution_count": 272,
      "outputs": [
        {
          "output_type": "execute_result",
          "data": {
            "text/plain": [
              "array([  1,   2,   6,  24, 120])"
            ]
          },
          "metadata": {
            "tags": []
          },
          "execution_count": 272
        }
      ]
    },
    {
      "cell_type": "markdown",
      "metadata": {
        "id": "f8jveSaXKOgT"
      },
      "source": [
        "### Outer products\n"
      ]
    },
    {
      "cell_type": "code",
      "metadata": {
        "id": "Wc2KCMdBJ3Ck",
        "colab": {
          "base_uri": "https://localhost:8080/"
        },
        "outputId": "3ed39ee0-bc7e-43e8-efad-464ee4e9d112"
      },
      "source": [
        "x = np.arange(1,6)\n",
        "y = np.arange(1,11)\n",
        "\n",
        "np.multiply.outer(x,y)"
      ],
      "execution_count": 273,
      "outputs": [
        {
          "output_type": "execute_result",
          "data": {
            "text/plain": [
              "array([[ 1,  2,  3,  4,  5,  6,  7,  8,  9, 10],\n",
              "       [ 2,  4,  6,  8, 10, 12, 14, 16, 18, 20],\n",
              "       [ 3,  6,  9, 12, 15, 18, 21, 24, 27, 30],\n",
              "       [ 4,  8, 12, 16, 20, 24, 28, 32, 36, 40],\n",
              "       [ 5, 10, 15, 20, 25, 30, 35, 40, 45, 50]])"
            ]
          },
          "metadata": {
            "tags": []
          },
          "execution_count": 273
        }
      ]
    },
    {
      "cell_type": "markdown",
      "metadata": {
        "id": "00t1m_bRL3KX"
      },
      "source": [
        "# Computation on Arrays: Broadcasting\n",
        " NumPy’s universal functions can be used to vec‐\n",
        "torize operations and thereby remove slow Python loops. Another means of vectoriz‐\n",
        "ing operations is to use NumPy’s broadcasting functionality. Broadcasting is simply a\n",
        "set of rules for applying binary ufuncs (addition, subtraction, multiplication, etc.) on\n",
        "arrays of different sizes.\n",
        "\n",
        "*Broadcasting  binary operations to be performed on arrays of dif‐\n",
        "ferent sizes—for example, we can just as easily add a scalar (think of it as a zerodimensional array) to an array*"
      ]
    },
    {
      "cell_type": "code",
      "metadata": {
        "id": "yyju_CjPLx6b",
        "colab": {
          "base_uri": "https://localhost:8080/"
        },
        "outputId": "1ee160b3-015a-4820-a102-8124db1ea7b6"
      },
      "source": [
        "a = np.arange(5)\n",
        "a"
      ],
      "execution_count": 274,
      "outputs": [
        {
          "output_type": "execute_result",
          "data": {
            "text/plain": [
              "array([0, 1, 2, 3, 4])"
            ]
          },
          "metadata": {
            "tags": []
          },
          "execution_count": 274
        }
      ]
    },
    {
      "cell_type": "code",
      "metadata": {
        "id": "Zt_hWEI5Kn5Z",
        "colab": {
          "base_uri": "https://localhost:8080/"
        },
        "outputId": "691b8b5c-0e67-4cae-bc9d-0cdd79cfabca"
      },
      "source": [
        "a + 5"
      ],
      "execution_count": 275,
      "outputs": [
        {
          "output_type": "execute_result",
          "data": {
            "text/plain": [
              "array([5, 6, 7, 8, 9])"
            ]
          },
          "metadata": {
            "tags": []
          },
          "execution_count": 275
        }
      ]
    },
    {
      "cell_type": "code",
      "metadata": {
        "id": "jCUfzsXOMayU",
        "colab": {
          "base_uri": "https://localhost:8080/"
        },
        "outputId": "036bee80-c3dd-41ed-c6ab-d4895de900c9"
      },
      "source": [
        "x = np.full((3, 5),2,dtype=int)\n",
        "x"
      ],
      "execution_count": 276,
      "outputs": [
        {
          "output_type": "execute_result",
          "data": {
            "text/plain": [
              "array([[2, 2, 2, 2, 2],\n",
              "       [2, 2, 2, 2, 2],\n",
              "       [2, 2, 2, 2, 2]])"
            ]
          },
          "metadata": {
            "tags": []
          },
          "execution_count": 276
        }
      ]
    },
    {
      "cell_type": "code",
      "metadata": {
        "id": "9JVsZKhRNRud",
        "colab": {
          "base_uri": "https://localhost:8080/"
        },
        "outputId": "d372c360-e34f-45d7-e05b-3829d6e4dd55"
      },
      "source": [
        "# Here the one-dimensional array a is stretched, or broadcast, across the second\n",
        "# dimension in order to match the shape of M.\n",
        "x + a"
      ],
      "execution_count": 277,
      "outputs": [
        {
          "output_type": "execute_result",
          "data": {
            "text/plain": [
              "array([[2, 3, 4, 5, 6],\n",
              "       [2, 3, 4, 5, 6],\n",
              "       [2, 3, 4, 5, 6]])"
            ]
          },
          "metadata": {
            "tags": []
          },
          "execution_count": 277
        }
      ]
    },
    {
      "cell_type": "code",
      "metadata": {
        "id": "a60ZjbhiNZjv"
      },
      "source": [
        "a = np.arange(3)\n",
        "b = np.arange(3)[:, np.newaxis]\n"
      ],
      "execution_count": 278,
      "outputs": []
    },
    {
      "cell_type": "code",
      "metadata": {
        "id": "fn6tXVqMOggR",
        "colab": {
          "base_uri": "https://localhost:8080/"
        },
        "outputId": "d7477b8d-3f87-484a-f8b5-26d20fa8c73c"
      },
      "source": [
        "print(a)\n",
        "print('\\n')\n",
        "print(b)"
      ],
      "execution_count": 279,
      "outputs": [
        {
          "output_type": "stream",
          "text": [
            "[0 1 2]\n",
            "\n",
            "\n",
            "[[0]\n",
            " [1]\n",
            " [2]]\n"
          ],
          "name": "stdout"
        }
      ]
    },
    {
      "cell_type": "code",
      "metadata": {
        "id": "sS3G1JXdOiCF",
        "colab": {
          "base_uri": "https://localhost:8080/"
        },
        "outputId": "43c06f2c-c7ec-43ed-ae90-dd7e21c8f5d1"
      },
      "source": [
        "a + b"
      ],
      "execution_count": 280,
      "outputs": [
        {
          "output_type": "execute_result",
          "data": {
            "text/plain": [
              "array([[0, 1, 2],\n",
              "       [1, 2, 3],\n",
              "       [2, 3, 4]])"
            ]
          },
          "metadata": {
            "tags": []
          },
          "execution_count": 280
        }
      ]
    },
    {
      "cell_type": "markdown",
      "metadata": {
        "id": "TKbnz7IZRu48"
      },
      "source": [
        "# Comparisons, Masks, and Boolean Logic\n"
      ]
    },
    {
      "cell_type": "code",
      "metadata": {
        "id": "PcLYwPK7PhGV"
      },
      "source": [
        "#1D array masks\n",
        "x = np.array([1, 2, 3, 4, 5])"
      ],
      "execution_count": 281,
      "outputs": []
    },
    {
      "cell_type": "code",
      "metadata": {
        "id": "ogeUNnKKR3nj",
        "colab": {
          "base_uri": "https://localhost:8080/"
        },
        "outputId": "c24eb1ea-8326-425b-b2ad-cbad125bbe21"
      },
      "source": [
        "x < 3 # less than"
      ],
      "execution_count": 282,
      "outputs": [
        {
          "output_type": "execute_result",
          "data": {
            "text/plain": [
              "array([ True,  True, False, False, False])"
            ]
          },
          "metadata": {
            "tags": []
          },
          "execution_count": 282
        }
      ]
    },
    {
      "cell_type": "code",
      "metadata": {
        "id": "eovQRmtPR8iC",
        "colab": {
          "base_uri": "https://localhost:8080/"
        },
        "outputId": "24af8f9f-6426-4348-cea9-24a579455fa5"
      },
      "source": [
        "x > 3 # greater than"
      ],
      "execution_count": 283,
      "outputs": [
        {
          "output_type": "execute_result",
          "data": {
            "text/plain": [
              "array([False, False, False,  True,  True])"
            ]
          },
          "metadata": {
            "tags": []
          },
          "execution_count": 283
        }
      ]
    },
    {
      "cell_type": "code",
      "metadata": {
        "id": "uGRNdMUASAHf",
        "colab": {
          "base_uri": "https://localhost:8080/"
        },
        "outputId": "53c16eaa-1979-44ed-a5ab-a6a0bc2793bd"
      },
      "source": [
        "x <= 3"
      ],
      "execution_count": 284,
      "outputs": [
        {
          "output_type": "execute_result",
          "data": {
            "text/plain": [
              "array([ True,  True,  True, False, False])"
            ]
          },
          "metadata": {
            "tags": []
          },
          "execution_count": 284
        }
      ]
    },
    {
      "cell_type": "code",
      "metadata": {
        "id": "xTNfisQ7SB4I",
        "colab": {
          "base_uri": "https://localhost:8080/"
        },
        "outputId": "d4013029-d730-4f1c-cbec-27ca87988a9f"
      },
      "source": [
        "x >= 3"
      ],
      "execution_count": 285,
      "outputs": [
        {
          "output_type": "execute_result",
          "data": {
            "text/plain": [
              "array([False, False,  True,  True,  True])"
            ]
          },
          "metadata": {
            "tags": []
          },
          "execution_count": 285
        }
      ]
    },
    {
      "cell_type": "code",
      "metadata": {
        "id": "eyxwhccCSFIW",
        "colab": {
          "base_uri": "https://localhost:8080/"
        },
        "outputId": "8ba48642-0aee-4ba6-d448-5aa0978f5ba8"
      },
      "source": [
        "x != 3"
      ],
      "execution_count": 286,
      "outputs": [
        {
          "output_type": "execute_result",
          "data": {
            "text/plain": [
              "array([ True,  True, False,  True,  True])"
            ]
          },
          "metadata": {
            "tags": []
          },
          "execution_count": 286
        }
      ]
    },
    {
      "cell_type": "code",
      "metadata": {
        "id": "D7Z-3JamSHIT",
        "colab": {
          "base_uri": "https://localhost:8080/"
        },
        "outputId": "3a1ec63a-a974-48d2-cd5a-0f48f4a3066c"
      },
      "source": [
        "x == 3"
      ],
      "execution_count": 287,
      "outputs": [
        {
          "output_type": "execute_result",
          "data": {
            "text/plain": [
              "array([False, False,  True, False, False])"
            ]
          },
          "metadata": {
            "tags": []
          },
          "execution_count": 287
        }
      ]
    },
    {
      "cell_type": "code",
      "metadata": {
        "id": "7ybmMIYGSKJo",
        "colab": {
          "base_uri": "https://localhost:8080/"
        },
        "outputId": "42512398-b62b-4f3d-90e3-3ce9f401bd71"
      },
      "source": [
        "(2 * x) == (x ** 2)"
      ],
      "execution_count": 288,
      "outputs": [
        {
          "output_type": "execute_result",
          "data": {
            "text/plain": [
              "array([False,  True, False, False, False])"
            ]
          },
          "metadata": {
            "tags": []
          },
          "execution_count": 288
        }
      ]
    },
    {
      "cell_type": "code",
      "metadata": {
        "id": "24ox8b-pSOjk",
        "colab": {
          "base_uri": "https://localhost:8080/"
        },
        "outputId": "f9b14de7-8553-4f9b-9899-72e8c7304ff2"
      },
      "source": [
        "#2D Array masks\n",
        "rng = np.random.RandomState(0)\n",
        "x = rng.randint(10, size=(3, 4))\n",
        "x"
      ],
      "execution_count": 289,
      "outputs": [
        {
          "output_type": "execute_result",
          "data": {
            "text/plain": [
              "array([[5, 0, 3, 3],\n",
              "       [7, 9, 3, 5],\n",
              "       [2, 4, 7, 6]])"
            ]
          },
          "metadata": {
            "tags": []
          },
          "execution_count": 289
        }
      ]
    },
    {
      "cell_type": "code",
      "metadata": {
        "id": "rDmGMgaqSyz8",
        "colab": {
          "base_uri": "https://localhost:8080/"
        },
        "outputId": "ca5b257e-06f0-4098-fe62-afa7c06a2cde"
      },
      "source": [
        "x < 6"
      ],
      "execution_count": 290,
      "outputs": [
        {
          "output_type": "execute_result",
          "data": {
            "text/plain": [
              "array([[ True,  True,  True,  True],\n",
              "       [False, False,  True,  True],\n",
              "       [ True,  True, False, False]])"
            ]
          },
          "metadata": {
            "tags": []
          },
          "execution_count": 290
        }
      ]
    },
    {
      "cell_type": "markdown",
      "metadata": {
        "id": "xtoSrBaYTNl-"
      },
      "source": [
        "# Working with Boolean Arrays\n"
      ]
    },
    {
      "cell_type": "code",
      "metadata": {
        "id": "KC6R4ZJlTGnh",
        "colab": {
          "base_uri": "https://localhost:8080/"
        },
        "outputId": "82839f87-7220-458f-e36c-996667f41dc0"
      },
      "source": [
        "x"
      ],
      "execution_count": 291,
      "outputs": [
        {
          "output_type": "execute_result",
          "data": {
            "text/plain": [
              "array([[5, 0, 3, 3],\n",
              "       [7, 9, 3, 5],\n",
              "       [2, 4, 7, 6]])"
            ]
          },
          "metadata": {
            "tags": []
          },
          "execution_count": 291
        }
      ]
    },
    {
      "cell_type": "markdown",
      "metadata": {
        "id": "9Uvv3gjgTiGb"
      },
      "source": [
        "### Counting entries\n"
      ]
    },
    {
      "cell_type": "code",
      "metadata": {
        "id": "2ulWMbT1TXCE",
        "colab": {
          "base_uri": "https://localhost:8080/"
        },
        "outputId": "cce7e624-cb1d-4a63-c397-2341d616e453"
      },
      "source": [
        "# how many values less than 6?\n",
        "np.count_nonzero(x < 6)"
      ],
      "execution_count": 292,
      "outputs": [
        {
          "output_type": "execute_result",
          "data": {
            "text/plain": [
              "8"
            ]
          },
          "metadata": {
            "tags": []
          },
          "execution_count": 292
        }
      ]
    },
    {
      "cell_type": "code",
      "metadata": {
        "id": "s-M41OKbTc6V"
      },
      "source": [
        "# same thing can be done with sum(). It sums out the entire values, True -> 1 False -> 0 "
      ],
      "execution_count": 293,
      "outputs": []
    },
    {
      "cell_type": "code",
      "metadata": {
        "id": "pfCX7pLsTfaj",
        "colab": {
          "base_uri": "https://localhost:8080/"
        },
        "outputId": "529b95a2-00b0-4632-da05-0cd9609dd488"
      },
      "source": [
        "np.sum(x < 6)"
      ],
      "execution_count": 294,
      "outputs": [
        {
          "output_type": "execute_result",
          "data": {
            "text/plain": [
              "8"
            ]
          },
          "metadata": {
            "tags": []
          },
          "execution_count": 294
        }
      ]
    },
    {
      "cell_type": "code",
      "metadata": {
        "id": "grR1sPB4U6mf",
        "colab": {
          "base_uri": "https://localhost:8080/"
        },
        "outputId": "4fc419d5-a33e-4491-9a8f-76b7d57d765b"
      },
      "source": [
        "# how many values less than 6 in each row?\n",
        "np.sum(x < 6, axis=1)\n"
      ],
      "execution_count": 295,
      "outputs": [
        {
          "output_type": "execute_result",
          "data": {
            "text/plain": [
              "array([4, 2, 2])"
            ]
          },
          "metadata": {
            "tags": []
          },
          "execution_count": 295
        }
      ]
    },
    {
      "cell_type": "code",
      "metadata": {
        "id": "ztqbLPm5VBtt",
        "colab": {
          "base_uri": "https://localhost:8080/"
        },
        "outputId": "10c2cca0-b615-4a63-d2dd-9dc02ff78d22"
      },
      "source": [
        "# are there any values greater than 8?\n",
        "np.any(x > 8)"
      ],
      "execution_count": 296,
      "outputs": [
        {
          "output_type": "execute_result",
          "data": {
            "text/plain": [
              "True"
            ]
          },
          "metadata": {
            "tags": []
          },
          "execution_count": 296
        }
      ]
    },
    {
      "cell_type": "code",
      "metadata": {
        "id": "kgjQa5TeVNS4",
        "colab": {
          "base_uri": "https://localhost:8080/"
        },
        "outputId": "18f0da22-a1a0-40da-c72f-a5ee5506855d"
      },
      "source": [
        "# are there any values less than zero?\n",
        "np.any(x < 0)\n"
      ],
      "execution_count": 297,
      "outputs": [
        {
          "output_type": "execute_result",
          "data": {
            "text/plain": [
              "False"
            ]
          },
          "metadata": {
            "tags": []
          },
          "execution_count": 297
        }
      ]
    },
    {
      "cell_type": "code",
      "metadata": {
        "id": "5o2WBgJvVQxb",
        "colab": {
          "base_uri": "https://localhost:8080/"
        },
        "outputId": "390ec3c6-e081-4ebb-f670-e0c968746c4f"
      },
      "source": [
        "# are all values less than 10?\n",
        "np.all(x < 10)"
      ],
      "execution_count": 298,
      "outputs": [
        {
          "output_type": "execute_result",
          "data": {
            "text/plain": [
              "True"
            ]
          },
          "metadata": {
            "tags": []
          },
          "execution_count": 298
        }
      ]
    },
    {
      "cell_type": "code",
      "metadata": {
        "id": "fH8MbixkVVqC",
        "colab": {
          "base_uri": "https://localhost:8080/"
        },
        "outputId": "413edabb-44da-4801-82b6-1caba24d3fff"
      },
      "source": [
        "# are all values equal to 6?\n",
        "np.all(x == 6)\n"
      ],
      "execution_count": 299,
      "outputs": [
        {
          "output_type": "execute_result",
          "data": {
            "text/plain": [
              "False"
            ]
          },
          "metadata": {
            "tags": []
          },
          "execution_count": 299
        }
      ]
    },
    {
      "cell_type": "code",
      "metadata": {
        "id": "LdEYBWwdVaVy",
        "colab": {
          "base_uri": "https://localhost:8080/"
        },
        "outputId": "da3f1817-a40f-4f73-ead5-37c321334185"
      },
      "source": [
        "# are all values in each row less than 8?\n",
        "np.all(x < 8, axis=1)"
      ],
      "execution_count": 300,
      "outputs": [
        {
          "output_type": "execute_result",
          "data": {
            "text/plain": [
              "array([ True, False,  True])"
            ]
          },
          "metadata": {
            "tags": []
          },
          "execution_count": 300
        }
      ]
    },
    {
      "cell_type": "markdown",
      "metadata": {
        "id": "XtBrbkAmWcS2"
      },
      "source": [
        "### Boolean Operators"
      ]
    },
    {
      "cell_type": "code",
      "metadata": {
        "id": "nlSi3mp_Vqx0",
        "colab": {
          "base_uri": "https://localhost:8080/"
        },
        "outputId": "5922556b-8e08-4704-a5aa-214240e4074b"
      },
      "source": [
        "x = np.arange(11)\n",
        "x"
      ],
      "execution_count": 301,
      "outputs": [
        {
          "output_type": "execute_result",
          "data": {
            "text/plain": [
              "array([ 0,  1,  2,  3,  4,  5,  6,  7,  8,  9, 10])"
            ]
          },
          "metadata": {
            "tags": []
          },
          "execution_count": 301
        }
      ]
    },
    {
      "cell_type": "code",
      "metadata": {
        "id": "eqfDBRN9V-RY",
        "colab": {
          "base_uri": "https://localhost:8080/"
        },
        "outputId": "ed9bf9e0-4eea-4322-d6ce-979bd2e75064"
      },
      "source": [
        "#count of number > 3 but less than 8\n",
        "\n",
        "np.sum( (x > 3) & (x < 8) )"
      ],
      "execution_count": 302,
      "outputs": [
        {
          "output_type": "execute_result",
          "data": {
            "text/plain": [
              "4"
            ]
          },
          "metadata": {
            "tags": []
          },
          "execution_count": 302
        }
      ]
    },
    {
      "cell_type": "markdown",
      "metadata": {
        "id": "wNHXmVt3XFI0"
      },
      "source": [
        "# Boolean Arrays as Masks\n",
        " A more powerful pattern is to use Boolean arrays as masks, to select particular\n",
        "subsets of the data themselves. "
      ]
    },
    {
      "cell_type": "code",
      "metadata": {
        "id": "QHkbq1-qXmKs",
        "colab": {
          "base_uri": "https://localhost:8080/"
        },
        "outputId": "bd59033b-133e-4e64-96bb-64e7fc60127f"
      },
      "source": [
        "#2D Array masks\n",
        "rng = np.random.RandomState(0)\n",
        "x = rng.randint(10, size=(3, 4))\n",
        "x"
      ],
      "execution_count": 303,
      "outputs": [
        {
          "output_type": "execute_result",
          "data": {
            "text/plain": [
              "array([[5, 0, 3, 3],\n",
              "       [7, 9, 3, 5],\n",
              "       [2, 4, 7, 6]])"
            ]
          },
          "metadata": {
            "tags": []
          },
          "execution_count": 303
        }
      ]
    },
    {
      "cell_type": "code",
      "metadata": {
        "id": "iks6GSdxXy78",
        "colab": {
          "base_uri": "https://localhost:8080/"
        },
        "outputId": "f9a5f179-1dcf-4118-fe22-d011159bcf60"
      },
      "source": [
        "mask = x < 5\n",
        "mask"
      ],
      "execution_count": 304,
      "outputs": [
        {
          "output_type": "execute_result",
          "data": {
            "text/plain": [
              "array([[False,  True,  True,  True],\n",
              "       [False, False,  True, False],\n",
              "       [ True,  True, False, False]])"
            ]
          },
          "metadata": {
            "tags": []
          },
          "execution_count": 304
        }
      ]
    },
    {
      "cell_type": "code",
      "metadata": {
        "id": "VppVFv0rX7BS",
        "colab": {
          "base_uri": "https://localhost:8080/"
        },
        "outputId": "1f150656-7d79-4e85-c45d-a181983e0d5a"
      },
      "source": [
        "x[mask]"
      ],
      "execution_count": 305,
      "outputs": [
        {
          "output_type": "execute_result",
          "data": {
            "text/plain": [
              "array([0, 3, 3, 3, 2, 4])"
            ]
          },
          "metadata": {
            "tags": []
          },
          "execution_count": 305
        }
      ]
    },
    {
      "cell_type": "code",
      "metadata": {
        "id": "7Tj7MmC8YeJZ"
      },
      "source": [
        ""
      ],
      "execution_count": 305,
      "outputs": []
    },
    {
      "cell_type": "markdown",
      "metadata": {
        "id": "UehJNQvSZQVl"
      },
      "source": [
        "# Fancy Indexing\n",
        "Fancy indexing is like the simple indexing we’ve already seen, but we pass\n",
        "arrays of indices in place of single scalars. This allows us to very quickly access and\n",
        "modify complicated subsets of an array’s values.\n"
      ]
    },
    {
      "cell_type": "code",
      "metadata": {
        "id": "R0PljkIWZSSA",
        "colab": {
          "base_uri": "https://localhost:8080/"
        },
        "outputId": "06f227ba-ce6a-43f5-b4be-fd78b63a10ef"
      },
      "source": [
        "rand = np.random.RandomState(42)\n",
        "x = rand.randint(100, size=10)\n",
        "print(x)\n"
      ],
      "execution_count": 306,
      "outputs": [
        {
          "output_type": "stream",
          "text": [
            "[51 92 14 71 60 20 82 86 74 74]\n"
          ],
          "name": "stdout"
        }
      ]
    },
    {
      "cell_type": "code",
      "metadata": {
        "id": "8nIAjV7SZ3kA",
        "colab": {
          "base_uri": "https://localhost:8080/"
        },
        "outputId": "b9d969d4-5377-4b69-fb98-330c7d55fb23"
      },
      "source": [
        "[x[3], x[7], x[2]]\n"
      ],
      "execution_count": 307,
      "outputs": [
        {
          "output_type": "execute_result",
          "data": {
            "text/plain": [
              "[71, 86, 14]"
            ]
          },
          "metadata": {
            "tags": []
          },
          "execution_count": 307
        }
      ]
    },
    {
      "cell_type": "code",
      "metadata": {
        "id": "hlz_6xpCaChd",
        "colab": {
          "base_uri": "https://localhost:8080/"
        },
        "outputId": "c0442807-ebdd-41e9-9e00-68b9f80a48c4"
      },
      "source": [
        "# better way \n",
        "ind = [3, 7, 4]\n",
        "x[ind]"
      ],
      "execution_count": 308,
      "outputs": [
        {
          "output_type": "execute_result",
          "data": {
            "text/plain": [
              "array([71, 86, 60])"
            ]
          },
          "metadata": {
            "tags": []
          },
          "execution_count": 308
        }
      ]
    },
    {
      "cell_type": "code",
      "metadata": {
        "id": "ubS4Adj2aUiE",
        "colab": {
          "base_uri": "https://localhost:8080/"
        },
        "outputId": "4ae9b974-3a4b-44f0-bfe2-d8ab0e158e65"
      },
      "source": [
        "#With fancy indexing, the shape of the result reflects the shape of the index array\n",
        "ind = np.array([[3, 7],[4, 5]])\n",
        "x[ind]"
      ],
      "execution_count": 309,
      "outputs": [
        {
          "output_type": "execute_result",
          "data": {
            "text/plain": [
              "array([[71, 86],\n",
              "       [60, 20]])"
            ]
          },
          "metadata": {
            "tags": []
          },
          "execution_count": 309
        }
      ]
    },
    {
      "cell_type": "code",
      "metadata": {
        "id": "4j8r_1YCbKRI",
        "colab": {
          "base_uri": "https://localhost:8080/"
        },
        "outputId": "b4f773a1-1ed4-42c5-8054-3d9d6d9756d4"
      },
      "source": [
        "X = np.arange(12).reshape((3, 4))\n",
        "X"
      ],
      "execution_count": 310,
      "outputs": [
        {
          "output_type": "execute_result",
          "data": {
            "text/plain": [
              "array([[ 0,  1,  2,  3],\n",
              "       [ 4,  5,  6,  7],\n",
              "       [ 8,  9, 10, 11]])"
            ]
          },
          "metadata": {
            "tags": []
          },
          "execution_count": 310
        }
      ]
    },
    {
      "cell_type": "code",
      "metadata": {
        "id": "7mIavrWaclbu",
        "colab": {
          "base_uri": "https://localhost:8080/"
        },
        "outputId": "500e5a53-2922-4365-c413-fa56ce54b78c"
      },
      "source": [
        "row = np.array([0, 1, 2])\n",
        "col = np.array([2, 1, 3])\n",
        "X[row, col]"
      ],
      "execution_count": 311,
      "outputs": [
        {
          "output_type": "execute_result",
          "data": {
            "text/plain": [
              "array([ 2,  5, 11])"
            ]
          },
          "metadata": {
            "tags": []
          },
          "execution_count": 311
        }
      ]
    },
    {
      "cell_type": "markdown",
      "metadata": {
        "id": "ZzKolfH4fHHG"
      },
      "source": [
        "# Combined Indexing\n"
      ]
    },
    {
      "cell_type": "code",
      "metadata": {
        "id": "qvJ_lJxMcphO",
        "colab": {
          "base_uri": "https://localhost:8080/"
        },
        "outputId": "6e94b59e-de4a-4f2e-9040-872faee4f0dc"
      },
      "source": [
        "print(X)"
      ],
      "execution_count": 312,
      "outputs": [
        {
          "output_type": "stream",
          "text": [
            "[[ 0  1  2  3]\n",
            " [ 4  5  6  7]\n",
            " [ 8  9 10 11]]\n"
          ],
          "name": "stdout"
        }
      ]
    },
    {
      "cell_type": "code",
      "metadata": {
        "id": "te1_15kRfOAr",
        "colab": {
          "base_uri": "https://localhost:8080/"
        },
        "outputId": "741383ed-ba96-402a-e727-a7c4459c6817"
      },
      "source": [
        "# combine fancy and simple indices\n",
        "X[2, [2, 0, 1]]"
      ],
      "execution_count": 313,
      "outputs": [
        {
          "output_type": "execute_result",
          "data": {
            "text/plain": [
              "array([10,  8,  9])"
            ]
          },
          "metadata": {
            "tags": []
          },
          "execution_count": 313
        }
      ]
    },
    {
      "cell_type": "code",
      "metadata": {
        "id": "3ouvG5U6fZPc"
      },
      "source": [
        "#  combine fancy indexing with slicing"
      ],
      "execution_count": 314,
      "outputs": []
    },
    {
      "cell_type": "code",
      "metadata": {
        "id": "Hspr6frGff6m",
        "colab": {
          "base_uri": "https://localhost:8080/"
        },
        "outputId": "c8facebb-7f78-47ea-cbde-568b3492fc3c"
      },
      "source": [
        "X[1:, [2, 0, 1]]"
      ],
      "execution_count": 315,
      "outputs": [
        {
          "output_type": "execute_result",
          "data": {
            "text/plain": [
              "array([[ 6,  4,  5],\n",
              "       [10,  8,  9]])"
            ]
          },
          "metadata": {
            "tags": []
          },
          "execution_count": 315
        }
      ]
    },
    {
      "cell_type": "markdown",
      "metadata": {
        "id": "jBoNsTpXfxGG"
      },
      "source": [
        "# Modifying Values with Fancy Indexing\n"
      ]
    },
    {
      "cell_type": "code",
      "metadata": {
        "id": "Nf5FzRJPfira",
        "colab": {
          "base_uri": "https://localhost:8080/"
        },
        "outputId": "548f0937-97d4-4d7f-ce63-419f23d0e9c4"
      },
      "source": [
        "x = np.arange(10)\n",
        "i = np.array([2, 1, 8, 4])\n",
        "x[i] = 99\n",
        "\n",
        "print(x)"
      ],
      "execution_count": 316,
      "outputs": [
        {
          "output_type": "stream",
          "text": [
            "[ 0 99 99  3 99  5  6  7 99  9]\n"
          ],
          "name": "stdout"
        }
      ]
    },
    {
      "cell_type": "code",
      "metadata": {
        "id": "nacEiyu3f_rV",
        "colab": {
          "base_uri": "https://localhost:8080/"
        },
        "outputId": "cdb95f05-1100-4e4f-9d32-71f6c70de05b"
      },
      "source": [
        "x[i] -= 10\n",
        "print(x)"
      ],
      "execution_count": 317,
      "outputs": [
        {
          "output_type": "stream",
          "text": [
            "[ 0 89 89  3 89  5  6  7 89  9]\n"
          ],
          "name": "stdout"
        }
      ]
    },
    {
      "cell_type": "code",
      "metadata": {
        "id": "JYPYXeBTgHc2",
        "colab": {
          "base_uri": "https://localhost:8080/"
        },
        "outputId": "10eb30a6-6c3f-42b0-8db3-67be5aa54725"
      },
      "source": [
        "#  repeated indices with these operations can cause some potentially unexpected results\n",
        "\n",
        "x = np.zeros(10)\n",
        "x[[0, 0]] = [4, 6]\n",
        "print(x)\n"
      ],
      "execution_count": 318,
      "outputs": [
        {
          "output_type": "stream",
          "text": [
            "[6. 0. 0. 0. 0. 0. 0. 0. 0. 0.]\n"
          ],
          "name": "stdout"
        }
      ]
    },
    {
      "cell_type": "code",
      "metadata": {
        "id": "Cr552iTPgUNK"
      },
      "source": [
        ""
      ],
      "execution_count": 318,
      "outputs": []
    },
    {
      "cell_type": "markdown",
      "metadata": {
        "id": "5-7BYQZvg3N5"
      },
      "source": [
        "# Sorting Arrays\n"
      ]
    },
    {
      "cell_type": "code",
      "metadata": {
        "id": "nmP_V0Cjg4MG",
        "colab": {
          "base_uri": "https://localhost:8080/"
        },
        "outputId": "49e47143-d341-44dc-9721-529f63433361"
      },
      "source": [
        "x = np.array([2, 1, 4, 3, 5])\n",
        "np.sort(x)\n"
      ],
      "execution_count": 319,
      "outputs": [
        {
          "output_type": "execute_result",
          "data": {
            "text/plain": [
              "array([1, 2, 3, 4, 5])"
            ]
          },
          "metadata": {
            "tags": []
          },
          "execution_count": 319
        }
      ]
    },
    {
      "cell_type": "code",
      "metadata": {
        "id": "fD6h79FGhB1A",
        "colab": {
          "base_uri": "https://localhost:8080/"
        },
        "outputId": "6bea0fb6-4a01-4c6e-8fbf-8f413f11b467"
      },
      "source": [
        "#inplace\n",
        "x.sort()\n",
        "print(x)\n"
      ],
      "execution_count": 320,
      "outputs": [
        {
          "output_type": "stream",
          "text": [
            "[1 2 3 4 5]\n"
          ],
          "name": "stdout"
        }
      ]
    },
    {
      "cell_type": "code",
      "metadata": {
        "id": "9TVWT8cchJA9",
        "colab": {
          "base_uri": "https://localhost:8080/"
        },
        "outputId": "dda45c22-89b5-45aa-ff88-0c7694051a89"
      },
      "source": [
        "# returns the indices of the sorted elements\n",
        "x = np.array([2, 1, 4, 3, 5])\n",
        "i = np.argsort(x)\n",
        "print(i) \n"
      ],
      "execution_count": 321,
      "outputs": [
        {
          "output_type": "stream",
          "text": [
            "[1 0 3 2 4]\n"
          ],
          "name": "stdout"
        }
      ]
    },
    {
      "cell_type": "markdown",
      "metadata": {
        "id": "aKLLQRlrhzXK"
      },
      "source": [
        "## Sorting along rows or columns\n"
      ]
    },
    {
      "cell_type": "code",
      "metadata": {
        "id": "Xa6RdyyHhR73",
        "colab": {
          "base_uri": "https://localhost:8080/"
        },
        "outputId": "0e591eab-b477-4664-eab3-15fdfe93d426"
      },
      "source": [
        "rand = np.random.RandomState(42)\n",
        "X = rand.randint(0, 10, (4, 6))\n",
        "print(X)"
      ],
      "execution_count": 322,
      "outputs": [
        {
          "output_type": "stream",
          "text": [
            "[[6 3 7 4 6 9]\n",
            " [2 6 7 4 3 7]\n",
            " [7 2 5 4 1 7]\n",
            " [5 1 4 0 9 5]]\n"
          ],
          "name": "stdout"
        }
      ]
    },
    {
      "cell_type": "code",
      "metadata": {
        "id": "agex9qIniAv7",
        "colab": {
          "base_uri": "https://localhost:8080/"
        },
        "outputId": "614ff41d-f5a6-40ca-cce5-93d3982f246e"
      },
      "source": [
        "# sort each column of X\n",
        "np.sort(X, axis=0)\n"
      ],
      "execution_count": 323,
      "outputs": [
        {
          "output_type": "execute_result",
          "data": {
            "text/plain": [
              "array([[2, 1, 4, 0, 1, 5],\n",
              "       [5, 2, 5, 4, 3, 7],\n",
              "       [6, 3, 7, 4, 6, 7],\n",
              "       [7, 6, 7, 4, 9, 9]])"
            ]
          },
          "metadata": {
            "tags": []
          },
          "execution_count": 323
        }
      ]
    },
    {
      "cell_type": "code",
      "metadata": {
        "id": "qv_mnohDiF9o",
        "colab": {
          "base_uri": "https://localhost:8080/"
        },
        "outputId": "dc5f0cad-2053-4bbe-f0d1-9a9675a2dbef"
      },
      "source": [
        "# sort each row of X\n",
        "np.sort(X, axis=1)"
      ],
      "execution_count": 324,
      "outputs": [
        {
          "output_type": "execute_result",
          "data": {
            "text/plain": [
              "array([[3, 4, 6, 6, 7, 9],\n",
              "       [2, 3, 4, 6, 7, 7],\n",
              "       [1, 2, 4, 5, 7, 7],\n",
              "       [0, 1, 4, 5, 5, 9]])"
            ]
          },
          "metadata": {
            "tags": []
          },
          "execution_count": 324
        }
      ]
    },
    {
      "cell_type": "code",
      "metadata": {
        "id": "9VHtE1mNiM8I",
        "colab": {
          "base_uri": "https://localhost:8080/"
        },
        "outputId": "653f94aa-a88c-4ed8-828f-a5fd17f67c11"
      },
      "source": [
        "np.sort(X, axis=1)"
      ],
      "execution_count": 325,
      "outputs": [
        {
          "output_type": "execute_result",
          "data": {
            "text/plain": [
              "array([[3, 4, 6, 6, 7, 9],\n",
              "       [2, 3, 4, 6, 7, 7],\n",
              "       [1, 2, 4, 5, 7, 7],\n",
              "       [0, 1, 4, 5, 5, 9]])"
            ]
          },
          "metadata": {
            "tags": []
          },
          "execution_count": 325
        }
      ]
    },
    {
      "cell_type": "code",
      "metadata": {
        "id": "ZRi5AUfAevGs",
        "colab": {
          "base_uri": "https://localhost:8080/"
        },
        "outputId": "249a0b87-0157-4265-e7c0-bfa8139f8942"
      },
      "source": [
        "np.sort(X, axis=1)"
      ],
      "execution_count": 326,
      "outputs": [
        {
          "output_type": "execute_result",
          "data": {
            "text/plain": [
              "array([[3, 4, 6, 6, 7, 9],\n",
              "       [2, 3, 4, 6, 7, 7],\n",
              "       [1, 2, 4, 5, 7, 7],\n",
              "       [0, 1, 4, 5, 5, 9]])"
            ]
          },
          "metadata": {
            "tags": []
          },
          "execution_count": 326
        }
      ]
    },
    {
      "cell_type": "code",
      "metadata": {
        "colab": {
          "base_uri": "https://localhost:8080/"
        },
        "id": "VI7iPeawt9um",
        "outputId": "b909bd72-5dc0-489f-d758-bb2a4af9fb63"
      },
      "source": [
        "np.sort(X, axis=1)\n"
      ],
      "execution_count": 327,
      "outputs": [
        {
          "output_type": "execute_result",
          "data": {
            "text/plain": [
              "array([[3, 4, 6, 6, 7, 9],\n",
              "       [2, 3, 4, 6, 7, 7],\n",
              "       [1, 2, 4, 5, 7, 7],\n",
              "       [0, 1, 4, 5, 5, 9]])"
            ]
          },
          "metadata": {
            "tags": []
          },
          "execution_count": 327
        }
      ]
    },
    {
      "cell_type": "code",
      "metadata": {
        "id": "OKJI6ZvuUGBY",
        "colab": {
          "base_uri": "https://localhost:8080/"
        },
        "outputId": "9a983cb2-f71c-4ccb-bb17-ecba0fb4f0d8"
      },
      "source": [
        "np.sort(X, axis=1)\n"
      ],
      "execution_count": 328,
      "outputs": [
        {
          "output_type": "execute_result",
          "data": {
            "text/plain": [
              "array([[3, 4, 6, 6, 7, 9],\n",
              "       [2, 3, 4, 6, 7, 7],\n",
              "       [1, 2, 4, 5, 7, 7],\n",
              "       [0, 1, 4, 5, 5, 9]])"
            ]
          },
          "metadata": {
            "tags": []
          },
          "execution_count": 328
        }
      ]
    },
    {
      "cell_type": "code",
      "metadata": {
        "id": "ZOnRrnO9UJ00"
      },
      "source": [
        ""
      ],
      "execution_count": 328,
      "outputs": []
    },
    {
      "cell_type": "markdown",
      "metadata": {
        "id": "wXoTvX86t9iP"
      },
      "source": [
        ""
      ]
    }
  ]
}